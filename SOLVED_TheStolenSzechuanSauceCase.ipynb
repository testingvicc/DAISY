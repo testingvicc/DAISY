{
 "cells": [
  {
   "cell_type": "markdown",
   "metadata": {},
   "source": [
    "# **THE STOLEN SZECHUAN SAUCE CASE SOLVED**"
   ]
  },
  {
   "cell_type": "markdown",
   "metadata": {},
   "source": [
    "# **IMPORTS**"
   ]
  },
  {
   "cell_type": "code",
   "execution_count": 6,
   "metadata": {},
   "outputs": [],
   "source": [
    "# Definition of variables & run imports\n",
    "%run imports.ipynb\n",
    "\n",
    "home_path=!pwd\n",
    "thisnb=home_path[0]+\"/SOLVED_TheStolenSzechuanSauceCase.ipynb\"\n",
    "reading_path='/home/ds4n6/Desktop/data/Data'"
   ]
  },
  {
   "cell_type": "markdown",
   "metadata": {},
   "source": [
    "# **FORENSIC EVIDENCE**"
   ]
  },
  {
   "cell_type": "markdown",
   "metadata": {},
   "source": [
    "This section lists the evidence we will use in this case. \n",
    "\n",
    "**Evidence**, in cyber forensics, is information of probative value that is stored or transmitted in binary form. This means that once an incident is identified, this type of information is extracted to establish what has happened.\n",
    "\n",
    "The evidence we will use for this case corresponds with the devices DC01 (Domain Controller) and Desktop: \n",
    " - DC01 Disk Image (EO1)\n",
    "\n",
    " - DC01 Autoruns\n",
    "\n",
    " - Case001 PCAP\n",
    "\n",
    " - Desktop Disk Image (E01)\n",
    "\n",
    " - Desktop Autoruns\n",
    "\n",
    "You can find more information at: https://dfirmadness.com/the-stolen-szechuan-sauce/"
   ]
  },
  {
   "cell_type": "markdown",
   "metadata": {},
   "source": [
    "# **FORENSIC PROCESSING**"
   ]
  },
  {
   "cell_type": "markdown",
   "metadata": {},
   "source": [
    "As previously mentioned, the **evidence** is acquired in binary form. Therefore, it is necessary to process and parse it, so that it can be understood and visualized by the forensic analyst.\n",
    "\n",
    "There are different ways to process it, depending on the type of information one tool or another will be used.\n",
    "\n"
   ]
  },
  {
   "cell_type": "markdown",
   "metadata": {},
   "source": [
    "**Plaso**\n",
    "-"
   ]
  },
  {
   "cell_type": "markdown",
   "metadata": {},
   "source": [
    "Plaso (Plaso Langar Að Safna Öllu), or super timeline all the things, is a Python-based engine used by several tools for automatic creation of timelines. Plaso default behavior is to create super timelines but it also supports creating more targeted timelines.\n",
    "\n",
    "You can read more about it here: https://plaso.readthedocs.io/en/latest/"
   ]
  },
  {
   "cell_type": "markdown",
   "metadata": {},
   "source": [
    "But, what is a **forensic artifact**? An artifact in this context is an operating system object which provides information about the activity or configuration of the computer or the users. Examples can be: Windows registry, Prefetch files, Memory objects..."
   ]
  },
  {
   "cell_type": "markdown",
   "metadata": {},
   "source": [
    "Creating a Timeline with Plaso\n",
    "-"
   ]
  },
  {
   "cell_type": "markdown",
   "metadata": {},
   "source": [
    " - **Using log2timeline and psort**:\n",
    "\n",
    "    You can use “log2timeline” and “psort”. For example:"
   ]
  },
  {
   "cell_type": "code",
   "execution_count": 7,
   "metadata": {},
   "outputs": [],
   "source": [
    "# Do not run this cell. It is intended to be run on the console. You already downloaded the processed evidence.\n",
    "\n",
    "# log2timeline.py --storage-file timeline.plaso image.raw\n",
    "# psort.py -o dynamic -w registrar.csv timeline.plaso"
   ]
  },
  {
   "cell_type": "markdown",
   "metadata": {},
   "source": [
    "**Mactime**\n",
    "-"
   ]
  },
  {
   "cell_type": "markdown",
   "metadata": {},
   "source": [
    "Creates an ASCII timeline of file activity based on the output of the fls tool. It can be used to detect anomalous behavior and reconstruct events. The fls command must use the -m flag to generate an output with timestamps.\n",
    "\n",
    "Mactime reads the body file (using the '-b' argument), which contains a line for each file or event. mactime then sorts the data based on its temporal data and prints the result. It can optionally use a starting date or a date range to limit the data being printed. \n",
    "\n",
    "You can read more about it here: https://wiki.sleuthkit.org/index.php?title=Mactime"
   ]
  },
  {
   "cell_type": "markdown",
   "metadata": {},
   "source": [
    "Creating a Timeline with Mactime\n",
    "-"
   ]
  },
  {
   "cell_type": "code",
   "execution_count": 128,
   "metadata": {},
   "outputs": [],
   "source": [
    "# Do not run the cell. It is intended to be run on the console\n",
    "# mactime -b body.txt 2002-03-01 > tl.03.01.2002.txt"
   ]
  },
  {
   "cell_type": "markdown",
   "metadata": {},
   "source": [
    "Some of the arguments for mactime help to make the output more readable. On a Unix system, the User and Group IDs can be mapped to actual names by using the '-p' and '-q' flags. The '-z' flag can be used to specify the time zone, if it is different from the local timezone. "
   ]
  },
  {
   "cell_type": "code",
   "execution_count": 129,
   "metadata": {},
   "outputs": [],
   "source": [
    "# Do not run the cell. It is intended to be run on the console\n",
    "# mactime -b body.txt -z EST5EDT 2002-03-01 > tl.03.01.2002.txt"
   ]
  },
  {
   "cell_type": "markdown",
   "metadata": {},
   "source": [
    "If you are going to include the resulting timeline in a document, then maybe it is better to supply the '-d' argument to output in comma delimited format. The resulting timeline can then be imported into a spread sheet and include it as a table.\n",
    "\n",
    "The '-i' option to 'mactime' creates an index summary file, including how many hits were found per day or hour. Using '-d' with '-i' allows one to easily import data into a spread sheet that can be graphed to spot suspicious behavior."
   ]
  },
  {
   "cell_type": "code",
   "execution_count": 130,
   "metadata": {},
   "outputs": [],
   "source": [
    "# Do not run the cell. It is intended to be run on the console\n",
    "# mactime -b body.txt -d -i hour data/tl-hour-sum.txt > timeline.txt"
   ]
  },
  {
   "cell_type": "markdown",
   "metadata": {},
   "source": [
    "**Autoruns**\n",
    "-"
   ]
  },
  {
   "cell_type": "markdown",
   "metadata": {},
   "source": [
    "Autoruns is used to explore or detect persistence mechanisms. It reports Explorer shell extensions, toolbars, browser helper objects, Winlogon notifications, auto-start services, and much more. Autoruns goes way beyond other autostart utilities.\n",
    "\n",
    "- Displays programs that are configured to run during bootup or login\n",
    "- Lists the programs and drivers that will start from startup folders and registry keys\n",
    "\n"
   ]
  },
  {
   "cell_type": "markdown",
   "metadata": {},
   "source": [
    "<img src=\"./Pictures/autoruns.jpg\">\n"
   ]
  },
  {
   "cell_type": "markdown",
   "metadata": {},
   "source": [
    "**Tshark**\n",
    "-"
   ]
  },
  {
   "cell_type": "markdown",
   "metadata": {},
   "source": [
    "TShark is a network protocol analyzer. It lets you capture packet data from a live network, or read packets from a previously saved capture file, either printing a decoded form of those packets to the standard output or writing the packets to a file.\n",
    "\n",
    "You can read more about it here: https://www.wireshark.org/docs/man-pages/tshark.html"
   ]
  },
  {
   "cell_type": "markdown",
   "metadata": {},
   "source": [
    "Creating a Timeline with Tshark\n",
    "-"
   ]
  },
  {
   "cell_type": "markdown",
   "metadata": {},
   "source": [
    "Network packets are in timeline sequence from the earliest to the latest packets.\n",
    "\n",
    "The -n option disables network object name resolution (such as hostname, TCP and UDP port names). The -r option reads the specified PCAP file.\n",
    "The -Y option will filter based on Wireshark filters. The -T option displays the type of data (ek,fields,json and pdml) with -E/-e that controls the fields that you want."
   ]
  },
  {
   "cell_type": "code",
   "execution_count": 131,
   "metadata": {},
   "outputs": [],
   "source": [
    "# Do not run the cell.\n",
    "# tshark -n -r body.pcap -Y \"http.request.method == \"GET\"\" -T fields -Eheader=y -e ip.src -e ip.dst -e tcp.srcport -e tcp.dstport -e http.request.uri -e frame.time'"
   ]
  },
  {
   "cell_type": "markdown",
   "metadata": {},
   "source": [
    "# **FORENSIC DATA READING**"
   ]
  },
  {
   "cell_type": "markdown",
   "metadata": {},
   "source": [
    "## **READING FILES WITH PANDAS:**"
   ]
  },
  {
   "cell_type": "markdown",
   "metadata": {},
   "source": [
    "After parsing the Disk Image evidence with plaso, we have obtained a JSON that we need to load into the notebook to be able to analyze it in detail.\n",
    "\n",
    "JSON files can be read with pandas. All you need to do is use the **pd.read_json()** function, that will convert your JSON into a pandas object. You can find more information at https://pandas.pydata.org/pandas-docs/version/1.1.3/reference/api/pandas.read_json.html\n"
   ]
  },
  {
   "cell_type": "code",
   "execution_count": 11,
   "metadata": {},
   "outputs": [],
   "source": [
    "plaso_JSON = pd.read_json(reading_path+'/DC_plaso.json')"
   ]
  },
  {
   "cell_type": "markdown",
   "metadata": {},
   "source": [
    "Let's see how the JSON file looks like:\n",
    "\n",
    " - With the type() function we can see the object type that we obtained"
   ]
  },
  {
   "cell_type": "code",
   "execution_count": 4,
   "metadata": {},
   "outputs": [
    {
     "data": {
      "text/plain": [
       "pandas.core.frame.DataFrame"
      ]
     },
     "execution_count": 4,
     "metadata": {},
     "output_type": "execute_result"
    }
   ],
   "source": [
    "type(plaso_JSON)"
   ]
  },
  {
   "cell_type": "markdown",
   "metadata": {},
   "source": [
    " - Next, let’s see what its columns are and how many it has"
   ]
  },
  {
   "cell_type": "code",
   "execution_count": 5,
   "metadata": {},
   "outputs": [
    {
     "data": {
      "text/plain": [
       "Index(['event_0', 'event_1', 'event_2', 'event_3', 'event_4', 'event_5',\n",
       "       'event_6', 'event_7', 'event_8', 'event_9',\n",
       "       ...\n",
       "       'event_5340', 'event_5341', 'event_5342', 'event_5343', 'event_5344',\n",
       "       'event_5345', 'event_5346', 'event_5347', 'event_5348', 'event_5349'],\n",
       "      dtype='object', length=5350)"
      ]
     },
     "execution_count": 5,
     "metadata": {},
     "output_type": "execute_result"
    }
   ],
   "source": [
    "plaso_JSON.columns"
   ]
  },
  {
   "cell_type": "markdown",
   "metadata": {},
   "source": [
    " - Each column corresponds to a different event. Let’s select one of them and see what information it contains."
   ]
  },
  {
   "cell_type": "code",
   "execution_count": 6,
   "metadata": {},
   "outputs": [
    {
     "data": {
      "text/plain": [
       "__container_type__                                                                            event\n",
       "__type__                                                                         AttributeContainer\n",
       "build_number                                                                                   9600\n",
       "data_type                                                             windows:registry:installation\n",
       "date_time             {'__class_name__': 'PosixTime', '__type__': 'DateTimeValues', 'timestamp': 0}\n",
       "                                                          ...                                      \n",
       "account_rid                                                                                     NaN\n",
       "comments                                                                                        NaN\n",
       "fullname                                                                                        NaN\n",
       "login_count                                                                                     NaN\n",
       "username                                                                                        NaN\n",
       "Name: event_0, Length: 41, dtype: object"
      ]
     },
     "execution_count": 6,
     "metadata": {},
     "output_type": "execute_result"
    }
   ],
   "source": [
    "plaso_JSON['event_0']"
   ]
  },
  {
   "cell_type": "markdown",
   "metadata": {},
   "source": [
    "And what about other file types? We can read, for example, a Filesystem Timeline parsed with mactime in CSV format. These files can be read with **pd.read_csv()**. You can find more information at https://pandas.pydata.org/pandas-docs/version/1.1.3/reference/api/pandas.read_csv.html"
   ]
  },
  {
   "cell_type": "markdown",
   "metadata": {},
   "source": [
    "**Filesystem Timeline**\n",
    " -\n",
    " \n",
    "This file (fstl) provides information on the system activity in a timeline. This will help us to see traces of malicious activity over time.\n",
    "\n",
    "- Output from fls tool\n",
    "- Lists the file and directory in a filesystem\n",
    "\n",
    "You can find more information at: https://wiki.sleuthkit.org/index.php?title=Timelines"
   ]
  },
  {
   "cell_type": "code",
   "execution_count": 13,
   "metadata": {},
   "outputs": [],
   "source": [
    "mactime_CSV = pd.read_csv(reading_path+'/DC_fstl.csv')"
   ]
  },
  {
   "cell_type": "code",
   "execution_count": 14,
   "metadata": {},
   "outputs": [
    {
     "data": {
      "text/plain": [
       "Index(['Date', 'Size', 'Type', 'Mode', 'UID', 'GID', 'Meta', 'File Name'], dtype='object')"
      ]
     },
     "execution_count": 14,
     "metadata": {},
     "output_type": "execute_result"
    }
   ],
   "source": [
    "mactime_CSV.columns"
   ]
  },
  {
   "cell_type": "code",
   "execution_count": 15,
   "metadata": {},
   "outputs": [
    {
     "data": {
      "text/plain": [
       "pandas.core.frame.DataFrame"
      ]
     },
     "execution_count": 15,
     "metadata": {},
     "output_type": "execute_result"
    }
   ],
   "source": [
    "type(mactime_CSV)"
   ]
  },
  {
   "cell_type": "markdown",
   "metadata": {},
   "source": [
    "The CSV is saved in a DataFrame. We can see what its shape looks like but without printing all the lines using the **head()** function, which gives us the first 5 lines."
   ]
  },
  {
   "cell_type": "code",
   "execution_count": 16,
   "metadata": {},
   "outputs": [
    {
     "data": {
      "text/html": [
       "<div>\n",
       "<style scoped>\n",
       "    .dataframe tbody tr th:only-of-type {\n",
       "        vertical-align: middle;\n",
       "    }\n",
       "\n",
       "    .dataframe tbody tr th {\n",
       "        vertical-align: top;\n",
       "    }\n",
       "\n",
       "    .dataframe thead th {\n",
       "        text-align: right;\n",
       "    }\n",
       "</style>\n",
       "<table border=\"1\" class=\"dataframe\">\n",
       "  <thead>\n",
       "    <tr style=\"text-align: left;\">\n",
       "      <th></th>\n",
       "      <th>Date</th>\n",
       "      <th>Size</th>\n",
       "      <th>Type</th>\n",
       "      <th>Mode</th>\n",
       "      <th>UID</th>\n",
       "      <th>GID</th>\n",
       "      <th>Meta</th>\n",
       "      <th>File Name</th>\n",
       "    </tr>\n",
       "  </thead>\n",
       "  <tbody>\n",
       "    <tr>\n",
       "      <th>0</th>\n",
       "      <td>Thu Sep 17 2020 15:51:38</td>\n",
       "      <td>54272</td>\n",
       "      <td>..c.</td>\n",
       "      <td>r/rrwxrwxrwx</td>\n",
       "      <td>0</td>\n",
       "      <td>0</td>\n",
       "      <td>31667-128-3</td>\n",
       "      <td>C:/Windows/System32/drivers/watchdog.sys</td>\n",
       "    </tr>\n",
       "    <tr>\n",
       "      <th>1</th>\n",
       "      <td>Thu Sep 17 2020 15:51:38</td>\n",
       "      <td>54272</td>\n",
       "      <td>..c.</td>\n",
       "      <td>r/rrwxrwxrwx</td>\n",
       "      <td>0</td>\n",
       "      <td>0</td>\n",
       "      <td>31667-128-3</td>\n",
       "      <td>C:/Windows/WinSxS/amd64_microsoft-windows-watchdog_31bf3856ad364e35_6.3.9600.17031_none_515a3a8b7d4d6297/watchdog.sys</td>\n",
       "    </tr>\n",
       "    <tr>\n",
       "      <th>2</th>\n",
       "      <td>Thu Sep 17 2020 15:51:39</td>\n",
       "      <td>97280</td>\n",
       "      <td>..c.</td>\n",
       "      <td>r/rrwxrwxrwx</td>\n",
       "      <td>0</td>\n",
       "      <td>0</td>\n",
       "      <td>31378-128-3</td>\n",
       "      <td>C:/Windows/System32/drivers/agilevpn.sys</td>\n",
       "    </tr>\n",
       "    <tr>\n",
       "      <th>3</th>\n",
       "      <td>Thu Sep 17 2020 15:51:39</td>\n",
       "      <td>97280</td>\n",
       "      <td>..c.</td>\n",
       "      <td>r/rrwxrwxrwx</td>\n",
       "      <td>0</td>\n",
       "      <td>0</td>\n",
       "      <td>31378-128-3</td>\n",
       "      <td>C:/Windows/WinSxS/amd64_microsoft-windows-rasbase-agilevpn_31bf3856ad364e35_6.3.9600.16408_none_a08b3d9d6bd414d7/agilevpn.sys</td>\n",
       "    </tr>\n",
       "    <tr>\n",
       "      <th>4</th>\n",
       "      <td>Thu Sep 17 2020 15:51:41</td>\n",
       "      <td>134656</td>\n",
       "      <td>..c.</td>\n",
       "      <td>r/rrwxrwxrwx</td>\n",
       "      <td>0</td>\n",
       "      <td>0</td>\n",
       "      <td>31423-128-3</td>\n",
       "      <td>C:/Windows/System32/drivers/dfsc.sys</td>\n",
       "    </tr>\n",
       "  </tbody>\n",
       "</table>\n",
       "</div>"
      ],
      "text/plain": [
       "  Date                       Size   Type  Mode           UID  GID  \\\n",
       "0  Thu Sep 17 2020 15:51:38   54272  ..c.  r/rrwxrwxrwx  0    0     \n",
       "1  Thu Sep 17 2020 15:51:38   54272  ..c.  r/rrwxrwxrwx  0    0     \n",
       "2  Thu Sep 17 2020 15:51:39   97280  ..c.  r/rrwxrwxrwx  0    0     \n",
       "3  Thu Sep 17 2020 15:51:39   97280  ..c.  r/rrwxrwxrwx  0    0     \n",
       "4  Thu Sep 17 2020 15:51:41  134656  ..c.  r/rrwxrwxrwx  0    0     \n",
       "\n",
       "  Meta          \\\n",
       "0  31667-128-3   \n",
       "1  31667-128-3   \n",
       "2  31378-128-3   \n",
       "3  31378-128-3   \n",
       "4  31423-128-3   \n",
       "\n",
       "  File Name                                                                                                                       \n",
       "0                                                                                       C:/Windows/System32/drivers/watchdog.sys  \n",
       "1          C:/Windows/WinSxS/amd64_microsoft-windows-watchdog_31bf3856ad364e35_6.3.9600.17031_none_515a3a8b7d4d6297/watchdog.sys  \n",
       "2                                                                                       C:/Windows/System32/drivers/agilevpn.sys  \n",
       "3  C:/Windows/WinSxS/amd64_microsoft-windows-rasbase-agilevpn_31bf3856ad364e35_6.3.9600.16408_none_a08b3d9d6bd414d7/agilevpn.sys  \n",
       "4                                                                                           C:/Windows/System32/drivers/dfsc.sys  "
      ]
     },
     "execution_count": 16,
     "metadata": {},
     "output_type": "execute_result"
    }
   ],
   "source": [
    "mactime_CSV.head()"
   ]
  },
  {
   "cell_type": "markdown",
   "metadata": {},
   "source": [
    "## **READING FILES WITH CHRYSALIS**\n"
   ]
  },
  {
   "cell_type": "markdown",
   "metadata": {},
   "source": [
    "Can we make it easier? We can read many data types with only one function from CHRYSALIS python library: **xread()**. This function not only reads the data and provides you with a DataFrame, like the previous ones we have seen with pandas, but it transforms and harmonizes the information to have it in the best possible way.\n",
    "\n",
    "You can read more about it here: https://www.ds4n6.io/tools/chrysalis.html"
   ]
  },
  {
   "cell_type": "markdown",
   "metadata": {},
   "source": [
    "Let's start reading a plaso file from Desktop. There are different fields that we can fill in to read in one way or another, but the required fields are only two: tool and rootpath. Tool refers to the tool used to parse evidence (plaso, mactime...) and rootpath refers to the path where the file is stored.\n",
    "\n",
    "Once we run the cell we will see the file (if rootpath is correct) or we will have to look in the drop-down menu (if the rootpath is incorrect or empty).\n",
    "\n",
    "<span style=\"color:purple\">\n",
    "    <b>INSTRUCTIONS</b>\n",
    "    \n",
    "<ul>\n",
    "    <li>Execute cell</li>\n",
    "    <li>Click SELECT & READ</li>\n",
    "</ul>\n",
    "    </span>"
   ]
  },
  {
   "cell_type": "code",
   "execution_count": 28,
   "metadata": {},
   "outputs": [
    {
     "data": {
      "text/markdown": [
       "Select _plasod file:"
      ],
      "text/plain": [
       "<IPython.core.display.Markdown object>"
      ]
     },
     "metadata": {},
     "output_type": "display_data"
    },
    {
     "data": {
      "application/vnd.jupyter.widget-view+json": {
       "model_id": "c3c96f99180a4647bc94731a4ce4f189",
       "version_major": 2,
       "version_minor": 0
      },
      "text/plain": [
       "Accordion(children=(SelectMultiple(options=('init',), rows=10, value=()),), selected_index=None, _titles={'0':…"
      ]
     },
     "metadata": {},
     "output_type": "display_data"
    },
    {
     "data": {
      "application/vnd.jupyter.widget-view+json": {
       "model_id": "229bf6fd939342bc9c49b842ca3d891d",
       "version_major": 2,
       "version_minor": 0
      },
      "text/plain": [
       "Button(description='SELECT & READ', style=ButtonStyle())"
      ]
     },
     "metadata": {},
     "output_type": "display_data"
    },
    {
     "data": {
      "application/vnd.jupyter.widget-view+json": {
       "model_id": "fb79ceeff046414291f3625775ec9703",
       "version_major": 2,
       "version_minor": 0
      },
      "text/plain": [
       "Output()"
      ]
     },
     "metadata": {},
     "output_type": "display_data"
    }
   ],
   "source": [
    "xread(tool='plaso',rootpath=reading_path+'/DESKTOP_plaso.json')"
   ]
  },
  {
   "cell_type": "markdown",
   "metadata": {},
   "source": [
    "After the execution of the previous function, we can see all the artifacts extracted and harmonized (we will see later what harmonize actually means). This function saves the result in a variable called d4.out. So... Let's name another variable to save the information inside:"
   ]
  },
  {
   "cell_type": "code",
   "execution_count": 29,
   "metadata": {},
   "outputs": [],
   "source": [
    "pldfs_dsk = d4.out"
   ]
  },
  {
   "cell_type": "markdown",
   "metadata": {},
   "source": [
    "As previously mentioned, reading isn't everything that this function does! It can **harmonize** the data and convert it into a **Dictionary of DataFrames**"
   ]
  },
  {
   "cell_type": "markdown",
   "metadata": {},
   "source": [
    "**Nomenclature for variables in the DS4N6 project**\n",
    " - **[tool]df**: A single DataFrame that saves all the file information\n",
    " - **[tool]dfs**: A dictionary composed of DataFrames that save the file information divided by artifacts\n",
    " \n",
    "For example, if we have a plaso we will create a dictionary and the variable name will be pldfs. On the other hand, if we use a fstl we will recieve only one DataFrame and the variable name will be fstldf."
   ]
  },
  {
   "cell_type": "markdown",
   "metadata": {},
   "source": [
    "Let's see all the DataFrames names inside pldfs_dsk with **keys()** function, which allows us to see every key on the dictionary"
   ]
  },
  {
   "cell_type": "code",
   "execution_count": 30,
   "metadata": {},
   "outputs": [
    {
     "data": {
      "text/plain": [
       "dict_keys(['windows_registry_installation', 'windows_shell_item_file_entry', 'windows_evtx_record', 'windows_registry_sam_users', 'windows_registry_timezone'])"
      ]
     },
     "execution_count": 30,
     "metadata": {},
     "output_type": "execute_result"
    }
   ],
   "source": [
    "pldfs_dsk.keys()"
   ]
  },
  {
   "cell_type": "markdown",
   "metadata": {},
   "source": [
    "Then let’s select one of the DataFrames and see how it looks like. After using **xread()** the information will be much more accesible and easier to read than in a JSON object. We won't have a column per event, but a row. Besides, we will have columns (those prefixed with D4_) with the aim of being explanatory columns, which will help us with the understanding of the data."
   ]
  },
  {
   "cell_type": "code",
   "execution_count": 31,
   "metadata": {},
   "outputs": [
    {
     "data": {
      "text/html": [
       "<div>\n",
       "<style scoped>\n",
       "    .dataframe tbody tr th:only-of-type {\n",
       "        vertical-align: middle;\n",
       "    }\n",
       "\n",
       "    .dataframe tbody tr th {\n",
       "        vertical-align: top;\n",
       "    }\n",
       "\n",
       "    .dataframe thead th {\n",
       "        text-align: right;\n",
       "    }\n",
       "</style>\n",
       "<table border=\"1\" class=\"dataframe\">\n",
       "  <thead>\n",
       "    <tr style=\"text-align: left;\">\n",
       "      <th></th>\n",
       "      <th>D4_DataType_</th>\n",
       "      <th>D4_Orchestrator_</th>\n",
       "      <th>D4_Tool_</th>\n",
       "      <th>D4_Plugin_</th>\n",
       "      <th>D4_Hostname_</th>\n",
       "      <th>Timestamp_</th>\n",
       "      <th>timestamp_desc</th>\n",
       "      <th>__container_type__</th>\n",
       "      <th>__type__</th>\n",
       "      <th>build_number</th>\n",
       "      <th>data_type</th>\n",
       "      <th>date_time</th>\n",
       "      <th>display_name</th>\n",
       "      <th>filename</th>\n",
       "      <th>hostname</th>\n",
       "      <th>inode</th>\n",
       "      <th>key_path</th>\n",
       "      <th>owner</th>\n",
       "      <th>parser</th>\n",
       "      <th>pathspec</th>\n",
       "      <th>product_name</th>\n",
       "      <th>sha256_hash</th>\n",
       "      <th>timestamp</th>\n",
       "      <th>version</th>\n",
       "      <th>message</th>\n",
       "      <th>pevtnum</th>\n",
       "    </tr>\n",
       "  </thead>\n",
       "  <tbody>\n",
       "    <tr>\n",
       "      <th>0</th>\n",
       "      <td>NaN</td>\n",
       "      <td>NaN</td>\n",
       "      <td>plaso</td>\n",
       "      <td>windows_registry_installation</td>\n",
       "      <td></td>\n",
       "      <td>1970-01-01 00:00:00</td>\n",
       "      <td>Installation</td>\n",
       "      <td>event</td>\n",
       "      <td>AttributeContainer</td>\n",
       "      <td>19041</td>\n",
       "      <td>windows:registry:installation</td>\n",
       "      <td>{'__class_name__': 'PosixTime', '__type__': 'DateTimeValues', 'timestamp': 0}</td>\n",
       "      <td>NTFS:\\Windows\\System32\\config\\SOFTWARE</td>\n",
       "      <td>\\Windows\\System32\\config\\SOFTWARE</td>\n",
       "      <td>DESKTOP-SDN1RPT</td>\n",
       "      <td>46203</td>\n",
       "      <td>HKEY_LOCAL_MACHINE\\Software\\WOW6432Node\\Microsoft\\Windows NT\\CurrentVersion</td>\n",
       "      <td>Admin</td>\n",
       "      <td>winreg/windows_version</td>\n",
       "      <td>{'__type__': 'PathSpec', 'location': '\\Windows\\System32\\config\\SOFTWARE', 'mft_attribute': 1, 'mft_entry': 46203, 'parent': {'__type__': 'PathSpec', 'location': '/p3', 'parent': {'__type__': 'PathSpec', 'parent': {'__type__': 'PathSpec', 'location': '/mnt/data/Evidence/szechuan/20200918_0417_DESKTOP-SDN1RPT.E01', 'type_indicator': 'OS'}, 'type_indicator': 'EWF'}, 'part_index': 6, 'start_offset': 122683392, 'type_indicator': 'TSK_PARTITION'}, 'type_indicator': 'NTFS'}</td>\n",
       "      <td>Windows 10 Enterprise Evaluation</td>\n",
       "      <td>4f61461d38e5f56e1c3aa0605b07929c810fe7e45655c3129179412bd6feb7c4</td>\n",
       "      <td>0</td>\n",
       "      <td>6.3</td>\n",
       "      <td>Windows 10 Enterprise Evaluation 6.3 19041 Owner: Admin Origin: HKEY_LOCAL_MACHINE\\Software\\WOW6432Node\\Microsoft\\Windows NT\\CurrentVersion</td>\n",
       "      <td>event_0</td>\n",
       "    </tr>\n",
       "    <tr>\n",
       "      <th>1</th>\n",
       "      <td>NaN</td>\n",
       "      <td>NaN</td>\n",
       "      <td>plaso</td>\n",
       "      <td>windows_registry_installation</td>\n",
       "      <td></td>\n",
       "      <td>2020-09-18 05:47:03</td>\n",
       "      <td>Installation</td>\n",
       "      <td>event</td>\n",
       "      <td>AttributeContainer</td>\n",
       "      <td>19041</td>\n",
       "      <td>windows:registry:installation</td>\n",
       "      <td>{'__class_name__': 'PosixTime', '__type__': 'DateTimeValues', 'timestamp': 1600408023}</td>\n",
       "      <td>NTFS:\\Windows\\System32\\config\\SOFTWARE</td>\n",
       "      <td>\\Windows\\System32\\config\\SOFTWARE</td>\n",
       "      <td>DESKTOP-SDN1RPT</td>\n",
       "      <td>46203</td>\n",
       "      <td>HKEY_LOCAL_MACHINE\\Software\\Microsoft\\Windows NT\\CurrentVersion</td>\n",
       "      <td>Admin</td>\n",
       "      <td>winreg/windows_version</td>\n",
       "      <td>{'__type__': 'PathSpec', 'location': '\\Windows\\System32\\config\\SOFTWARE', 'mft_attribute': 1, 'mft_entry': 46203, 'parent': {'__type__': 'PathSpec', 'location': '/p3', 'parent': {'__type__': 'PathSpec', 'parent': {'__type__': 'PathSpec', 'location': '/mnt/data/Evidence/szechuan/20200918_0417_DESKTOP-SDN1RPT.E01', 'type_indicator': 'OS'}, 'type_indicator': 'EWF'}, 'part_index': 6, 'start_offset': 122683392, 'type_indicator': 'TSK_PARTITION'}, 'type_indicator': 'NTFS'}</td>\n",
       "      <td>Windows 10 Enterprise Evaluation</td>\n",
       "      <td>4f61461d38e5f56e1c3aa0605b07929c810fe7e45655c3129179412bd6feb7c4</td>\n",
       "      <td>1600408023000000</td>\n",
       "      <td>6.3</td>\n",
       "      <td>Windows 10 Enterprise Evaluation 6.3 19041 Owner: Admin Origin: HKEY_LOCAL_MACHINE\\Software\\Microsoft\\Windows NT\\CurrentVersion</td>\n",
       "      <td>event_109</td>\n",
       "    </tr>\n",
       "  </tbody>\n",
       "</table>\n",
       "</div>"
      ],
      "text/plain": [
       "  D4_DataType_ D4_Orchestrator_ D4_Tool_ D4_Plugin_                      \\\n",
       "0  NaN          NaN              plaso    windows_registry_installation   \n",
       "1  NaN          NaN              plaso    windows_registry_installation   \n",
       "\n",
       "  D4_Hostname_ Timestamp_          timestamp_desc __container_type__  \\\n",
       "0              1970-01-01 00:00:00  Installation   event               \n",
       "1              2020-09-18 05:47:03  Installation   event               \n",
       "\n",
       "  __type__            build_number data_type                       \\\n",
       "0  AttributeContainer  19041        windows:registry:installation   \n",
       "1  AttributeContainer  19041        windows:registry:installation   \n",
       "\n",
       "  date_time                                                                                \\\n",
       "0           {'__class_name__': 'PosixTime', '__type__': 'DateTimeValues', 'timestamp': 0}   \n",
       "1  {'__class_name__': 'PosixTime', '__type__': 'DateTimeValues', 'timestamp': 1600408023}   \n",
       "\n",
       "  display_name                            filename                            \\\n",
       "0  NTFS:\\Windows\\System32\\config\\SOFTWARE  \\Windows\\System32\\config\\SOFTWARE   \n",
       "1  NTFS:\\Windows\\System32\\config\\SOFTWARE  \\Windows\\System32\\config\\SOFTWARE   \n",
       "\n",
       "  hostname         inode   \\\n",
       "0  DESKTOP-SDN1RPT  46203   \n",
       "1  DESKTOP-SDN1RPT  46203   \n",
       "\n",
       "  key_path                                                                      \\\n",
       "0  HKEY_LOCAL_MACHINE\\Software\\WOW6432Node\\Microsoft\\Windows NT\\CurrentVersion   \n",
       "1              HKEY_LOCAL_MACHINE\\Software\\Microsoft\\Windows NT\\CurrentVersion   \n",
       "\n",
       "  owner  parser                   \\\n",
       "0  Admin  winreg/windows_version   \n",
       "1  Admin  winreg/windows_version   \n",
       "\n",
       "  pathspec                                                                                                                                                                                                                                                                                                                                                                                                                                                                                  \\\n",
       "0  {'__type__': 'PathSpec', 'location': '\\Windows\\System32\\config\\SOFTWARE', 'mft_attribute': 1, 'mft_entry': 46203, 'parent': {'__type__': 'PathSpec', 'location': '/p3', 'parent': {'__type__': 'PathSpec', 'parent': {'__type__': 'PathSpec', 'location': '/mnt/data/Evidence/szechuan/20200918_0417_DESKTOP-SDN1RPT.E01', 'type_indicator': 'OS'}, 'type_indicator': 'EWF'}, 'part_index': 6, 'start_offset': 122683392, 'type_indicator': 'TSK_PARTITION'}, 'type_indicator': 'NTFS'}   \n",
       "1  {'__type__': 'PathSpec', 'location': '\\Windows\\System32\\config\\SOFTWARE', 'mft_attribute': 1, 'mft_entry': 46203, 'parent': {'__type__': 'PathSpec', 'location': '/p3', 'parent': {'__type__': 'PathSpec', 'parent': {'__type__': 'PathSpec', 'location': '/mnt/data/Evidence/szechuan/20200918_0417_DESKTOP-SDN1RPT.E01', 'type_indicator': 'OS'}, 'type_indicator': 'EWF'}, 'part_index': 6, 'start_offset': 122683392, 'type_indicator': 'TSK_PARTITION'}, 'type_indicator': 'NTFS'}   \n",
       "\n",
       "  product_name                       \\\n",
       "0  Windows 10 Enterprise Evaluation   \n",
       "1  Windows 10 Enterprise Evaluation   \n",
       "\n",
       "  sha256_hash                                                        \\\n",
       "0  4f61461d38e5f56e1c3aa0605b07929c810fe7e45655c3129179412bd6feb7c4   \n",
       "1  4f61461d38e5f56e1c3aa0605b07929c810fe7e45655c3129179412bd6feb7c4   \n",
       "\n",
       "   timestamp        version  \\\n",
       "0                 0  6.3      \n",
       "1  1600408023000000  6.3      \n",
       "\n",
       "  message                                                                                                                                       \\\n",
       "0  Windows 10 Enterprise Evaluation 6.3 19041 Owner: Admin Origin: HKEY_LOCAL_MACHINE\\Software\\WOW6432Node\\Microsoft\\Windows NT\\CurrentVersion   \n",
       "1              Windows 10 Enterprise Evaluation 6.3 19041 Owner: Admin Origin: HKEY_LOCAL_MACHINE\\Software\\Microsoft\\Windows NT\\CurrentVersion   \n",
       "\n",
       "  pevtnum     \n",
       "0    event_0  \n",
       "1  event_109  "
      ]
     },
     "execution_count": 31,
     "metadata": {},
     "output_type": "execute_result"
    }
   ],
   "source": [
    "pldfs_dsk['windows_registry_installation']"
   ]
  },
  {
   "cell_type": "markdown",
   "metadata": {},
   "source": [
    "Now let's read the plaso output from the Domain Controller following the same steps:\n",
    "\n",
    "<span style=\"color:purple\">\n",
    "    <b>INSTRUCTIONS</b>\n",
    "    \n",
    "<ul>\n",
    "    <li>Execute cell</li>\n",
    "    <li>Click SELECT & READ</li>\n",
    "</ul>\n",
    "    </span>"
   ]
  },
  {
   "cell_type": "code",
   "execution_count": 32,
   "metadata": {},
   "outputs": [
    {
     "data": {
      "text/markdown": [
       "Select _plasod file:"
      ],
      "text/plain": [
       "<IPython.core.display.Markdown object>"
      ]
     },
     "metadata": {},
     "output_type": "display_data"
    },
    {
     "data": {
      "application/vnd.jupyter.widget-view+json": {
       "model_id": "1b08378ecd87473ba6470080c73ae4fd",
       "version_major": 2,
       "version_minor": 0
      },
      "text/plain": [
       "Accordion(children=(SelectMultiple(options=('init',), rows=10, value=()),), selected_index=None, _titles={'0':…"
      ]
     },
     "metadata": {},
     "output_type": "display_data"
    },
    {
     "data": {
      "application/vnd.jupyter.widget-view+json": {
       "model_id": "ae9028aec36b439fab3c8054885eeb60",
       "version_major": 2,
       "version_minor": 0
      },
      "text/plain": [
       "Button(description='SELECT & READ', style=ButtonStyle())"
      ]
     },
     "metadata": {},
     "output_type": "display_data"
    },
    {
     "data": {
      "application/vnd.jupyter.widget-view+json": {
       "model_id": "0c203d1ed8434479aca8c2e7785b2595",
       "version_major": 2,
       "version_minor": 0
      },
      "text/plain": [
       "Output()"
      ]
     },
     "metadata": {},
     "output_type": "display_data"
    }
   ],
   "source": [
    "xread(tool='plaso',rootpath=reading_path+'/DC_plaso.json')"
   ]
  },
  {
   "cell_type": "code",
   "execution_count": 33,
   "metadata": {},
   "outputs": [],
   "source": [
    "pldfs_srv = d4.out"
   ]
  },
  {
   "cell_type": "markdown",
   "metadata": {},
   "source": [
    "Now we have stored in two different variables the plaso data of the two machines that we have to analyze:\n",
    " - **Domain Controller Server**: pldfs_srv\n",
    " - **Desktop**: pldfs_dsk\n",
    " \n",
    "This information comes from the evidence of the disk image. Therefore, it will provide us with valuable information through a large number of different artifacts."
   ]
  },
  {
   "cell_type": "markdown",
   "metadata": {},
   "source": [
    "The next file we are going to read will be filesystem timeline. It will return us a single DataFrame with all the information inside it. In addition, this reading will be faster than the previous ones.\n",
    "\n",
    "<span style=\"color:purple\">\n",
    "    <b>INSTRUCTIONS</b>\n",
    "    \n",
    "<ul>\n",
    "    <li>Execute cell</li>\n",
    "    <li>Click SELECT & READ</li>\n",
    "</ul>\n",
    "    </span>"
   ]
  },
  {
   "cell_type": "code",
   "execution_count": 34,
   "metadata": {},
   "outputs": [
    {
     "data": {
      "text/markdown": [
       "Select _mactimed file:"
      ],
      "text/plain": [
       "<IPython.core.display.Markdown object>"
      ]
     },
     "metadata": {},
     "output_type": "display_data"
    },
    {
     "data": {
      "application/vnd.jupyter.widget-view+json": {
       "model_id": "d71f4ab4de27431dac2b35496ab18b77",
       "version_major": 2,
       "version_minor": 0
      },
      "text/plain": [
       "Accordion(children=(SelectMultiple(options=('init',), rows=10, value=()),), selected_index=None, _titles={'0':…"
      ]
     },
     "metadata": {},
     "output_type": "display_data"
    },
    {
     "data": {
      "application/vnd.jupyter.widget-view+json": {
       "model_id": "099615745d7044efb92c6217696e5bd3",
       "version_major": 2,
       "version_minor": 0
      },
      "text/plain": [
       "Button(description='SELECT & READ', style=ButtonStyle())"
      ]
     },
     "metadata": {},
     "output_type": "display_data"
    },
    {
     "data": {
      "application/vnd.jupyter.widget-view+json": {
       "model_id": "9db16bb7c9ff46008adba276593da9df",
       "version_major": 2,
       "version_minor": 0
      },
      "text/plain": [
       "Output()"
      ]
     },
     "metadata": {},
     "output_type": "display_data"
    }
   ],
   "source": [
    "xread(tool='mactime',rootpath=reading_path+'/DC_fstl.csv')"
   ]
  },
  {
   "cell_type": "code",
   "execution_count": 35,
   "metadata": {},
   "outputs": [],
   "source": [
    "fstldf = d4.out"
   ]
  },
  {
   "cell_type": "markdown",
   "metadata": {},
   "source": [
    "And now, following the same steps, we will proceed to the reading of the autoruns file. In this case we need to specify its encoding, which being different from utf-18, not specifying it will give us an error. Therefore, in this **xread()** execution we will add a new option which will be encoding = 'utf-16'.\n",
    "\n",
    "<span style=\"color:purple\">\n",
    "    <b>INSTRUCTIONS</b>\n",
    "    \n",
    "<ul>\n",
    "    <li>Execute cell</li>\n",
    "    <li>Click SELECT & READ</li>\n",
    "</ul>\n",
    "    </span>"
   ]
  },
  {
   "cell_type": "code",
   "execution_count": 36,
   "metadata": {},
   "outputs": [
    {
     "data": {
      "text/markdown": [
       "Select _autorunsd file:"
      ],
      "text/plain": [
       "<IPython.core.display.Markdown object>"
      ]
     },
     "metadata": {},
     "output_type": "display_data"
    },
    {
     "data": {
      "application/vnd.jupyter.widget-view+json": {
       "model_id": "a00d6b6a03bc4fafb0fa903ed39fa8de",
       "version_major": 2,
       "version_minor": 0
      },
      "text/plain": [
       "Accordion(children=(SelectMultiple(options=('init',), rows=10, value=()),), selected_index=None, _titles={'0':…"
      ]
     },
     "metadata": {},
     "output_type": "display_data"
    },
    {
     "data": {
      "application/vnd.jupyter.widget-view+json": {
       "model_id": "5f50869efba24f5bb5c5ba1ac172e625",
       "version_major": 2,
       "version_minor": 0
      },
      "text/plain": [
       "Button(description='SELECT & READ', style=ButtonStyle())"
      ]
     },
     "metadata": {},
     "output_type": "display_data"
    },
    {
     "data": {
      "application/vnd.jupyter.widget-view+json": {
       "model_id": "77c8f7dadf6a4329b2722acfa0bb5bed",
       "version_major": 2,
       "version_minor": 0
      },
      "text/plain": [
       "Output()"
      ]
     },
     "metadata": {},
     "output_type": "display_data"
    }
   ],
   "source": [
    "xread(tool='autoruns',rootpath=reading_path+'/DC_autoruns.csv',encoding='utf-16')"
   ]
  },
  {
   "cell_type": "code",
   "execution_count": 37,
   "metadata": {},
   "outputs": [],
   "source": [
    "atrsdf = d4.out"
   ]
  },
  {
   "cell_type": "markdown",
   "metadata": {},
   "source": [
    "# **INVESTIGATION**"
   ]
  },
  {
   "cell_type": "markdown",
   "metadata": {},
   "source": [
    "Now that we have all the necessary information, we can start the investigation. Its objective will be identifying the attack and damage caused by the attacker."
   ]
  },
  {
   "cell_type": "markdown",
   "metadata": {},
   "source": [
    "## **1. OVERVIEW**"
   ]
  },
  {
   "cell_type": "markdown",
   "metadata": {},
   "source": [
    "<span style=\"color:blue\">**What are the hostnames for the Desktop and DC?** </span>"
   ]
  },
  {
   "cell_type": "markdown",
   "metadata": {},
   "source": [
    "<span style=\"color:blue\">**How many users are there on the Desktop?** </span>"
   ]
  },
  {
   "cell_type": "markdown",
   "metadata": {},
   "source": [
    "### 1.2 Understanding of Evidence\n",
    "\n",
    "The first thing that needs to be done on an investigation is understanding the general context of the electronic devices that provided us with the evidence. We can use the plaso output for that:\n",
    "\n",
    " - pldfs_dsk (Desktop)\n",
    " - pldfs_srv (Domain Controller/Server)"
   ]
  },
  {
   "cell_type": "markdown",
   "metadata": {},
   "source": [
    "We will need to check:\n",
    "\n",
    " - Operating System\n",
    " - Installation Date\n",
    " - Timezone\n",
    " - Users"
   ]
  },
  {
   "cell_type": "markdown",
   "metadata": {},
   "source": [
    "### 1.3 Using DataFrames to View Evidence\n",
    "\n",
    "First, let’s see what DataFrames among all can help us to obtain this information. To do this, we will make a selection of them after viewing all with the function **keys()**"
   ]
  },
  {
   "cell_type": "code",
   "execution_count": 38,
   "metadata": {},
   "outputs": [
    {
     "data": {
      "text/plain": [
       "dict_keys(['windows_registry_installation', 'windows_shell_item_file_entry', 'windows_evtx_record', 'windows_registry_timezone', 'windows_registry_sam_users'])"
      ]
     },
     "execution_count": 38,
     "metadata": {},
     "output_type": "execute_result"
    }
   ],
   "source": [
    "pldfs_srv.keys()"
   ]
  },
  {
   "cell_type": "markdown",
   "metadata": {},
   "source": [
    "The DataFrames we need to look at are:\n",
    "\n",
    " - **windows_registry_installation**: Which contains the information about the operating system\n",
    " - **windows_registry_timezone**: Which contains the information about the timezone\n",
    " - **windows_registry_sam_users**: Which contains the information about the users"
   ]
  },
  {
   "cell_type": "markdown",
   "metadata": {},
   "source": [
    " Let's start with the Domain Controller. We will select with pandas the DataFrame 'windows_registry_installation', which will give us information about the operating system. "
   ]
  },
  {
   "cell_type": "code",
   "execution_count": 39,
   "metadata": {},
   "outputs": [
    {
     "data": {
      "text/html": [
       "<div>\n",
       "<style scoped>\n",
       "    .dataframe tbody tr th:only-of-type {\n",
       "        vertical-align: middle;\n",
       "    }\n",
       "\n",
       "    .dataframe tbody tr th {\n",
       "        vertical-align: top;\n",
       "    }\n",
       "\n",
       "    .dataframe thead th {\n",
       "        text-align: right;\n",
       "    }\n",
       "</style>\n",
       "<table border=\"1\" class=\"dataframe\">\n",
       "  <thead>\n",
       "    <tr style=\"text-align: left;\">\n",
       "      <th></th>\n",
       "      <th>D4_DataType_</th>\n",
       "      <th>D4_Orchestrator_</th>\n",
       "      <th>D4_Tool_</th>\n",
       "      <th>D4_Plugin_</th>\n",
       "      <th>D4_Hostname_</th>\n",
       "      <th>Timestamp_</th>\n",
       "      <th>timestamp_desc</th>\n",
       "      <th>__container_type__</th>\n",
       "      <th>__type__</th>\n",
       "      <th>build_number</th>\n",
       "      <th>data_type</th>\n",
       "      <th>date_time</th>\n",
       "      <th>display_name</th>\n",
       "      <th>filename</th>\n",
       "      <th>hostname</th>\n",
       "      <th>inode</th>\n",
       "      <th>key_path</th>\n",
       "      <th>owner</th>\n",
       "      <th>parser</th>\n",
       "      <th>pathspec</th>\n",
       "      <th>product_name</th>\n",
       "      <th>sha256_hash</th>\n",
       "      <th>timestamp</th>\n",
       "      <th>version</th>\n",
       "      <th>message</th>\n",
       "      <th>pevtnum</th>\n",
       "    </tr>\n",
       "  </thead>\n",
       "  <tbody>\n",
       "    <tr>\n",
       "      <th>0</th>\n",
       "      <td>NaN</td>\n",
       "      <td>NaN</td>\n",
       "      <td>plaso</td>\n",
       "      <td>windows_registry_installation</td>\n",
       "      <td></td>\n",
       "      <td>1970-01-01 00:00:00</td>\n",
       "      <td>Installation</td>\n",
       "      <td>event</td>\n",
       "      <td>AttributeContainer</td>\n",
       "      <td>9600</td>\n",
       "      <td>windows:registry:installation</td>\n",
       "      <td>{'__class_name__': 'PosixTime', '__type__': 'DateTimeValues', 'timestamp': 0}</td>\n",
       "      <td>NTFS:\\Windows\\System32\\config\\SOFTWARE</td>\n",
       "      <td>\\Windows\\System32\\config\\SOFTWARE</td>\n",
       "      <td>CITADEL-DC01</td>\n",
       "      <td>78036</td>\n",
       "      <td>HKEY_LOCAL_MACHINE\\Software\\Wow6432Node\\Microsoft\\Windows NT\\CurrentVersion</td>\n",
       "      <td>Windows User</td>\n",
       "      <td>winreg/windows_version</td>\n",
       "      <td>{'__type__': 'PathSpec', 'location': '\\Windows\\System32\\config\\SOFTWARE', 'mft_attribute': 1, 'mft_entry': 78036, 'parent': {'__type__': 'PathSpec', 'location': '/p2', 'parent': {'__type__': 'PathSpec', 'parent': {'__type__': 'PathSpec', 'location': '/mnt/data/Evidence/szechuan/20200918_0347_CDrive.E01', 'type_indicator': 'OS'}, 'type_indicator': 'EWF'}, 'part_index': 3, 'start_offset': 368050176, 'type_indicator': 'TSK_PARTITION'}, 'type_indicator': 'NTFS'}</td>\n",
       "      <td>Windows Server 2012 R2 Standard Evaluation</td>\n",
       "      <td>9ea369b327a9241abd6ed3f2801218cf342b6b2d2888da3ae72306154062019f</td>\n",
       "      <td>0</td>\n",
       "      <td>6.3</td>\n",
       "      <td>Windows Server 2012 R2 Standard Evaluation 6.3 9600 Owner: Windows User Origin: HKEY_LOCAL_MACHINE\\Software\\Wow6432Node\\Microsoft\\Windows NT\\CurrentVersion</td>\n",
       "      <td>event_0</td>\n",
       "    </tr>\n",
       "    <tr>\n",
       "      <th>1</th>\n",
       "      <td>NaN</td>\n",
       "      <td>NaN</td>\n",
       "      <td>plaso</td>\n",
       "      <td>windows_registry_installation</td>\n",
       "      <td></td>\n",
       "      <td>2020-09-17 16:43:59</td>\n",
       "      <td>Installation</td>\n",
       "      <td>event</td>\n",
       "      <td>AttributeContainer</td>\n",
       "      <td>9600</td>\n",
       "      <td>windows:registry:installation</td>\n",
       "      <td>{'__class_name__': 'PosixTime', '__type__': 'DateTimeValues', 'timestamp': 1600361039}</td>\n",
       "      <td>NTFS:\\Windows\\System32\\config\\SOFTWARE</td>\n",
       "      <td>\\Windows\\System32\\config\\SOFTWARE</td>\n",
       "      <td>CITADEL-DC01</td>\n",
       "      <td>78036</td>\n",
       "      <td>HKEY_LOCAL_MACHINE\\Software\\Microsoft\\Windows NT\\CurrentVersion</td>\n",
       "      <td>Windows User</td>\n",
       "      <td>winreg/windows_version</td>\n",
       "      <td>{'__type__': 'PathSpec', 'location': '\\Windows\\System32\\config\\SOFTWARE', 'mft_attribute': 1, 'mft_entry': 78036, 'parent': {'__type__': 'PathSpec', 'location': '/p2', 'parent': {'__type__': 'PathSpec', 'parent': {'__type__': 'PathSpec', 'location': '/mnt/data/Evidence/szechuan/20200918_0347_CDrive.E01', 'type_indicator': 'OS'}, 'type_indicator': 'EWF'}, 'part_index': 3, 'start_offset': 368050176, 'type_indicator': 'TSK_PARTITION'}, 'type_indicator': 'NTFS'}</td>\n",
       "      <td>Windows Server 2012 R2 Standard Evaluation</td>\n",
       "      <td>9ea369b327a9241abd6ed3f2801218cf342b6b2d2888da3ae72306154062019f</td>\n",
       "      <td>1600361039000000</td>\n",
       "      <td>6.3</td>\n",
       "      <td>Windows Server 2012 R2 Standard Evaluation 6.3 9600 Owner: Windows User Origin: HKEY_LOCAL_MACHINE\\Software\\Microsoft\\Windows NT\\CurrentVersion</td>\n",
       "      <td>event_61</td>\n",
       "    </tr>\n",
       "  </tbody>\n",
       "</table>\n",
       "</div>"
      ],
      "text/plain": [
       "  D4_DataType_ D4_Orchestrator_ D4_Tool_ D4_Plugin_                      \\\n",
       "0  NaN          NaN              plaso    windows_registry_installation   \n",
       "1  NaN          NaN              plaso    windows_registry_installation   \n",
       "\n",
       "  D4_Hostname_ Timestamp_          timestamp_desc __container_type__  \\\n",
       "0              1970-01-01 00:00:00  Installation   event               \n",
       "1              2020-09-17 16:43:59  Installation   event               \n",
       "\n",
       "  __type__            build_number data_type                       \\\n",
       "0  AttributeContainer  9600         windows:registry:installation   \n",
       "1  AttributeContainer  9600         windows:registry:installation   \n",
       "\n",
       "  date_time                                                                                \\\n",
       "0           {'__class_name__': 'PosixTime', '__type__': 'DateTimeValues', 'timestamp': 0}   \n",
       "1  {'__class_name__': 'PosixTime', '__type__': 'DateTimeValues', 'timestamp': 1600361039}   \n",
       "\n",
       "  display_name                            filename                            \\\n",
       "0  NTFS:\\Windows\\System32\\config\\SOFTWARE  \\Windows\\System32\\config\\SOFTWARE   \n",
       "1  NTFS:\\Windows\\System32\\config\\SOFTWARE  \\Windows\\System32\\config\\SOFTWARE   \n",
       "\n",
       "  hostname      inode   \\\n",
       "0  CITADEL-DC01  78036   \n",
       "1  CITADEL-DC01  78036   \n",
       "\n",
       "  key_path                                                                      \\\n",
       "0  HKEY_LOCAL_MACHINE\\Software\\Wow6432Node\\Microsoft\\Windows NT\\CurrentVersion   \n",
       "1              HKEY_LOCAL_MACHINE\\Software\\Microsoft\\Windows NT\\CurrentVersion   \n",
       "\n",
       "  owner         parser                   \\\n",
       "0  Windows User  winreg/windows_version   \n",
       "1  Windows User  winreg/windows_version   \n",
       "\n",
       "  pathspec                                                                                                                                                                                                                                                                                                                                                                                                                                                                         \\\n",
       "0  {'__type__': 'PathSpec', 'location': '\\Windows\\System32\\config\\SOFTWARE', 'mft_attribute': 1, 'mft_entry': 78036, 'parent': {'__type__': 'PathSpec', 'location': '/p2', 'parent': {'__type__': 'PathSpec', 'parent': {'__type__': 'PathSpec', 'location': '/mnt/data/Evidence/szechuan/20200918_0347_CDrive.E01', 'type_indicator': 'OS'}, 'type_indicator': 'EWF'}, 'part_index': 3, 'start_offset': 368050176, 'type_indicator': 'TSK_PARTITION'}, 'type_indicator': 'NTFS'}   \n",
       "1  {'__type__': 'PathSpec', 'location': '\\Windows\\System32\\config\\SOFTWARE', 'mft_attribute': 1, 'mft_entry': 78036, 'parent': {'__type__': 'PathSpec', 'location': '/p2', 'parent': {'__type__': 'PathSpec', 'parent': {'__type__': 'PathSpec', 'location': '/mnt/data/Evidence/szechuan/20200918_0347_CDrive.E01', 'type_indicator': 'OS'}, 'type_indicator': 'EWF'}, 'part_index': 3, 'start_offset': 368050176, 'type_indicator': 'TSK_PARTITION'}, 'type_indicator': 'NTFS'}   \n",
       "\n",
       "  product_name                                 \\\n",
       "0  Windows Server 2012 R2 Standard Evaluation   \n",
       "1  Windows Server 2012 R2 Standard Evaluation   \n",
       "\n",
       "  sha256_hash                                                        \\\n",
       "0  9ea369b327a9241abd6ed3f2801218cf342b6b2d2888da3ae72306154062019f   \n",
       "1  9ea369b327a9241abd6ed3f2801218cf342b6b2d2888da3ae72306154062019f   \n",
       "\n",
       "   timestamp        version  \\\n",
       "0                 0  6.3      \n",
       "1  1600361039000000  6.3      \n",
       "\n",
       "  message                                                                                                                                                       \\\n",
       "0  Windows Server 2012 R2 Standard Evaluation 6.3 9600 Owner: Windows User Origin: HKEY_LOCAL_MACHINE\\Software\\Wow6432Node\\Microsoft\\Windows NT\\CurrentVersion   \n",
       "1              Windows Server 2012 R2 Standard Evaluation 6.3 9600 Owner: Windows User Origin: HKEY_LOCAL_MACHINE\\Software\\Microsoft\\Windows NT\\CurrentVersion   \n",
       "\n",
       "  pevtnum    \n",
       "0   event_0  \n",
       "1  event_61  "
      ]
     },
     "execution_count": 39,
     "metadata": {},
     "output_type": "execute_result"
    }
   ],
   "source": [
    "pldfs_srv['windows_registry_installation']"
   ]
  },
  {
   "cell_type": "code",
   "execution_count": 40,
   "metadata": {},
   "outputs": [
    {
     "data": {
      "text/html": [
       "<div>\n",
       "<style scoped>\n",
       "    .dataframe tbody tr th:only-of-type {\n",
       "        vertical-align: middle;\n",
       "    }\n",
       "\n",
       "    .dataframe tbody tr th {\n",
       "        vertical-align: top;\n",
       "    }\n",
       "\n",
       "    .dataframe thead th {\n",
       "        text-align: right;\n",
       "    }\n",
       "</style>\n",
       "<table border=\"1\" class=\"dataframe\">\n",
       "  <thead>\n",
       "    <tr style=\"text-align: left;\">\n",
       "      <th></th>\n",
       "      <th>D4_DataType_</th>\n",
       "      <th>D4_Orchestrator_</th>\n",
       "      <th>D4_Tool_</th>\n",
       "      <th>D4_Plugin_</th>\n",
       "      <th>D4_Hostname_</th>\n",
       "      <th>Timestamp_</th>\n",
       "      <th>timestamp_desc</th>\n",
       "      <th>__container_type__</th>\n",
       "      <th>__type__</th>\n",
       "      <th>build_number</th>\n",
       "      <th>data_type</th>\n",
       "      <th>date_time</th>\n",
       "      <th>display_name</th>\n",
       "      <th>filename</th>\n",
       "      <th>hostname</th>\n",
       "      <th>inode</th>\n",
       "      <th>key_path</th>\n",
       "      <th>owner</th>\n",
       "      <th>parser</th>\n",
       "      <th>pathspec</th>\n",
       "      <th>product_name</th>\n",
       "      <th>sha256_hash</th>\n",
       "      <th>timestamp</th>\n",
       "      <th>version</th>\n",
       "      <th>message</th>\n",
       "      <th>pevtnum</th>\n",
       "    </tr>\n",
       "  </thead>\n",
       "  <tbody>\n",
       "    <tr>\n",
       "      <th>0</th>\n",
       "      <td>NaN</td>\n",
       "      <td>NaN</td>\n",
       "      <td>plaso</td>\n",
       "      <td>windows_registry_installation</td>\n",
       "      <td></td>\n",
       "      <td>1970-01-01 00:00:00</td>\n",
       "      <td>Installation</td>\n",
       "      <td>event</td>\n",
       "      <td>AttributeContainer</td>\n",
       "      <td>19041</td>\n",
       "      <td>windows:registry:installation</td>\n",
       "      <td>{'__class_name__': 'PosixTime', '__type__': 'DateTimeValues', 'timestamp': 0}</td>\n",
       "      <td>NTFS:\\Windows\\System32\\config\\SOFTWARE</td>\n",
       "      <td>\\Windows\\System32\\config\\SOFTWARE</td>\n",
       "      <td>DESKTOP-SDN1RPT</td>\n",
       "      <td>46203</td>\n",
       "      <td>HKEY_LOCAL_MACHINE\\Software\\WOW6432Node\\Microsoft\\Windows NT\\CurrentVersion</td>\n",
       "      <td>Admin</td>\n",
       "      <td>winreg/windows_version</td>\n",
       "      <td>{'__type__': 'PathSpec', 'location': '\\Windows\\System32\\config\\SOFTWARE', 'mft_attribute': 1, 'mft_entry': 46203, 'parent': {'__type__': 'PathSpec', 'location': '/p3', 'parent': {'__type__': 'PathSpec', 'parent': {'__type__': 'PathSpec', 'location': '/mnt/data/Evidence/szechuan/20200918_0417_DESKTOP-SDN1RPT.E01', 'type_indicator': 'OS'}, 'type_indicator': 'EWF'}, 'part_index': 6, 'start_offset': 122683392, 'type_indicator': 'TSK_PARTITION'}, 'type_indicator': 'NTFS'}</td>\n",
       "      <td>Windows 10 Enterprise Evaluation</td>\n",
       "      <td>4f61461d38e5f56e1c3aa0605b07929c810fe7e45655c3129179412bd6feb7c4</td>\n",
       "      <td>0</td>\n",
       "      <td>6.3</td>\n",
       "      <td>Windows 10 Enterprise Evaluation 6.3 19041 Owner: Admin Origin: HKEY_LOCAL_MACHINE\\Software\\WOW6432Node\\Microsoft\\Windows NT\\CurrentVersion</td>\n",
       "      <td>event_0</td>\n",
       "    </tr>\n",
       "    <tr>\n",
       "      <th>1</th>\n",
       "      <td>NaN</td>\n",
       "      <td>NaN</td>\n",
       "      <td>plaso</td>\n",
       "      <td>windows_registry_installation</td>\n",
       "      <td></td>\n",
       "      <td>2020-09-18 05:47:03</td>\n",
       "      <td>Installation</td>\n",
       "      <td>event</td>\n",
       "      <td>AttributeContainer</td>\n",
       "      <td>19041</td>\n",
       "      <td>windows:registry:installation</td>\n",
       "      <td>{'__class_name__': 'PosixTime', '__type__': 'DateTimeValues', 'timestamp': 1600408023}</td>\n",
       "      <td>NTFS:\\Windows\\System32\\config\\SOFTWARE</td>\n",
       "      <td>\\Windows\\System32\\config\\SOFTWARE</td>\n",
       "      <td>DESKTOP-SDN1RPT</td>\n",
       "      <td>46203</td>\n",
       "      <td>HKEY_LOCAL_MACHINE\\Software\\Microsoft\\Windows NT\\CurrentVersion</td>\n",
       "      <td>Admin</td>\n",
       "      <td>winreg/windows_version</td>\n",
       "      <td>{'__type__': 'PathSpec', 'location': '\\Windows\\System32\\config\\SOFTWARE', 'mft_attribute': 1, 'mft_entry': 46203, 'parent': {'__type__': 'PathSpec', 'location': '/p3', 'parent': {'__type__': 'PathSpec', 'parent': {'__type__': 'PathSpec', 'location': '/mnt/data/Evidence/szechuan/20200918_0417_DESKTOP-SDN1RPT.E01', 'type_indicator': 'OS'}, 'type_indicator': 'EWF'}, 'part_index': 6, 'start_offset': 122683392, 'type_indicator': 'TSK_PARTITION'}, 'type_indicator': 'NTFS'}</td>\n",
       "      <td>Windows 10 Enterprise Evaluation</td>\n",
       "      <td>4f61461d38e5f56e1c3aa0605b07929c810fe7e45655c3129179412bd6feb7c4</td>\n",
       "      <td>1600408023000000</td>\n",
       "      <td>6.3</td>\n",
       "      <td>Windows 10 Enterprise Evaluation 6.3 19041 Owner: Admin Origin: HKEY_LOCAL_MACHINE\\Software\\Microsoft\\Windows NT\\CurrentVersion</td>\n",
       "      <td>event_109</td>\n",
       "    </tr>\n",
       "  </tbody>\n",
       "</table>\n",
       "</div>"
      ],
      "text/plain": [
       "  D4_DataType_ D4_Orchestrator_ D4_Tool_ D4_Plugin_                      \\\n",
       "0  NaN          NaN              plaso    windows_registry_installation   \n",
       "1  NaN          NaN              plaso    windows_registry_installation   \n",
       "\n",
       "  D4_Hostname_ Timestamp_          timestamp_desc __container_type__  \\\n",
       "0              1970-01-01 00:00:00  Installation   event               \n",
       "1              2020-09-18 05:47:03  Installation   event               \n",
       "\n",
       "  __type__            build_number data_type                       \\\n",
       "0  AttributeContainer  19041        windows:registry:installation   \n",
       "1  AttributeContainer  19041        windows:registry:installation   \n",
       "\n",
       "  date_time                                                                                \\\n",
       "0           {'__class_name__': 'PosixTime', '__type__': 'DateTimeValues', 'timestamp': 0}   \n",
       "1  {'__class_name__': 'PosixTime', '__type__': 'DateTimeValues', 'timestamp': 1600408023}   \n",
       "\n",
       "  display_name                            filename                            \\\n",
       "0  NTFS:\\Windows\\System32\\config\\SOFTWARE  \\Windows\\System32\\config\\SOFTWARE   \n",
       "1  NTFS:\\Windows\\System32\\config\\SOFTWARE  \\Windows\\System32\\config\\SOFTWARE   \n",
       "\n",
       "  hostname         inode   \\\n",
       "0  DESKTOP-SDN1RPT  46203   \n",
       "1  DESKTOP-SDN1RPT  46203   \n",
       "\n",
       "  key_path                                                                      \\\n",
       "0  HKEY_LOCAL_MACHINE\\Software\\WOW6432Node\\Microsoft\\Windows NT\\CurrentVersion   \n",
       "1              HKEY_LOCAL_MACHINE\\Software\\Microsoft\\Windows NT\\CurrentVersion   \n",
       "\n",
       "  owner  parser                   \\\n",
       "0  Admin  winreg/windows_version   \n",
       "1  Admin  winreg/windows_version   \n",
       "\n",
       "  pathspec                                                                                                                                                                                                                                                                                                                                                                                                                                                                                  \\\n",
       "0  {'__type__': 'PathSpec', 'location': '\\Windows\\System32\\config\\SOFTWARE', 'mft_attribute': 1, 'mft_entry': 46203, 'parent': {'__type__': 'PathSpec', 'location': '/p3', 'parent': {'__type__': 'PathSpec', 'parent': {'__type__': 'PathSpec', 'location': '/mnt/data/Evidence/szechuan/20200918_0417_DESKTOP-SDN1RPT.E01', 'type_indicator': 'OS'}, 'type_indicator': 'EWF'}, 'part_index': 6, 'start_offset': 122683392, 'type_indicator': 'TSK_PARTITION'}, 'type_indicator': 'NTFS'}   \n",
       "1  {'__type__': 'PathSpec', 'location': '\\Windows\\System32\\config\\SOFTWARE', 'mft_attribute': 1, 'mft_entry': 46203, 'parent': {'__type__': 'PathSpec', 'location': '/p3', 'parent': {'__type__': 'PathSpec', 'parent': {'__type__': 'PathSpec', 'location': '/mnt/data/Evidence/szechuan/20200918_0417_DESKTOP-SDN1RPT.E01', 'type_indicator': 'OS'}, 'type_indicator': 'EWF'}, 'part_index': 6, 'start_offset': 122683392, 'type_indicator': 'TSK_PARTITION'}, 'type_indicator': 'NTFS'}   \n",
       "\n",
       "  product_name                       \\\n",
       "0  Windows 10 Enterprise Evaluation   \n",
       "1  Windows 10 Enterprise Evaluation   \n",
       "\n",
       "  sha256_hash                                                        \\\n",
       "0  4f61461d38e5f56e1c3aa0605b07929c810fe7e45655c3129179412bd6feb7c4   \n",
       "1  4f61461d38e5f56e1c3aa0605b07929c810fe7e45655c3129179412bd6feb7c4   \n",
       "\n",
       "   timestamp        version  \\\n",
       "0                 0  6.3      \n",
       "1  1600408023000000  6.3      \n",
       "\n",
       "  message                                                                                                                                       \\\n",
       "0  Windows 10 Enterprise Evaluation 6.3 19041 Owner: Admin Origin: HKEY_LOCAL_MACHINE\\Software\\WOW6432Node\\Microsoft\\Windows NT\\CurrentVersion   \n",
       "1              Windows 10 Enterprise Evaluation 6.3 19041 Owner: Admin Origin: HKEY_LOCAL_MACHINE\\Software\\Microsoft\\Windows NT\\CurrentVersion   \n",
       "\n",
       "  pevtnum     \n",
       "0    event_0  \n",
       "1  event_109  "
      ]
     },
     "execution_count": 40,
     "metadata": {},
     "output_type": "execute_result"
    }
   ],
   "source": [
    "pldfs_dsk['windows_registry_installation']"
   ]
  },
  {
   "cell_type": "markdown",
   "metadata": {},
   "source": [
    "### 1.4 Simple() Function\n",
    "\n",
    "As a special tip, we can use **simple()** function from CHRYSALIS library to read the information better. This function hides the useless columns, doesn't repeat constant columns and simplifies the data.\n",
    "\n",
    "Let's use it for reading the other DataFrames we need: 'windows_registry_timezone' and 'windows_registry_sam_users':"
   ]
  },
  {
   "cell_type": "code",
   "execution_count": 41,
   "metadata": {},
   "outputs": [
    {
     "name": "stdout",
     "output_type": "stream",
     "text": [
      "\n"
     ]
    },
    {
     "data": {
      "text/markdown": [
       "**Statistics:**\n",
       "<br>No. Entries: 2"
      ],
      "text/plain": [
       "<IPython.core.display.Markdown object>"
      ]
     },
     "metadata": {},
     "output_type": "display_data"
    },
    {
     "data": {
      "text/html": [
       "<style  type=\"text/css\" >\n",
       "</style><table id=\"T_ef77b8fc_478a_11ec_9806_1d4c7841550b\" style='display:inline'><caption>HIDDEN COLUMNS</caption><thead>    <tr>        <th class=\"blank level0\" ></th>        <th class=\"col_heading level0 col0\" >0</th>    </tr></thead><tbody>\n",
       "                <tr>\n",
       "                        <th id=\"T_ef77b8fc_478a_11ec_9806_1d4c7841550blevel0_row0\" class=\"row_heading level0 row0\" >0</th>\n",
       "                        <td id=\"T_ef77b8fc_478a_11ec_9806_1d4c7841550brow0_col0\" class=\"data row0 col0\" >__container_type__</td>\n",
       "            </tr>\n",
       "            <tr>\n",
       "                        <th id=\"T_ef77b8fc_478a_11ec_9806_1d4c7841550blevel0_row1\" class=\"row_heading level0 row1\" >1</th>\n",
       "                        <td id=\"T_ef77b8fc_478a_11ec_9806_1d4c7841550brow1_col0\" class=\"data row1 col0\" >__type__</td>\n",
       "            </tr>\n",
       "            <tr>\n",
       "                        <th id=\"T_ef77b8fc_478a_11ec_9806_1d4c7841550blevel0_row2\" class=\"row_heading level0 row2\" >2</th>\n",
       "                        <td id=\"T_ef77b8fc_478a_11ec_9806_1d4c7841550brow2_col0\" class=\"data row2 col0\" >data_type</td>\n",
       "            </tr>\n",
       "            <tr>\n",
       "                        <th id=\"T_ef77b8fc_478a_11ec_9806_1d4c7841550blevel0_row3\" class=\"row_heading level0 row3\" >3</th>\n",
       "                        <td id=\"T_ef77b8fc_478a_11ec_9806_1d4c7841550brow3_col0\" class=\"data row3 col0\" >inode</td>\n",
       "            </tr>\n",
       "            <tr>\n",
       "                        <th id=\"T_ef77b8fc_478a_11ec_9806_1d4c7841550blevel0_row4\" class=\"row_heading level0 row4\" >4</th>\n",
       "                        <td id=\"T_ef77b8fc_478a_11ec_9806_1d4c7841550brow4_col0\" class=\"data row4 col0\" >parser</td>\n",
       "            </tr>\n",
       "            <tr>\n",
       "                        <th id=\"T_ef77b8fc_478a_11ec_9806_1d4c7841550blevel0_row5\" class=\"row_heading level0 row5\" >5</th>\n",
       "                        <td id=\"T_ef77b8fc_478a_11ec_9806_1d4c7841550brow5_col0\" class=\"data row5 col0\" >pevtnum</td>\n",
       "            </tr>\n",
       "            <tr>\n",
       "                        <th id=\"T_ef77b8fc_478a_11ec_9806_1d4c7841550blevel0_row6\" class=\"row_heading level0 row6\" >6</th>\n",
       "                        <td id=\"T_ef77b8fc_478a_11ec_9806_1d4c7841550brow6_col0\" class=\"data row6 col0\" >message</td>\n",
       "            </tr>\n",
       "            <tr>\n",
       "                        <th id=\"T_ef77b8fc_478a_11ec_9806_1d4c7841550blevel0_row7\" class=\"row_heading level0 row7\" >7</th>\n",
       "                        <td id=\"T_ef77b8fc_478a_11ec_9806_1d4c7841550brow7_col0\" class=\"data row7 col0\" >sha256_hash</td>\n",
       "            </tr>\n",
       "            <tr>\n",
       "                        <th id=\"T_ef77b8fc_478a_11ec_9806_1d4c7841550blevel0_row8\" class=\"row_heading level0 row8\" >8</th>\n",
       "                        <td id=\"T_ef77b8fc_478a_11ec_9806_1d4c7841550brow8_col0\" class=\"data row8 col0\" >pathspec</td>\n",
       "            </tr>\n",
       "            <tr>\n",
       "                        <th id=\"T_ef77b8fc_478a_11ec_9806_1d4c7841550blevel0_row9\" class=\"row_heading level0 row9\" >9</th>\n",
       "                        <td id=\"T_ef77b8fc_478a_11ec_9806_1d4c7841550brow9_col0\" class=\"data row9 col0\" >key_path</td>\n",
       "            </tr>\n",
       "    </tbody></table>   <style  type=\"text/css\" >\n",
       "</style><table id=\"T_ef77eeee_478a_11ec_9806_1d4c7841550b\" style='display:inline'><caption>CONSTANT COLUMNS</caption><thead>    <tr>        <th class=\"blank level0\" ></th>        <th class=\"col_heading level0 col0\" >Column</th>        <th class=\"col_heading level0 col1\" >Value</th>    </tr></thead><tbody>\n",
       "                <tr>\n",
       "                        <th id=\"T_ef77eeee_478a_11ec_9806_1d4c7841550blevel0_row0\" class=\"row_heading level0 row0\" >0</th>\n",
       "                        <td id=\"T_ef77eeee_478a_11ec_9806_1d4c7841550brow0_col0\" class=\"data row0 col0\" >D4_DataType_</td>\n",
       "                        <td id=\"T_ef77eeee_478a_11ec_9806_1d4c7841550brow0_col1\" class=\"data row0 col1\" >nan</td>\n",
       "            </tr>\n",
       "            <tr>\n",
       "                        <th id=\"T_ef77eeee_478a_11ec_9806_1d4c7841550blevel0_row1\" class=\"row_heading level0 row1\" >1</th>\n",
       "                        <td id=\"T_ef77eeee_478a_11ec_9806_1d4c7841550brow1_col0\" class=\"data row1 col0\" >D4_Orchestrator_</td>\n",
       "                        <td id=\"T_ef77eeee_478a_11ec_9806_1d4c7841550brow1_col1\" class=\"data row1 col1\" >nan</td>\n",
       "            </tr>\n",
       "            <tr>\n",
       "                        <th id=\"T_ef77eeee_478a_11ec_9806_1d4c7841550blevel0_row2\" class=\"row_heading level0 row2\" >2</th>\n",
       "                        <td id=\"T_ef77eeee_478a_11ec_9806_1d4c7841550brow2_col0\" class=\"data row2 col0\" >D4_Tool_</td>\n",
       "                        <td id=\"T_ef77eeee_478a_11ec_9806_1d4c7841550brow2_col1\" class=\"data row2 col1\" >plaso</td>\n",
       "            </tr>\n",
       "            <tr>\n",
       "                        <th id=\"T_ef77eeee_478a_11ec_9806_1d4c7841550blevel0_row3\" class=\"row_heading level0 row3\" >3</th>\n",
       "                        <td id=\"T_ef77eeee_478a_11ec_9806_1d4c7841550brow3_col0\" class=\"data row3 col0\" >D4_Plugin_</td>\n",
       "                        <td id=\"T_ef77eeee_478a_11ec_9806_1d4c7841550brow3_col1\" class=\"data row3 col1\" >windows_registry_timezone</td>\n",
       "            </tr>\n",
       "            <tr>\n",
       "                        <th id=\"T_ef77eeee_478a_11ec_9806_1d4c7841550blevel0_row4\" class=\"row_heading level0 row4\" >4</th>\n",
       "                        <td id=\"T_ef77eeee_478a_11ec_9806_1d4c7841550brow4_col0\" class=\"data row4 col0\" >D4_Hostname_</td>\n",
       "                        <td id=\"T_ef77eeee_478a_11ec_9806_1d4c7841550brow4_col1\" class=\"data row4 col1\" ></td>\n",
       "            </tr>\n",
       "            <tr>\n",
       "                        <th id=\"T_ef77eeee_478a_11ec_9806_1d4c7841550blevel0_row5\" class=\"row_heading level0 row5\" >5</th>\n",
       "                        <td id=\"T_ef77eeee_478a_11ec_9806_1d4c7841550brow5_col0\" class=\"data row5 col0\" >Timestamp_</td>\n",
       "                        <td id=\"T_ef77eeee_478a_11ec_9806_1d4c7841550brow5_col1\" class=\"data row5 col1\" >2020-09-17 17:56:13.186204</td>\n",
       "            </tr>\n",
       "            <tr>\n",
       "                        <th id=\"T_ef77eeee_478a_11ec_9806_1d4c7841550blevel0_row6\" class=\"row_heading level0 row6\" >6</th>\n",
       "                        <td id=\"T_ef77eeee_478a_11ec_9806_1d4c7841550brow6_col0\" class=\"data row6 col0\" >timestamp_desc</td>\n",
       "                        <td id=\"T_ef77eeee_478a_11ec_9806_1d4c7841550brow6_col1\" class=\"data row6 col1\" >Content Modif.</td>\n",
       "            </tr>\n",
       "            <tr>\n",
       "                        <th id=\"T_ef77eeee_478a_11ec_9806_1d4c7841550blevel0_row7\" class=\"row_heading level0 row7\" >7</th>\n",
       "                        <td id=\"T_ef77eeee_478a_11ec_9806_1d4c7841550brow7_col0\" class=\"data row7 col0\" >configuration</td>\n",
       "                        <td id=\"T_ef77eeee_478a_11ec_9806_1d4c7841550brow7_col1\" class=\"data row7 col1\" >ActiveTimeBias: 420 Bias: 480 DaylightBias: -60 DaylightName: @tzres.dll,-211 DynamicDaylightTimeDisabled: 0 StandardBias: 0 StandardName: @tzres.dll,-212 TimeZoneKeyName: Pacific Standard Time</td>\n",
       "            </tr>\n",
       "            <tr>\n",
       "                        <th id=\"T_ef77eeee_478a_11ec_9806_1d4c7841550blevel0_row8\" class=\"row_heading level0 row8\" >8</th>\n",
       "                        <td id=\"T_ef77eeee_478a_11ec_9806_1d4c7841550brow8_col0\" class=\"data row8 col0\" >date_time</td>\n",
       "                        <td id=\"T_ef77eeee_478a_11ec_9806_1d4c7841550brow8_col1\" class=\"data row8 col1\" >{'__class_name__': 'Filetime', '__type__': 'DateTimeValues', 'timestamp': 132448389731862036}</td>\n",
       "            </tr>\n",
       "            <tr>\n",
       "                        <th id=\"T_ef77eeee_478a_11ec_9806_1d4c7841550blevel0_row9\" class=\"row_heading level0 row9\" >9</th>\n",
       "                        <td id=\"T_ef77eeee_478a_11ec_9806_1d4c7841550brow9_col0\" class=\"data row9 col0\" >display_name</td>\n",
       "                        <td id=\"T_ef77eeee_478a_11ec_9806_1d4c7841550brow9_col1\" class=\"data row9 col1\" >NTFS:\\Windows\\System32\\config\\SYSTEM</td>\n",
       "            </tr>\n",
       "            <tr>\n",
       "                        <th id=\"T_ef77eeee_478a_11ec_9806_1d4c7841550blevel0_row10\" class=\"row_heading level0 row10\" >10</th>\n",
       "                        <td id=\"T_ef77eeee_478a_11ec_9806_1d4c7841550brow10_col0\" class=\"data row10 col0\" >filename</td>\n",
       "                        <td id=\"T_ef77eeee_478a_11ec_9806_1d4c7841550brow10_col1\" class=\"data row10 col1\" >\\Windows\\System32\\config\\SYSTEM</td>\n",
       "            </tr>\n",
       "            <tr>\n",
       "                        <th id=\"T_ef77eeee_478a_11ec_9806_1d4c7841550blevel0_row11\" class=\"row_heading level0 row11\" >11</th>\n",
       "                        <td id=\"T_ef77eeee_478a_11ec_9806_1d4c7841550brow11_col0\" class=\"data row11 col0\" >hostname</td>\n",
       "                        <td id=\"T_ef77eeee_478a_11ec_9806_1d4c7841550brow11_col1\" class=\"data row11 col1\" >CITADEL-DC01</td>\n",
       "            </tr>\n",
       "            <tr>\n",
       "                        <th id=\"T_ef77eeee_478a_11ec_9806_1d4c7841550blevel0_row12\" class=\"row_heading level0 row12\" >12</th>\n",
       "                        <td id=\"T_ef77eeee_478a_11ec_9806_1d4c7841550brow12_col0\" class=\"data row12 col0\" >timestamp</td>\n",
       "                        <td id=\"T_ef77eeee_478a_11ec_9806_1d4c7841550brow12_col1\" class=\"data row12 col1\" >1600365373186204</td>\n",
       "            </tr>\n",
       "            <tr>\n",
       "                        <th id=\"T_ef77eeee_478a_11ec_9806_1d4c7841550blevel0_row13\" class=\"row_heading level0 row13\" >13</th>\n",
       "                        <td id=\"T_ef77eeee_478a_11ec_9806_1d4c7841550brow13_col0\" class=\"data row13 col0\" >pathspec_simple_</td>\n",
       "                        <td id=\"T_ef77eeee_478a_11ec_9806_1d4c7841550brow13_col1\" class=\"data row13 col1\" >[p2]\\Windows\\System32\\config\\SYSTEM</td>\n",
       "            </tr>\n",
       "    </tbody></table>   "
      ],
      "text/plain": [
       "<IPython.core.display.HTML object>"
      ]
     },
     "metadata": {},
     "output_type": "display_data"
    },
    {
     "data": {
      "text/html": [
       "<div>\n",
       "<style scoped>\n",
       "    .dataframe tbody tr th:only-of-type {\n",
       "        vertical-align: middle;\n",
       "    }\n",
       "\n",
       "    .dataframe tbody tr th {\n",
       "        vertical-align: top;\n",
       "    }\n",
       "\n",
       "    .dataframe thead th {\n",
       "        text-align: right;\n",
       "    }\n",
       "</style>\n",
       "<table border=\"1\" class=\"dataframe\">\n",
       "  <thead>\n",
       "    <tr style=\"text-align: left;\">\n",
       "      <th></th>\n",
       "    </tr>\n",
       "  </thead>\n",
       "  <tbody>\n",
       "    <tr>\n",
       "      <th>0</th>\n",
       "    </tr>\n",
       "    <tr>\n",
       "      <th>1</th>\n",
       "    </tr>\n",
       "  </tbody>\n",
       "</table>\n",
       "</div>"
      ],
      "text/plain": [
       "Empty DataFrame\n",
       "Columns: []\n",
       "Index: [0, 1]"
      ]
     },
     "metadata": {},
     "output_type": "display_data"
    }
   ],
   "source": [
    "pldfs_srv['windows_registry_timezone'].simple()"
   ]
  },
  {
   "cell_type": "code",
   "execution_count": 42,
   "metadata": {},
   "outputs": [
    {
     "name": "stdout",
     "output_type": "stream",
     "text": [
      "\n"
     ]
    },
    {
     "data": {
      "text/markdown": [
       "**Statistics:**\n",
       "<br>No. Entries: 2"
      ],
      "text/plain": [
       "<IPython.core.display.Markdown object>"
      ]
     },
     "metadata": {},
     "output_type": "display_data"
    },
    {
     "data": {
      "text/html": [
       "<style  type=\"text/css\" >\n",
       "</style><table id=\"T_f004f1e0_478a_11ec_9806_1d4c7841550b\" style='display:inline'><caption>HIDDEN COLUMNS</caption><thead>    <tr>        <th class=\"blank level0\" ></th>        <th class=\"col_heading level0 col0\" >0</th>    </tr></thead><tbody>\n",
       "                <tr>\n",
       "                        <th id=\"T_f004f1e0_478a_11ec_9806_1d4c7841550blevel0_row0\" class=\"row_heading level0 row0\" >0</th>\n",
       "                        <td id=\"T_f004f1e0_478a_11ec_9806_1d4c7841550brow0_col0\" class=\"data row0 col0\" >__container_type__</td>\n",
       "            </tr>\n",
       "            <tr>\n",
       "                        <th id=\"T_f004f1e0_478a_11ec_9806_1d4c7841550blevel0_row1\" class=\"row_heading level0 row1\" >1</th>\n",
       "                        <td id=\"T_f004f1e0_478a_11ec_9806_1d4c7841550brow1_col0\" class=\"data row1 col0\" >__type__</td>\n",
       "            </tr>\n",
       "            <tr>\n",
       "                        <th id=\"T_f004f1e0_478a_11ec_9806_1d4c7841550blevel0_row2\" class=\"row_heading level0 row2\" >2</th>\n",
       "                        <td id=\"T_f004f1e0_478a_11ec_9806_1d4c7841550brow2_col0\" class=\"data row2 col0\" >data_type</td>\n",
       "            </tr>\n",
       "            <tr>\n",
       "                        <th id=\"T_f004f1e0_478a_11ec_9806_1d4c7841550blevel0_row3\" class=\"row_heading level0 row3\" >3</th>\n",
       "                        <td id=\"T_f004f1e0_478a_11ec_9806_1d4c7841550brow3_col0\" class=\"data row3 col0\" >inode</td>\n",
       "            </tr>\n",
       "            <tr>\n",
       "                        <th id=\"T_f004f1e0_478a_11ec_9806_1d4c7841550blevel0_row4\" class=\"row_heading level0 row4\" >4</th>\n",
       "                        <td id=\"T_f004f1e0_478a_11ec_9806_1d4c7841550brow4_col0\" class=\"data row4 col0\" >parser</td>\n",
       "            </tr>\n",
       "            <tr>\n",
       "                        <th id=\"T_f004f1e0_478a_11ec_9806_1d4c7841550blevel0_row5\" class=\"row_heading level0 row5\" >5</th>\n",
       "                        <td id=\"T_f004f1e0_478a_11ec_9806_1d4c7841550brow5_col0\" class=\"data row5 col0\" >pevtnum</td>\n",
       "            </tr>\n",
       "            <tr>\n",
       "                        <th id=\"T_f004f1e0_478a_11ec_9806_1d4c7841550blevel0_row6\" class=\"row_heading level0 row6\" >6</th>\n",
       "                        <td id=\"T_f004f1e0_478a_11ec_9806_1d4c7841550brow6_col0\" class=\"data row6 col0\" >message</td>\n",
       "            </tr>\n",
       "            <tr>\n",
       "                        <th id=\"T_f004f1e0_478a_11ec_9806_1d4c7841550blevel0_row7\" class=\"row_heading level0 row7\" >7</th>\n",
       "                        <td id=\"T_f004f1e0_478a_11ec_9806_1d4c7841550brow7_col0\" class=\"data row7 col0\" >sha256_hash</td>\n",
       "            </tr>\n",
       "            <tr>\n",
       "                        <th id=\"T_f004f1e0_478a_11ec_9806_1d4c7841550blevel0_row8\" class=\"row_heading level0 row8\" >8</th>\n",
       "                        <td id=\"T_f004f1e0_478a_11ec_9806_1d4c7841550brow8_col0\" class=\"data row8 col0\" >pathspec</td>\n",
       "            </tr>\n",
       "            <tr>\n",
       "                        <th id=\"T_f004f1e0_478a_11ec_9806_1d4c7841550blevel0_row9\" class=\"row_heading level0 row9\" >9</th>\n",
       "                        <td id=\"T_f004f1e0_478a_11ec_9806_1d4c7841550brow9_col0\" class=\"data row9 col0\" >key_path</td>\n",
       "            </tr>\n",
       "    </tbody></table>   <style  type=\"text/css\" >\n",
       "</style><table id=\"T_f005270a_478a_11ec_9806_1d4c7841550b\" style='display:inline'><caption>CONSTANT COLUMNS</caption><thead>    <tr>        <th class=\"blank level0\" ></th>        <th class=\"col_heading level0 col0\" >Column</th>        <th class=\"col_heading level0 col1\" >Value</th>    </tr></thead><tbody>\n",
       "                <tr>\n",
       "                        <th id=\"T_f005270a_478a_11ec_9806_1d4c7841550blevel0_row0\" class=\"row_heading level0 row0\" >0</th>\n",
       "                        <td id=\"T_f005270a_478a_11ec_9806_1d4c7841550brow0_col0\" class=\"data row0 col0\" >D4_DataType_</td>\n",
       "                        <td id=\"T_f005270a_478a_11ec_9806_1d4c7841550brow0_col1\" class=\"data row0 col1\" >nan</td>\n",
       "            </tr>\n",
       "            <tr>\n",
       "                        <th id=\"T_f005270a_478a_11ec_9806_1d4c7841550blevel0_row1\" class=\"row_heading level0 row1\" >1</th>\n",
       "                        <td id=\"T_f005270a_478a_11ec_9806_1d4c7841550brow1_col0\" class=\"data row1 col0\" >D4_Orchestrator_</td>\n",
       "                        <td id=\"T_f005270a_478a_11ec_9806_1d4c7841550brow1_col1\" class=\"data row1 col1\" >nan</td>\n",
       "            </tr>\n",
       "            <tr>\n",
       "                        <th id=\"T_f005270a_478a_11ec_9806_1d4c7841550blevel0_row2\" class=\"row_heading level0 row2\" >2</th>\n",
       "                        <td id=\"T_f005270a_478a_11ec_9806_1d4c7841550brow2_col0\" class=\"data row2 col0\" >D4_Tool_</td>\n",
       "                        <td id=\"T_f005270a_478a_11ec_9806_1d4c7841550brow2_col1\" class=\"data row2 col1\" >plaso</td>\n",
       "            </tr>\n",
       "            <tr>\n",
       "                        <th id=\"T_f005270a_478a_11ec_9806_1d4c7841550blevel0_row3\" class=\"row_heading level0 row3\" >3</th>\n",
       "                        <td id=\"T_f005270a_478a_11ec_9806_1d4c7841550brow3_col0\" class=\"data row3 col0\" >D4_Plugin_</td>\n",
       "                        <td id=\"T_f005270a_478a_11ec_9806_1d4c7841550brow3_col1\" class=\"data row3 col1\" >windows_registry_sam_users</td>\n",
       "            </tr>\n",
       "            <tr>\n",
       "                        <th id=\"T_f005270a_478a_11ec_9806_1d4c7841550blevel0_row4\" class=\"row_heading level0 row4\" >4</th>\n",
       "                        <td id=\"T_f005270a_478a_11ec_9806_1d4c7841550brow4_col0\" class=\"data row4 col0\" >D4_Hostname_</td>\n",
       "                        <td id=\"T_f005270a_478a_11ec_9806_1d4c7841550brow4_col1\" class=\"data row4 col1\" ></td>\n",
       "            </tr>\n",
       "            <tr>\n",
       "                        <th id=\"T_f005270a_478a_11ec_9806_1d4c7841550blevel0_row5\" class=\"row_heading level0 row5\" >5</th>\n",
       "                        <td id=\"T_f005270a_478a_11ec_9806_1d4c7841550brow5_col0\" class=\"data row5 col0\" >Timestamp_</td>\n",
       "                        <td id=\"T_f005270a_478a_11ec_9806_1d4c7841550brow5_col1\" class=\"data row5 col1\" >2020-09-17 17:57:10.020550</td>\n",
       "            </tr>\n",
       "            <tr>\n",
       "                        <th id=\"T_f005270a_478a_11ec_9806_1d4c7841550blevel0_row6\" class=\"row_heading level0 row6\" >6</th>\n",
       "                        <td id=\"T_f005270a_478a_11ec_9806_1d4c7841550brow6_col0\" class=\"data row6 col0\" >timestamp_desc</td>\n",
       "                        <td id=\"T_f005270a_478a_11ec_9806_1d4c7841550brow6_col1\" class=\"data row6 col1\" >Content Modif.</td>\n",
       "            </tr>\n",
       "            <tr>\n",
       "                        <th id=\"T_f005270a_478a_11ec_9806_1d4c7841550blevel0_row7\" class=\"row_heading level0 row7\" >7</th>\n",
       "                        <td id=\"T_f005270a_478a_11ec_9806_1d4c7841550brow7_col0\" class=\"data row7 col0\" >date_time</td>\n",
       "                        <td id=\"T_f005270a_478a_11ec_9806_1d4c7841550brow7_col1\" class=\"data row7 col1\" >{'__class_name__': 'Filetime', '__type__': 'DateTimeValues', 'timestamp': 132448390300205502}</td>\n",
       "            </tr>\n",
       "            <tr>\n",
       "                        <th id=\"T_f005270a_478a_11ec_9806_1d4c7841550blevel0_row8\" class=\"row_heading level0 row8\" >8</th>\n",
       "                        <td id=\"T_f005270a_478a_11ec_9806_1d4c7841550brow8_col0\" class=\"data row8 col0\" >display_name</td>\n",
       "                        <td id=\"T_f005270a_478a_11ec_9806_1d4c7841550brow8_col1\" class=\"data row8 col1\" >NTFS:\\Windows\\System32\\config\\SAM</td>\n",
       "            </tr>\n",
       "            <tr>\n",
       "                        <th id=\"T_f005270a_478a_11ec_9806_1d4c7841550blevel0_row9\" class=\"row_heading level0 row9\" >9</th>\n",
       "                        <td id=\"T_f005270a_478a_11ec_9806_1d4c7841550brow9_col0\" class=\"data row9 col0\" >filename</td>\n",
       "                        <td id=\"T_f005270a_478a_11ec_9806_1d4c7841550brow9_col1\" class=\"data row9 col1\" >\\Windows\\System32\\config\\SAM</td>\n",
       "            </tr>\n",
       "            <tr>\n",
       "                        <th id=\"T_f005270a_478a_11ec_9806_1d4c7841550blevel0_row10\" class=\"row_heading level0 row10\" >10</th>\n",
       "                        <td id=\"T_f005270a_478a_11ec_9806_1d4c7841550brow10_col0\" class=\"data row10 col0\" >fullname</td>\n",
       "                        <td id=\"T_f005270a_478a_11ec_9806_1d4c7841550brow10_col1\" class=\"data row10 col1\" >NaT</td>\n",
       "            </tr>\n",
       "            <tr>\n",
       "                        <th id=\"T_f005270a_478a_11ec_9806_1d4c7841550blevel0_row11\" class=\"row_heading level0 row11\" >11</th>\n",
       "                        <td id=\"T_f005270a_478a_11ec_9806_1d4c7841550brow11_col0\" class=\"data row11 col0\" >hostname</td>\n",
       "                        <td id=\"T_f005270a_478a_11ec_9806_1d4c7841550brow11_col1\" class=\"data row11 col1\" >CITADEL-DC01</td>\n",
       "            </tr>\n",
       "            <tr>\n",
       "                        <th id=\"T_f005270a_478a_11ec_9806_1d4c7841550blevel0_row12\" class=\"row_heading level0 row12\" >12</th>\n",
       "                        <td id=\"T_f005270a_478a_11ec_9806_1d4c7841550brow12_col0\" class=\"data row12 col0\" >login_count</td>\n",
       "                        <td id=\"T_f005270a_478a_11ec_9806_1d4c7841550brow12_col1\" class=\"data row12 col1\" >0</td>\n",
       "            </tr>\n",
       "            <tr>\n",
       "                        <th id=\"T_f005270a_478a_11ec_9806_1d4c7841550blevel0_row13\" class=\"row_heading level0 row13\" >13</th>\n",
       "                        <td id=\"T_f005270a_478a_11ec_9806_1d4c7841550brow13_col0\" class=\"data row13 col0\" >timestamp</td>\n",
       "                        <td id=\"T_f005270a_478a_11ec_9806_1d4c7841550brow13_col1\" class=\"data row13 col1\" >1600365430020550</td>\n",
       "            </tr>\n",
       "            <tr>\n",
       "                        <th id=\"T_f005270a_478a_11ec_9806_1d4c7841550blevel0_row14\" class=\"row_heading level0 row14\" >14</th>\n",
       "                        <td id=\"T_f005270a_478a_11ec_9806_1d4c7841550brow14_col0\" class=\"data row14 col0\" >pathspec_simple_</td>\n",
       "                        <td id=\"T_f005270a_478a_11ec_9806_1d4c7841550brow14_col1\" class=\"data row14 col1\" >[p2]\\Windows\\System32\\config\\SAM</td>\n",
       "            </tr>\n",
       "    </tbody></table>   "
      ],
      "text/plain": [
       "<IPython.core.display.HTML object>"
      ]
     },
     "metadata": {},
     "output_type": "display_data"
    },
    {
     "data": {
      "text/html": [
       "<style  type=\"text/css\" >\n",
       "#T_f0077ba4_478a_11ec_9806_1d4c7841550brow0_col0,#T_f0077ba4_478a_11ec_9806_1d4c7841550brow0_col1,#T_f0077ba4_478a_11ec_9806_1d4c7841550brow0_col2,#T_f0077ba4_478a_11ec_9806_1d4c7841550brow0_col3,#T_f0077ba4_478a_11ec_9806_1d4c7841550brow1_col0,#T_f0077ba4_478a_11ec_9806_1d4c7841550brow1_col1,#T_f0077ba4_478a_11ec_9806_1d4c7841550brow1_col2,#T_f0077ba4_478a_11ec_9806_1d4c7841550brow1_col3{\n",
       "            text-align:  left;\n",
       "            white-space:  pre-wrap;\n",
       "        }</style><table id=\"T_f0077ba4_478a_11ec_9806_1d4c7841550b\" ><thead>    <tr>        <th class=\"blank level0\" ></th>        <th class=\"col_heading level0 col0\" >index</th>        <th class=\"col_heading level0 col1\" >account_rid</th>        <th class=\"col_heading level0 col2\" >comments</th>        <th class=\"col_heading level0 col3\" >username</th>    </tr></thead><tbody>\n",
       "                <tr>\n",
       "                        <th id=\"T_f0077ba4_478a_11ec_9806_1d4c7841550blevel0_row0\" class=\"row_heading level0 row0\" >0</th>\n",
       "                        <td id=\"T_f0077ba4_478a_11ec_9806_1d4c7841550brow0_col0\" class=\"data row0 col0\" >0</td>\n",
       "                        <td id=\"T_f0077ba4_478a_11ec_9806_1d4c7841550brow0_col1\" class=\"data row0 col1\" >500</td>\n",
       "                        <td id=\"T_f0077ba4_478a_11ec_9806_1d4c7841550brow0_col2\" class=\"data row0 col2\" >Built-in account for administering the computer/domain</td>\n",
       "                        <td id=\"T_f0077ba4_478a_11ec_9806_1d4c7841550brow0_col3\" class=\"data row0 col3\" >Administrator</td>\n",
       "            </tr>\n",
       "            <tr>\n",
       "                        <th id=\"T_f0077ba4_478a_11ec_9806_1d4c7841550blevel0_row1\" class=\"row_heading level0 row1\" >1</th>\n",
       "                        <td id=\"T_f0077ba4_478a_11ec_9806_1d4c7841550brow1_col0\" class=\"data row1 col0\" >1</td>\n",
       "                        <td id=\"T_f0077ba4_478a_11ec_9806_1d4c7841550brow1_col1\" class=\"data row1 col1\" >501</td>\n",
       "                        <td id=\"T_f0077ba4_478a_11ec_9806_1d4c7841550brow1_col2\" class=\"data row1 col2\" >Built-in account for guest access to the computer/domain</td>\n",
       "                        <td id=\"T_f0077ba4_478a_11ec_9806_1d4c7841550brow1_col3\" class=\"data row1 col3\" >Guest</td>\n",
       "            </tr>\n",
       "    </tbody></table>"
      ],
      "text/plain": [
       "<pandas.io.formats.style.Styler at 0x7f63c2e39cd0>"
      ]
     },
     "metadata": {},
     "output_type": "display_data"
    }
   ],
   "source": [
    "pldfs_srv['windows_registry_sam_users'].simple()"
   ]
  },
  {
   "cell_type": "markdown",
   "metadata": {},
   "source": [
    "But... Can we make it even better? With CHRYSALIS we can select analysis functions from a menu! We only need to call **xanalysis()** function. Let's see how it works.\n",
    "\n",
    "<span style=\"color:purple\">\n",
    "<b>INSTRUCTIONS:</b>\n",
    "\n",
    "<ul>\n",
    "    <li>Execute the cell</li>\n",
    "    <li>Select Dictionary as analysis object</li>\n",
    "    <li>Select plaso for the type of analysis</li>\n",
    "    <li>Select Overview as the available analysis</li>\n",
    "</ul>\n",
    "</span>\n"
   ]
  },
  {
   "cell_type": "code",
   "execution_count": 43,
   "metadata": {},
   "outputs": [
    {
     "data": {
      "text/markdown": [
       "**Analisys explorer:**"
      ],
      "text/plain": [
       "<IPython.core.display.Markdown object>"
      ]
     },
     "metadata": {},
     "output_type": "display_data"
    },
    {
     "data": {
      "application/vnd.jupyter.widget-view+json": {
       "model_id": "9dd2398059ad42de971fa094104726ce",
       "version_major": 2,
       "version_minor": 0
      },
      "text/plain": [
       "Box(children=(Dropdown(description='Analysis object: ', layout=Layout(width='250px'), options=('Select one...'…"
      ]
     },
     "metadata": {},
     "output_type": "display_data"
    },
    {
     "data": {
      "application/vnd.jupyter.widget-view+json": {
       "model_id": "0e9bf9c4be464399b8622c7b8f414d67",
       "version_major": 2,
       "version_minor": 0
      },
      "text/plain": [
       "Box(children=(Dropdown(description='Available analysis types: ', layout=Layout(width='550px'), options=(), sty…"
      ]
     },
     "metadata": {},
     "output_type": "display_data"
    },
    {
     "data": {
      "application/vnd.jupyter.widget-view+json": {
       "model_id": "d2da70c33ffa4ddc8002b14943d4c0da",
       "version_major": 2,
       "version_minor": 0
      },
      "text/plain": [
       "Output(layout=Layout(overflow='auto', width='99%'))"
      ]
     },
     "metadata": {},
     "output_type": "display_data"
    }
   ],
   "source": [
    "xanalysis(pldfs_srv)"
   ]
  },
  {
   "cell_type": "markdown",
   "metadata": {},
   "source": [
    "As we can see, with this function only the relevant information of the different DataFrames of interest is shown. Let's repeat it for Desktop this time."
   ]
  },
  {
   "cell_type": "code",
   "execution_count": 44,
   "metadata": {},
   "outputs": [
    {
     "data": {
      "text/markdown": [
       "**Analisys explorer:**"
      ],
      "text/plain": [
       "<IPython.core.display.Markdown object>"
      ]
     },
     "metadata": {},
     "output_type": "display_data"
    },
    {
     "data": {
      "application/vnd.jupyter.widget-view+json": {
       "model_id": "3c856e9ca3bd4f61adbbc297a46354a7",
       "version_major": 2,
       "version_minor": 0
      },
      "text/plain": [
       "Box(children=(Dropdown(description='Analysis object: ', layout=Layout(width='250px'), options=('Select one...'…"
      ]
     },
     "metadata": {},
     "output_type": "display_data"
    },
    {
     "data": {
      "application/vnd.jupyter.widget-view+json": {
       "model_id": "63f834482cf24d48ae734aeffd1cead3",
       "version_major": 2,
       "version_minor": 0
      },
      "text/plain": [
       "Box(children=(Dropdown(description='Available analysis types: ', layout=Layout(width='550px'), options=(), sty…"
      ]
     },
     "metadata": {},
     "output_type": "display_data"
    },
    {
     "data": {
      "application/vnd.jupyter.widget-view+json": {
       "model_id": "53a4cbdcfc4140a1a6e4f098266664ce",
       "version_major": 2,
       "version_minor": 0
      },
      "text/plain": [
       "Output(layout=Layout(overflow='auto', width='99%'))"
      ]
     },
     "metadata": {},
     "output_type": "display_data"
    }
   ],
   "source": [
    "xanalysis(pldfs_dsk)"
   ]
  },
  {
   "cell_type": "markdown",
   "metadata": {},
   "source": [
    "<span style=\"color:blue\">**What are the hostnames for the Desktop and DC?** </span>"
   ]
  },
  {
   "cell_type": "markdown",
   "metadata": {},
   "source": [
    "<span style=\"color:green\">**ANSWER**:</span>\n",
    "\n",
    "<span style=\"color:green\">CITADEL-DC01 and DESKTOP-SDN1RPT are the users.</span>\n",
    "\n",
    "<span style=\"color:green\">While using \"windows_registry_installation\" to find out about the systems' information, you can look at the hostname column to find information about the hostnames.</span>\n",
    "<span style=\"color:green\">Also, you may also find out the hostname under the \"Constant Columns\" on other registry keys when using simple()</span>\n",
    "\n"
   ]
  },
  {
   "cell_type": "markdown",
   "metadata": {},
   "source": [
    "<span style=\"color:blue\">**How many users are there on the Desktop?** </span>"
   ]
  },
  {
   "cell_type": "markdown",
   "metadata": {},
   "source": [
    "<span style=\"color:green\">**ANSWER**:</span>\n",
    "\n",
    "<span style=\"color:green\">7 users.</span>\n",
    "\n",
    "<span style=\"color:green\">While using xanalysis with the Overview option we can check all users, hostname, timezone and installation information.</span>"
   ]
  },
  {
   "cell_type": "markdown",
   "metadata": {},
   "source": [
    "### **1.5 CONCLUSIONS**:"
   ]
  },
  {
   "cell_type": "markdown",
   "metadata": {},
   "source": [
    "**Overview**\n",
    "-\n",
    " - On the Domain Controller: \n",
    "     - The operating system is Windows Server 2012 R2 Standard Evaluation\n",
    "     - The Timezone is Pacific Standard Time\n",
    "     \n",
    "     \n",
    " - On the Desktop:\n",
    "     - The operating system is Windows 10 Enterprise Evaluation\n",
    "     - The Timezone is Pacific Standard Time"
   ]
  },
  {
   "cell_type": "markdown",
   "metadata": {},
   "source": [
    "## **2. SUCCESFUL LOGON ANALYSIS**"
   ]
  },
  {
   "cell_type": "markdown",
   "metadata": {},
   "source": [
    "The next step on an attack is checking the logon information. We need to check who had access to the system.\n",
    "\n",
    "As mentioned before, an artifact is data that can contain a trace of malicious activity. In order to check the accesses to the two devices, we will use a plaso artifact: The Windows evtx files. "
   ]
  },
  {
   "cell_type": "markdown",
   "metadata": {},
   "source": [
    "<span style=\"color:blue\">**Which are the events that give us logon information?** </span>"
   ]
  },
  {
   "cell_type": "markdown",
   "metadata": {},
   "source": [
    "<span style=\"color:blue\">**Is there any suspicious logon on the Domain Controller/Server?** </span>"
   ]
  },
  {
   "cell_type": "markdown",
   "metadata": {},
   "source": [
    "<span style=\"color:blue\">**Which logon type is it and what does it mean?** </span>"
   ]
  },
  {
   "cell_type": "markdown",
   "metadata": {},
   "source": [
    "<span style=\"color:blue\">**What about the Desktop?** </span>"
   ]
  },
  {
   "cell_type": "markdown",
   "metadata": {},
   "source": [
    "### 2.1 Windows Events\n",
    "\n",
    "**Windows evtx Files**\n",
    "-\n",
    "EVTX is a file extension commonly associated with Windows 7+ Event Log Format files. Windows 7+ Event Log Format specification was created by Microsoft. EVTX files are supported by software applications available for devices running Windows. Files with EVTX extension are categorized as System Files files. It contains useful information about system and users such as authentication, file changes, commands executed, etc.\n",
    "\n",
    "Within Windows events we have different types. In this case we will use the following Security events ID"
   ]
  },
  {
   "cell_type": "markdown",
   "metadata": {},
   "source": [
    "### 2.2 Windows Security Events\n",
    "\n",
    "\n",
    "**Security evtx**\n",
    "-\n",
    "Contains events such as: \n",
    "- Authentications (valid and invalid logon attempts (Event ID 4624 and 4625 respectively))\n",
    "\n",
    "    - **4624**: Sucessful logon\n",
    "    - **4625**: Failed logon\n",
    "    \n",
    "    \n",
    "- Objects access (Creation/Modification/Deletion of files)"
   ]
  },
  {
   "cell_type": "markdown",
   "metadata": {},
   "source": [
    "As we know, we have a plaso dictionary that contains quite a few DataFrames and one of them is 'windows_evtx_record'. The next step is converting that DataFrame of events into a dictionary that, instead of containing all the events information together, has different DataFrames for the different categories of events (Security.evtx, System.evtx, etc.)"
   ]
  },
  {
   "cell_type": "code",
   "execution_count": 45,
   "metadata": {},
   "outputs": [
    {
     "data": {
      "text/plain": [
       "dict_keys(['windows_registry_installation', 'windows_shell_item_file_entry', 'windows_evtx_record', 'windows_registry_sam_users', 'windows_registry_timezone'])"
      ]
     },
     "execution_count": 45,
     "metadata": {},
     "output_type": "execute_result"
    }
   ],
   "source": [
    "pldfs_dsk.keys()"
   ]
  },
  {
   "cell_type": "markdown",
   "metadata": {},
   "source": [
    "<span style=\"color:blue\">**Which are the events that give us logon information?** </span>"
   ]
  },
  {
   "cell_type": "markdown",
   "metadata": {},
   "source": [
    "<span style=\"color:green\">**ANSWER**:</span>\n",
    "\n",
    "<span style=\"color:green\">Within the events, we can find Security events, in particular, events 4624 give us information about successful logons and events 4625 give us information about failed attempts.</span>"
   ]
  },
  {
   "cell_type": "markdown",
   "metadata": {},
   "source": [
    "### 2.3 plaso_get_evtxdfs() Function\n",
    "\n",
    "\n",
    "For that purpose, CHRYSALIS has **plaso_get_evtxdfs()** function which only needs the plaso dictionary name and the hostname that we saw on the Overview analysis."
   ]
  },
  {
   "cell_type": "code",
   "execution_count": 53,
   "metadata": {},
   "outputs": [
    {
     "name": "stdout",
     "output_type": "stream",
     "text": [
      "Extracting evtx DFs dict from plaso DFs dict.\n",
      "- Extracting records...\n",
      "- Processing:\n",
      "  + Security.evtx\n",
      "    - Extracting & concatenating plaso xml_string entries\n",
      "    - Escaping/fixing not well-formed records\n",
      "    - Converting XML -> DF\n",
      "\n",
      "  + Application.evtx\n",
      "    - Extracting & concatenating plaso xml_string entries\n",
      "    - Escaping/fixing not well-formed records\n",
      "    - Converting XML -> DF\n",
      "\n",
      "- Done\n",
      "WARNING: data_path argument not provided. Cannot save pickle file.\n"
     ]
    }
   ],
   "source": [
    "evtxrawdfs_dsk = d4pl.plaso_get_evtxdfs(pldfs_dsk, 'DESKTOP-SDN1RPT')"
   ]
  },
  {
   "cell_type": "markdown",
   "metadata": {},
   "source": [
    "Now that the dictionary is created, let's see how it looks using **keys()** function."
   ]
  },
  {
   "cell_type": "code",
   "execution_count": 54,
   "metadata": {},
   "outputs": [
    {
     "data": {
      "text/plain": [
       "dict_keys(['Security.evtx', 'Application.evtx'])"
      ]
     },
     "execution_count": 54,
     "metadata": {},
     "output_type": "execute_result"
    }
   ],
   "source": [
    "evtxrawdfs_dsk.keys()"
   ]
  },
  {
   "cell_type": "markdown",
   "metadata": {},
   "source": [
    "As previously mentioned, we want Security.evtx and we are particularly interested on its 4624 and 4625 event IDs.\n",
    "\n",
    "For that reason, we are going to select 'Security.evtx' from the 'evtxrawdfs_dsk' dictionary, resulting in a DataFrame: 'secevtxrawdf_dsk'. This DataFrame contains the raw Security events information, in other words, all events with different IDs."
   ]
  },
  {
   "cell_type": "code",
   "execution_count": 55,
   "metadata": {},
   "outputs": [
    {
     "data": {
      "text/html": [
       "<div>\n",
       "<style scoped>\n",
       "    .dataframe tbody tr th:only-of-type {\n",
       "        vertical-align: middle;\n",
       "    }\n",
       "\n",
       "    .dataframe tbody tr th {\n",
       "        vertical-align: top;\n",
       "    }\n",
       "\n",
       "    .dataframe thead th {\n",
       "        text-align: right;\n",
       "    }\n",
       "</style>\n",
       "<table border=\"1\" class=\"dataframe\">\n",
       "  <thead>\n",
       "    <tr style=\"text-align: left;\">\n",
       "      <th></th>\n",
       "      <th>D4_DataType_</th>\n",
       "      <th>D4_Orchestrator_</th>\n",
       "      <th>D4_Tool_</th>\n",
       "      <th>D4_Plugin_</th>\n",
       "      <th>D4_Hostname_</th>\n",
       "      <th>evtxFileName_</th>\n",
       "      <th>@xmlns</th>\n",
       "      <th>System &gt; Provider &gt; @Name</th>\n",
       "      <th>System &gt; Provider &gt; @Guid</th>\n",
       "      <th>System &gt; EventID</th>\n",
       "      <th>System &gt; Version</th>\n",
       "      <th>System &gt; Level</th>\n",
       "      <th>System &gt; Task</th>\n",
       "      <th>System &gt; Opcode</th>\n",
       "      <th>System &gt; Keywords</th>\n",
       "      <th>System &gt; TimeCreated &gt; @SystemTime</th>\n",
       "      <th>System &gt; EventRecordID</th>\n",
       "      <th>System &gt; Correlation &gt; @ActivityID</th>\n",
       "      <th>System &gt; Execution &gt; @ProcessID</th>\n",
       "      <th>System &gt; Execution &gt; @ThreadID</th>\n",
       "      <th>System &gt; Channel</th>\n",
       "      <th>System &gt; Computer</th>\n",
       "      <th>System &gt; Security</th>\n",
       "      <th>EventData &gt; Data &gt; 0 &gt; @Name</th>\n",
       "      <th>EventData &gt; Data &gt; 0 &gt; #text</th>\n",
       "      <th>EventData &gt; Data &gt; 1 &gt; @Name</th>\n",
       "      <th>EventData &gt; Data &gt; 1 &gt; #text</th>\n",
       "      <th>EventData &gt; Data &gt; 2 &gt; @Name</th>\n",
       "      <th>EventData &gt; Data &gt; 2 &gt; #text</th>\n",
       "      <th>EventData &gt; Data &gt; 3 &gt; @Name</th>\n",
       "      <th>EventData &gt; Data &gt; 3 &gt; #text</th>\n",
       "      <th>EventData &gt; Data &gt; 4 &gt; @Name</th>\n",
       "      <th>EventData &gt; Data &gt; 4 &gt; #text</th>\n",
       "      <th>EventData &gt; Data &gt; 5 &gt; @Name</th>\n",
       "      <th>EventData &gt; Data &gt; 5 &gt; #text</th>\n",
       "      <th>EventData &gt; Data &gt; 6 &gt; @Name</th>\n",
       "      <th>EventData &gt; Data &gt; 6 &gt; #text</th>\n",
       "      <th>EventData &gt; Data &gt; 7 &gt; @Name</th>\n",
       "      <th>EventData &gt; Data &gt; 7 &gt; #text</th>\n",
       "      <th>EventData &gt; Data &gt; 8 &gt; @Name</th>\n",
       "      <th>EventData &gt; Data &gt; 8 &gt; #text</th>\n",
       "      <th>EventData &gt; Data &gt; 9 &gt; @Name</th>\n",
       "      <th>EventData &gt; Data &gt; 9 &gt; #text</th>\n",
       "      <th>EventData &gt; Data &gt; 10 &gt; @Name</th>\n",
       "      <th>EventData &gt; Data &gt; 10 &gt; #text</th>\n",
       "      <th>EventData &gt; Data &gt; 11 &gt; @Name</th>\n",
       "      <th>EventData &gt; Data &gt; 11 &gt; #text</th>\n",
       "      <th>EventData &gt; Data &gt; 12 &gt; @Name</th>\n",
       "      <th>EventData &gt; Data &gt; 12 &gt; #text</th>\n",
       "      <th>EventData &gt; Data &gt; 13 &gt; @Name</th>\n",
       "      <th>EventData &gt; Data &gt; 13 &gt; #text</th>\n",
       "      <th>EventData &gt; Data &gt; 14 &gt; @Name</th>\n",
       "      <th>EventData &gt; Data &gt; 14 &gt; #text</th>\n",
       "      <th>EventData &gt; Data &gt; 15 &gt; @Name</th>\n",
       "      <th>EventData &gt; Data &gt; 15 &gt; #text</th>\n",
       "      <th>EventData &gt; Data &gt; 16 &gt; @Name</th>\n",
       "      <th>EventData &gt; Data &gt; 16 &gt; #text</th>\n",
       "      <th>EventData &gt; Data &gt; 17 &gt; @Name</th>\n",
       "      <th>EventData &gt; Data &gt; 17 &gt; #text</th>\n",
       "      <th>EventData &gt; Data &gt; 18 &gt; @Name</th>\n",
       "      <th>EventData &gt; Data &gt; 18 &gt; #text</th>\n",
       "      <th>EventData &gt; Data &gt; 19 &gt; @Name</th>\n",
       "      <th>EventData &gt; Data &gt; 19 &gt; #text</th>\n",
       "      <th>EventData &gt; Data &gt; 20 &gt; @Name</th>\n",
       "      <th>EventData &gt; Data &gt; 20 &gt; #text</th>\n",
       "      <th>EventData &gt; Data &gt; 21 &gt; @Name</th>\n",
       "      <th>EventData &gt; Data &gt; 21 &gt; #text</th>\n",
       "      <th>EventData &gt; Data &gt; 22 &gt; @Name</th>\n",
       "      <th>EventData &gt; Data &gt; 22 &gt; #text</th>\n",
       "      <th>EventData &gt; Data &gt; 23 &gt; @Name</th>\n",
       "      <th>EventData &gt; Data &gt; 23 &gt; #text</th>\n",
       "      <th>EventData &gt; Data &gt; 24 &gt; @Name</th>\n",
       "      <th>EventData &gt; Data &gt; 24 &gt; #text</th>\n",
       "      <th>EventData &gt; Data &gt; 25 &gt; @Name</th>\n",
       "      <th>EventData &gt; Data &gt; 25 &gt; #text</th>\n",
       "      <th>EventData &gt; Data &gt; 26 &gt; @Name</th>\n",
       "      <th>EventData &gt; Data &gt; 26 &gt; #text</th>\n",
       "      <th>System &gt; Correlation</th>\n",
       "    </tr>\n",
       "  </thead>\n",
       "  <tbody>\n",
       "    <tr>\n",
       "      <th>0</th>\n",
       "      <td>evtx-raw</td>\n",
       "      <td>NaN</td>\n",
       "      <td>plaso</td>\n",
       "      <td>windows_evtx_record</td>\n",
       "      <td></td>\n",
       "      <td>Security.evtx</td>\n",
       "      <td>http://schemas.microsoft.com/win/2004/08/events/event</td>\n",
       "      <td>Microsoft-Windows-Security-Auditing</td>\n",
       "      <td>{54849625-5478-4994-A5BA-3E3B0328C30D}</td>\n",
       "      <td>4624</td>\n",
       "      <td>2</td>\n",
       "      <td>0</td>\n",
       "      <td>12544</td>\n",
       "      <td>0</td>\n",
       "      <td>0x8020000000000000</td>\n",
       "      <td>2020-09-18 04:58:05.941940200</td>\n",
       "      <td>708</td>\n",
       "      <td>{089E13A3-8D7F-0001-4B14-9E087F8DD601}</td>\n",
       "      <td>664</td>\n",
       "      <td>720</td>\n",
       "      <td>Security</td>\n",
       "      <td>DESKTOP-SDN1RPT</td>\n",
       "      <td>None</td>\n",
       "      <td>SubjectUserSid</td>\n",
       "      <td>S-1-5-18</td>\n",
       "      <td>SubjectUserName</td>\n",
       "      <td>WIN-2IH1TBB9I4Q$</td>\n",
       "      <td>SubjectDomainName</td>\n",
       "      <td>WORKGROUP</td>\n",
       "      <td>SubjectLogonId</td>\n",
       "      <td>0x00000000000003e7</td>\n",
       "      <td>TargetUserSid</td>\n",
       "      <td>S-1-5-18</td>\n",
       "      <td>TargetUserName</td>\n",
       "      <td>SYSTEM</td>\n",
       "      <td>TargetDomainName</td>\n",
       "      <td>NT AUTHORITY</td>\n",
       "      <td>TargetLogonId</td>\n",
       "      <td>0x00000000000003e7</td>\n",
       "      <td>LogonType</td>\n",
       "      <td>5</td>\n",
       "      <td>LogonProcessName</td>\n",
       "      <td>Advapi</td>\n",
       "      <td>AuthenticationPackageName</td>\n",
       "      <td>Negotiate</td>\n",
       "      <td>WorkstationName</td>\n",
       "      <td>-</td>\n",
       "      <td>LogonGuid</td>\n",
       "      <td>{00000000-0000-0000-0000-000000000000}</td>\n",
       "      <td>TransmittedServices</td>\n",
       "      <td>-</td>\n",
       "      <td>LmPackageName</td>\n",
       "      <td>-</td>\n",
       "      <td>KeyLength</td>\n",
       "      <td>0</td>\n",
       "      <td>ProcessId</td>\n",
       "      <td>0x0000000000000284</td>\n",
       "      <td>ProcessName</td>\n",
       "      <td>C:\\Windows\\System32\\services.exe</td>\n",
       "      <td>IpAddress</td>\n",
       "      <td>-</td>\n",
       "      <td>IpPort</td>\n",
       "      <td>-</td>\n",
       "      <td>ImpersonationLevel</td>\n",
       "      <td>%%1833</td>\n",
       "      <td>RestrictedAdminMode</td>\n",
       "      <td>-</td>\n",
       "      <td>TargetOutboundUserName</td>\n",
       "      <td>-</td>\n",
       "      <td>TargetOutboundDomainName</td>\n",
       "      <td>-</td>\n",
       "      <td>VirtualAccount</td>\n",
       "      <td>%%1843</td>\n",
       "      <td>TargetLinkedLogonId</td>\n",
       "      <td>0x0000000000000000</td>\n",
       "      <td>ElevatedToken</td>\n",
       "      <td>%%1842</td>\n",
       "      <td>NaN</td>\n",
       "    </tr>\n",
       "    <tr>\n",
       "      <th>1</th>\n",
       "      <td>evtx-raw</td>\n",
       "      <td>NaN</td>\n",
       "      <td>plaso</td>\n",
       "      <td>windows_evtx_record</td>\n",
       "      <td></td>\n",
       "      <td>Security.evtx</td>\n",
       "      <td>http://schemas.microsoft.com/win/2004/08/events/event</td>\n",
       "      <td>Microsoft-Windows-Security-Auditing</td>\n",
       "      <td>{54849625-5478-4994-A5BA-3E3B0328C30D}</td>\n",
       "      <td>4624</td>\n",
       "      <td>2</td>\n",
       "      <td>0</td>\n",
       "      <td>12544</td>\n",
       "      <td>0</td>\n",
       "      <td>0x8020000000000000</td>\n",
       "      <td>2020-09-18 04:58:05.941940200</td>\n",
       "      <td>708</td>\n",
       "      <td>{089E13A3-8D7F-0001-4B14-9E087F8DD601}</td>\n",
       "      <td>664</td>\n",
       "      <td>720</td>\n",
       "      <td>Security</td>\n",
       "      <td>DESKTOP-SDN1RPT</td>\n",
       "      <td>None</td>\n",
       "      <td>SubjectUserSid</td>\n",
       "      <td>S-1-5-18</td>\n",
       "      <td>SubjectUserName</td>\n",
       "      <td>WIN-2IH1TBB9I4Q$</td>\n",
       "      <td>SubjectDomainName</td>\n",
       "      <td>WORKGROUP</td>\n",
       "      <td>SubjectLogonId</td>\n",
       "      <td>0x00000000000003e7</td>\n",
       "      <td>TargetUserSid</td>\n",
       "      <td>S-1-5-18</td>\n",
       "      <td>TargetUserName</td>\n",
       "      <td>SYSTEM</td>\n",
       "      <td>TargetDomainName</td>\n",
       "      <td>NT AUTHORITY</td>\n",
       "      <td>TargetLogonId</td>\n",
       "      <td>0x00000000000003e7</td>\n",
       "      <td>LogonType</td>\n",
       "      <td>5</td>\n",
       "      <td>LogonProcessName</td>\n",
       "      <td>Advapi</td>\n",
       "      <td>AuthenticationPackageName</td>\n",
       "      <td>Negotiate</td>\n",
       "      <td>WorkstationName</td>\n",
       "      <td>-</td>\n",
       "      <td>LogonGuid</td>\n",
       "      <td>{00000000-0000-0000-0000-000000000000}</td>\n",
       "      <td>TransmittedServices</td>\n",
       "      <td>-</td>\n",
       "      <td>LmPackageName</td>\n",
       "      <td>-</td>\n",
       "      <td>KeyLength</td>\n",
       "      <td>0</td>\n",
       "      <td>ProcessId</td>\n",
       "      <td>0x0000000000000284</td>\n",
       "      <td>ProcessName</td>\n",
       "      <td>C:\\Windows\\System32\\services.exe</td>\n",
       "      <td>IpAddress</td>\n",
       "      <td>-</td>\n",
       "      <td>IpPort</td>\n",
       "      <td>-</td>\n",
       "      <td>ImpersonationLevel</td>\n",
       "      <td>%%1833</td>\n",
       "      <td>RestrictedAdminMode</td>\n",
       "      <td>-</td>\n",
       "      <td>TargetOutboundUserName</td>\n",
       "      <td>-</td>\n",
       "      <td>TargetOutboundDomainName</td>\n",
       "      <td>-</td>\n",
       "      <td>VirtualAccount</td>\n",
       "      <td>%%1843</td>\n",
       "      <td>TargetLinkedLogonId</td>\n",
       "      <td>0x0000000000000000</td>\n",
       "      <td>ElevatedToken</td>\n",
       "      <td>%%1842</td>\n",
       "      <td>NaN</td>\n",
       "    </tr>\n",
       "    <tr>\n",
       "      <th>2</th>\n",
       "      <td>evtx-raw</td>\n",
       "      <td>NaN</td>\n",
       "      <td>plaso</td>\n",
       "      <td>windows_evtx_record</td>\n",
       "      <td></td>\n",
       "      <td>Security.evtx</td>\n",
       "      <td>http://schemas.microsoft.com/win/2004/08/events/event</td>\n",
       "      <td>Microsoft-Windows-Security-Auditing</td>\n",
       "      <td>{54849625-5478-4994-A5BA-3E3B0328C30D}</td>\n",
       "      <td>4624</td>\n",
       "      <td>2</td>\n",
       "      <td>0</td>\n",
       "      <td>12544</td>\n",
       "      <td>0</td>\n",
       "      <td>0x8020000000000000</td>\n",
       "      <td>2020-09-18 05:41:15.969156900</td>\n",
       "      <td>16</td>\n",
       "      <td>NaN</td>\n",
       "      <td>660</td>\n",
       "      <td>664</td>\n",
       "      <td>Security</td>\n",
       "      <td>WIN-2IH1TBB9I4Q</td>\n",
       "      <td>None</td>\n",
       "      <td>SubjectUserSid</td>\n",
       "      <td>S-1-0-0</td>\n",
       "      <td>SubjectUserName</td>\n",
       "      <td>-</td>\n",
       "      <td>SubjectDomainName</td>\n",
       "      <td>-</td>\n",
       "      <td>SubjectLogonId</td>\n",
       "      <td>0x0000000000000000</td>\n",
       "      <td>TargetUserSid</td>\n",
       "      <td>S-1-5-18</td>\n",
       "      <td>TargetUserName</td>\n",
       "      <td>SYSTEM</td>\n",
       "      <td>TargetDomainName</td>\n",
       "      <td>NT AUTHORITY</td>\n",
       "      <td>TargetLogonId</td>\n",
       "      <td>0x00000000000003e7</td>\n",
       "      <td>LogonType</td>\n",
       "      <td>0</td>\n",
       "      <td>LogonProcessName</td>\n",
       "      <td>-</td>\n",
       "      <td>AuthenticationPackageName</td>\n",
       "      <td>-</td>\n",
       "      <td>WorkstationName</td>\n",
       "      <td>-</td>\n",
       "      <td>LogonGuid</td>\n",
       "      <td>{00000000-0000-0000-0000-000000000000}</td>\n",
       "      <td>TransmittedServices</td>\n",
       "      <td>-</td>\n",
       "      <td>LmPackageName</td>\n",
       "      <td>-</td>\n",
       "      <td>KeyLength</td>\n",
       "      <td>0</td>\n",
       "      <td>ProcessId</td>\n",
       "      <td>0x0000000000000004</td>\n",
       "      <td>ProcessName</td>\n",
       "      <td>NaN</td>\n",
       "      <td>IpAddress</td>\n",
       "      <td>-</td>\n",
       "      <td>IpPort</td>\n",
       "      <td>-</td>\n",
       "      <td>ImpersonationLevel</td>\n",
       "      <td>-</td>\n",
       "      <td>RestrictedAdminMode</td>\n",
       "      <td>-</td>\n",
       "      <td>TargetOutboundUserName</td>\n",
       "      <td>-</td>\n",
       "      <td>TargetOutboundDomainName</td>\n",
       "      <td>-</td>\n",
       "      <td>VirtualAccount</td>\n",
       "      <td>%%1843</td>\n",
       "      <td>TargetLinkedLogonId</td>\n",
       "      <td>0x0000000000000000</td>\n",
       "      <td>ElevatedToken</td>\n",
       "      <td>%%1842</td>\n",
       "      <td>NaN</td>\n",
       "    </tr>\n",
       "    <tr>\n",
       "      <th>3</th>\n",
       "      <td>evtx-raw</td>\n",
       "      <td>NaN</td>\n",
       "      <td>plaso</td>\n",
       "      <td>windows_evtx_record</td>\n",
       "      <td></td>\n",
       "      <td>Security.evtx</td>\n",
       "      <td>http://schemas.microsoft.com/win/2004/08/events/event</td>\n",
       "      <td>Microsoft-Windows-Security-Auditing</td>\n",
       "      <td>{54849625-5478-4994-A5BA-3E3B0328C30D}</td>\n",
       "      <td>4624</td>\n",
       "      <td>2</td>\n",
       "      <td>0</td>\n",
       "      <td>12544</td>\n",
       "      <td>0</td>\n",
       "      <td>0x8020000000000000</td>\n",
       "      <td>2020-09-18 05:41:15.969156900</td>\n",
       "      <td>16</td>\n",
       "      <td>NaN</td>\n",
       "      <td>660</td>\n",
       "      <td>664</td>\n",
       "      <td>Security</td>\n",
       "      <td>WIN-2IH1TBB9I4Q</td>\n",
       "      <td>None</td>\n",
       "      <td>SubjectUserSid</td>\n",
       "      <td>S-1-0-0</td>\n",
       "      <td>SubjectUserName</td>\n",
       "      <td>-</td>\n",
       "      <td>SubjectDomainName</td>\n",
       "      <td>-</td>\n",
       "      <td>SubjectLogonId</td>\n",
       "      <td>0x0000000000000000</td>\n",
       "      <td>TargetUserSid</td>\n",
       "      <td>S-1-5-18</td>\n",
       "      <td>TargetUserName</td>\n",
       "      <td>SYSTEM</td>\n",
       "      <td>TargetDomainName</td>\n",
       "      <td>NT AUTHORITY</td>\n",
       "      <td>TargetLogonId</td>\n",
       "      <td>0x00000000000003e7</td>\n",
       "      <td>LogonType</td>\n",
       "      <td>0</td>\n",
       "      <td>LogonProcessName</td>\n",
       "      <td>-</td>\n",
       "      <td>AuthenticationPackageName</td>\n",
       "      <td>-</td>\n",
       "      <td>WorkstationName</td>\n",
       "      <td>-</td>\n",
       "      <td>LogonGuid</td>\n",
       "      <td>{00000000-0000-0000-0000-000000000000}</td>\n",
       "      <td>TransmittedServices</td>\n",
       "      <td>-</td>\n",
       "      <td>LmPackageName</td>\n",
       "      <td>-</td>\n",
       "      <td>KeyLength</td>\n",
       "      <td>0</td>\n",
       "      <td>ProcessId</td>\n",
       "      <td>0x0000000000000004</td>\n",
       "      <td>ProcessName</td>\n",
       "      <td>NaN</td>\n",
       "      <td>IpAddress</td>\n",
       "      <td>-</td>\n",
       "      <td>IpPort</td>\n",
       "      <td>-</td>\n",
       "      <td>ImpersonationLevel</td>\n",
       "      <td>-</td>\n",
       "      <td>RestrictedAdminMode</td>\n",
       "      <td>-</td>\n",
       "      <td>TargetOutboundUserName</td>\n",
       "      <td>-</td>\n",
       "      <td>TargetOutboundDomainName</td>\n",
       "      <td>-</td>\n",
       "      <td>VirtualAccount</td>\n",
       "      <td>%%1843</td>\n",
       "      <td>TargetLinkedLogonId</td>\n",
       "      <td>0x0000000000000000</td>\n",
       "      <td>ElevatedToken</td>\n",
       "      <td>%%1842</td>\n",
       "      <td>NaN</td>\n",
       "    </tr>\n",
       "    <tr>\n",
       "      <th>4</th>\n",
       "      <td>evtx-raw</td>\n",
       "      <td>NaN</td>\n",
       "      <td>plaso</td>\n",
       "      <td>windows_evtx_record</td>\n",
       "      <td></td>\n",
       "      <td>Security.evtx</td>\n",
       "      <td>http://schemas.microsoft.com/win/2004/08/events/event</td>\n",
       "      <td>Microsoft-Windows-Security-Auditing</td>\n",
       "      <td>{54849625-5478-4994-A5BA-3E3B0328C30D}</td>\n",
       "      <td>4624</td>\n",
       "      <td>2</td>\n",
       "      <td>0</td>\n",
       "      <td>12544</td>\n",
       "      <td>0</td>\n",
       "      <td>0x8020000000000000</td>\n",
       "      <td>2020-09-18 05:41:16.919407800</td>\n",
       "      <td>47</td>\n",
       "      <td>{4B73C7C8-8D7E-0001-15CA-734B7E8DD601}</td>\n",
       "      <td>660</td>\n",
       "      <td>748</td>\n",
       "      <td>Security</td>\n",
       "      <td>WIN-2IH1TBB9I4Q</td>\n",
       "      <td>None</td>\n",
       "      <td>SubjectUserSid</td>\n",
       "      <td>S-1-5-18</td>\n",
       "      <td>SubjectUserName</td>\n",
       "      <td>MINWINPC$</td>\n",
       "      <td>SubjectDomainName</td>\n",
       "      <td>NaN</td>\n",
       "      <td>SubjectLogonId</td>\n",
       "      <td>0x00000000000003e7</td>\n",
       "      <td>TargetUserSid</td>\n",
       "      <td>S-1-5-18</td>\n",
       "      <td>TargetUserName</td>\n",
       "      <td>SYSTEM</td>\n",
       "      <td>TargetDomainName</td>\n",
       "      <td>NT AUTHORITY</td>\n",
       "      <td>TargetLogonId</td>\n",
       "      <td>0x00000000000003e7</td>\n",
       "      <td>LogonType</td>\n",
       "      <td>5</td>\n",
       "      <td>LogonProcessName</td>\n",
       "      <td>Advapi</td>\n",
       "      <td>AuthenticationPackageName</td>\n",
       "      <td>Negotiate</td>\n",
       "      <td>WorkstationName</td>\n",
       "      <td>-</td>\n",
       "      <td>LogonGuid</td>\n",
       "      <td>{00000000-0000-0000-0000-000000000000}</td>\n",
       "      <td>TransmittedServices</td>\n",
       "      <td>-</td>\n",
       "      <td>LmPackageName</td>\n",
       "      <td>-</td>\n",
       "      <td>KeyLength</td>\n",
       "      <td>0</td>\n",
       "      <td>ProcessId</td>\n",
       "      <td>0x000000000000027c</td>\n",
       "      <td>ProcessName</td>\n",
       "      <td>C:\\Windows\\System32\\services.exe</td>\n",
       "      <td>IpAddress</td>\n",
       "      <td>-</td>\n",
       "      <td>IpPort</td>\n",
       "      <td>-</td>\n",
       "      <td>ImpersonationLevel</td>\n",
       "      <td>%%1833</td>\n",
       "      <td>RestrictedAdminMode</td>\n",
       "      <td>-</td>\n",
       "      <td>TargetOutboundUserName</td>\n",
       "      <td>-</td>\n",
       "      <td>TargetOutboundDomainName</td>\n",
       "      <td>-</td>\n",
       "      <td>VirtualAccount</td>\n",
       "      <td>%%1843</td>\n",
       "      <td>TargetLinkedLogonId</td>\n",
       "      <td>0x0000000000000000</td>\n",
       "      <td>ElevatedToken</td>\n",
       "      <td>%%1842</td>\n",
       "      <td>NaN</td>\n",
       "    </tr>\n",
       "    <tr>\n",
       "      <th>5</th>\n",
       "      <td>evtx-raw</td>\n",
       "      <td>NaN</td>\n",
       "      <td>plaso</td>\n",
       "      <td>windows_evtx_record</td>\n",
       "      <td></td>\n",
       "      <td>Security.evtx</td>\n",
       "      <td>http://schemas.microsoft.com/win/2004/08/events/event</td>\n",
       "      <td>Microsoft-Windows-Security-Auditing</td>\n",
       "      <td>{54849625-5478-4994-A5BA-3E3B0328C30D}</td>\n",
       "      <td>4624</td>\n",
       "      <td>2</td>\n",
       "      <td>0</td>\n",
       "      <td>12544</td>\n",
       "      <td>0</td>\n",
       "      <td>0x8020000000000000</td>\n",
       "      <td>2020-09-18 05:41:16.919407800</td>\n",
       "      <td>47</td>\n",
       "      <td>{4B73C7C8-8D7E-0001-15CA-734B7E8DD601}</td>\n",
       "      <td>660</td>\n",
       "      <td>748</td>\n",
       "      <td>Security</td>\n",
       "      <td>WIN-2IH1TBB9I4Q</td>\n",
       "      <td>None</td>\n",
       "      <td>SubjectUserSid</td>\n",
       "      <td>S-1-5-18</td>\n",
       "      <td>SubjectUserName</td>\n",
       "      <td>MINWINPC$</td>\n",
       "      <td>SubjectDomainName</td>\n",
       "      <td>NaN</td>\n",
       "      <td>SubjectLogonId</td>\n",
       "      <td>0x00000000000003e7</td>\n",
       "      <td>TargetUserSid</td>\n",
       "      <td>S-1-5-18</td>\n",
       "      <td>TargetUserName</td>\n",
       "      <td>SYSTEM</td>\n",
       "      <td>TargetDomainName</td>\n",
       "      <td>NT AUTHORITY</td>\n",
       "      <td>TargetLogonId</td>\n",
       "      <td>0x00000000000003e7</td>\n",
       "      <td>LogonType</td>\n",
       "      <td>5</td>\n",
       "      <td>LogonProcessName</td>\n",
       "      <td>Advapi</td>\n",
       "      <td>AuthenticationPackageName</td>\n",
       "      <td>Negotiate</td>\n",
       "      <td>WorkstationName</td>\n",
       "      <td>-</td>\n",
       "      <td>LogonGuid</td>\n",
       "      <td>{00000000-0000-0000-0000-000000000000}</td>\n",
       "      <td>TransmittedServices</td>\n",
       "      <td>-</td>\n",
       "      <td>LmPackageName</td>\n",
       "      <td>-</td>\n",
       "      <td>KeyLength</td>\n",
       "      <td>0</td>\n",
       "      <td>ProcessId</td>\n",
       "      <td>0x000000000000027c</td>\n",
       "      <td>ProcessName</td>\n",
       "      <td>C:\\Windows\\System32\\services.exe</td>\n",
       "      <td>IpAddress</td>\n",
       "      <td>-</td>\n",
       "      <td>IpPort</td>\n",
       "      <td>-</td>\n",
       "      <td>ImpersonationLevel</td>\n",
       "      <td>%%1833</td>\n",
       "      <td>RestrictedAdminMode</td>\n",
       "      <td>-</td>\n",
       "      <td>TargetOutboundUserName</td>\n",
       "      <td>-</td>\n",
       "      <td>TargetOutboundDomainName</td>\n",
       "      <td>-</td>\n",
       "      <td>VirtualAccount</td>\n",
       "      <td>%%1843</td>\n",
       "      <td>TargetLinkedLogonId</td>\n",
       "      <td>0x0000000000000000</td>\n",
       "      <td>ElevatedToken</td>\n",
       "      <td>%%1842</td>\n",
       "      <td>NaN</td>\n",
       "    </tr>\n",
       "    <tr>\n",
       "      <th>6</th>\n",
       "      <td>evtx-raw</td>\n",
       "      <td>NaN</td>\n",
       "      <td>plaso</td>\n",
       "      <td>windows_evtx_record</td>\n",
       "      <td></td>\n",
       "      <td>Security.evtx</td>\n",
       "      <td>http://schemas.microsoft.com/win/2004/08/events/event</td>\n",
       "      <td>Microsoft-Windows-Security-Auditing</td>\n",
       "      <td>{54849625-5478-4994-A5BA-3E3B0328C30D}</td>\n",
       "      <td>4624</td>\n",
       "      <td>2</td>\n",
       "      <td>0</td>\n",
       "      <td>12544</td>\n",
       "      <td>0</td>\n",
       "      <td>0x8020000000000000</td>\n",
       "      <td>2020-09-18 05:41:16.924522800</td>\n",
       "      <td>50</td>\n",
       "      <td>{4B73C7C8-8D7E-0001-15CA-734B7E8DD601}</td>\n",
       "      <td>660</td>\n",
       "      <td>764</td>\n",
       "      <td>Security</td>\n",
       "      <td>WIN-2IH1TBB9I4Q</td>\n",
       "      <td>None</td>\n",
       "      <td>SubjectUserSid</td>\n",
       "      <td>S-1-5-18</td>\n",
       "      <td>SubjectUserName</td>\n",
       "      <td>MINWINPC$</td>\n",
       "      <td>SubjectDomainName</td>\n",
       "      <td>NaN</td>\n",
       "      <td>SubjectLogonId</td>\n",
       "      <td>0x00000000000003e7</td>\n",
       "      <td>TargetUserSid</td>\n",
       "      <td>S-1-5-96-0-0</td>\n",
       "      <td>TargetUserName</td>\n",
       "      <td>UMFD-0</td>\n",
       "      <td>TargetDomainName</td>\n",
       "      <td>Font Driver Host</td>\n",
       "      <td>TargetLogonId</td>\n",
       "      <td>0x0000000000016f57</td>\n",
       "      <td>LogonType</td>\n",
       "      <td>2</td>\n",
       "      <td>LogonProcessName</td>\n",
       "      <td>Advapi</td>\n",
       "      <td>AuthenticationPackageName</td>\n",
       "      <td>Negotiate</td>\n",
       "      <td>WorkstationName</td>\n",
       "      <td>-</td>\n",
       "      <td>LogonGuid</td>\n",
       "      <td>{00000000-0000-0000-0000-000000000000}</td>\n",
       "      <td>TransmittedServices</td>\n",
       "      <td>-</td>\n",
       "      <td>LmPackageName</td>\n",
       "      <td>-</td>\n",
       "      <td>KeyLength</td>\n",
       "      <td>0</td>\n",
       "      <td>ProcessId</td>\n",
       "      <td>0x0000000000000208</td>\n",
       "      <td>ProcessName</td>\n",
       "      <td>C:\\Windows\\System32\\wininit.exe</td>\n",
       "      <td>IpAddress</td>\n",
       "      <td>-</td>\n",
       "      <td>IpPort</td>\n",
       "      <td>-</td>\n",
       "      <td>ImpersonationLevel</td>\n",
       "      <td>%%1833</td>\n",
       "      <td>RestrictedAdminMode</td>\n",
       "      <td>-</td>\n",
       "      <td>TargetOutboundUserName</td>\n",
       "      <td>-</td>\n",
       "      <td>TargetOutboundDomainName</td>\n",
       "      <td>-</td>\n",
       "      <td>VirtualAccount</td>\n",
       "      <td>%%1842</td>\n",
       "      <td>TargetLinkedLogonId</td>\n",
       "      <td>0x0000000000000000</td>\n",
       "      <td>ElevatedToken</td>\n",
       "      <td>%%1843</td>\n",
       "      <td>NaN</td>\n",
       "    </tr>\n",
       "    <tr>\n",
       "      <th>7</th>\n",
       "      <td>evtx-raw</td>\n",
       "      <td>NaN</td>\n",
       "      <td>plaso</td>\n",
       "      <td>windows_evtx_record</td>\n",
       "      <td></td>\n",
       "      <td>Security.evtx</td>\n",
       "      <td>http://schemas.microsoft.com/win/2004/08/events/event</td>\n",
       "      <td>Microsoft-Windows-Security-Auditing</td>\n",
       "      <td>{54849625-5478-4994-A5BA-3E3B0328C30D}</td>\n",
       "      <td>4624</td>\n",
       "      <td>2</td>\n",
       "      <td>0</td>\n",
       "      <td>12544</td>\n",
       "      <td>0</td>\n",
       "      <td>0x8020000000000000</td>\n",
       "      <td>2020-09-18 05:41:16.924522800</td>\n",
       "      <td>50</td>\n",
       "      <td>{4B73C7C8-8D7E-0001-15CA-734B7E8DD601}</td>\n",
       "      <td>660</td>\n",
       "      <td>764</td>\n",
       "      <td>Security</td>\n",
       "      <td>WIN-2IH1TBB9I4Q</td>\n",
       "      <td>None</td>\n",
       "      <td>SubjectUserSid</td>\n",
       "      <td>S-1-5-18</td>\n",
       "      <td>SubjectUserName</td>\n",
       "      <td>MINWINPC$</td>\n",
       "      <td>SubjectDomainName</td>\n",
       "      <td>NaN</td>\n",
       "      <td>SubjectLogonId</td>\n",
       "      <td>0x00000000000003e7</td>\n",
       "      <td>TargetUserSid</td>\n",
       "      <td>S-1-5-96-0-0</td>\n",
       "      <td>TargetUserName</td>\n",
       "      <td>UMFD-0</td>\n",
       "      <td>TargetDomainName</td>\n",
       "      <td>Font Driver Host</td>\n",
       "      <td>TargetLogonId</td>\n",
       "      <td>0x0000000000016f57</td>\n",
       "      <td>LogonType</td>\n",
       "      <td>2</td>\n",
       "      <td>LogonProcessName</td>\n",
       "      <td>Advapi</td>\n",
       "      <td>AuthenticationPackageName</td>\n",
       "      <td>Negotiate</td>\n",
       "      <td>WorkstationName</td>\n",
       "      <td>-</td>\n",
       "      <td>LogonGuid</td>\n",
       "      <td>{00000000-0000-0000-0000-000000000000}</td>\n",
       "      <td>TransmittedServices</td>\n",
       "      <td>-</td>\n",
       "      <td>LmPackageName</td>\n",
       "      <td>-</td>\n",
       "      <td>KeyLength</td>\n",
       "      <td>0</td>\n",
       "      <td>ProcessId</td>\n",
       "      <td>0x0000000000000208</td>\n",
       "      <td>ProcessName</td>\n",
       "      <td>C:\\Windows\\System32\\wininit.exe</td>\n",
       "      <td>IpAddress</td>\n",
       "      <td>-</td>\n",
       "      <td>IpPort</td>\n",
       "      <td>-</td>\n",
       "      <td>ImpersonationLevel</td>\n",
       "      <td>%%1833</td>\n",
       "      <td>RestrictedAdminMode</td>\n",
       "      <td>-</td>\n",
       "      <td>TargetOutboundUserName</td>\n",
       "      <td>-</td>\n",
       "      <td>TargetOutboundDomainName</td>\n",
       "      <td>-</td>\n",
       "      <td>VirtualAccount</td>\n",
       "      <td>%%1842</td>\n",
       "      <td>TargetLinkedLogonId</td>\n",
       "      <td>0x0000000000000000</td>\n",
       "      <td>ElevatedToken</td>\n",
       "      <td>%%1843</td>\n",
       "      <td>NaN</td>\n",
       "    </tr>\n",
       "    <tr>\n",
       "      <th>8</th>\n",
       "      <td>evtx-raw</td>\n",
       "      <td>NaN</td>\n",
       "      <td>plaso</td>\n",
       "      <td>windows_evtx_record</td>\n",
       "      <td></td>\n",
       "      <td>Security.evtx</td>\n",
       "      <td>http://schemas.microsoft.com/win/2004/08/events/event</td>\n",
       "      <td>Microsoft-Windows-Security-Auditing</td>\n",
       "      <td>{54849625-5478-4994-A5BA-3E3B0328C30D}</td>\n",
       "      <td>4624</td>\n",
       "      <td>2</td>\n",
       "      <td>0</td>\n",
       "      <td>12544</td>\n",
       "      <td>0</td>\n",
       "      <td>0x8020000000000000</td>\n",
       "      <td>2020-09-18 05:41:17.558026400</td>\n",
       "      <td>51</td>\n",
       "      <td>{4B73C7C8-8D7E-0001-15CA-734B7E8DD601}</td>\n",
       "      <td>660</td>\n",
       "      <td>704</td>\n",
       "      <td>Security</td>\n",
       "      <td>WIN-2IH1TBB9I4Q</td>\n",
       "      <td>None</td>\n",
       "      <td>SubjectUserSid</td>\n",
       "      <td>S-1-5-18</td>\n",
       "      <td>SubjectUserName</td>\n",
       "      <td>MINWINPC$</td>\n",
       "      <td>SubjectDomainName</td>\n",
       "      <td>NaN</td>\n",
       "      <td>SubjectLogonId</td>\n",
       "      <td>0x00000000000003e7</td>\n",
       "      <td>TargetUserSid</td>\n",
       "      <td>S-1-5-20</td>\n",
       "      <td>TargetUserName</td>\n",
       "      <td>NETWORK SERVICE</td>\n",
       "      <td>TargetDomainName</td>\n",
       "      <td>NT AUTHORITY</td>\n",
       "      <td>TargetLogonId</td>\n",
       "      <td>0x00000000000003e4</td>\n",
       "      <td>LogonType</td>\n",
       "      <td>5</td>\n",
       "      <td>LogonProcessName</td>\n",
       "      <td>Advapi</td>\n",
       "      <td>AuthenticationPackageName</td>\n",
       "      <td>Negotiate</td>\n",
       "      <td>WorkstationName</td>\n",
       "      <td>-</td>\n",
       "      <td>LogonGuid</td>\n",
       "      <td>{00000000-0000-0000-0000-000000000000}</td>\n",
       "      <td>TransmittedServices</td>\n",
       "      <td>-</td>\n",
       "      <td>LmPackageName</td>\n",
       "      <td>-</td>\n",
       "      <td>KeyLength</td>\n",
       "      <td>0</td>\n",
       "      <td>ProcessId</td>\n",
       "      <td>0x000000000000027c</td>\n",
       "      <td>ProcessName</td>\n",
       "      <td>C:\\Windows\\System32\\services.exe</td>\n",
       "      <td>IpAddress</td>\n",
       "      <td>-</td>\n",
       "      <td>IpPort</td>\n",
       "      <td>-</td>\n",
       "      <td>ImpersonationLevel</td>\n",
       "      <td>%%1833</td>\n",
       "      <td>RestrictedAdminMode</td>\n",
       "      <td>-</td>\n",
       "      <td>TargetOutboundUserName</td>\n",
       "      <td>-</td>\n",
       "      <td>TargetOutboundDomainName</td>\n",
       "      <td>-</td>\n",
       "      <td>VirtualAccount</td>\n",
       "      <td>%%1843</td>\n",
       "      <td>TargetLinkedLogonId</td>\n",
       "      <td>0x0000000000000000</td>\n",
       "      <td>ElevatedToken</td>\n",
       "      <td>%%1842</td>\n",
       "      <td>NaN</td>\n",
       "    </tr>\n",
       "    <tr>\n",
       "      <th>9</th>\n",
       "      <td>evtx-raw</td>\n",
       "      <td>NaN</td>\n",
       "      <td>plaso</td>\n",
       "      <td>windows_evtx_record</td>\n",
       "      <td></td>\n",
       "      <td>Security.evtx</td>\n",
       "      <td>http://schemas.microsoft.com/win/2004/08/events/event</td>\n",
       "      <td>Microsoft-Windows-Security-Auditing</td>\n",
       "      <td>{54849625-5478-4994-A5BA-3E3B0328C30D}</td>\n",
       "      <td>4624</td>\n",
       "      <td>2</td>\n",
       "      <td>0</td>\n",
       "      <td>12544</td>\n",
       "      <td>0</td>\n",
       "      <td>0x8020000000000000</td>\n",
       "      <td>2020-09-18 05:41:17.558026400</td>\n",
       "      <td>51</td>\n",
       "      <td>{4B73C7C8-8D7E-0001-15CA-734B7E8DD601}</td>\n",
       "      <td>660</td>\n",
       "      <td>704</td>\n",
       "      <td>Security</td>\n",
       "      <td>WIN-2IH1TBB9I4Q</td>\n",
       "      <td>None</td>\n",
       "      <td>SubjectUserSid</td>\n",
       "      <td>S-1-5-18</td>\n",
       "      <td>SubjectUserName</td>\n",
       "      <td>MINWINPC$</td>\n",
       "      <td>SubjectDomainName</td>\n",
       "      <td>NaN</td>\n",
       "      <td>SubjectLogonId</td>\n",
       "      <td>0x00000000000003e7</td>\n",
       "      <td>TargetUserSid</td>\n",
       "      <td>S-1-5-20</td>\n",
       "      <td>TargetUserName</td>\n",
       "      <td>NETWORK SERVICE</td>\n",
       "      <td>TargetDomainName</td>\n",
       "      <td>NT AUTHORITY</td>\n",
       "      <td>TargetLogonId</td>\n",
       "      <td>0x00000000000003e4</td>\n",
       "      <td>LogonType</td>\n",
       "      <td>5</td>\n",
       "      <td>LogonProcessName</td>\n",
       "      <td>Advapi</td>\n",
       "      <td>AuthenticationPackageName</td>\n",
       "      <td>Negotiate</td>\n",
       "      <td>WorkstationName</td>\n",
       "      <td>-</td>\n",
       "      <td>LogonGuid</td>\n",
       "      <td>{00000000-0000-0000-0000-000000000000}</td>\n",
       "      <td>TransmittedServices</td>\n",
       "      <td>-</td>\n",
       "      <td>LmPackageName</td>\n",
       "      <td>-</td>\n",
       "      <td>KeyLength</td>\n",
       "      <td>0</td>\n",
       "      <td>ProcessId</td>\n",
       "      <td>0x000000000000027c</td>\n",
       "      <td>ProcessName</td>\n",
       "      <td>C:\\Windows\\System32\\services.exe</td>\n",
       "      <td>IpAddress</td>\n",
       "      <td>-</td>\n",
       "      <td>IpPort</td>\n",
       "      <td>-</td>\n",
       "      <td>ImpersonationLevel</td>\n",
       "      <td>%%1833</td>\n",
       "      <td>RestrictedAdminMode</td>\n",
       "      <td>-</td>\n",
       "      <td>TargetOutboundUserName</td>\n",
       "      <td>-</td>\n",
       "      <td>TargetOutboundDomainName</td>\n",
       "      <td>-</td>\n",
       "      <td>VirtualAccount</td>\n",
       "      <td>%%1843</td>\n",
       "      <td>TargetLinkedLogonId</td>\n",
       "      <td>0x0000000000000000</td>\n",
       "      <td>ElevatedToken</td>\n",
       "      <td>%%1842</td>\n",
       "      <td>NaN</td>\n",
       "    </tr>\n",
       "    <tr>\n",
       "      <th>...</th>\n",
       "      <td>...</td>\n",
       "      <td>...</td>\n",
       "      <td>...</td>\n",
       "      <td>...</td>\n",
       "      <td>...</td>\n",
       "      <td>...</td>\n",
       "      <td>...</td>\n",
       "      <td>...</td>\n",
       "      <td>...</td>\n",
       "      <td>...</td>\n",
       "      <td>...</td>\n",
       "      <td>...</td>\n",
       "      <td>...</td>\n",
       "      <td>...</td>\n",
       "      <td>...</td>\n",
       "      <td>...</td>\n",
       "      <td>...</td>\n",
       "      <td>...</td>\n",
       "      <td>...</td>\n",
       "      <td>...</td>\n",
       "      <td>...</td>\n",
       "      <td>...</td>\n",
       "      <td>...</td>\n",
       "      <td>...</td>\n",
       "      <td>...</td>\n",
       "      <td>...</td>\n",
       "      <td>...</td>\n",
       "      <td>...</td>\n",
       "      <td>...</td>\n",
       "      <td>...</td>\n",
       "      <td>...</td>\n",
       "      <td>...</td>\n",
       "      <td>...</td>\n",
       "      <td>...</td>\n",
       "      <td>...</td>\n",
       "      <td>...</td>\n",
       "      <td>...</td>\n",
       "      <td>...</td>\n",
       "      <td>...</td>\n",
       "      <td>...</td>\n",
       "      <td>...</td>\n",
       "      <td>...</td>\n",
       "      <td>...</td>\n",
       "      <td>...</td>\n",
       "      <td>...</td>\n",
       "      <td>...</td>\n",
       "      <td>...</td>\n",
       "      <td>...</td>\n",
       "      <td>...</td>\n",
       "      <td>...</td>\n",
       "      <td>...</td>\n",
       "      <td>...</td>\n",
       "      <td>...</td>\n",
       "      <td>...</td>\n",
       "      <td>...</td>\n",
       "      <td>...</td>\n",
       "      <td>...</td>\n",
       "      <td>...</td>\n",
       "      <td>...</td>\n",
       "      <td>...</td>\n",
       "      <td>...</td>\n",
       "      <td>...</td>\n",
       "      <td>...</td>\n",
       "      <td>...</td>\n",
       "      <td>...</td>\n",
       "      <td>...</td>\n",
       "      <td>...</td>\n",
       "      <td>...</td>\n",
       "      <td>...</td>\n",
       "      <td>...</td>\n",
       "      <td>...</td>\n",
       "      <td>...</td>\n",
       "      <td>...</td>\n",
       "      <td>...</td>\n",
       "      <td>...</td>\n",
       "      <td>...</td>\n",
       "      <td>...</td>\n",
       "      <td>...</td>\n",
       "    </tr>\n",
       "    <tr>\n",
       "      <th>530</th>\n",
       "      <td>evtx-raw</td>\n",
       "      <td>NaN</td>\n",
       "      <td>plaso</td>\n",
       "      <td>windows_evtx_record</td>\n",
       "      <td></td>\n",
       "      <td>Security.evtx</td>\n",
       "      <td>http://schemas.microsoft.com/win/2004/08/events/event</td>\n",
       "      <td>Microsoft-Windows-Security-Auditing</td>\n",
       "      <td>{54849625-5478-4994-A5BA-3E3B0328C30D}</td>\n",
       "      <td>4624</td>\n",
       "      <td>2</td>\n",
       "      <td>0</td>\n",
       "      <td>12544</td>\n",
       "      <td>0</td>\n",
       "      <td>0x8020000000000000</td>\n",
       "      <td>2020-09-19 05:08:16.433858400</td>\n",
       "      <td>2388</td>\n",
       "      <td>{90269346-8E23-0000-9A93-2690238ED601}</td>\n",
       "      <td>656</td>\n",
       "      <td>6472</td>\n",
       "      <td>Security</td>\n",
       "      <td>DESKTOP-SDN1RPT.C137.local</td>\n",
       "      <td>None</td>\n",
       "      <td>SubjectUserSid</td>\n",
       "      <td>S-1-5-18</td>\n",
       "      <td>SubjectUserName</td>\n",
       "      <td>DESKTOP-SDN1RPT$</td>\n",
       "      <td>SubjectDomainName</td>\n",
       "      <td>C137</td>\n",
       "      <td>SubjectLogonId</td>\n",
       "      <td>0x00000000000003e7</td>\n",
       "      <td>TargetUserSid</td>\n",
       "      <td>S-1-5-18</td>\n",
       "      <td>TargetUserName</td>\n",
       "      <td>SYSTEM</td>\n",
       "      <td>TargetDomainName</td>\n",
       "      <td>NT AUTHORITY</td>\n",
       "      <td>TargetLogonId</td>\n",
       "      <td>0x00000000000003e7</td>\n",
       "      <td>LogonType</td>\n",
       "      <td>5</td>\n",
       "      <td>LogonProcessName</td>\n",
       "      <td>Advapi</td>\n",
       "      <td>AuthenticationPackageName</td>\n",
       "      <td>Negotiate</td>\n",
       "      <td>WorkstationName</td>\n",
       "      <td>-</td>\n",
       "      <td>LogonGuid</td>\n",
       "      <td>{00000000-0000-0000-0000-000000000000}</td>\n",
       "      <td>TransmittedServices</td>\n",
       "      <td>-</td>\n",
       "      <td>LmPackageName</td>\n",
       "      <td>-</td>\n",
       "      <td>KeyLength</td>\n",
       "      <td>0</td>\n",
       "      <td>ProcessId</td>\n",
       "      <td>0x0000000000000268</td>\n",
       "      <td>ProcessName</td>\n",
       "      <td>C:\\Windows\\System32\\services.exe</td>\n",
       "      <td>IpAddress</td>\n",
       "      <td>-</td>\n",
       "      <td>IpPort</td>\n",
       "      <td>-</td>\n",
       "      <td>ImpersonationLevel</td>\n",
       "      <td>%%1833</td>\n",
       "      <td>RestrictedAdminMode</td>\n",
       "      <td>-</td>\n",
       "      <td>TargetOutboundUserName</td>\n",
       "      <td>-</td>\n",
       "      <td>TargetOutboundDomainName</td>\n",
       "      <td>-</td>\n",
       "      <td>VirtualAccount</td>\n",
       "      <td>%%1843</td>\n",
       "      <td>TargetLinkedLogonId</td>\n",
       "      <td>0x0000000000000000</td>\n",
       "      <td>ElevatedToken</td>\n",
       "      <td>%%1842</td>\n",
       "      <td>NaN</td>\n",
       "    </tr>\n",
       "    <tr>\n",
       "      <th>531</th>\n",
       "      <td>evtx-raw</td>\n",
       "      <td>NaN</td>\n",
       "      <td>plaso</td>\n",
       "      <td>windows_evtx_record</td>\n",
       "      <td></td>\n",
       "      <td>Security.evtx</td>\n",
       "      <td>http://schemas.microsoft.com/win/2004/08/events/event</td>\n",
       "      <td>Microsoft-Windows-Security-Auditing</td>\n",
       "      <td>{54849625-5478-4994-A5BA-3E3B0328C30D}</td>\n",
       "      <td>4624</td>\n",
       "      <td>2</td>\n",
       "      <td>0</td>\n",
       "      <td>12544</td>\n",
       "      <td>0</td>\n",
       "      <td>0x8020000000000000</td>\n",
       "      <td>2020-09-19 05:08:16.433858400</td>\n",
       "      <td>2388</td>\n",
       "      <td>{90269346-8E23-0000-9A93-2690238ED601}</td>\n",
       "      <td>656</td>\n",
       "      <td>6472</td>\n",
       "      <td>Security</td>\n",
       "      <td>DESKTOP-SDN1RPT.C137.local</td>\n",
       "      <td>None</td>\n",
       "      <td>SubjectUserSid</td>\n",
       "      <td>S-1-5-18</td>\n",
       "      <td>SubjectUserName</td>\n",
       "      <td>DESKTOP-SDN1RPT$</td>\n",
       "      <td>SubjectDomainName</td>\n",
       "      <td>C137</td>\n",
       "      <td>SubjectLogonId</td>\n",
       "      <td>0x00000000000003e7</td>\n",
       "      <td>TargetUserSid</td>\n",
       "      <td>S-1-5-18</td>\n",
       "      <td>TargetUserName</td>\n",
       "      <td>SYSTEM</td>\n",
       "      <td>TargetDomainName</td>\n",
       "      <td>NT AUTHORITY</td>\n",
       "      <td>TargetLogonId</td>\n",
       "      <td>0x00000000000003e7</td>\n",
       "      <td>LogonType</td>\n",
       "      <td>5</td>\n",
       "      <td>LogonProcessName</td>\n",
       "      <td>Advapi</td>\n",
       "      <td>AuthenticationPackageName</td>\n",
       "      <td>Negotiate</td>\n",
       "      <td>WorkstationName</td>\n",
       "      <td>-</td>\n",
       "      <td>LogonGuid</td>\n",
       "      <td>{00000000-0000-0000-0000-000000000000}</td>\n",
       "      <td>TransmittedServices</td>\n",
       "      <td>-</td>\n",
       "      <td>LmPackageName</td>\n",
       "      <td>-</td>\n",
       "      <td>KeyLength</td>\n",
       "      <td>0</td>\n",
       "      <td>ProcessId</td>\n",
       "      <td>0x0000000000000268</td>\n",
       "      <td>ProcessName</td>\n",
       "      <td>C:\\Windows\\System32\\services.exe</td>\n",
       "      <td>IpAddress</td>\n",
       "      <td>-</td>\n",
       "      <td>IpPort</td>\n",
       "      <td>-</td>\n",
       "      <td>ImpersonationLevel</td>\n",
       "      <td>%%1833</td>\n",
       "      <td>RestrictedAdminMode</td>\n",
       "      <td>-</td>\n",
       "      <td>TargetOutboundUserName</td>\n",
       "      <td>-</td>\n",
       "      <td>TargetOutboundDomainName</td>\n",
       "      <td>-</td>\n",
       "      <td>VirtualAccount</td>\n",
       "      <td>%%1843</td>\n",
       "      <td>TargetLinkedLogonId</td>\n",
       "      <td>0x0000000000000000</td>\n",
       "      <td>ElevatedToken</td>\n",
       "      <td>%%1842</td>\n",
       "      <td>NaN</td>\n",
       "    </tr>\n",
       "    <tr>\n",
       "      <th>532</th>\n",
       "      <td>evtx-raw</td>\n",
       "      <td>NaN</td>\n",
       "      <td>plaso</td>\n",
       "      <td>windows_evtx_record</td>\n",
       "      <td></td>\n",
       "      <td>Security.evtx</td>\n",
       "      <td>http://schemas.microsoft.com/win/2004/08/events/event</td>\n",
       "      <td>Microsoft-Windows-Security-Auditing</td>\n",
       "      <td>{54849625-5478-4994-A5BA-3E3B0328C30D}</td>\n",
       "      <td>4624</td>\n",
       "      <td>2</td>\n",
       "      <td>0</td>\n",
       "      <td>12544</td>\n",
       "      <td>0</td>\n",
       "      <td>0x8020000000000000</td>\n",
       "      <td>2020-09-19 05:08:16.456202600</td>\n",
       "      <td>2390</td>\n",
       "      <td>{90269346-8E23-0000-9A93-2690238ED601}</td>\n",
       "      <td>656</td>\n",
       "      <td>6472</td>\n",
       "      <td>Security</td>\n",
       "      <td>DESKTOP-SDN1RPT.C137.local</td>\n",
       "      <td>None</td>\n",
       "      <td>SubjectUserSid</td>\n",
       "      <td>S-1-5-18</td>\n",
       "      <td>SubjectUserName</td>\n",
       "      <td>DESKTOP-SDN1RPT$</td>\n",
       "      <td>SubjectDomainName</td>\n",
       "      <td>C137</td>\n",
       "      <td>SubjectLogonId</td>\n",
       "      <td>0x00000000000003e7</td>\n",
       "      <td>TargetUserSid</td>\n",
       "      <td>S-1-5-18</td>\n",
       "      <td>TargetUserName</td>\n",
       "      <td>SYSTEM</td>\n",
       "      <td>TargetDomainName</td>\n",
       "      <td>NT AUTHORITY</td>\n",
       "      <td>TargetLogonId</td>\n",
       "      <td>0x00000000000003e7</td>\n",
       "      <td>LogonType</td>\n",
       "      <td>5</td>\n",
       "      <td>LogonProcessName</td>\n",
       "      <td>Advapi</td>\n",
       "      <td>AuthenticationPackageName</td>\n",
       "      <td>Negotiate</td>\n",
       "      <td>WorkstationName</td>\n",
       "      <td>-</td>\n",
       "      <td>LogonGuid</td>\n",
       "      <td>{00000000-0000-0000-0000-000000000000}</td>\n",
       "      <td>TransmittedServices</td>\n",
       "      <td>-</td>\n",
       "      <td>LmPackageName</td>\n",
       "      <td>-</td>\n",
       "      <td>KeyLength</td>\n",
       "      <td>0</td>\n",
       "      <td>ProcessId</td>\n",
       "      <td>0x0000000000000268</td>\n",
       "      <td>ProcessName</td>\n",
       "      <td>C:\\Windows\\System32\\services.exe</td>\n",
       "      <td>IpAddress</td>\n",
       "      <td>-</td>\n",
       "      <td>IpPort</td>\n",
       "      <td>-</td>\n",
       "      <td>ImpersonationLevel</td>\n",
       "      <td>%%1833</td>\n",
       "      <td>RestrictedAdminMode</td>\n",
       "      <td>-</td>\n",
       "      <td>TargetOutboundUserName</td>\n",
       "      <td>-</td>\n",
       "      <td>TargetOutboundDomainName</td>\n",
       "      <td>-</td>\n",
       "      <td>VirtualAccount</td>\n",
       "      <td>%%1843</td>\n",
       "      <td>TargetLinkedLogonId</td>\n",
       "      <td>0x0000000000000000</td>\n",
       "      <td>ElevatedToken</td>\n",
       "      <td>%%1842</td>\n",
       "      <td>NaN</td>\n",
       "    </tr>\n",
       "    <tr>\n",
       "      <th>533</th>\n",
       "      <td>evtx-raw</td>\n",
       "      <td>NaN</td>\n",
       "      <td>plaso</td>\n",
       "      <td>windows_evtx_record</td>\n",
       "      <td></td>\n",
       "      <td>Security.evtx</td>\n",
       "      <td>http://schemas.microsoft.com/win/2004/08/events/event</td>\n",
       "      <td>Microsoft-Windows-Security-Auditing</td>\n",
       "      <td>{54849625-5478-4994-A5BA-3E3B0328C30D}</td>\n",
       "      <td>4624</td>\n",
       "      <td>2</td>\n",
       "      <td>0</td>\n",
       "      <td>12544</td>\n",
       "      <td>0</td>\n",
       "      <td>0x8020000000000000</td>\n",
       "      <td>2020-09-19 05:08:16.456202600</td>\n",
       "      <td>2390</td>\n",
       "      <td>{90269346-8E23-0000-9A93-2690238ED601}</td>\n",
       "      <td>656</td>\n",
       "      <td>6472</td>\n",
       "      <td>Security</td>\n",
       "      <td>DESKTOP-SDN1RPT.C137.local</td>\n",
       "      <td>None</td>\n",
       "      <td>SubjectUserSid</td>\n",
       "      <td>S-1-5-18</td>\n",
       "      <td>SubjectUserName</td>\n",
       "      <td>DESKTOP-SDN1RPT$</td>\n",
       "      <td>SubjectDomainName</td>\n",
       "      <td>C137</td>\n",
       "      <td>SubjectLogonId</td>\n",
       "      <td>0x00000000000003e7</td>\n",
       "      <td>TargetUserSid</td>\n",
       "      <td>S-1-5-18</td>\n",
       "      <td>TargetUserName</td>\n",
       "      <td>SYSTEM</td>\n",
       "      <td>TargetDomainName</td>\n",
       "      <td>NT AUTHORITY</td>\n",
       "      <td>TargetLogonId</td>\n",
       "      <td>0x00000000000003e7</td>\n",
       "      <td>LogonType</td>\n",
       "      <td>5</td>\n",
       "      <td>LogonProcessName</td>\n",
       "      <td>Advapi</td>\n",
       "      <td>AuthenticationPackageName</td>\n",
       "      <td>Negotiate</td>\n",
       "      <td>WorkstationName</td>\n",
       "      <td>-</td>\n",
       "      <td>LogonGuid</td>\n",
       "      <td>{00000000-0000-0000-0000-000000000000}</td>\n",
       "      <td>TransmittedServices</td>\n",
       "      <td>-</td>\n",
       "      <td>LmPackageName</td>\n",
       "      <td>-</td>\n",
       "      <td>KeyLength</td>\n",
       "      <td>0</td>\n",
       "      <td>ProcessId</td>\n",
       "      <td>0x0000000000000268</td>\n",
       "      <td>ProcessName</td>\n",
       "      <td>C:\\Windows\\System32\\services.exe</td>\n",
       "      <td>IpAddress</td>\n",
       "      <td>-</td>\n",
       "      <td>IpPort</td>\n",
       "      <td>-</td>\n",
       "      <td>ImpersonationLevel</td>\n",
       "      <td>%%1833</td>\n",
       "      <td>RestrictedAdminMode</td>\n",
       "      <td>-</td>\n",
       "      <td>TargetOutboundUserName</td>\n",
       "      <td>-</td>\n",
       "      <td>TargetOutboundDomainName</td>\n",
       "      <td>-</td>\n",
       "      <td>VirtualAccount</td>\n",
       "      <td>%%1843</td>\n",
       "      <td>TargetLinkedLogonId</td>\n",
       "      <td>0x0000000000000000</td>\n",
       "      <td>ElevatedToken</td>\n",
       "      <td>%%1842</td>\n",
       "      <td>NaN</td>\n",
       "    </tr>\n",
       "    <tr>\n",
       "      <th>534</th>\n",
       "      <td>evtx-raw</td>\n",
       "      <td>NaN</td>\n",
       "      <td>plaso</td>\n",
       "      <td>windows_evtx_record</td>\n",
       "      <td></td>\n",
       "      <td>Security.evtx</td>\n",
       "      <td>http://schemas.microsoft.com/win/2004/08/events/event</td>\n",
       "      <td>Microsoft-Windows-Security-Auditing</td>\n",
       "      <td>{54849625-5478-4994-A5BA-3E3B0328C30D}</td>\n",
       "      <td>4624</td>\n",
       "      <td>2</td>\n",
       "      <td>0</td>\n",
       "      <td>12544</td>\n",
       "      <td>0</td>\n",
       "      <td>0x8020000000000000</td>\n",
       "      <td>2020-09-19 05:08:58.432178100</td>\n",
       "      <td>2406</td>\n",
       "      <td>{90269346-8E23-0000-9A93-2690238ED601}</td>\n",
       "      <td>656</td>\n",
       "      <td>2912</td>\n",
       "      <td>Security</td>\n",
       "      <td>DESKTOP-SDN1RPT.C137.local</td>\n",
       "      <td>None</td>\n",
       "      <td>SubjectUserSid</td>\n",
       "      <td>S-1-5-18</td>\n",
       "      <td>SubjectUserName</td>\n",
       "      <td>DESKTOP-SDN1RPT$</td>\n",
       "      <td>SubjectDomainName</td>\n",
       "      <td>C137</td>\n",
       "      <td>SubjectLogonId</td>\n",
       "      <td>0x00000000000003e7</td>\n",
       "      <td>TargetUserSid</td>\n",
       "      <td>S-1-5-18</td>\n",
       "      <td>TargetUserName</td>\n",
       "      <td>SYSTEM</td>\n",
       "      <td>TargetDomainName</td>\n",
       "      <td>NT AUTHORITY</td>\n",
       "      <td>TargetLogonId</td>\n",
       "      <td>0x00000000000003e7</td>\n",
       "      <td>LogonType</td>\n",
       "      <td>5</td>\n",
       "      <td>LogonProcessName</td>\n",
       "      <td>Advapi</td>\n",
       "      <td>AuthenticationPackageName</td>\n",
       "      <td>Negotiate</td>\n",
       "      <td>WorkstationName</td>\n",
       "      <td>-</td>\n",
       "      <td>LogonGuid</td>\n",
       "      <td>{00000000-0000-0000-0000-000000000000}</td>\n",
       "      <td>TransmittedServices</td>\n",
       "      <td>-</td>\n",
       "      <td>LmPackageName</td>\n",
       "      <td>-</td>\n",
       "      <td>KeyLength</td>\n",
       "      <td>0</td>\n",
       "      <td>ProcessId</td>\n",
       "      <td>0x0000000000000268</td>\n",
       "      <td>ProcessName</td>\n",
       "      <td>C:\\Windows\\System32\\services.exe</td>\n",
       "      <td>IpAddress</td>\n",
       "      <td>-</td>\n",
       "      <td>IpPort</td>\n",
       "      <td>-</td>\n",
       "      <td>ImpersonationLevel</td>\n",
       "      <td>%%1833</td>\n",
       "      <td>RestrictedAdminMode</td>\n",
       "      <td>-</td>\n",
       "      <td>TargetOutboundUserName</td>\n",
       "      <td>-</td>\n",
       "      <td>TargetOutboundDomainName</td>\n",
       "      <td>-</td>\n",
       "      <td>VirtualAccount</td>\n",
       "      <td>%%1843</td>\n",
       "      <td>TargetLinkedLogonId</td>\n",
       "      <td>0x0000000000000000</td>\n",
       "      <td>ElevatedToken</td>\n",
       "      <td>%%1842</td>\n",
       "      <td>NaN</td>\n",
       "    </tr>\n",
       "    <tr>\n",
       "      <th>535</th>\n",
       "      <td>evtx-raw</td>\n",
       "      <td>NaN</td>\n",
       "      <td>plaso</td>\n",
       "      <td>windows_evtx_record</td>\n",
       "      <td></td>\n",
       "      <td>Security.evtx</td>\n",
       "      <td>http://schemas.microsoft.com/win/2004/08/events/event</td>\n",
       "      <td>Microsoft-Windows-Security-Auditing</td>\n",
       "      <td>{54849625-5478-4994-A5BA-3E3B0328C30D}</td>\n",
       "      <td>4624</td>\n",
       "      <td>2</td>\n",
       "      <td>0</td>\n",
       "      <td>12544</td>\n",
       "      <td>0</td>\n",
       "      <td>0x8020000000000000</td>\n",
       "      <td>2020-09-19 05:08:58.432178100</td>\n",
       "      <td>2406</td>\n",
       "      <td>{90269346-8E23-0000-9A93-2690238ED601}</td>\n",
       "      <td>656</td>\n",
       "      <td>2912</td>\n",
       "      <td>Security</td>\n",
       "      <td>DESKTOP-SDN1RPT.C137.local</td>\n",
       "      <td>None</td>\n",
       "      <td>SubjectUserSid</td>\n",
       "      <td>S-1-5-18</td>\n",
       "      <td>SubjectUserName</td>\n",
       "      <td>DESKTOP-SDN1RPT$</td>\n",
       "      <td>SubjectDomainName</td>\n",
       "      <td>C137</td>\n",
       "      <td>SubjectLogonId</td>\n",
       "      <td>0x00000000000003e7</td>\n",
       "      <td>TargetUserSid</td>\n",
       "      <td>S-1-5-18</td>\n",
       "      <td>TargetUserName</td>\n",
       "      <td>SYSTEM</td>\n",
       "      <td>TargetDomainName</td>\n",
       "      <td>NT AUTHORITY</td>\n",
       "      <td>TargetLogonId</td>\n",
       "      <td>0x00000000000003e7</td>\n",
       "      <td>LogonType</td>\n",
       "      <td>5</td>\n",
       "      <td>LogonProcessName</td>\n",
       "      <td>Advapi</td>\n",
       "      <td>AuthenticationPackageName</td>\n",
       "      <td>Negotiate</td>\n",
       "      <td>WorkstationName</td>\n",
       "      <td>-</td>\n",
       "      <td>LogonGuid</td>\n",
       "      <td>{00000000-0000-0000-0000-000000000000}</td>\n",
       "      <td>TransmittedServices</td>\n",
       "      <td>-</td>\n",
       "      <td>LmPackageName</td>\n",
       "      <td>-</td>\n",
       "      <td>KeyLength</td>\n",
       "      <td>0</td>\n",
       "      <td>ProcessId</td>\n",
       "      <td>0x0000000000000268</td>\n",
       "      <td>ProcessName</td>\n",
       "      <td>C:\\Windows\\System32\\services.exe</td>\n",
       "      <td>IpAddress</td>\n",
       "      <td>-</td>\n",
       "      <td>IpPort</td>\n",
       "      <td>-</td>\n",
       "      <td>ImpersonationLevel</td>\n",
       "      <td>%%1833</td>\n",
       "      <td>RestrictedAdminMode</td>\n",
       "      <td>-</td>\n",
       "      <td>TargetOutboundUserName</td>\n",
       "      <td>-</td>\n",
       "      <td>TargetOutboundDomainName</td>\n",
       "      <td>-</td>\n",
       "      <td>VirtualAccount</td>\n",
       "      <td>%%1843</td>\n",
       "      <td>TargetLinkedLogonId</td>\n",
       "      <td>0x0000000000000000</td>\n",
       "      <td>ElevatedToken</td>\n",
       "      <td>%%1842</td>\n",
       "      <td>NaN</td>\n",
       "    </tr>\n",
       "    <tr>\n",
       "      <th>536</th>\n",
       "      <td>evtx-raw</td>\n",
       "      <td>NaN</td>\n",
       "      <td>plaso</td>\n",
       "      <td>windows_evtx_record</td>\n",
       "      <td></td>\n",
       "      <td>Security.evtx</td>\n",
       "      <td>http://schemas.microsoft.com/win/2004/08/events/event</td>\n",
       "      <td>Microsoft-Windows-Security-Auditing</td>\n",
       "      <td>{54849625-5478-4994-A5BA-3E3B0328C30D}</td>\n",
       "      <td>4624</td>\n",
       "      <td>2</td>\n",
       "      <td>0</td>\n",
       "      <td>12544</td>\n",
       "      <td>0</td>\n",
       "      <td>0x8020000000000000</td>\n",
       "      <td>2020-09-19 05:18:23.578740500</td>\n",
       "      <td>2446</td>\n",
       "      <td>{90269346-8E23-0000-9A93-2690238ED601}</td>\n",
       "      <td>656</td>\n",
       "      <td>2644</td>\n",
       "      <td>Security</td>\n",
       "      <td>DESKTOP-SDN1RPT.C137.local</td>\n",
       "      <td>None</td>\n",
       "      <td>SubjectUserSid</td>\n",
       "      <td>S-1-5-18</td>\n",
       "      <td>SubjectUserName</td>\n",
       "      <td>DESKTOP-SDN1RPT$</td>\n",
       "      <td>SubjectDomainName</td>\n",
       "      <td>C137</td>\n",
       "      <td>SubjectLogonId</td>\n",
       "      <td>0x00000000000003e7</td>\n",
       "      <td>TargetUserSid</td>\n",
       "      <td>S-1-5-18</td>\n",
       "      <td>TargetUserName</td>\n",
       "      <td>SYSTEM</td>\n",
       "      <td>TargetDomainName</td>\n",
       "      <td>NT AUTHORITY</td>\n",
       "      <td>TargetLogonId</td>\n",
       "      <td>0x00000000000003e7</td>\n",
       "      <td>LogonType</td>\n",
       "      <td>5</td>\n",
       "      <td>LogonProcessName</td>\n",
       "      <td>Advapi</td>\n",
       "      <td>AuthenticationPackageName</td>\n",
       "      <td>Negotiate</td>\n",
       "      <td>WorkstationName</td>\n",
       "      <td>-</td>\n",
       "      <td>LogonGuid</td>\n",
       "      <td>{00000000-0000-0000-0000-000000000000}</td>\n",
       "      <td>TransmittedServices</td>\n",
       "      <td>-</td>\n",
       "      <td>LmPackageName</td>\n",
       "      <td>-</td>\n",
       "      <td>KeyLength</td>\n",
       "      <td>0</td>\n",
       "      <td>ProcessId</td>\n",
       "      <td>0x0000000000000268</td>\n",
       "      <td>ProcessName</td>\n",
       "      <td>C:\\Windows\\System32\\services.exe</td>\n",
       "      <td>IpAddress</td>\n",
       "      <td>-</td>\n",
       "      <td>IpPort</td>\n",
       "      <td>-</td>\n",
       "      <td>ImpersonationLevel</td>\n",
       "      <td>%%1833</td>\n",
       "      <td>RestrictedAdminMode</td>\n",
       "      <td>-</td>\n",
       "      <td>TargetOutboundUserName</td>\n",
       "      <td>-</td>\n",
       "      <td>TargetOutboundDomainName</td>\n",
       "      <td>-</td>\n",
       "      <td>VirtualAccount</td>\n",
       "      <td>%%1843</td>\n",
       "      <td>TargetLinkedLogonId</td>\n",
       "      <td>0x0000000000000000</td>\n",
       "      <td>ElevatedToken</td>\n",
       "      <td>%%1842</td>\n",
       "      <td>NaN</td>\n",
       "    </tr>\n",
       "    <tr>\n",
       "      <th>537</th>\n",
       "      <td>evtx-raw</td>\n",
       "      <td>NaN</td>\n",
       "      <td>plaso</td>\n",
       "      <td>windows_evtx_record</td>\n",
       "      <td></td>\n",
       "      <td>Security.evtx</td>\n",
       "      <td>http://schemas.microsoft.com/win/2004/08/events/event</td>\n",
       "      <td>Microsoft-Windows-Security-Auditing</td>\n",
       "      <td>{54849625-5478-4994-A5BA-3E3B0328C30D}</td>\n",
       "      <td>4624</td>\n",
       "      <td>2</td>\n",
       "      <td>0</td>\n",
       "      <td>12544</td>\n",
       "      <td>0</td>\n",
       "      <td>0x8020000000000000</td>\n",
       "      <td>2020-09-19 05:18:23.578740500</td>\n",
       "      <td>2446</td>\n",
       "      <td>{90269346-8E23-0000-9A93-2690238ED601}</td>\n",
       "      <td>656</td>\n",
       "      <td>2644</td>\n",
       "      <td>Security</td>\n",
       "      <td>DESKTOP-SDN1RPT.C137.local</td>\n",
       "      <td>None</td>\n",
       "      <td>SubjectUserSid</td>\n",
       "      <td>S-1-5-18</td>\n",
       "      <td>SubjectUserName</td>\n",
       "      <td>DESKTOP-SDN1RPT$</td>\n",
       "      <td>SubjectDomainName</td>\n",
       "      <td>C137</td>\n",
       "      <td>SubjectLogonId</td>\n",
       "      <td>0x00000000000003e7</td>\n",
       "      <td>TargetUserSid</td>\n",
       "      <td>S-1-5-18</td>\n",
       "      <td>TargetUserName</td>\n",
       "      <td>SYSTEM</td>\n",
       "      <td>TargetDomainName</td>\n",
       "      <td>NT AUTHORITY</td>\n",
       "      <td>TargetLogonId</td>\n",
       "      <td>0x00000000000003e7</td>\n",
       "      <td>LogonType</td>\n",
       "      <td>5</td>\n",
       "      <td>LogonProcessName</td>\n",
       "      <td>Advapi</td>\n",
       "      <td>AuthenticationPackageName</td>\n",
       "      <td>Negotiate</td>\n",
       "      <td>WorkstationName</td>\n",
       "      <td>-</td>\n",
       "      <td>LogonGuid</td>\n",
       "      <td>{00000000-0000-0000-0000-000000000000}</td>\n",
       "      <td>TransmittedServices</td>\n",
       "      <td>-</td>\n",
       "      <td>LmPackageName</td>\n",
       "      <td>-</td>\n",
       "      <td>KeyLength</td>\n",
       "      <td>0</td>\n",
       "      <td>ProcessId</td>\n",
       "      <td>0x0000000000000268</td>\n",
       "      <td>ProcessName</td>\n",
       "      <td>C:\\Windows\\System32\\services.exe</td>\n",
       "      <td>IpAddress</td>\n",
       "      <td>-</td>\n",
       "      <td>IpPort</td>\n",
       "      <td>-</td>\n",
       "      <td>ImpersonationLevel</td>\n",
       "      <td>%%1833</td>\n",
       "      <td>RestrictedAdminMode</td>\n",
       "      <td>-</td>\n",
       "      <td>TargetOutboundUserName</td>\n",
       "      <td>-</td>\n",
       "      <td>TargetOutboundDomainName</td>\n",
       "      <td>-</td>\n",
       "      <td>VirtualAccount</td>\n",
       "      <td>%%1843</td>\n",
       "      <td>TargetLinkedLogonId</td>\n",
       "      <td>0x0000000000000000</td>\n",
       "      <td>ElevatedToken</td>\n",
       "      <td>%%1842</td>\n",
       "      <td>NaN</td>\n",
       "    </tr>\n",
       "    <tr>\n",
       "      <th>538</th>\n",
       "      <td>evtx-raw</td>\n",
       "      <td>NaN</td>\n",
       "      <td>plaso</td>\n",
       "      <td>windows_evtx_record</td>\n",
       "      <td></td>\n",
       "      <td>Security.evtx</td>\n",
       "      <td>http://schemas.microsoft.com/win/2004/08/events/event</td>\n",
       "      <td>Microsoft-Windows-Security-Auditing</td>\n",
       "      <td>{54849625-5478-4994-A5BA-3E3B0328C30D}</td>\n",
       "      <td>4624</td>\n",
       "      <td>2</td>\n",
       "      <td>0</td>\n",
       "      <td>12544</td>\n",
       "      <td>0</td>\n",
       "      <td>0x8020000000000000</td>\n",
       "      <td>2020-09-19 05:18:23.767036000</td>\n",
       "      <td>2450</td>\n",
       "      <td>{90269346-8E23-0000-9A93-2690238ED601}</td>\n",
       "      <td>656</td>\n",
       "      <td>2644</td>\n",
       "      <td>Security</td>\n",
       "      <td>DESKTOP-SDN1RPT.C137.local</td>\n",
       "      <td>None</td>\n",
       "      <td>SubjectUserSid</td>\n",
       "      <td>S-1-5-18</td>\n",
       "      <td>SubjectUserName</td>\n",
       "      <td>DESKTOP-SDN1RPT$</td>\n",
       "      <td>SubjectDomainName</td>\n",
       "      <td>C137</td>\n",
       "      <td>SubjectLogonId</td>\n",
       "      <td>0x00000000000003e7</td>\n",
       "      <td>TargetUserSid</td>\n",
       "      <td>S-1-5-18</td>\n",
       "      <td>TargetUserName</td>\n",
       "      <td>SYSTEM</td>\n",
       "      <td>TargetDomainName</td>\n",
       "      <td>NT AUTHORITY</td>\n",
       "      <td>TargetLogonId</td>\n",
       "      <td>0x00000000000003e7</td>\n",
       "      <td>LogonType</td>\n",
       "      <td>5</td>\n",
       "      <td>LogonProcessName</td>\n",
       "      <td>Advapi</td>\n",
       "      <td>AuthenticationPackageName</td>\n",
       "      <td>Negotiate</td>\n",
       "      <td>WorkstationName</td>\n",
       "      <td>-</td>\n",
       "      <td>LogonGuid</td>\n",
       "      <td>{00000000-0000-0000-0000-000000000000}</td>\n",
       "      <td>TransmittedServices</td>\n",
       "      <td>-</td>\n",
       "      <td>LmPackageName</td>\n",
       "      <td>-</td>\n",
       "      <td>KeyLength</td>\n",
       "      <td>0</td>\n",
       "      <td>ProcessId</td>\n",
       "      <td>0x0000000000000268</td>\n",
       "      <td>ProcessName</td>\n",
       "      <td>C:\\Windows\\System32\\services.exe</td>\n",
       "      <td>IpAddress</td>\n",
       "      <td>-</td>\n",
       "      <td>IpPort</td>\n",
       "      <td>-</td>\n",
       "      <td>ImpersonationLevel</td>\n",
       "      <td>%%1833</td>\n",
       "      <td>RestrictedAdminMode</td>\n",
       "      <td>-</td>\n",
       "      <td>TargetOutboundUserName</td>\n",
       "      <td>-</td>\n",
       "      <td>TargetOutboundDomainName</td>\n",
       "      <td>-</td>\n",
       "      <td>VirtualAccount</td>\n",
       "      <td>%%1843</td>\n",
       "      <td>TargetLinkedLogonId</td>\n",
       "      <td>0x0000000000000000</td>\n",
       "      <td>ElevatedToken</td>\n",
       "      <td>%%1842</td>\n",
       "      <td>NaN</td>\n",
       "    </tr>\n",
       "    <tr>\n",
       "      <th>539</th>\n",
       "      <td>evtx-raw</td>\n",
       "      <td>NaN</td>\n",
       "      <td>plaso</td>\n",
       "      <td>windows_evtx_record</td>\n",
       "      <td></td>\n",
       "      <td>Security.evtx</td>\n",
       "      <td>http://schemas.microsoft.com/win/2004/08/events/event</td>\n",
       "      <td>Microsoft-Windows-Security-Auditing</td>\n",
       "      <td>{54849625-5478-4994-A5BA-3E3B0328C30D}</td>\n",
       "      <td>4624</td>\n",
       "      <td>2</td>\n",
       "      <td>0</td>\n",
       "      <td>12544</td>\n",
       "      <td>0</td>\n",
       "      <td>0x8020000000000000</td>\n",
       "      <td>2020-09-19 05:18:23.767036000</td>\n",
       "      <td>2450</td>\n",
       "      <td>{90269346-8E23-0000-9A93-2690238ED601}</td>\n",
       "      <td>656</td>\n",
       "      <td>2644</td>\n",
       "      <td>Security</td>\n",
       "      <td>DESKTOP-SDN1RPT.C137.local</td>\n",
       "      <td>None</td>\n",
       "      <td>SubjectUserSid</td>\n",
       "      <td>S-1-5-18</td>\n",
       "      <td>SubjectUserName</td>\n",
       "      <td>DESKTOP-SDN1RPT$</td>\n",
       "      <td>SubjectDomainName</td>\n",
       "      <td>C137</td>\n",
       "      <td>SubjectLogonId</td>\n",
       "      <td>0x00000000000003e7</td>\n",
       "      <td>TargetUserSid</td>\n",
       "      <td>S-1-5-18</td>\n",
       "      <td>TargetUserName</td>\n",
       "      <td>SYSTEM</td>\n",
       "      <td>TargetDomainName</td>\n",
       "      <td>NT AUTHORITY</td>\n",
       "      <td>TargetLogonId</td>\n",
       "      <td>0x00000000000003e7</td>\n",
       "      <td>LogonType</td>\n",
       "      <td>5</td>\n",
       "      <td>LogonProcessName</td>\n",
       "      <td>Advapi</td>\n",
       "      <td>AuthenticationPackageName</td>\n",
       "      <td>Negotiate</td>\n",
       "      <td>WorkstationName</td>\n",
       "      <td>-</td>\n",
       "      <td>LogonGuid</td>\n",
       "      <td>{00000000-0000-0000-0000-000000000000}</td>\n",
       "      <td>TransmittedServices</td>\n",
       "      <td>-</td>\n",
       "      <td>LmPackageName</td>\n",
       "      <td>-</td>\n",
       "      <td>KeyLength</td>\n",
       "      <td>0</td>\n",
       "      <td>ProcessId</td>\n",
       "      <td>0x0000000000000268</td>\n",
       "      <td>ProcessName</td>\n",
       "      <td>C:\\Windows\\System32\\services.exe</td>\n",
       "      <td>IpAddress</td>\n",
       "      <td>-</td>\n",
       "      <td>IpPort</td>\n",
       "      <td>-</td>\n",
       "      <td>ImpersonationLevel</td>\n",
       "      <td>%%1833</td>\n",
       "      <td>RestrictedAdminMode</td>\n",
       "      <td>-</td>\n",
       "      <td>TargetOutboundUserName</td>\n",
       "      <td>-</td>\n",
       "      <td>TargetOutboundDomainName</td>\n",
       "      <td>-</td>\n",
       "      <td>VirtualAccount</td>\n",
       "      <td>%%1843</td>\n",
       "      <td>TargetLinkedLogonId</td>\n",
       "      <td>0x0000000000000000</td>\n",
       "      <td>ElevatedToken</td>\n",
       "      <td>%%1842</td>\n",
       "      <td>NaN</td>\n",
       "    </tr>\n",
       "  </tbody>\n",
       "</table>\n",
       "<p>540 rows × 78 columns</p>\n",
       "</div>"
      ],
      "text/plain": [
       "    D4_DataType_  D4_Orchestrator_ D4_Tool_ D4_Plugin_           D4_Hostname_  \\\n",
       "0    evtx-raw    NaN                plaso    windows_evtx_record                \n",
       "1    evtx-raw    NaN                plaso    windows_evtx_record                \n",
       "2    evtx-raw    NaN                plaso    windows_evtx_record                \n",
       "3    evtx-raw    NaN                plaso    windows_evtx_record                \n",
       "4    evtx-raw    NaN                plaso    windows_evtx_record                \n",
       "5    evtx-raw    NaN                plaso    windows_evtx_record                \n",
       "6    evtx-raw    NaN                plaso    windows_evtx_record                \n",
       "7    evtx-raw    NaN                plaso    windows_evtx_record                \n",
       "8    evtx-raw    NaN                plaso    windows_evtx_record                \n",
       "9    evtx-raw    NaN                plaso    windows_evtx_record                \n",
       "..           ...               ...      ...                  ...          ...   \n",
       "530  evtx-raw    NaN                plaso    windows_evtx_record                \n",
       "531  evtx-raw    NaN                plaso    windows_evtx_record                \n",
       "532  evtx-raw    NaN                plaso    windows_evtx_record                \n",
       "533  evtx-raw    NaN                plaso    windows_evtx_record                \n",
       "534  evtx-raw    NaN                plaso    windows_evtx_record                \n",
       "535  evtx-raw    NaN                plaso    windows_evtx_record                \n",
       "536  evtx-raw    NaN                plaso    windows_evtx_record                \n",
       "537  evtx-raw    NaN                plaso    windows_evtx_record                \n",
       "538  evtx-raw    NaN                plaso    windows_evtx_record                \n",
       "539  evtx-raw    NaN                plaso    windows_evtx_record                \n",
       "\n",
       "    evtxFileName_  @xmlns                                                  \\\n",
       "0    Security.evtx  http://schemas.microsoft.com/win/2004/08/events/event   \n",
       "1    Security.evtx  http://schemas.microsoft.com/win/2004/08/events/event   \n",
       "2    Security.evtx  http://schemas.microsoft.com/win/2004/08/events/event   \n",
       "3    Security.evtx  http://schemas.microsoft.com/win/2004/08/events/event   \n",
       "4    Security.evtx  http://schemas.microsoft.com/win/2004/08/events/event   \n",
       "5    Security.evtx  http://schemas.microsoft.com/win/2004/08/events/event   \n",
       "6    Security.evtx  http://schemas.microsoft.com/win/2004/08/events/event   \n",
       "7    Security.evtx  http://schemas.microsoft.com/win/2004/08/events/event   \n",
       "8    Security.evtx  http://schemas.microsoft.com/win/2004/08/events/event   \n",
       "9    Security.evtx  http://schemas.microsoft.com/win/2004/08/events/event   \n",
       "..             ...                                                    ...   \n",
       "530  Security.evtx  http://schemas.microsoft.com/win/2004/08/events/event   \n",
       "531  Security.evtx  http://schemas.microsoft.com/win/2004/08/events/event   \n",
       "532  Security.evtx  http://schemas.microsoft.com/win/2004/08/events/event   \n",
       "533  Security.evtx  http://schemas.microsoft.com/win/2004/08/events/event   \n",
       "534  Security.evtx  http://schemas.microsoft.com/win/2004/08/events/event   \n",
       "535  Security.evtx  http://schemas.microsoft.com/win/2004/08/events/event   \n",
       "536  Security.evtx  http://schemas.microsoft.com/win/2004/08/events/event   \n",
       "537  Security.evtx  http://schemas.microsoft.com/win/2004/08/events/event   \n",
       "538  Security.evtx  http://schemas.microsoft.com/win/2004/08/events/event   \n",
       "539  Security.evtx  http://schemas.microsoft.com/win/2004/08/events/event   \n",
       "\n",
       "    System > Provider > @Name             \\\n",
       "0    Microsoft-Windows-Security-Auditing   \n",
       "1    Microsoft-Windows-Security-Auditing   \n",
       "2    Microsoft-Windows-Security-Auditing   \n",
       "3    Microsoft-Windows-Security-Auditing   \n",
       "4    Microsoft-Windows-Security-Auditing   \n",
       "5    Microsoft-Windows-Security-Auditing   \n",
       "6    Microsoft-Windows-Security-Auditing   \n",
       "7    Microsoft-Windows-Security-Auditing   \n",
       "8    Microsoft-Windows-Security-Auditing   \n",
       "9    Microsoft-Windows-Security-Auditing   \n",
       "..                                   ...   \n",
       "530  Microsoft-Windows-Security-Auditing   \n",
       "531  Microsoft-Windows-Security-Auditing   \n",
       "532  Microsoft-Windows-Security-Auditing   \n",
       "533  Microsoft-Windows-Security-Auditing   \n",
       "534  Microsoft-Windows-Security-Auditing   \n",
       "535  Microsoft-Windows-Security-Auditing   \n",
       "536  Microsoft-Windows-Security-Auditing   \n",
       "537  Microsoft-Windows-Security-Auditing   \n",
       "538  Microsoft-Windows-Security-Auditing   \n",
       "539  Microsoft-Windows-Security-Auditing   \n",
       "\n",
       "    System > Provider > @Guid                System > EventID  \\\n",
       "0    {54849625-5478-4994-A5BA-3E3B0328C30D}  4624               \n",
       "1    {54849625-5478-4994-A5BA-3E3B0328C30D}  4624               \n",
       "2    {54849625-5478-4994-A5BA-3E3B0328C30D}  4624               \n",
       "3    {54849625-5478-4994-A5BA-3E3B0328C30D}  4624               \n",
       "4    {54849625-5478-4994-A5BA-3E3B0328C30D}  4624               \n",
       "5    {54849625-5478-4994-A5BA-3E3B0328C30D}  4624               \n",
       "6    {54849625-5478-4994-A5BA-3E3B0328C30D}  4624               \n",
       "7    {54849625-5478-4994-A5BA-3E3B0328C30D}  4624               \n",
       "8    {54849625-5478-4994-A5BA-3E3B0328C30D}  4624               \n",
       "9    {54849625-5478-4994-A5BA-3E3B0328C30D}  4624               \n",
       "..                                      ...               ...   \n",
       "530  {54849625-5478-4994-A5BA-3E3B0328C30D}  4624               \n",
       "531  {54849625-5478-4994-A5BA-3E3B0328C30D}  4624               \n",
       "532  {54849625-5478-4994-A5BA-3E3B0328C30D}  4624               \n",
       "533  {54849625-5478-4994-A5BA-3E3B0328C30D}  4624               \n",
       "534  {54849625-5478-4994-A5BA-3E3B0328C30D}  4624               \n",
       "535  {54849625-5478-4994-A5BA-3E3B0328C30D}  4624               \n",
       "536  {54849625-5478-4994-A5BA-3E3B0328C30D}  4624               \n",
       "537  {54849625-5478-4994-A5BA-3E3B0328C30D}  4624               \n",
       "538  {54849625-5478-4994-A5BA-3E3B0328C30D}  4624               \n",
       "539  {54849625-5478-4994-A5BA-3E3B0328C30D}  4624               \n",
       "\n",
       "     System > Version  System > Level  System > Task  System > Opcode  \\\n",
       "0    2                 0               12544          0                 \n",
       "1    2                 0               12544          0                 \n",
       "2    2                 0               12544          0                 \n",
       "3    2                 0               12544          0                 \n",
       "4    2                 0               12544          0                 \n",
       "5    2                 0               12544          0                 \n",
       "6    2                 0               12544          0                 \n",
       "7    2                 0               12544          0                 \n",
       "8    2                 0               12544          0                 \n",
       "9    2                 0               12544          0                 \n",
       "..                ...             ...            ...              ...   \n",
       "530  2                 0               12544          0                 \n",
       "531  2                 0               12544          0                 \n",
       "532  2                 0               12544          0                 \n",
       "533  2                 0               12544          0                 \n",
       "534  2                 0               12544          0                 \n",
       "535  2                 0               12544          0                 \n",
       "536  2                 0               12544          0                 \n",
       "537  2                 0               12544          0                 \n",
       "538  2                 0               12544          0                 \n",
       "539  2                 0               12544          0                 \n",
       "\n",
       "    System > Keywords   System > TimeCreated > @SystemTime  \\\n",
       "0    0x8020000000000000 2020-09-18 04:58:05.941940200        \n",
       "1    0x8020000000000000 2020-09-18 04:58:05.941940200        \n",
       "2    0x8020000000000000 2020-09-18 05:41:15.969156900        \n",
       "3    0x8020000000000000 2020-09-18 05:41:15.969156900        \n",
       "4    0x8020000000000000 2020-09-18 05:41:16.919407800        \n",
       "5    0x8020000000000000 2020-09-18 05:41:16.919407800        \n",
       "6    0x8020000000000000 2020-09-18 05:41:16.924522800        \n",
       "7    0x8020000000000000 2020-09-18 05:41:16.924522800        \n",
       "8    0x8020000000000000 2020-09-18 05:41:17.558026400        \n",
       "9    0x8020000000000000 2020-09-18 05:41:17.558026400        \n",
       "..                  ...                                ...   \n",
       "530  0x8020000000000000 2020-09-19 05:08:16.433858400        \n",
       "531  0x8020000000000000 2020-09-19 05:08:16.433858400        \n",
       "532  0x8020000000000000 2020-09-19 05:08:16.456202600        \n",
       "533  0x8020000000000000 2020-09-19 05:08:16.456202600        \n",
       "534  0x8020000000000000 2020-09-19 05:08:58.432178100        \n",
       "535  0x8020000000000000 2020-09-19 05:08:58.432178100        \n",
       "536  0x8020000000000000 2020-09-19 05:18:23.578740500        \n",
       "537  0x8020000000000000 2020-09-19 05:18:23.578740500        \n",
       "538  0x8020000000000000 2020-09-19 05:18:23.767036000        \n",
       "539  0x8020000000000000 2020-09-19 05:18:23.767036000        \n",
       "\n",
       "     System > EventRecordID System > Correlation > @ActivityID       \\\n",
       "0     708                    {089E13A3-8D7F-0001-4B14-9E087F8DD601}   \n",
       "1     708                    {089E13A3-8D7F-0001-4B14-9E087F8DD601}   \n",
       "2      16                                                       NaN   \n",
       "3      16                                                       NaN   \n",
       "4      47                    {4B73C7C8-8D7E-0001-15CA-734B7E8DD601}   \n",
       "5      47                    {4B73C7C8-8D7E-0001-15CA-734B7E8DD601}   \n",
       "6      50                    {4B73C7C8-8D7E-0001-15CA-734B7E8DD601}   \n",
       "7      50                    {4B73C7C8-8D7E-0001-15CA-734B7E8DD601}   \n",
       "8      51                    {4B73C7C8-8D7E-0001-15CA-734B7E8DD601}   \n",
       "9      51                    {4B73C7C8-8D7E-0001-15CA-734B7E8DD601}   \n",
       "..                      ...                                     ...   \n",
       "530  2388                    {90269346-8E23-0000-9A93-2690238ED601}   \n",
       "531  2388                    {90269346-8E23-0000-9A93-2690238ED601}   \n",
       "532  2390                    {90269346-8E23-0000-9A93-2690238ED601}   \n",
       "533  2390                    {90269346-8E23-0000-9A93-2690238ED601}   \n",
       "534  2406                    {90269346-8E23-0000-9A93-2690238ED601}   \n",
       "535  2406                    {90269346-8E23-0000-9A93-2690238ED601}   \n",
       "536  2446                    {90269346-8E23-0000-9A93-2690238ED601}   \n",
       "537  2446                    {90269346-8E23-0000-9A93-2690238ED601}   \n",
       "538  2450                    {90269346-8E23-0000-9A93-2690238ED601}   \n",
       "539  2450                    {90269346-8E23-0000-9A93-2690238ED601}   \n",
       "\n",
       "     System > Execution > @ProcessID  System > Execution > @ThreadID  \\\n",
       "0    664                               720                             \n",
       "1    664                               720                             \n",
       "2    660                               664                             \n",
       "3    660                               664                             \n",
       "4    660                               748                             \n",
       "5    660                               748                             \n",
       "6    660                               764                             \n",
       "7    660                               764                             \n",
       "8    660                               704                             \n",
       "9    660                               704                             \n",
       "..                               ...                             ...   \n",
       "530  656                              6472                             \n",
       "531  656                              6472                             \n",
       "532  656                              6472                             \n",
       "533  656                              6472                             \n",
       "534  656                              2912                             \n",
       "535  656                              2912                             \n",
       "536  656                              2644                             \n",
       "537  656                              2644                             \n",
       "538  656                              2644                             \n",
       "539  656                              2644                             \n",
       "\n",
       "    System > Channel System > Computer           System > Security  \\\n",
       "0    Security                    DESKTOP-SDN1RPT  None               \n",
       "1    Security                    DESKTOP-SDN1RPT  None               \n",
       "2    Security                    WIN-2IH1TBB9I4Q  None               \n",
       "3    Security                    WIN-2IH1TBB9I4Q  None               \n",
       "4    Security                    WIN-2IH1TBB9I4Q  None               \n",
       "5    Security                    WIN-2IH1TBB9I4Q  None               \n",
       "6    Security                    WIN-2IH1TBB9I4Q  None               \n",
       "7    Security                    WIN-2IH1TBB9I4Q  None               \n",
       "8    Security                    WIN-2IH1TBB9I4Q  None               \n",
       "9    Security                    WIN-2IH1TBB9I4Q  None               \n",
       "..               ...                         ...               ...   \n",
       "530  Security         DESKTOP-SDN1RPT.C137.local  None               \n",
       "531  Security         DESKTOP-SDN1RPT.C137.local  None               \n",
       "532  Security         DESKTOP-SDN1RPT.C137.local  None               \n",
       "533  Security         DESKTOP-SDN1RPT.C137.local  None               \n",
       "534  Security         DESKTOP-SDN1RPT.C137.local  None               \n",
       "535  Security         DESKTOP-SDN1RPT.C137.local  None               \n",
       "536  Security         DESKTOP-SDN1RPT.C137.local  None               \n",
       "537  Security         DESKTOP-SDN1RPT.C137.local  None               \n",
       "538  Security         DESKTOP-SDN1RPT.C137.local  None               \n",
       "539  Security         DESKTOP-SDN1RPT.C137.local  None               \n",
       "\n",
       "    EventData > Data > 0 > @Name EventData > Data > 0 > #text  \\\n",
       "0    SubjectUserSid               S-1-5-18                      \n",
       "1    SubjectUserSid               S-1-5-18                      \n",
       "2    SubjectUserSid                S-1-0-0                      \n",
       "3    SubjectUserSid                S-1-0-0                      \n",
       "4    SubjectUserSid               S-1-5-18                      \n",
       "5    SubjectUserSid               S-1-5-18                      \n",
       "6    SubjectUserSid               S-1-5-18                      \n",
       "7    SubjectUserSid               S-1-5-18                      \n",
       "8    SubjectUserSid               S-1-5-18                      \n",
       "9    SubjectUserSid               S-1-5-18                      \n",
       "..                           ...                          ...   \n",
       "530  SubjectUserSid               S-1-5-18                      \n",
       "531  SubjectUserSid               S-1-5-18                      \n",
       "532  SubjectUserSid               S-1-5-18                      \n",
       "533  SubjectUserSid               S-1-5-18                      \n",
       "534  SubjectUserSid               S-1-5-18                      \n",
       "535  SubjectUserSid               S-1-5-18                      \n",
       "536  SubjectUserSid               S-1-5-18                      \n",
       "537  SubjectUserSid               S-1-5-18                      \n",
       "538  SubjectUserSid               S-1-5-18                      \n",
       "539  SubjectUserSid               S-1-5-18                      \n",
       "\n",
       "    EventData > Data > 1 > @Name EventData > Data > 1 > #text  \\\n",
       "0    SubjectUserName              WIN-2IH1TBB9I4Q$              \n",
       "1    SubjectUserName              WIN-2IH1TBB9I4Q$              \n",
       "2    SubjectUserName                             -              \n",
       "3    SubjectUserName                             -              \n",
       "4    SubjectUserName                     MINWINPC$              \n",
       "5    SubjectUserName                     MINWINPC$              \n",
       "6    SubjectUserName                     MINWINPC$              \n",
       "7    SubjectUserName                     MINWINPC$              \n",
       "8    SubjectUserName                     MINWINPC$              \n",
       "9    SubjectUserName                     MINWINPC$              \n",
       "..                           ...                          ...   \n",
       "530  SubjectUserName              DESKTOP-SDN1RPT$              \n",
       "531  SubjectUserName              DESKTOP-SDN1RPT$              \n",
       "532  SubjectUserName              DESKTOP-SDN1RPT$              \n",
       "533  SubjectUserName              DESKTOP-SDN1RPT$              \n",
       "534  SubjectUserName              DESKTOP-SDN1RPT$              \n",
       "535  SubjectUserName              DESKTOP-SDN1RPT$              \n",
       "536  SubjectUserName              DESKTOP-SDN1RPT$              \n",
       "537  SubjectUserName              DESKTOP-SDN1RPT$              \n",
       "538  SubjectUserName              DESKTOP-SDN1RPT$              \n",
       "539  SubjectUserName              DESKTOP-SDN1RPT$              \n",
       "\n",
       "    EventData > Data > 2 > @Name EventData > Data > 2 > #text  \\\n",
       "0    SubjectDomainName            WORKGROUP                     \n",
       "1    SubjectDomainName            WORKGROUP                     \n",
       "2    SubjectDomainName                    -                     \n",
       "3    SubjectDomainName                    -                     \n",
       "4    SubjectDomainName                  NaN                     \n",
       "5    SubjectDomainName                  NaN                     \n",
       "6    SubjectDomainName                  NaN                     \n",
       "7    SubjectDomainName                  NaN                     \n",
       "8    SubjectDomainName                  NaN                     \n",
       "9    SubjectDomainName                  NaN                     \n",
       "..                           ...                          ...   \n",
       "530  SubjectDomainName                 C137                     \n",
       "531  SubjectDomainName                 C137                     \n",
       "532  SubjectDomainName                 C137                     \n",
       "533  SubjectDomainName                 C137                     \n",
       "534  SubjectDomainName                 C137                     \n",
       "535  SubjectDomainName                 C137                     \n",
       "536  SubjectDomainName                 C137                     \n",
       "537  SubjectDomainName                 C137                     \n",
       "538  SubjectDomainName                 C137                     \n",
       "539  SubjectDomainName                 C137                     \n",
       "\n",
       "    EventData > Data > 3 > @Name EventData > Data > 3 > #text  \\\n",
       "0    SubjectLogonId               0x00000000000003e7            \n",
       "1    SubjectLogonId               0x00000000000003e7            \n",
       "2    SubjectLogonId               0x0000000000000000            \n",
       "3    SubjectLogonId               0x0000000000000000            \n",
       "4    SubjectLogonId               0x00000000000003e7            \n",
       "5    SubjectLogonId               0x00000000000003e7            \n",
       "6    SubjectLogonId               0x00000000000003e7            \n",
       "7    SubjectLogonId               0x00000000000003e7            \n",
       "8    SubjectLogonId               0x00000000000003e7            \n",
       "9    SubjectLogonId               0x00000000000003e7            \n",
       "..                           ...                          ...   \n",
       "530  SubjectLogonId               0x00000000000003e7            \n",
       "531  SubjectLogonId               0x00000000000003e7            \n",
       "532  SubjectLogonId               0x00000000000003e7            \n",
       "533  SubjectLogonId               0x00000000000003e7            \n",
       "534  SubjectLogonId               0x00000000000003e7            \n",
       "535  SubjectLogonId               0x00000000000003e7            \n",
       "536  SubjectLogonId               0x00000000000003e7            \n",
       "537  SubjectLogonId               0x00000000000003e7            \n",
       "538  SubjectLogonId               0x00000000000003e7            \n",
       "539  SubjectLogonId               0x00000000000003e7            \n",
       "\n",
       "    EventData > Data > 4 > @Name EventData > Data > 4 > #text  \\\n",
       "0    TargetUserSid                    S-1-5-18                  \n",
       "1    TargetUserSid                    S-1-5-18                  \n",
       "2    TargetUserSid                    S-1-5-18                  \n",
       "3    TargetUserSid                    S-1-5-18                  \n",
       "4    TargetUserSid                    S-1-5-18                  \n",
       "5    TargetUserSid                    S-1-5-18                  \n",
       "6    TargetUserSid                S-1-5-96-0-0                  \n",
       "7    TargetUserSid                S-1-5-96-0-0                  \n",
       "8    TargetUserSid                    S-1-5-20                  \n",
       "9    TargetUserSid                    S-1-5-20                  \n",
       "..                           ...                          ...   \n",
       "530  TargetUserSid                    S-1-5-18                  \n",
       "531  TargetUserSid                    S-1-5-18                  \n",
       "532  TargetUserSid                    S-1-5-18                  \n",
       "533  TargetUserSid                    S-1-5-18                  \n",
       "534  TargetUserSid                    S-1-5-18                  \n",
       "535  TargetUserSid                    S-1-5-18                  \n",
       "536  TargetUserSid                    S-1-5-18                  \n",
       "537  TargetUserSid                    S-1-5-18                  \n",
       "538  TargetUserSid                    S-1-5-18                  \n",
       "539  TargetUserSid                    S-1-5-18                  \n",
       "\n",
       "    EventData > Data > 5 > @Name EventData > Data > 5 > #text  \\\n",
       "0    TargetUserName                        SYSTEM               \n",
       "1    TargetUserName                        SYSTEM               \n",
       "2    TargetUserName                        SYSTEM               \n",
       "3    TargetUserName                        SYSTEM               \n",
       "4    TargetUserName                        SYSTEM               \n",
       "5    TargetUserName                        SYSTEM               \n",
       "6    TargetUserName                        UMFD-0               \n",
       "7    TargetUserName                        UMFD-0               \n",
       "8    TargetUserName               NETWORK SERVICE               \n",
       "9    TargetUserName               NETWORK SERVICE               \n",
       "..                           ...                          ...   \n",
       "530  TargetUserName                        SYSTEM               \n",
       "531  TargetUserName                        SYSTEM               \n",
       "532  TargetUserName                        SYSTEM               \n",
       "533  TargetUserName                        SYSTEM               \n",
       "534  TargetUserName                        SYSTEM               \n",
       "535  TargetUserName                        SYSTEM               \n",
       "536  TargetUserName                        SYSTEM               \n",
       "537  TargetUserName                        SYSTEM               \n",
       "538  TargetUserName                        SYSTEM               \n",
       "539  TargetUserName                        SYSTEM               \n",
       "\n",
       "    EventData > Data > 6 > @Name EventData > Data > 6 > #text  \\\n",
       "0    TargetDomainName                 NT AUTHORITY              \n",
       "1    TargetDomainName                 NT AUTHORITY              \n",
       "2    TargetDomainName                 NT AUTHORITY              \n",
       "3    TargetDomainName                 NT AUTHORITY              \n",
       "4    TargetDomainName                 NT AUTHORITY              \n",
       "5    TargetDomainName                 NT AUTHORITY              \n",
       "6    TargetDomainName             Font Driver Host              \n",
       "7    TargetDomainName             Font Driver Host              \n",
       "8    TargetDomainName                 NT AUTHORITY              \n",
       "9    TargetDomainName                 NT AUTHORITY              \n",
       "..                           ...                          ...   \n",
       "530  TargetDomainName                 NT AUTHORITY              \n",
       "531  TargetDomainName                 NT AUTHORITY              \n",
       "532  TargetDomainName                 NT AUTHORITY              \n",
       "533  TargetDomainName                 NT AUTHORITY              \n",
       "534  TargetDomainName                 NT AUTHORITY              \n",
       "535  TargetDomainName                 NT AUTHORITY              \n",
       "536  TargetDomainName                 NT AUTHORITY              \n",
       "537  TargetDomainName                 NT AUTHORITY              \n",
       "538  TargetDomainName                 NT AUTHORITY              \n",
       "539  TargetDomainName                 NT AUTHORITY              \n",
       "\n",
       "    EventData > Data > 7 > @Name EventData > Data > 7 > #text  \\\n",
       "0    TargetLogonId                0x00000000000003e7            \n",
       "1    TargetLogonId                0x00000000000003e7            \n",
       "2    TargetLogonId                0x00000000000003e7            \n",
       "3    TargetLogonId                0x00000000000003e7            \n",
       "4    TargetLogonId                0x00000000000003e7            \n",
       "5    TargetLogonId                0x00000000000003e7            \n",
       "6    TargetLogonId                0x0000000000016f57            \n",
       "7    TargetLogonId                0x0000000000016f57            \n",
       "8    TargetLogonId                0x00000000000003e4            \n",
       "9    TargetLogonId                0x00000000000003e4            \n",
       "..                           ...                          ...   \n",
       "530  TargetLogonId                0x00000000000003e7            \n",
       "531  TargetLogonId                0x00000000000003e7            \n",
       "532  TargetLogonId                0x00000000000003e7            \n",
       "533  TargetLogonId                0x00000000000003e7            \n",
       "534  TargetLogonId                0x00000000000003e7            \n",
       "535  TargetLogonId                0x00000000000003e7            \n",
       "536  TargetLogonId                0x00000000000003e7            \n",
       "537  TargetLogonId                0x00000000000003e7            \n",
       "538  TargetLogonId                0x00000000000003e7            \n",
       "539  TargetLogonId                0x00000000000003e7            \n",
       "\n",
       "    EventData > Data > 8 > @Name EventData > Data > 8 > #text  \\\n",
       "0    LogonType                    5                             \n",
       "1    LogonType                    5                             \n",
       "2    LogonType                    0                             \n",
       "3    LogonType                    0                             \n",
       "4    LogonType                    5                             \n",
       "5    LogonType                    5                             \n",
       "6    LogonType                    2                             \n",
       "7    LogonType                    2                             \n",
       "8    LogonType                    5                             \n",
       "9    LogonType                    5                             \n",
       "..                           ...                          ...   \n",
       "530  LogonType                    5                             \n",
       "531  LogonType                    5                             \n",
       "532  LogonType                    5                             \n",
       "533  LogonType                    5                             \n",
       "534  LogonType                    5                             \n",
       "535  LogonType                    5                             \n",
       "536  LogonType                    5                             \n",
       "537  LogonType                    5                             \n",
       "538  LogonType                    5                             \n",
       "539  LogonType                    5                             \n",
       "\n",
       "    EventData > Data > 9 > @Name EventData > Data > 9 > #text  \\\n",
       "0    LogonProcessName             Advapi                        \n",
       "1    LogonProcessName             Advapi                        \n",
       "2    LogonProcessName                  -                        \n",
       "3    LogonProcessName                  -                        \n",
       "4    LogonProcessName             Advapi                        \n",
       "5    LogonProcessName             Advapi                        \n",
       "6    LogonProcessName             Advapi                        \n",
       "7    LogonProcessName             Advapi                        \n",
       "8    LogonProcessName             Advapi                        \n",
       "9    LogonProcessName             Advapi                        \n",
       "..                           ...                          ...   \n",
       "530  LogonProcessName             Advapi                        \n",
       "531  LogonProcessName             Advapi                        \n",
       "532  LogonProcessName             Advapi                        \n",
       "533  LogonProcessName             Advapi                        \n",
       "534  LogonProcessName             Advapi                        \n",
       "535  LogonProcessName             Advapi                        \n",
       "536  LogonProcessName             Advapi                        \n",
       "537  LogonProcessName             Advapi                        \n",
       "538  LogonProcessName             Advapi                        \n",
       "539  LogonProcessName             Advapi                        \n",
       "\n",
       "    EventData > Data > 10 > @Name EventData > Data > 10 > #text  \\\n",
       "0    AuthenticationPackageName     Negotiate                      \n",
       "1    AuthenticationPackageName     Negotiate                      \n",
       "2    AuthenticationPackageName             -                      \n",
       "3    AuthenticationPackageName             -                      \n",
       "4    AuthenticationPackageName     Negotiate                      \n",
       "5    AuthenticationPackageName     Negotiate                      \n",
       "6    AuthenticationPackageName     Negotiate                      \n",
       "7    AuthenticationPackageName     Negotiate                      \n",
       "8    AuthenticationPackageName     Negotiate                      \n",
       "9    AuthenticationPackageName     Negotiate                      \n",
       "..                            ...                           ...   \n",
       "530  AuthenticationPackageName     Negotiate                      \n",
       "531  AuthenticationPackageName     Negotiate                      \n",
       "532  AuthenticationPackageName     Negotiate                      \n",
       "533  AuthenticationPackageName     Negotiate                      \n",
       "534  AuthenticationPackageName     Negotiate                      \n",
       "535  AuthenticationPackageName     Negotiate                      \n",
       "536  AuthenticationPackageName     Negotiate                      \n",
       "537  AuthenticationPackageName     Negotiate                      \n",
       "538  AuthenticationPackageName     Negotiate                      \n",
       "539  AuthenticationPackageName     Negotiate                      \n",
       "\n",
       "    EventData > Data > 11 > @Name EventData > Data > 11 > #text  \\\n",
       "0    WorkstationName               -                              \n",
       "1    WorkstationName               -                              \n",
       "2    WorkstationName               -                              \n",
       "3    WorkstationName               -                              \n",
       "4    WorkstationName               -                              \n",
       "5    WorkstationName               -                              \n",
       "6    WorkstationName               -                              \n",
       "7    WorkstationName               -                              \n",
       "8    WorkstationName               -                              \n",
       "9    WorkstationName               -                              \n",
       "..                            ...                           ...   \n",
       "530  WorkstationName               -                              \n",
       "531  WorkstationName               -                              \n",
       "532  WorkstationName               -                              \n",
       "533  WorkstationName               -                              \n",
       "534  WorkstationName               -                              \n",
       "535  WorkstationName               -                              \n",
       "536  WorkstationName               -                              \n",
       "537  WorkstationName               -                              \n",
       "538  WorkstationName               -                              \n",
       "539  WorkstationName               -                              \n",
       "\n",
       "    EventData > Data > 12 > @Name EventData > Data > 12 > #text            \\\n",
       "0    LogonGuid                     {00000000-0000-0000-0000-000000000000}   \n",
       "1    LogonGuid                     {00000000-0000-0000-0000-000000000000}   \n",
       "2    LogonGuid                     {00000000-0000-0000-0000-000000000000}   \n",
       "3    LogonGuid                     {00000000-0000-0000-0000-000000000000}   \n",
       "4    LogonGuid                     {00000000-0000-0000-0000-000000000000}   \n",
       "5    LogonGuid                     {00000000-0000-0000-0000-000000000000}   \n",
       "6    LogonGuid                     {00000000-0000-0000-0000-000000000000}   \n",
       "7    LogonGuid                     {00000000-0000-0000-0000-000000000000}   \n",
       "8    LogonGuid                     {00000000-0000-0000-0000-000000000000}   \n",
       "9    LogonGuid                     {00000000-0000-0000-0000-000000000000}   \n",
       "..                            ...                                     ...   \n",
       "530  LogonGuid                     {00000000-0000-0000-0000-000000000000}   \n",
       "531  LogonGuid                     {00000000-0000-0000-0000-000000000000}   \n",
       "532  LogonGuid                     {00000000-0000-0000-0000-000000000000}   \n",
       "533  LogonGuid                     {00000000-0000-0000-0000-000000000000}   \n",
       "534  LogonGuid                     {00000000-0000-0000-0000-000000000000}   \n",
       "535  LogonGuid                     {00000000-0000-0000-0000-000000000000}   \n",
       "536  LogonGuid                     {00000000-0000-0000-0000-000000000000}   \n",
       "537  LogonGuid                     {00000000-0000-0000-0000-000000000000}   \n",
       "538  LogonGuid                     {00000000-0000-0000-0000-000000000000}   \n",
       "539  LogonGuid                     {00000000-0000-0000-0000-000000000000}   \n",
       "\n",
       "    EventData > Data > 13 > @Name EventData > Data > 13 > #text  \\\n",
       "0    TransmittedServices           -                              \n",
       "1    TransmittedServices           -                              \n",
       "2    TransmittedServices           -                              \n",
       "3    TransmittedServices           -                              \n",
       "4    TransmittedServices           -                              \n",
       "5    TransmittedServices           -                              \n",
       "6    TransmittedServices           -                              \n",
       "7    TransmittedServices           -                              \n",
       "8    TransmittedServices           -                              \n",
       "9    TransmittedServices           -                              \n",
       "..                            ...                           ...   \n",
       "530  TransmittedServices           -                              \n",
       "531  TransmittedServices           -                              \n",
       "532  TransmittedServices           -                              \n",
       "533  TransmittedServices           -                              \n",
       "534  TransmittedServices           -                              \n",
       "535  TransmittedServices           -                              \n",
       "536  TransmittedServices           -                              \n",
       "537  TransmittedServices           -                              \n",
       "538  TransmittedServices           -                              \n",
       "539  TransmittedServices           -                              \n",
       "\n",
       "    EventData > Data > 14 > @Name EventData > Data > 14 > #text  \\\n",
       "0    LmPackageName                 -                              \n",
       "1    LmPackageName                 -                              \n",
       "2    LmPackageName                 -                              \n",
       "3    LmPackageName                 -                              \n",
       "4    LmPackageName                 -                              \n",
       "5    LmPackageName                 -                              \n",
       "6    LmPackageName                 -                              \n",
       "7    LmPackageName                 -                              \n",
       "8    LmPackageName                 -                              \n",
       "9    LmPackageName                 -                              \n",
       "..                            ...                           ...   \n",
       "530  LmPackageName                 -                              \n",
       "531  LmPackageName                 -                              \n",
       "532  LmPackageName                 -                              \n",
       "533  LmPackageName                 -                              \n",
       "534  LmPackageName                 -                              \n",
       "535  LmPackageName                 -                              \n",
       "536  LmPackageName                 -                              \n",
       "537  LmPackageName                 -                              \n",
       "538  LmPackageName                 -                              \n",
       "539  LmPackageName                 -                              \n",
       "\n",
       "    EventData > Data > 15 > @Name EventData > Data > 15 > #text  \\\n",
       "0    KeyLength                     0                              \n",
       "1    KeyLength                     0                              \n",
       "2    KeyLength                     0                              \n",
       "3    KeyLength                     0                              \n",
       "4    KeyLength                     0                              \n",
       "5    KeyLength                     0                              \n",
       "6    KeyLength                     0                              \n",
       "7    KeyLength                     0                              \n",
       "8    KeyLength                     0                              \n",
       "9    KeyLength                     0                              \n",
       "..                            ...                           ...   \n",
       "530  KeyLength                     0                              \n",
       "531  KeyLength                     0                              \n",
       "532  KeyLength                     0                              \n",
       "533  KeyLength                     0                              \n",
       "534  KeyLength                     0                              \n",
       "535  KeyLength                     0                              \n",
       "536  KeyLength                     0                              \n",
       "537  KeyLength                     0                              \n",
       "538  KeyLength                     0                              \n",
       "539  KeyLength                     0                              \n",
       "\n",
       "    EventData > Data > 16 > @Name EventData > Data > 16 > #text  \\\n",
       "0    ProcessId                     0x0000000000000284             \n",
       "1    ProcessId                     0x0000000000000284             \n",
       "2    ProcessId                     0x0000000000000004             \n",
       "3    ProcessId                     0x0000000000000004             \n",
       "4    ProcessId                     0x000000000000027c             \n",
       "5    ProcessId                     0x000000000000027c             \n",
       "6    ProcessId                     0x0000000000000208             \n",
       "7    ProcessId                     0x0000000000000208             \n",
       "8    ProcessId                     0x000000000000027c             \n",
       "9    ProcessId                     0x000000000000027c             \n",
       "..                            ...                           ...   \n",
       "530  ProcessId                     0x0000000000000268             \n",
       "531  ProcessId                     0x0000000000000268             \n",
       "532  ProcessId                     0x0000000000000268             \n",
       "533  ProcessId                     0x0000000000000268             \n",
       "534  ProcessId                     0x0000000000000268             \n",
       "535  ProcessId                     0x0000000000000268             \n",
       "536  ProcessId                     0x0000000000000268             \n",
       "537  ProcessId                     0x0000000000000268             \n",
       "538  ProcessId                     0x0000000000000268             \n",
       "539  ProcessId                     0x0000000000000268             \n",
       "\n",
       "    EventData > Data > 17 > @Name EventData > Data > 17 > #text      \\\n",
       "0    ProcessName                   C:\\Windows\\System32\\services.exe   \n",
       "1    ProcessName                   C:\\Windows\\System32\\services.exe   \n",
       "2    ProcessName                                                NaN   \n",
       "3    ProcessName                                                NaN   \n",
       "4    ProcessName                   C:\\Windows\\System32\\services.exe   \n",
       "5    ProcessName                   C:\\Windows\\System32\\services.exe   \n",
       "6    ProcessName                    C:\\Windows\\System32\\wininit.exe   \n",
       "7    ProcessName                    C:\\Windows\\System32\\wininit.exe   \n",
       "8    ProcessName                   C:\\Windows\\System32\\services.exe   \n",
       "9    ProcessName                   C:\\Windows\\System32\\services.exe   \n",
       "..                            ...                               ...   \n",
       "530  ProcessName                   C:\\Windows\\System32\\services.exe   \n",
       "531  ProcessName                   C:\\Windows\\System32\\services.exe   \n",
       "532  ProcessName                   C:\\Windows\\System32\\services.exe   \n",
       "533  ProcessName                   C:\\Windows\\System32\\services.exe   \n",
       "534  ProcessName                   C:\\Windows\\System32\\services.exe   \n",
       "535  ProcessName                   C:\\Windows\\System32\\services.exe   \n",
       "536  ProcessName                   C:\\Windows\\System32\\services.exe   \n",
       "537  ProcessName                   C:\\Windows\\System32\\services.exe   \n",
       "538  ProcessName                   C:\\Windows\\System32\\services.exe   \n",
       "539  ProcessName                   C:\\Windows\\System32\\services.exe   \n",
       "\n",
       "    EventData > Data > 18 > @Name EventData > Data > 18 > #text  \\\n",
       "0    IpAddress                     -                              \n",
       "1    IpAddress                     -                              \n",
       "2    IpAddress                     -                              \n",
       "3    IpAddress                     -                              \n",
       "4    IpAddress                     -                              \n",
       "5    IpAddress                     -                              \n",
       "6    IpAddress                     -                              \n",
       "7    IpAddress                     -                              \n",
       "8    IpAddress                     -                              \n",
       "9    IpAddress                     -                              \n",
       "..                            ...                           ...   \n",
       "530  IpAddress                     -                              \n",
       "531  IpAddress                     -                              \n",
       "532  IpAddress                     -                              \n",
       "533  IpAddress                     -                              \n",
       "534  IpAddress                     -                              \n",
       "535  IpAddress                     -                              \n",
       "536  IpAddress                     -                              \n",
       "537  IpAddress                     -                              \n",
       "538  IpAddress                     -                              \n",
       "539  IpAddress                     -                              \n",
       "\n",
       "    EventData > Data > 19 > @Name EventData > Data > 19 > #text  \\\n",
       "0    IpPort                        -                              \n",
       "1    IpPort                        -                              \n",
       "2    IpPort                        -                              \n",
       "3    IpPort                        -                              \n",
       "4    IpPort                        -                              \n",
       "5    IpPort                        -                              \n",
       "6    IpPort                        -                              \n",
       "7    IpPort                        -                              \n",
       "8    IpPort                        -                              \n",
       "9    IpPort                        -                              \n",
       "..                            ...                           ...   \n",
       "530  IpPort                        -                              \n",
       "531  IpPort                        -                              \n",
       "532  IpPort                        -                              \n",
       "533  IpPort                        -                              \n",
       "534  IpPort                        -                              \n",
       "535  IpPort                        -                              \n",
       "536  IpPort                        -                              \n",
       "537  IpPort                        -                              \n",
       "538  IpPort                        -                              \n",
       "539  IpPort                        -                              \n",
       "\n",
       "    EventData > Data > 20 > @Name EventData > Data > 20 > #text  \\\n",
       "0    ImpersonationLevel            %%1833                         \n",
       "1    ImpersonationLevel            %%1833                         \n",
       "2    ImpersonationLevel                 -                         \n",
       "3    ImpersonationLevel                 -                         \n",
       "4    ImpersonationLevel            %%1833                         \n",
       "5    ImpersonationLevel            %%1833                         \n",
       "6    ImpersonationLevel            %%1833                         \n",
       "7    ImpersonationLevel            %%1833                         \n",
       "8    ImpersonationLevel            %%1833                         \n",
       "9    ImpersonationLevel            %%1833                         \n",
       "..                            ...                           ...   \n",
       "530  ImpersonationLevel            %%1833                         \n",
       "531  ImpersonationLevel            %%1833                         \n",
       "532  ImpersonationLevel            %%1833                         \n",
       "533  ImpersonationLevel            %%1833                         \n",
       "534  ImpersonationLevel            %%1833                         \n",
       "535  ImpersonationLevel            %%1833                         \n",
       "536  ImpersonationLevel            %%1833                         \n",
       "537  ImpersonationLevel            %%1833                         \n",
       "538  ImpersonationLevel            %%1833                         \n",
       "539  ImpersonationLevel            %%1833                         \n",
       "\n",
       "    EventData > Data > 21 > @Name EventData > Data > 21 > #text  \\\n",
       "0    RestrictedAdminMode           -                              \n",
       "1    RestrictedAdminMode           -                              \n",
       "2    RestrictedAdminMode           -                              \n",
       "3    RestrictedAdminMode           -                              \n",
       "4    RestrictedAdminMode           -                              \n",
       "5    RestrictedAdminMode           -                              \n",
       "6    RestrictedAdminMode           -                              \n",
       "7    RestrictedAdminMode           -                              \n",
       "8    RestrictedAdminMode           -                              \n",
       "9    RestrictedAdminMode           -                              \n",
       "..                            ...                           ...   \n",
       "530  RestrictedAdminMode           -                              \n",
       "531  RestrictedAdminMode           -                              \n",
       "532  RestrictedAdminMode           -                              \n",
       "533  RestrictedAdminMode           -                              \n",
       "534  RestrictedAdminMode           -                              \n",
       "535  RestrictedAdminMode           -                              \n",
       "536  RestrictedAdminMode           -                              \n",
       "537  RestrictedAdminMode           -                              \n",
       "538  RestrictedAdminMode           -                              \n",
       "539  RestrictedAdminMode           -                              \n",
       "\n",
       "    EventData > Data > 22 > @Name EventData > Data > 22 > #text  \\\n",
       "0    TargetOutboundUserName        -                              \n",
       "1    TargetOutboundUserName        -                              \n",
       "2    TargetOutboundUserName        -                              \n",
       "3    TargetOutboundUserName        -                              \n",
       "4    TargetOutboundUserName        -                              \n",
       "5    TargetOutboundUserName        -                              \n",
       "6    TargetOutboundUserName        -                              \n",
       "7    TargetOutboundUserName        -                              \n",
       "8    TargetOutboundUserName        -                              \n",
       "9    TargetOutboundUserName        -                              \n",
       "..                            ...                           ...   \n",
       "530  TargetOutboundUserName        -                              \n",
       "531  TargetOutboundUserName        -                              \n",
       "532  TargetOutboundUserName        -                              \n",
       "533  TargetOutboundUserName        -                              \n",
       "534  TargetOutboundUserName        -                              \n",
       "535  TargetOutboundUserName        -                              \n",
       "536  TargetOutboundUserName        -                              \n",
       "537  TargetOutboundUserName        -                              \n",
       "538  TargetOutboundUserName        -                              \n",
       "539  TargetOutboundUserName        -                              \n",
       "\n",
       "    EventData > Data > 23 > @Name EventData > Data > 23 > #text  \\\n",
       "0    TargetOutboundDomainName      -                              \n",
       "1    TargetOutboundDomainName      -                              \n",
       "2    TargetOutboundDomainName      -                              \n",
       "3    TargetOutboundDomainName      -                              \n",
       "4    TargetOutboundDomainName      -                              \n",
       "5    TargetOutboundDomainName      -                              \n",
       "6    TargetOutboundDomainName      -                              \n",
       "7    TargetOutboundDomainName      -                              \n",
       "8    TargetOutboundDomainName      -                              \n",
       "9    TargetOutboundDomainName      -                              \n",
       "..                            ...                           ...   \n",
       "530  TargetOutboundDomainName      -                              \n",
       "531  TargetOutboundDomainName      -                              \n",
       "532  TargetOutboundDomainName      -                              \n",
       "533  TargetOutboundDomainName      -                              \n",
       "534  TargetOutboundDomainName      -                              \n",
       "535  TargetOutboundDomainName      -                              \n",
       "536  TargetOutboundDomainName      -                              \n",
       "537  TargetOutboundDomainName      -                              \n",
       "538  TargetOutboundDomainName      -                              \n",
       "539  TargetOutboundDomainName      -                              \n",
       "\n",
       "    EventData > Data > 24 > @Name EventData > Data > 24 > #text  \\\n",
       "0    VirtualAccount                %%1843                         \n",
       "1    VirtualAccount                %%1843                         \n",
       "2    VirtualAccount                %%1843                         \n",
       "3    VirtualAccount                %%1843                         \n",
       "4    VirtualAccount                %%1843                         \n",
       "5    VirtualAccount                %%1843                         \n",
       "6    VirtualAccount                %%1842                         \n",
       "7    VirtualAccount                %%1842                         \n",
       "8    VirtualAccount                %%1843                         \n",
       "9    VirtualAccount                %%1843                         \n",
       "..                            ...                           ...   \n",
       "530  VirtualAccount                %%1843                         \n",
       "531  VirtualAccount                %%1843                         \n",
       "532  VirtualAccount                %%1843                         \n",
       "533  VirtualAccount                %%1843                         \n",
       "534  VirtualAccount                %%1843                         \n",
       "535  VirtualAccount                %%1843                         \n",
       "536  VirtualAccount                %%1843                         \n",
       "537  VirtualAccount                %%1843                         \n",
       "538  VirtualAccount                %%1843                         \n",
       "539  VirtualAccount                %%1843                         \n",
       "\n",
       "    EventData > Data > 25 > @Name EventData > Data > 25 > #text  \\\n",
       "0    TargetLinkedLogonId           0x0000000000000000             \n",
       "1    TargetLinkedLogonId           0x0000000000000000             \n",
       "2    TargetLinkedLogonId           0x0000000000000000             \n",
       "3    TargetLinkedLogonId           0x0000000000000000             \n",
       "4    TargetLinkedLogonId           0x0000000000000000             \n",
       "5    TargetLinkedLogonId           0x0000000000000000             \n",
       "6    TargetLinkedLogonId           0x0000000000000000             \n",
       "7    TargetLinkedLogonId           0x0000000000000000             \n",
       "8    TargetLinkedLogonId           0x0000000000000000             \n",
       "9    TargetLinkedLogonId           0x0000000000000000             \n",
       "..                            ...                           ...   \n",
       "530  TargetLinkedLogonId           0x0000000000000000             \n",
       "531  TargetLinkedLogonId           0x0000000000000000             \n",
       "532  TargetLinkedLogonId           0x0000000000000000             \n",
       "533  TargetLinkedLogonId           0x0000000000000000             \n",
       "534  TargetLinkedLogonId           0x0000000000000000             \n",
       "535  TargetLinkedLogonId           0x0000000000000000             \n",
       "536  TargetLinkedLogonId           0x0000000000000000             \n",
       "537  TargetLinkedLogonId           0x0000000000000000             \n",
       "538  TargetLinkedLogonId           0x0000000000000000             \n",
       "539  TargetLinkedLogonId           0x0000000000000000             \n",
       "\n",
       "    EventData > Data > 26 > @Name EventData > Data > 26 > #text  \\\n",
       "0    ElevatedToken                 %%1842                         \n",
       "1    ElevatedToken                 %%1842                         \n",
       "2    ElevatedToken                 %%1842                         \n",
       "3    ElevatedToken                 %%1842                         \n",
       "4    ElevatedToken                 %%1842                         \n",
       "5    ElevatedToken                 %%1842                         \n",
       "6    ElevatedToken                 %%1843                         \n",
       "7    ElevatedToken                 %%1843                         \n",
       "8    ElevatedToken                 %%1842                         \n",
       "9    ElevatedToken                 %%1842                         \n",
       "..                            ...                           ...   \n",
       "530  ElevatedToken                 %%1842                         \n",
       "531  ElevatedToken                 %%1842                         \n",
       "532  ElevatedToken                 %%1842                         \n",
       "533  ElevatedToken                 %%1842                         \n",
       "534  ElevatedToken                 %%1842                         \n",
       "535  ElevatedToken                 %%1842                         \n",
       "536  ElevatedToken                 %%1842                         \n",
       "537  ElevatedToken                 %%1842                         \n",
       "538  ElevatedToken                 %%1842                         \n",
       "539  ElevatedToken                 %%1842                         \n",
       "\n",
       "     System > Correlation  \n",
       "0   NaN                    \n",
       "1   NaN                    \n",
       "2   NaN                    \n",
       "3   NaN                    \n",
       "4   NaN                    \n",
       "5   NaN                    \n",
       "6   NaN                    \n",
       "7   NaN                    \n",
       "8   NaN                    \n",
       "9   NaN                    \n",
       "..                    ...  \n",
       "530 NaN                    \n",
       "531 NaN                    \n",
       "532 NaN                    \n",
       "533 NaN                    \n",
       "534 NaN                    \n",
       "535 NaN                    \n",
       "536 NaN                    \n",
       "537 NaN                    \n",
       "538 NaN                    \n",
       "539 NaN                    \n",
       "\n",
       "[540 rows x 78 columns]"
      ]
     },
     "execution_count": 55,
     "metadata": {},
     "output_type": "execute_result"
    }
   ],
   "source": [
    "secevtxrawdf_dsk=evtxrawdfs_dsk['Security.evtx']\n",
    "secevtxrawdf_dsk"
   ]
  },
  {
   "cell_type": "markdown",
   "metadata": {},
   "source": [
    "Now that we obtained a DataFrame with only Security events, wouldn’t it be even better to distinguish by ID? We can create a dictionary of events separating them by ID with **evtid_dfs_build()** function from CHRYSALIS. Let's see how it works!"
   ]
  },
  {
   "cell_type": "code",
   "execution_count": 56,
   "metadata": {},
   "outputs": [
    {
     "name": "stdout",
     "output_type": "stream",
     "text": [
      "- Parsing event IDs: 4624 4625 \n"
     ]
    }
   ],
   "source": [
    "secevtxdfs_dsk = d4evtx.evtid_dfs_build(secevtxrawdf_dsk)"
   ]
  },
  {
   "cell_type": "markdown",
   "metadata": {},
   "source": [
    "Finally, we can create a DataFrame with only 4624 (Succesful logon attempts) events."
   ]
  },
  {
   "cell_type": "code",
   "execution_count": 57,
   "metadata": {},
   "outputs": [],
   "source": [
    "evts4624df_dsk = secevtxdfs_dsk[4624]"
   ]
  },
  {
   "cell_type": "markdown",
   "metadata": {},
   "source": [
    "We can repeat the same steps for the Domain Controller."
   ]
  },
  {
   "cell_type": "code",
   "execution_count": 58,
   "metadata": {},
   "outputs": [
    {
     "name": "stdout",
     "output_type": "stream",
     "text": [
      "Extracting evtx DFs dict from plaso DFs dict.\n",
      "- Extracting records...\n",
      "- Processing:\n",
      "  + Security.evtx\n",
      "    - Extracting & concatenating plaso xml_string entries\n",
      "    - Escaping/fixing not well-formed records\n",
      "    - Converting XML -> DF\n",
      "\n",
      "  + Application.evtx\n",
      "    - Extracting & concatenating plaso xml_string entries\n",
      "    - Escaping/fixing not well-formed records\n",
      "    - Converting XML -> DF\n",
      "\n",
      "- Done\n",
      "WARNING: data_path argument not provided. Cannot save pickle file.\n"
     ]
    }
   ],
   "source": [
    "evtxrawdfs_srv = d4pl.plaso_get_evtxdfs(pldfs_srv, 'CITADEL-DC01')"
   ]
  },
  {
   "cell_type": "code",
   "execution_count": 59,
   "metadata": {},
   "outputs": [
    {
     "name": "stdout",
     "output_type": "stream",
     "text": [
      "- Parsing event IDs: 4624 4625 \n"
     ]
    }
   ],
   "source": [
    "# Create Raw DF with plaso evtx records\n",
    "secevtxrawdf_srv=evtxrawdfs_srv['Security.evtx']\n",
    "# Create DF dict with individual Event IDs\n",
    "secevtxdfs_srv = d4evtx.evtid_dfs_build(secevtxrawdf_srv)\n",
    "evts4624df_srv = secevtxdfs_srv[4624]"
   ]
  },
  {
   "cell_type": "markdown",
   "metadata": {},
   "source": [
    "Now's when the magic happens!\n",
    "\n",
    "With **xanalysis()** function from CHRYSALIS we can see a statistical analysis of events 4624 and, consequently, obtain valuable information regarding the accesses to the machine.\n",
    "\n",
    "How does it work? As explained before, you have to select the options you want from the drop-down menus. In this case we must select only the type of analysis, which in this case will be \"Logon info summary\", since we have a DataFrame (\"evts4624df_srv\") and we do not have the option of Dictionary.\n",
    "\n",
    "If you want to explore different options you can load the event dictionary by ID \"secevtxdfs_srv\"."
   ]
  },
  {
   "cell_type": "markdown",
   "metadata": {},
   "source": [
    "### 2.4 xanalysis() Function"
   ]
  },
  {
   "cell_type": "markdown",
   "metadata": {},
   "source": [
    "<span style=\"color:purple\">\n",
    "<b>INSTRUCTIONS:</b>\n",
    "    <ul>\n",
    "    <li>Execute the cell.</li>\n",
    "    <li>Select Logon info summary as the available analysis.</li>\n",
    "    <li>Click on Export Result to d4.out.</li>\n",
    "</ul>\n",
    "</span>\n",
    "\n",
    "**ADVICE: If you see the graph very small execute the function again.**"
   ]
  },
  {
   "cell_type": "code",
   "execution_count": 61,
   "metadata": {},
   "outputs": [
    {
     "data": {
      "text/markdown": [
       "**Analisys explorer:**"
      ],
      "text/plain": [
       "<IPython.core.display.Markdown object>"
      ]
     },
     "metadata": {},
     "output_type": "display_data"
    },
    {
     "data": {
      "application/vnd.jupyter.widget-view+json": {
       "model_id": "8e7c287bd5f4499998618ecef173dc75",
       "version_major": 2,
       "version_minor": 0
      },
      "text/plain": [
       "Box(children=(Dropdown(description='Analysis object: ', disabled=True, layout=Layout(width='250px'), options=(…"
      ]
     },
     "metadata": {},
     "output_type": "display_data"
    },
    {
     "data": {
      "application/vnd.jupyter.widget-view+json": {
       "model_id": "8693db7cf47a4a4194a33077a9b8d655",
       "version_major": 2,
       "version_minor": 0
      },
      "text/plain": [
       "Box(children=(Dropdown(description='Available analysis types: ', layout=Layout(width='550px'), options=(('Sele…"
      ]
     },
     "metadata": {},
     "output_type": "display_data"
    },
    {
     "data": {
      "application/vnd.jupyter.widget-view+json": {
       "model_id": "4c5e2c9bf16541c093b29b217971d784",
       "version_major": 2,
       "version_minor": 0
      },
      "text/plain": [
       "Output(layout=Layout(overflow='auto', width='99%'))"
      ]
     },
     "metadata": {},
     "output_type": "display_data"
    }
   ],
   "source": [
    "# Domain Controller\n",
    "xanalysis(evts4624df_srv)"
   ]
  },
  {
   "cell_type": "markdown",
   "metadata": {},
   "source": [
    "As we can see, there's a lot of information to process here. So let's divide it in different sections:\n",
    " - **Workstation name table**: This is also known as the machine name or host name. It is the unique name you or your system administrator gave to the machine you are using. This is usually not the same name as your user name or login name. This is the machine name that other users see over the network, such as from electronic mail. The information in this table represents all the workstation names that appear in the data and how many times they appear. In this way we can see if they are common or exceptional.\n",
    " - **IP ADDRESS table**: An IP address is a unique address that identifies a device on the internet or a local network. IP stands for \"Internet Protocol,\" which is the set of rules governing the format of data sent via the internet or local network. The information in this table represents all the IP addresses that appear in the data and how many times they appear. In this way we can see, again, if they are common or exceptional.\n",
    " - **FIRST table**: The Target User Name column indicates the account for whom the new logon was created, i.e. the account that was logged on. On the Timestamp column we can see the first time that the user logged on. This gives us valuable information because we can actually see if its a new user or a common one.\n",
    " - **LAST table**: In this case the information provided is the same at in the previous table but with the last time that the user logged on.\n",
    " - **STATS table**: The information in this table represents all the Target User Names that appear in the data and how many times they appear. In this way we can see if they are common or exceptional.\n",
    " - **SID table**: A SID is a number used to identify user, group, and computer accounts in Windows. They're created when the account is first made in Windows and no two SIDs on a computer are ever the same. This table shows us the user name matching its SID."
   ]
  },
  {
   "cell_type": "markdown",
   "metadata": {},
   "source": [
    "- **Logons graph:** This graph shows the different accesses that a combination of Workstation Name, User name, Ip Address and LogonType has had. But, first things first... How many logon types we have? What does this mean?\n",
    "    \n",
    "     Logon Type | Description \n",
    "    ---|---\n",
    "     2 | Interactive (logon at keyboard and screen of system) \n",
    "     3 | Network (i.e. connection to shared folder on this computer from elsewhere on network)\n",
    "     7 | Unlock (i.e. unnattended workstation with password protected screen saver)\n",
    "     10 | RemoteInteractive (Terminal Services, Remote Desktop or Remote Assistance)\n",
    "    \n",
    "<br/><br/> \n",
    "<br/><br/>\n",
    "<br/><br/>\n",
    "\n",
    "This graph offers us the possibility of identifying patterns visually and, therefore, that something anomalous does not overlook us. Besides, we can also evaluate if the logon was dangerous or not.\n"
   ]
  },
  {
   "cell_type": "markdown",
   "metadata": {},
   "source": [
    " - **Logons table**: The last table contains the same information as the graph but on a DataFrame format. This way we can take a closer look and export it for making other analysis on our own. So let's export it and save it in a variable named \"succesful_logons_df\""
   ]
  },
  {
   "cell_type": "code",
   "execution_count": 64,
   "metadata": {},
   "outputs": [],
   "source": [
    "succesful_logons_df = d4.out"
   ]
  },
  {
   "cell_type": "code",
   "execution_count": 65,
   "metadata": {},
   "outputs": [
    {
     "name": "stdout",
     "output_type": "stream",
     "text": [
      "<IPython.core.display.Markdown object>\n"
     ]
    },
    {
     "data": {
      "text/html": [
       "<div>\n",
       "<style scoped>\n",
       "    .dataframe tbody tr th:only-of-type {\n",
       "        vertical-align: middle;\n",
       "    }\n",
       "\n",
       "    .dataframe tbody tr th {\n",
       "        vertical-align: top;\n",
       "    }\n",
       "\n",
       "    .dataframe thead th {\n",
       "        text-align: right;\n",
       "    }\n",
       "</style>\n",
       "<table border=\"1\" class=\"dataframe\">\n",
       "  <thead>\n",
       "    <tr style=\"text-align: left;\">\n",
       "      <th></th>\n",
       "      <th>Timestamp</th>\n",
       "      <th>WorkstationName</th>\n",
       "      <th>IpAddress</th>\n",
       "      <th>TargetUserName</th>\n",
       "      <th>LogonType</th>\n",
       "      <th>Count</th>\n",
       "    </tr>\n",
       "  </thead>\n",
       "  <tbody>\n",
       "    <tr>\n",
       "      <th>0</th>\n",
       "      <td>2020-09-17</td>\n",
       "      <td>win-e0po207ermd</td>\n",
       "      <td>127.0.0.1</td>\n",
       "      <td>Administrator</td>\n",
       "      <td>2</td>\n",
       "      <td>4</td>\n",
       "    </tr>\n",
       "    <tr>\n",
       "      <th>1</th>\n",
       "      <td>2020-09-18</td>\n",
       "      <td>-</td>\n",
       "      <td>-</td>\n",
       "      <td>DESKTOP-SDN1RPT$</td>\n",
       "      <td>3</td>\n",
       "      <td>1</td>\n",
       "    </tr>\n",
       "    <tr>\n",
       "      <th>2</th>\n",
       "      <td>2020-09-18</td>\n",
       "      <td>-</td>\n",
       "      <td>-</td>\n",
       "      <td>WIN-E0PO207ERMD$</td>\n",
       "      <td>3</td>\n",
       "      <td>1</td>\n",
       "    </tr>\n",
       "    <tr>\n",
       "      <th>3</th>\n",
       "      <td>2020-09-18</td>\n",
       "      <td>-</td>\n",
       "      <td>-</td>\n",
       "      <td>mortysmith</td>\n",
       "      <td>3</td>\n",
       "      <td>1</td>\n",
       "    </tr>\n",
       "    <tr>\n",
       "      <th>4</th>\n",
       "      <td>2020-09-18</td>\n",
       "      <td>-</td>\n",
       "      <td>-</td>\n",
       "      <td>ricksanchez</td>\n",
       "      <td>3</td>\n",
       "      <td>2</td>\n",
       "    </tr>\n",
       "    <tr>\n",
       "      <th>5</th>\n",
       "      <td>2020-09-18</td>\n",
       "      <td>-</td>\n",
       "      <td>10.42.85.115</td>\n",
       "      <td>Administrator</td>\n",
       "      <td>3</td>\n",
       "      <td>3</td>\n",
       "    </tr>\n",
       "    <tr>\n",
       "      <th>6</th>\n",
       "      <td>2020-09-18</td>\n",
       "      <td>-</td>\n",
       "      <td>10.42.85.115</td>\n",
       "      <td>DESKTOP-SDN1RPT$</td>\n",
       "      <td>3</td>\n",
       "      <td>55</td>\n",
       "    </tr>\n",
       "    <tr>\n",
       "      <th>7</th>\n",
       "      <td>2020-09-18</td>\n",
       "      <td>-</td>\n",
       "      <td>10.42.85.115</td>\n",
       "      <td>mortysmith</td>\n",
       "      <td>3</td>\n",
       "      <td>57</td>\n",
       "    </tr>\n",
       "    <tr>\n",
       "      <th>8</th>\n",
       "      <td>2020-09-18</td>\n",
       "      <td>-</td>\n",
       "      <td>10.42.85.115</td>\n",
       "      <td>ricksanchez</td>\n",
       "      <td>3</td>\n",
       "      <td>15</td>\n",
       "    </tr>\n",
       "    <tr>\n",
       "      <th>9</th>\n",
       "      <td>2020-09-18</td>\n",
       "      <td>citadel-dc01</td>\n",
       "      <td>127.0.0.1</td>\n",
       "      <td>Administrator</td>\n",
       "      <td>2</td>\n",
       "      <td>3</td>\n",
       "    </tr>\n",
       "    <tr>\n",
       "      <th>...</th>\n",
       "      <td>...</td>\n",
       "      <td>...</td>\n",
       "      <td>...</td>\n",
       "      <td>...</td>\n",
       "      <td>...</td>\n",
       "      <td>...</td>\n",
       "    </tr>\n",
       "    <tr>\n",
       "      <th>11</th>\n",
       "      <td>2020-09-18</td>\n",
       "      <td>win-e0po207ermd</td>\n",
       "      <td>127.0.0.1</td>\n",
       "      <td>Administrator</td>\n",
       "      <td>2</td>\n",
       "      <td>3</td>\n",
       "    </tr>\n",
       "    <tr>\n",
       "      <th>12</th>\n",
       "      <td>2020-09-18</td>\n",
       "      <td>win-e0po207ermd</td>\n",
       "      <td>127.0.0.1</td>\n",
       "      <td>Administrator</td>\n",
       "      <td>7</td>\n",
       "      <td>4</td>\n",
       "    </tr>\n",
       "    <tr>\n",
       "      <th>13</th>\n",
       "      <td>2020-09-19</td>\n",
       "      <td>-</td>\n",
       "      <td>-</td>\n",
       "      <td>Administrator</td>\n",
       "      <td>3</td>\n",
       "      <td>1</td>\n",
       "    </tr>\n",
       "    <tr>\n",
       "      <th>14</th>\n",
       "      <td>2020-09-19</td>\n",
       "      <td>-</td>\n",
       "      <td>-</td>\n",
       "      <td>CITADEL-DC01$</td>\n",
       "      <td>3</td>\n",
       "      <td>1</td>\n",
       "    </tr>\n",
       "    <tr>\n",
       "      <th>15</th>\n",
       "      <td>2020-09-19</td>\n",
       "      <td>-</td>\n",
       "      <td>10.42.85.115</td>\n",
       "      <td>Administrator</td>\n",
       "      <td>3</td>\n",
       "      <td>26</td>\n",
       "    </tr>\n",
       "    <tr>\n",
       "      <th>16</th>\n",
       "      <td>2020-09-19</td>\n",
       "      <td>-</td>\n",
       "      <td>10.42.85.115</td>\n",
       "      <td>DESKTOP-SDN1RPT$</td>\n",
       "      <td>3</td>\n",
       "      <td>40</td>\n",
       "    </tr>\n",
       "    <tr>\n",
       "      <th>17</th>\n",
       "      <td>2020-09-19</td>\n",
       "      <td>citadel-dc01</td>\n",
       "      <td>127.0.0.1</td>\n",
       "      <td>Administrator</td>\n",
       "      <td>2</td>\n",
       "      <td>1</td>\n",
       "    </tr>\n",
       "    <tr>\n",
       "      <th>18</th>\n",
       "      <td>2020-09-19</td>\n",
       "      <td>citadel-dc01</td>\n",
       "      <td>194.61.24.102</td>\n",
       "      <td>Administrator</td>\n",
       "      <td>10</td>\n",
       "      <td>4</td>\n",
       "    </tr>\n",
       "    <tr>\n",
       "      <th>19</th>\n",
       "      <td>2020-09-19</td>\n",
       "      <td>desktop-sdn1rpt</td>\n",
       "      <td>10.42.85.115</td>\n",
       "      <td>DESKTOP-SDN1RPT$</td>\n",
       "      <td>3</td>\n",
       "      <td>1</td>\n",
       "    </tr>\n",
       "    <tr>\n",
       "      <th>20</th>\n",
       "      <td>2020-09-19</td>\n",
       "      <td>kali</td>\n",
       "      <td>-</td>\n",
       "      <td>Administrator</td>\n",
       "      <td>3</td>\n",
       "      <td>4</td>\n",
       "    </tr>\n",
       "  </tbody>\n",
       "</table>\n",
       "<p>21 rows × 6 columns</p>\n",
       "</div>"
      ],
      "text/plain": [
       "   Timestamp  WorkstationName  IpAddress      TargetUserName     LogonType  \\\n",
       "0  2020-09-17  win-e0po207ermd      127.0.0.1     Administrator   2          \n",
       "1  2020-09-18                -              -  DESKTOP-SDN1RPT$   3          \n",
       "2  2020-09-18                -              -  WIN-E0PO207ERMD$   3          \n",
       "3  2020-09-18                -              -        mortysmith   3          \n",
       "4  2020-09-18                -              -       ricksanchez   3          \n",
       "5  2020-09-18                -   10.42.85.115     Administrator   3          \n",
       "6  2020-09-18                -   10.42.85.115  DESKTOP-SDN1RPT$   3          \n",
       "7  2020-09-18                -   10.42.85.115        mortysmith   3          \n",
       "8  2020-09-18                -   10.42.85.115       ricksanchez   3          \n",
       "9  2020-09-18     citadel-dc01      127.0.0.1     Administrator   2          \n",
       "..        ...              ...            ...               ...        ...   \n",
       "11 2020-09-18  win-e0po207ermd      127.0.0.1     Administrator   2          \n",
       "12 2020-09-18  win-e0po207ermd      127.0.0.1     Administrator   7          \n",
       "13 2020-09-19                -              -     Administrator   3          \n",
       "14 2020-09-19                -              -     CITADEL-DC01$   3          \n",
       "15 2020-09-19                -   10.42.85.115     Administrator   3          \n",
       "16 2020-09-19                -   10.42.85.115  DESKTOP-SDN1RPT$   3          \n",
       "17 2020-09-19     citadel-dc01      127.0.0.1     Administrator   2          \n",
       "18 2020-09-19     citadel-dc01  194.61.24.102     Administrator  10          \n",
       "19 2020-09-19  desktop-sdn1rpt   10.42.85.115  DESKTOP-SDN1RPT$   3          \n",
       "20 2020-09-19             kali              -     Administrator   3          \n",
       "\n",
       "    Count  \n",
       "0    4     \n",
       "1    1     \n",
       "2    1     \n",
       "3    1     \n",
       "4    2     \n",
       "5    3     \n",
       "6   55     \n",
       "7   57     \n",
       "8   15     \n",
       "9    3     \n",
       "..    ...  \n",
       "11   3     \n",
       "12   4     \n",
       "13   1     \n",
       "14   1     \n",
       "15  26     \n",
       "16  40     \n",
       "17   1     \n",
       "18   4     \n",
       "19   1     \n",
       "20   4     \n",
       "\n",
       "[21 rows x 6 columns]"
      ]
     },
     "execution_count": 65,
     "metadata": {},
     "output_type": "execute_result"
    }
   ],
   "source": [
    "succesful_logons_df.simple()"
   ]
  },
  {
   "cell_type": "markdown",
   "metadata": {},
   "source": [
    "We can't read all rows because of the current configuration. There's a way of changing it manually and set all the display options one by one. In this case we would need **pd.options.display.max_rows()** function from pandas.\n",
    "\n",
    "We can change other things like min rows, max columns, etc. For changing all of them at the same time we use **xdisplay()** function from CHRYSALIS. In this case, we want more rows, so we need to change \"display.max_rows\" for 25. Let's see how it works!\n",
    "\n",
    "<span style=\"color:purple\">\n",
    "<b>INSTRUCTIONS:</b>\n",
    "    <ul>\n",
    "    <li>Execute the cell.</li>\n",
    "    <li>On 'display:max_rows' change the number for 25.</li>\n",
    "</ul>\n",
    "</span>\n"
   ]
  },
  {
   "cell_type": "code",
   "execution_count": 66,
   "metadata": {},
   "outputs": [
    {
     "data": {
      "text/markdown": [
       "#### Pandas options"
      ],
      "text/plain": [
       "<IPython.core.display.Markdown object>"
      ]
     },
     "metadata": {},
     "output_type": "display_data"
    },
    {
     "data": {
      "application/vnd.jupyter.widget-view+json": {
       "model_id": "e79a0771b4944c13be8928b13984baef",
       "version_major": 2,
       "version_minor": 0
      },
      "text/plain": [
       "IntText(value=20, description='display.max_rows: ', style=DescriptionStyle(description_width='initial'))"
      ]
     },
     "metadata": {},
     "output_type": "display_data"
    },
    {
     "data": {
      "application/vnd.jupyter.widget-view+json": {
       "model_id": "6c19775f06984c25ae4bab19b04f8a09",
       "version_major": 2,
       "version_minor": 0
      },
      "text/plain": [
       "IntText(value=20, description='display.min_rows: ', style=DescriptionStyle(description_width='initial'))"
      ]
     },
     "metadata": {},
     "output_type": "display_data"
    },
    {
     "data": {
      "application/vnd.jupyter.widget-view+json": {
       "model_id": "98531867d185489798417bc5e4bb7459",
       "version_major": 2,
       "version_minor": 0
      },
      "text/plain": [
       "IntText(value=0, description='display.max_columns: ', style=DescriptionStyle(description_width='initial'))"
      ]
     },
     "metadata": {},
     "output_type": "display_data"
    },
    {
     "data": {
      "application/vnd.jupyter.widget-view+json": {
       "model_id": "915ba9668a384a3daab717b21000cc1d",
       "version_major": 2,
       "version_minor": 0
      },
      "text/plain": [
       "Dropdown(description='display.colheader_justify: ', index=1, options=('right', 'left'), style=DescriptionStyle…"
      ]
     },
     "metadata": {},
     "output_type": "display_data"
    },
    {
     "data": {
      "application/vnd.jupyter.widget-view+json": {
       "model_id": "58715ea3d43641569b6e24a6c094a97a",
       "version_major": 2,
       "version_minor": 0
      },
      "text/plain": [
       "Checkbox(value=True, description='display.expand_frame_repr', indent=False, style=DescriptionStyle(description…"
      ]
     },
     "metadata": {},
     "output_type": "display_data"
    }
   ],
   "source": [
    "xdisplay()"
   ]
  },
  {
   "cell_type": "code",
   "execution_count": 68,
   "metadata": {},
   "outputs": [
    {
     "name": "stdout",
     "output_type": "stream",
     "text": [
      "<IPython.core.display.Markdown object>\n"
     ]
    },
    {
     "data": {
      "text/html": [
       "<div>\n",
       "<style scoped>\n",
       "    .dataframe tbody tr th:only-of-type {\n",
       "        vertical-align: middle;\n",
       "    }\n",
       "\n",
       "    .dataframe tbody tr th {\n",
       "        vertical-align: top;\n",
       "    }\n",
       "\n",
       "    .dataframe thead th {\n",
       "        text-align: right;\n",
       "    }\n",
       "</style>\n",
       "<table border=\"1\" class=\"dataframe\">\n",
       "  <thead>\n",
       "    <tr style=\"text-align: left;\">\n",
       "      <th></th>\n",
       "      <th>Timestamp</th>\n",
       "      <th>WorkstationName</th>\n",
       "      <th>IpAddress</th>\n",
       "      <th>TargetUserName</th>\n",
       "      <th>LogonType</th>\n",
       "      <th>Count</th>\n",
       "    </tr>\n",
       "  </thead>\n",
       "  <tbody>\n",
       "    <tr>\n",
       "      <th>0</th>\n",
       "      <td>2020-09-17</td>\n",
       "      <td>win-e0po207ermd</td>\n",
       "      <td>127.0.0.1</td>\n",
       "      <td>Administrator</td>\n",
       "      <td>2</td>\n",
       "      <td>4</td>\n",
       "    </tr>\n",
       "    <tr>\n",
       "      <th>1</th>\n",
       "      <td>2020-09-18</td>\n",
       "      <td>-</td>\n",
       "      <td>-</td>\n",
       "      <td>DESKTOP-SDN1RPT$</td>\n",
       "      <td>3</td>\n",
       "      <td>1</td>\n",
       "    </tr>\n",
       "    <tr>\n",
       "      <th>2</th>\n",
       "      <td>2020-09-18</td>\n",
       "      <td>-</td>\n",
       "      <td>-</td>\n",
       "      <td>WIN-E0PO207ERMD$</td>\n",
       "      <td>3</td>\n",
       "      <td>1</td>\n",
       "    </tr>\n",
       "    <tr>\n",
       "      <th>3</th>\n",
       "      <td>2020-09-18</td>\n",
       "      <td>-</td>\n",
       "      <td>-</td>\n",
       "      <td>mortysmith</td>\n",
       "      <td>3</td>\n",
       "      <td>1</td>\n",
       "    </tr>\n",
       "    <tr>\n",
       "      <th>4</th>\n",
       "      <td>2020-09-18</td>\n",
       "      <td>-</td>\n",
       "      <td>-</td>\n",
       "      <td>ricksanchez</td>\n",
       "      <td>3</td>\n",
       "      <td>2</td>\n",
       "    </tr>\n",
       "    <tr>\n",
       "      <th>5</th>\n",
       "      <td>2020-09-18</td>\n",
       "      <td>-</td>\n",
       "      <td>10.42.85.115</td>\n",
       "      <td>Administrator</td>\n",
       "      <td>3</td>\n",
       "      <td>3</td>\n",
       "    </tr>\n",
       "    <tr>\n",
       "      <th>6</th>\n",
       "      <td>2020-09-18</td>\n",
       "      <td>-</td>\n",
       "      <td>10.42.85.115</td>\n",
       "      <td>DESKTOP-SDN1RPT$</td>\n",
       "      <td>3</td>\n",
       "      <td>55</td>\n",
       "    </tr>\n",
       "    <tr>\n",
       "      <th>7</th>\n",
       "      <td>2020-09-18</td>\n",
       "      <td>-</td>\n",
       "      <td>10.42.85.115</td>\n",
       "      <td>mortysmith</td>\n",
       "      <td>3</td>\n",
       "      <td>57</td>\n",
       "    </tr>\n",
       "    <tr>\n",
       "      <th>8</th>\n",
       "      <td>2020-09-18</td>\n",
       "      <td>-</td>\n",
       "      <td>10.42.85.115</td>\n",
       "      <td>ricksanchez</td>\n",
       "      <td>3</td>\n",
       "      <td>15</td>\n",
       "    </tr>\n",
       "    <tr>\n",
       "      <th>9</th>\n",
       "      <td>2020-09-18</td>\n",
       "      <td>citadel-dc01</td>\n",
       "      <td>127.0.0.1</td>\n",
       "      <td>Administrator</td>\n",
       "      <td>2</td>\n",
       "      <td>3</td>\n",
       "    </tr>\n",
       "    <tr>\n",
       "      <th>10</th>\n",
       "      <td>2020-09-18</td>\n",
       "      <td>win-e0po207ermd</td>\n",
       "      <td>-</td>\n",
       "      <td>Administrator</td>\n",
       "      <td>7</td>\n",
       "      <td>4</td>\n",
       "    </tr>\n",
       "    <tr>\n",
       "      <th>11</th>\n",
       "      <td>2020-09-18</td>\n",
       "      <td>win-e0po207ermd</td>\n",
       "      <td>127.0.0.1</td>\n",
       "      <td>Administrator</td>\n",
       "      <td>2</td>\n",
       "      <td>3</td>\n",
       "    </tr>\n",
       "    <tr>\n",
       "      <th>12</th>\n",
       "      <td>2020-09-18</td>\n",
       "      <td>win-e0po207ermd</td>\n",
       "      <td>127.0.0.1</td>\n",
       "      <td>Administrator</td>\n",
       "      <td>7</td>\n",
       "      <td>4</td>\n",
       "    </tr>\n",
       "    <tr>\n",
       "      <th>13</th>\n",
       "      <td>2020-09-19</td>\n",
       "      <td>-</td>\n",
       "      <td>-</td>\n",
       "      <td>Administrator</td>\n",
       "      <td>3</td>\n",
       "      <td>1</td>\n",
       "    </tr>\n",
       "    <tr>\n",
       "      <th>14</th>\n",
       "      <td>2020-09-19</td>\n",
       "      <td>-</td>\n",
       "      <td>-</td>\n",
       "      <td>CITADEL-DC01$</td>\n",
       "      <td>3</td>\n",
       "      <td>1</td>\n",
       "    </tr>\n",
       "    <tr>\n",
       "      <th>15</th>\n",
       "      <td>2020-09-19</td>\n",
       "      <td>-</td>\n",
       "      <td>10.42.85.115</td>\n",
       "      <td>Administrator</td>\n",
       "      <td>3</td>\n",
       "      <td>26</td>\n",
       "    </tr>\n",
       "    <tr>\n",
       "      <th>16</th>\n",
       "      <td>2020-09-19</td>\n",
       "      <td>-</td>\n",
       "      <td>10.42.85.115</td>\n",
       "      <td>DESKTOP-SDN1RPT$</td>\n",
       "      <td>3</td>\n",
       "      <td>40</td>\n",
       "    </tr>\n",
       "    <tr>\n",
       "      <th>17</th>\n",
       "      <td>2020-09-19</td>\n",
       "      <td>citadel-dc01</td>\n",
       "      <td>127.0.0.1</td>\n",
       "      <td>Administrator</td>\n",
       "      <td>2</td>\n",
       "      <td>1</td>\n",
       "    </tr>\n",
       "    <tr>\n",
       "      <th>18</th>\n",
       "      <td>2020-09-19</td>\n",
       "      <td>citadel-dc01</td>\n",
       "      <td>194.61.24.102</td>\n",
       "      <td>Administrator</td>\n",
       "      <td>10</td>\n",
       "      <td>4</td>\n",
       "    </tr>\n",
       "    <tr>\n",
       "      <th>19</th>\n",
       "      <td>2020-09-19</td>\n",
       "      <td>desktop-sdn1rpt</td>\n",
       "      <td>10.42.85.115</td>\n",
       "      <td>DESKTOP-SDN1RPT$</td>\n",
       "      <td>3</td>\n",
       "      <td>1</td>\n",
       "    </tr>\n",
       "    <tr>\n",
       "      <th>20</th>\n",
       "      <td>2020-09-19</td>\n",
       "      <td>kali</td>\n",
       "      <td>-</td>\n",
       "      <td>Administrator</td>\n",
       "      <td>3</td>\n",
       "      <td>4</td>\n",
       "    </tr>\n",
       "  </tbody>\n",
       "</table>\n",
       "</div>"
      ],
      "text/plain": [
       "   Timestamp  WorkstationName  IpAddress      TargetUserName     LogonType  \\\n",
       "0  2020-09-17  win-e0po207ermd      127.0.0.1     Administrator   2          \n",
       "1  2020-09-18                -              -  DESKTOP-SDN1RPT$   3          \n",
       "2  2020-09-18                -              -  WIN-E0PO207ERMD$   3          \n",
       "3  2020-09-18                -              -        mortysmith   3          \n",
       "4  2020-09-18                -              -       ricksanchez   3          \n",
       "5  2020-09-18                -   10.42.85.115     Administrator   3          \n",
       "6  2020-09-18                -   10.42.85.115  DESKTOP-SDN1RPT$   3          \n",
       "7  2020-09-18                -   10.42.85.115        mortysmith   3          \n",
       "8  2020-09-18                -   10.42.85.115       ricksanchez   3          \n",
       "9  2020-09-18     citadel-dc01      127.0.0.1     Administrator   2          \n",
       "10 2020-09-18  win-e0po207ermd              -     Administrator   7          \n",
       "11 2020-09-18  win-e0po207ermd      127.0.0.1     Administrator   2          \n",
       "12 2020-09-18  win-e0po207ermd      127.0.0.1     Administrator   7          \n",
       "13 2020-09-19                -              -     Administrator   3          \n",
       "14 2020-09-19                -              -     CITADEL-DC01$   3          \n",
       "15 2020-09-19                -   10.42.85.115     Administrator   3          \n",
       "16 2020-09-19                -   10.42.85.115  DESKTOP-SDN1RPT$   3          \n",
       "17 2020-09-19     citadel-dc01      127.0.0.1     Administrator   2          \n",
       "18 2020-09-19     citadel-dc01  194.61.24.102     Administrator  10          \n",
       "19 2020-09-19  desktop-sdn1rpt   10.42.85.115  DESKTOP-SDN1RPT$   3          \n",
       "20 2020-09-19             kali              -     Administrator   3          \n",
       "\n",
       "    Count  \n",
       "0    4     \n",
       "1    1     \n",
       "2    1     \n",
       "3    1     \n",
       "4    2     \n",
       "5    3     \n",
       "6   55     \n",
       "7   57     \n",
       "8   15     \n",
       "9    3     \n",
       "10   4     \n",
       "11   3     \n",
       "12   4     \n",
       "13   1     \n",
       "14   1     \n",
       "15  26     \n",
       "16  40     \n",
       "17   1     \n",
       "18   4     \n",
       "19   1     \n",
       "20   4     "
      ]
     },
     "execution_count": 68,
     "metadata": {},
     "output_type": "execute_result"
    }
   ],
   "source": [
    "succesful_logons_df.simple()"
   ]
  },
  {
   "cell_type": "markdown",
   "metadata": {},
   "source": [
    "Let's talk about everything we discovered on the analysis. We can see at first view that there's a very strange Workstation Name: kali. Besides, the \"194.61.24.102\" IP address catches our attention because it's not a common one on the machine. Finally, on \"succesful_logons_df\" rows 18 and 20 have never happened before. We can clearly see it on the graph.\n",
    "\n",
    "**So let's keep in mind kali and 194.61.24.102**"
   ]
  },
  {
   "cell_type": "markdown",
   "metadata": {},
   "source": [
    "<span style=\"color:blue\">**Is there any suspicious logon on the Domain Controller/Server?** </span>"
   ]
  },
  {
   "cell_type": "markdown",
   "metadata": {},
   "source": [
    "<span style=\"color:green\">**ANSWER**:</span>\n",
    "\n",
    "<span style=\"color:green\">Yes. We can see on the xanalysis() graph some activity that had not previously occurred. This activity corresponds to the IP address 194.61.24.102 and the Workstation Name of kali.</span>"
   ]
  },
  {
   "cell_type": "markdown",
   "metadata": {},
   "source": [
    "<span style=\"color:blue\">**Which logon type is it and what does it mean?** </span>"
   ]
  },
  {
   "cell_type": "markdown",
   "metadata": {},
   "source": [
    "<span style=\"color:green\">**ANSWER**:</span>\n",
    "\n",
    "<span style=\"color:green\">The Logon Types are 3 and 10.</span>\n",
    "\n",
    "- <span style=\"color:green\">3: Network (i.e. connection to shared folder on this computer from elsewhere on network)</span>\n",
    "- <span style=\"color:green\">10: RemoteInteractive (Terminal Services, Remote Desktop or Remote Assistance)</span>"
   ]
  },
  {
   "cell_type": "markdown",
   "metadata": {},
   "source": [
    "We can repeat the same steps for the Desktop:"
   ]
  },
  {
   "cell_type": "markdown",
   "metadata": {},
   "source": [
    "<span style=\"color:purple\">\n",
    "<b>INSTRUCTIONS:</b>\n",
    "    <ul>\n",
    "    <li>Execute the cell.</li>\n",
    "    <li>Select Logon info summary as the available analysis.</li>\n",
    "</ul>\n",
    "</span>\n",
    "\n",
    "**ADVICE: If you see the graph very small execute the function again.**"
   ]
  },
  {
   "cell_type": "code",
   "execution_count": 69,
   "metadata": {},
   "outputs": [
    {
     "data": {
      "text/markdown": [
       "**Analisys explorer:**"
      ],
      "text/plain": [
       "<IPython.core.display.Markdown object>"
      ]
     },
     "metadata": {},
     "output_type": "display_data"
    },
    {
     "data": {
      "application/vnd.jupyter.widget-view+json": {
       "model_id": "003c2801303746fda4b902c07a8f614a",
       "version_major": 2,
       "version_minor": 0
      },
      "text/plain": [
       "Box(children=(Dropdown(description='Analysis object: ', disabled=True, layout=Layout(width='250px'), options=(…"
      ]
     },
     "metadata": {},
     "output_type": "display_data"
    },
    {
     "data": {
      "application/vnd.jupyter.widget-view+json": {
       "model_id": "4c5e88c354c64433a2d8774bb3665d4b",
       "version_major": 2,
       "version_minor": 0
      },
      "text/plain": [
       "Box(children=(Dropdown(description='Available analysis types: ', layout=Layout(width='550px'), options=(('Sele…"
      ]
     },
     "metadata": {},
     "output_type": "display_data"
    },
    {
     "data": {
      "application/vnd.jupyter.widget-view+json": {
       "model_id": "c00bd097beb54ba5affd070089298818",
       "version_major": 2,
       "version_minor": 0
      },
      "text/plain": [
       "Output(layout=Layout(overflow='auto', width='99%'))"
      ]
     },
     "metadata": {},
     "output_type": "display_data"
    }
   ],
   "source": [
    "xanalysis(evts4624df_dsk)"
   ]
  },
  {
   "cell_type": "markdown",
   "metadata": {},
   "source": [
    "We can see that 7 and 9 have never happened before and that's suspicious.\n",
    "\n",
    "**Let's not forget 10.42.85.10 IP address**"
   ]
  },
  {
   "cell_type": "markdown",
   "metadata": {},
   "source": [
    "<span style=\"color:blue\">**What about the Desktop?** </span>"
   ]
  },
  {
   "cell_type": "markdown",
   "metadata": {},
   "source": [
    "<span style=\"color:green\">**ANSWER**:</span>\n",
    "\n",
    "<span style=\"color:green\">We have suspicious activity with the IP address 10.42.85.10 with the user Administrator.</span>\n",
    "\n",
    "<span style=\"color:green\">The Logon Types are 3 and 10.</span>\n",
    "\n",
    "- <span style=\"color:green\">3: Network (i.e. connection to shared folder on this computer from elsewhere on network)</span>\n",
    "- <span style=\"color:green\">10: RemoteInteractive (Terminal Services, Remote Desktop or Remote Assistance)</span>"
   ]
  },
  {
   "cell_type": "markdown",
   "metadata": {},
   "source": [
    "### **2.5 CONCLUSIONS**:"
   ]
  },
  {
   "cell_type": "markdown",
   "metadata": {},
   "source": [
    "**2. Logon Analysis**\n",
    "\n",
    " - On the Domain Controller: Suspicious activity on the 19th of September 2020 (kali and 194.61.24.102 -> User administrator)\n",
    " - On the Desktop: Suspicious activity on the 19th of September 2020 (User administrator)"
   ]
  },
  {
   "cell_type": "markdown",
   "metadata": {},
   "source": [
    "## **3. CLOSER LOOK INTO DOMAIN CONTROLLER LOGONS**"
   ]
  },
  {
   "cell_type": "markdown",
   "metadata": {},
   "source": [
    "<span style=\"color:blue\">**At what time did the suspicious logon ocurred on the Domain Controller/Server?** </span>"
   ]
  },
  {
   "cell_type": "markdown",
   "metadata": {},
   "source": [
    "### 3.1 Suspicious Logons\n",
    "\n",
    "Let's look at the suspicious logons closer, reading the 4624 DataFrames from Domain Controller directly from the DataFrame, using the **simple()** function from CHRYSALIS again."
   ]
  },
  {
   "cell_type": "code",
   "execution_count": 56,
   "metadata": {},
   "outputs": [
    {
     "name": "stdout",
     "output_type": "stream",
     "text": [
      "WARNING: Too many rows (>20) in DataFrame for beautification. Returning non-beautified output.\n",
      "         Specify the \"max_rows=\" option to increase this value\n",
      "\n"
     ]
    },
    {
     "data": {
      "text/markdown": [
       "**Statistics:**\n",
       "<br>No. Entries: 2540"
      ],
      "text/plain": [
       "<IPython.core.display.Markdown object>"
      ]
     },
     "metadata": {},
     "output_type": "display_data"
    },
    {
     "data": {
      "text/markdown": [
       "**Constant Columns**"
      ],
      "text/plain": [
       "<IPython.core.display.Markdown object>"
      ]
     },
     "metadata": {},
     "output_type": "display_data"
    },
    {
     "data": {
      "text/html": [
       "<div>\n",
       "<style scoped>\n",
       "    .dataframe tbody tr th:only-of-type {\n",
       "        vertical-align: middle;\n",
       "    }\n",
       "\n",
       "    .dataframe tbody tr th {\n",
       "        vertical-align: top;\n",
       "    }\n",
       "\n",
       "    .dataframe thead th {\n",
       "        text-align: right;\n",
       "    }\n",
       "</style>\n",
       "<table border=\"1\" class=\"dataframe\">\n",
       "  <thead>\n",
       "    <tr style=\"text-align: left;\">\n",
       "      <th></th>\n",
       "      <th>Column</th>\n",
       "      <th>Value</th>\n",
       "    </tr>\n",
       "  </thead>\n",
       "  <tbody>\n",
       "    <tr>\n",
       "      <th>0</th>\n",
       "      <td>D4_DataType_</td>\n",
       "      <td>evtx</td>\n",
       "    </tr>\n",
       "    <tr>\n",
       "      <th>1</th>\n",
       "      <td>D4_Orchestrator_</td>\n",
       "      <td>nan</td>\n",
       "    </tr>\n",
       "    <tr>\n",
       "      <th>2</th>\n",
       "      <td>D4_Tool_</td>\n",
       "      <td>plaso</td>\n",
       "    </tr>\n",
       "    <tr>\n",
       "      <th>3</th>\n",
       "      <td>D4_Plugin_</td>\n",
       "      <td>windows_evtx_record</td>\n",
       "    </tr>\n",
       "    <tr>\n",
       "      <th>4</th>\n",
       "      <td>D4_Hostname_</td>\n",
       "      <td>nan</td>\n",
       "    </tr>\n",
       "    <tr>\n",
       "      <th>5</th>\n",
       "      <td>EventID_</td>\n",
       "      <td>4624</td>\n",
       "    </tr>\n",
       "    <tr>\n",
       "      <th>6</th>\n",
       "      <td>evtxFileName_</td>\n",
       "      <td>Security.evtx</td>\n",
       "    </tr>\n",
       "    <tr>\n",
       "      <th>7</th>\n",
       "      <td>ProviderName</td>\n",
       "      <td>Microsoft-Windows-Security-Auditing</td>\n",
       "    </tr>\n",
       "    <tr>\n",
       "      <th>8</th>\n",
       "      <td>ProviderGuid</td>\n",
       "      <td>{54849625-5478-4994-A5BA-3E3B0328C30D}</td>\n",
       "    </tr>\n",
       "    <tr>\n",
       "      <th>9</th>\n",
       "      <td>System &gt; EventID</td>\n",
       "      <td>4624</td>\n",
       "    </tr>\n",
       "    <tr>\n",
       "      <th>10</th>\n",
       "      <td>Version</td>\n",
       "      <td>1</td>\n",
       "    </tr>\n",
       "    <tr>\n",
       "      <th>11</th>\n",
       "      <td>Level</td>\n",
       "      <td>0</td>\n",
       "    </tr>\n",
       "    <tr>\n",
       "      <th>12</th>\n",
       "      <td>Task</td>\n",
       "      <td>12544</td>\n",
       "    </tr>\n",
       "    <tr>\n",
       "      <th>13</th>\n",
       "      <td>Opcode</td>\n",
       "      <td>0</td>\n",
       "    </tr>\n",
       "    <tr>\n",
       "      <th>14</th>\n",
       "      <td>Keywords</td>\n",
       "      <td>0x8020000000000000</td>\n",
       "    </tr>\n",
       "    <tr>\n",
       "      <th>15</th>\n",
       "      <td>Channel</td>\n",
       "      <td>Security</td>\n",
       "    </tr>\n",
       "    <tr>\n",
       "      <th>16</th>\n",
       "      <td>TransmittedServices</td>\n",
       "      <td>-</td>\n",
       "    </tr>\n",
       "  </tbody>\n",
       "</table>\n",
       "</div>"
      ],
      "text/plain": [
       "   Column               Value                                  \n",
       "0          D4_DataType_                                    evtx\n",
       "1      D4_Orchestrator_                                     nan\n",
       "2              D4_Tool_                                   plaso\n",
       "3            D4_Plugin_                     windows_evtx_record\n",
       "4          D4_Hostname_                                     nan\n",
       "5              EventID_                                    4624\n",
       "6         evtxFileName_                           Security.evtx\n",
       "7          ProviderName     Microsoft-Windows-Security-Auditing\n",
       "8          ProviderGuid  {54849625-5478-4994-A5BA-3E3B0328C30D}\n",
       "9      System > EventID                                    4624\n",
       "10              Version                                       1\n",
       "11                Level                                       0\n",
       "12                 Task                                   12544\n",
       "13               Opcode                                       0\n",
       "14             Keywords                      0x8020000000000000\n",
       "15              Channel                                Security\n",
       "16  TransmittedServices                                       -"
      ]
     },
     "metadata": {},
     "output_type": "display_data"
    },
    {
     "data": {
      "text/html": [
       "<div>\n",
       "<style scoped>\n",
       "    .dataframe tbody tr th:only-of-type {\n",
       "        vertical-align: middle;\n",
       "    }\n",
       "\n",
       "    .dataframe tbody tr th {\n",
       "        vertical-align: top;\n",
       "    }\n",
       "\n",
       "    .dataframe thead th {\n",
       "        text-align: right;\n",
       "    }\n",
       "</style>\n",
       "<table border=\"1\" class=\"dataframe\">\n",
       "  <thead>\n",
       "    <tr style=\"text-align: left;\">\n",
       "      <th></th>\n",
       "      <th>EventRecordID</th>\n",
       "      <th>ProcessID</th>\n",
       "      <th>ThreadID</th>\n",
       "      <th>Computer</th>\n",
       "      <th>SubjectUserSid</th>\n",
       "      <th>SubjectUserName</th>\n",
       "      <th>SubjectDomainName</th>\n",
       "      <th>SubjectLogonId</th>\n",
       "      <th>TargetUserSid</th>\n",
       "      <th>TargetUserName</th>\n",
       "      <th>TargetDomainName</th>\n",
       "      <th>TargetLogonId</th>\n",
       "      <th>LogonType</th>\n",
       "      <th>LogonType_K_</th>\n",
       "      <th>LogonProcessName</th>\n",
       "      <th>AuthenticationPackageName</th>\n",
       "      <th>WorkstationName</th>\n",
       "      <th>LogonGuid</th>\n",
       "      <th>LmPackageName</th>\n",
       "      <th>KeyLength</th>\n",
       "      <th>ProcessId</th>\n",
       "      <th>IpAddress</th>\n",
       "      <th>IpPort</th>\n",
       "      <th>ImpersonationLevel</th>\n",
       "      <th>ProcessName</th>\n",
       "    </tr>\n",
       "    <tr>\n",
       "      <th>Timestamp</th>\n",
       "      <th></th>\n",
       "      <th></th>\n",
       "      <th></th>\n",
       "      <th></th>\n",
       "      <th></th>\n",
       "      <th></th>\n",
       "      <th></th>\n",
       "      <th></th>\n",
       "      <th></th>\n",
       "      <th></th>\n",
       "      <th></th>\n",
       "      <th></th>\n",
       "      <th></th>\n",
       "      <th></th>\n",
       "      <th></th>\n",
       "      <th></th>\n",
       "      <th></th>\n",
       "      <th></th>\n",
       "      <th></th>\n",
       "      <th></th>\n",
       "      <th></th>\n",
       "      <th></th>\n",
       "      <th></th>\n",
       "      <th></th>\n",
       "      <th></th>\n",
       "    </tr>\n",
       "  </thead>\n",
       "  <tbody>\n",
       "    <tr>\n",
       "      <th>2020-09-17 15:51:53</th>\n",
       "      <td>2</td>\n",
       "      <td>488</td>\n",
       "      <td>492</td>\n",
       "      <td>WIN-HRJHA99CCDO</td>\n",
       "      <td>S-1-0-0</td>\n",
       "      <td>-</td>\n",
       "      <td>-</td>\n",
       "      <td>0x0000000000000000</td>\n",
       "      <td>S-1-5-18</td>\n",
       "      <td>SYSTEM</td>\n",
       "      <td>NT AUTHORITY</td>\n",
       "      <td>0x00000000000003e7</td>\n",
       "      <td>0</td>\n",
       "      <td>NaN</td>\n",
       "      <td>-</td>\n",
       "      <td>-</td>\n",
       "      <td>-</td>\n",
       "      <td>{00000000-0000-0000-0000-000000000000}</td>\n",
       "      <td>-</td>\n",
       "      <td>0</td>\n",
       "      <td>0x0000000000000004</td>\n",
       "      <td>-</td>\n",
       "      <td>-</td>\n",
       "      <td>-</td>\n",
       "      <td>&lt;NA&gt;</td>\n",
       "    </tr>\n",
       "    <tr>\n",
       "      <th>2020-09-17 15:51:54</th>\n",
       "      <td>4</td>\n",
       "      <td>488</td>\n",
       "      <td>512</td>\n",
       "      <td>WIN-HRJHA99CCDO</td>\n",
       "      <td>S-1-5-18</td>\n",
       "      <td>WIN-HRJHA99CCDO$</td>\n",
       "      <td>WORKGROUP</td>\n",
       "      <td>0x00000000000003e7</td>\n",
       "      <td>S-1-5-18</td>\n",
       "      <td>SYSTEM</td>\n",
       "      <td>NT AUTHORITY</td>\n",
       "      <td>0x00000000000003e7</td>\n",
       "      <td>5</td>\n",
       "      <td>Service</td>\n",
       "      <td>Advapi</td>\n",
       "      <td>Negotiate</td>\n",
       "      <td>&lt;NA&gt;</td>\n",
       "      <td>{00000000-0000-0000-0000-000000000000}</td>\n",
       "      <td>-</td>\n",
       "      <td>0</td>\n",
       "      <td>0x00000000000001e0</td>\n",
       "      <td>-</td>\n",
       "      <td>-</td>\n",
       "      <td>%%1833</td>\n",
       "      <td>C:\\Windows\\System32\\services.exe</td>\n",
       "    </tr>\n",
       "    <tr>\n",
       "      <th>2020-09-17 15:51:54</th>\n",
       "      <td>6</td>\n",
       "      <td>488</td>\n",
       "      <td>512</td>\n",
       "      <td>WIN-HRJHA99CCDO</td>\n",
       "      <td>S-1-5-18</td>\n",
       "      <td>WIN-HRJHA99CCDO$</td>\n",
       "      <td>WORKGROUP</td>\n",
       "      <td>0x00000000000003e7</td>\n",
       "      <td>S-1-5-20</td>\n",
       "      <td>NETWORK SERVICE</td>\n",
       "      <td>NT AUTHORITY</td>\n",
       "      <td>0x00000000000003e4</td>\n",
       "      <td>5</td>\n",
       "      <td>Service</td>\n",
       "      <td>Advapi</td>\n",
       "      <td>Negotiate</td>\n",
       "      <td>&lt;NA&gt;</td>\n",
       "      <td>{00000000-0000-0000-0000-000000000000}</td>\n",
       "      <td>-</td>\n",
       "      <td>0</td>\n",
       "      <td>0x00000000000001e0</td>\n",
       "      <td>-</td>\n",
       "      <td>-</td>\n",
       "      <td>%%1833</td>\n",
       "      <td>C:\\Windows\\System32\\services.exe</td>\n",
       "    </tr>\n",
       "    <tr>\n",
       "      <th>2020-09-17 15:51:54</th>\n",
       "      <td>9</td>\n",
       "      <td>488</td>\n",
       "      <td>512</td>\n",
       "      <td>WIN-HRJHA99CCDO</td>\n",
       "      <td>S-1-5-18</td>\n",
       "      <td>WIN-HRJHA99CCDO$</td>\n",
       "      <td>WORKGROUP</td>\n",
       "      <td>0x00000000000003e7</td>\n",
       "      <td>S-1-5-90-1</td>\n",
       "      <td>DWM-1</td>\n",
       "      <td>Window Manager</td>\n",
       "      <td>0x000000000004b2aa</td>\n",
       "      <td>2</td>\n",
       "      <td>Interactive</td>\n",
       "      <td>Advapi</td>\n",
       "      <td>Negotiate</td>\n",
       "      <td>&lt;NA&gt;</td>\n",
       "      <td>{00000000-0000-0000-0000-000000000000}</td>\n",
       "      <td>-</td>\n",
       "      <td>0</td>\n",
       "      <td>0x00000000000001b8</td>\n",
       "      <td>-</td>\n",
       "      <td>-</td>\n",
       "      <td>%%1833</td>\n",
       "      <td>C:\\Windows\\System32\\winlogon.exe</td>\n",
       "    </tr>\n",
       "    <tr>\n",
       "      <th>2020-09-17 15:51:54</th>\n",
       "      <td>10</td>\n",
       "      <td>488</td>\n",
       "      <td>512</td>\n",
       "      <td>WIN-HRJHA99CCDO</td>\n",
       "      <td>S-1-5-18</td>\n",
       "      <td>WIN-HRJHA99CCDO$</td>\n",
       "      <td>WORKGROUP</td>\n",
       "      <td>0x00000000000003e7</td>\n",
       "      <td>S-1-5-90-1</td>\n",
       "      <td>DWM-1</td>\n",
       "      <td>Window Manager</td>\n",
       "      <td>0x000000000004b2ba</td>\n",
       "      <td>2</td>\n",
       "      <td>Interactive</td>\n",
       "      <td>Advapi</td>\n",
       "      <td>Negotiate</td>\n",
       "      <td>&lt;NA&gt;</td>\n",
       "      <td>{00000000-0000-0000-0000-000000000000}</td>\n",
       "      <td>-</td>\n",
       "      <td>0</td>\n",
       "      <td>0x00000000000001b8</td>\n",
       "      <td>-</td>\n",
       "      <td>-</td>\n",
       "      <td>%%1833</td>\n",
       "      <td>C:\\Windows\\System32\\winlogon.exe</td>\n",
       "    </tr>\n",
       "    <tr>\n",
       "      <th>...</th>\n",
       "      <td>...</td>\n",
       "      <td>...</td>\n",
       "      <td>...</td>\n",
       "      <td>...</td>\n",
       "      <td>...</td>\n",
       "      <td>...</td>\n",
       "      <td>...</td>\n",
       "      <td>...</td>\n",
       "      <td>...</td>\n",
       "      <td>...</td>\n",
       "      <td>...</td>\n",
       "      <td>...</td>\n",
       "      <td>...</td>\n",
       "      <td>...</td>\n",
       "      <td>...</td>\n",
       "      <td>...</td>\n",
       "      <td>...</td>\n",
       "      <td>...</td>\n",
       "      <td>...</td>\n",
       "      <td>...</td>\n",
       "      <td>...</td>\n",
       "      <td>...</td>\n",
       "      <td>...</td>\n",
       "      <td>...</td>\n",
       "      <td>...</td>\n",
       "    </tr>\n",
       "    <tr>\n",
       "      <th>2020-09-19 04:50:12</th>\n",
       "      <td>8561</td>\n",
       "      <td>460</td>\n",
       "      <td>1480</td>\n",
       "      <td>CITADEL-DC01.C137.local</td>\n",
       "      <td>S-1-0-0</td>\n",
       "      <td>-</td>\n",
       "      <td>-</td>\n",
       "      <td>0x0000000000000000</td>\n",
       "      <td>S-1-5-18</td>\n",
       "      <td>CITADEL-DC01$</td>\n",
       "      <td>C137</td>\n",
       "      <td>0x00000000006a6630</td>\n",
       "      <td>3</td>\n",
       "      <td>Network</td>\n",
       "      <td>Kerberos</td>\n",
       "      <td>Kerberos</td>\n",
       "      <td>&lt;NA&gt;</td>\n",
       "      <td>{4D5EF195-668D-C5FD-372F-0756DEB5F9A7}</td>\n",
       "      <td>-</td>\n",
       "      <td>0</td>\n",
       "      <td>0x0000000000000000</td>\n",
       "      <td>::1</td>\n",
       "      <td>62815</td>\n",
       "      <td>%%1833</td>\n",
       "      <td>-</td>\n",
       "    </tr>\n",
       "    <tr>\n",
       "      <th>2020-09-19 04:50:47</th>\n",
       "      <td>8564</td>\n",
       "      <td>460</td>\n",
       "      <td>1480</td>\n",
       "      <td>CITADEL-DC01.C137.local</td>\n",
       "      <td>S-1-0-0</td>\n",
       "      <td>-</td>\n",
       "      <td>-</td>\n",
       "      <td>0x0000000000000000</td>\n",
       "      <td>S-1-5-18</td>\n",
       "      <td>CITADEL-DC01$</td>\n",
       "      <td>C137</td>\n",
       "      <td>0x00000000006a6c9f</td>\n",
       "      <td>3</td>\n",
       "      <td>Network</td>\n",
       "      <td>Kerberos</td>\n",
       "      <td>Kerberos</td>\n",
       "      <td>&lt;NA&gt;</td>\n",
       "      <td>{4D5EF195-668D-C5FD-372F-0756DEB5F9A7}</td>\n",
       "      <td>-</td>\n",
       "      <td>0</td>\n",
       "      <td>0x0000000000000000</td>\n",
       "      <td>fe80::2dcf:e660:be73:d220</td>\n",
       "      <td>62816</td>\n",
       "      <td>%%1840</td>\n",
       "      <td>-</td>\n",
       "    </tr>\n",
       "    <tr>\n",
       "      <th>2020-09-19 04:51:12</th>\n",
       "      <td>8567</td>\n",
       "      <td>460</td>\n",
       "      <td>1480</td>\n",
       "      <td>CITADEL-DC01.C137.local</td>\n",
       "      <td>S-1-0-0</td>\n",
       "      <td>-</td>\n",
       "      <td>-</td>\n",
       "      <td>0x0000000000000000</td>\n",
       "      <td>S-1-5-18</td>\n",
       "      <td>CITADEL-DC01$</td>\n",
       "      <td>C137</td>\n",
       "      <td>0x00000000006a7cb0</td>\n",
       "      <td>3</td>\n",
       "      <td>Network</td>\n",
       "      <td>Kerberos</td>\n",
       "      <td>Kerberos</td>\n",
       "      <td>&lt;NA&gt;</td>\n",
       "      <td>{4D5EF195-668D-C5FD-372F-0756DEB5F9A7}</td>\n",
       "      <td>-</td>\n",
       "      <td>0</td>\n",
       "      <td>0x0000000000000000</td>\n",
       "      <td>::1</td>\n",
       "      <td>62817</td>\n",
       "      <td>%%1833</td>\n",
       "      <td>-</td>\n",
       "    </tr>\n",
       "    <tr>\n",
       "      <th>2020-09-19 04:51:48</th>\n",
       "      <td>8570</td>\n",
       "      <td>460</td>\n",
       "      <td>1480</td>\n",
       "      <td>CITADEL-DC01.C137.local</td>\n",
       "      <td>S-1-0-0</td>\n",
       "      <td>-</td>\n",
       "      <td>-</td>\n",
       "      <td>0x0000000000000000</td>\n",
       "      <td>S-1-5-18</td>\n",
       "      <td>CITADEL-DC01$</td>\n",
       "      <td>C137</td>\n",
       "      <td>0x00000000006ba2da</td>\n",
       "      <td>3</td>\n",
       "      <td>Network</td>\n",
       "      <td>Kerberos</td>\n",
       "      <td>Kerberos</td>\n",
       "      <td>&lt;NA&gt;</td>\n",
       "      <td>{4D5EF195-668D-C5FD-372F-0756DEB5F9A7}</td>\n",
       "      <td>-</td>\n",
       "      <td>0</td>\n",
       "      <td>0x0000000000000000</td>\n",
       "      <td>fe80::2dcf:e660:be73:d220</td>\n",
       "      <td>62818</td>\n",
       "      <td>%%1840</td>\n",
       "      <td>-</td>\n",
       "    </tr>\n",
       "    <tr>\n",
       "      <th>2020-09-19 04:52:12</th>\n",
       "      <td>8573</td>\n",
       "      <td>460</td>\n",
       "      <td>1480</td>\n",
       "      <td>CITADEL-DC01.C137.local</td>\n",
       "      <td>S-1-0-0</td>\n",
       "      <td>-</td>\n",
       "      <td>-</td>\n",
       "      <td>0x0000000000000000</td>\n",
       "      <td>S-1-5-18</td>\n",
       "      <td>CITADEL-DC01$</td>\n",
       "      <td>C137</td>\n",
       "      <td>0x00000000006badbe</td>\n",
       "      <td>3</td>\n",
       "      <td>Network</td>\n",
       "      <td>Kerberos</td>\n",
       "      <td>Kerberos</td>\n",
       "      <td>&lt;NA&gt;</td>\n",
       "      <td>{4D5EF195-668D-C5FD-372F-0756DEB5F9A7}</td>\n",
       "      <td>-</td>\n",
       "      <td>0</td>\n",
       "      <td>0x0000000000000000</td>\n",
       "      <td>::1</td>\n",
       "      <td>62819</td>\n",
       "      <td>%%1833</td>\n",
       "      <td>-</td>\n",
       "    </tr>\n",
       "  </tbody>\n",
       "</table>\n",
       "<p>2540 rows × 25 columns</p>\n",
       "</div>"
      ],
      "text/plain": [
       "                     EventRecordID  ProcessID  ThreadID  \\\n",
       "Timestamp                                                 \n",
       "2020-09-17 15:51:53     2           488         492       \n",
       "2020-09-17 15:51:54     4           488         512       \n",
       "2020-09-17 15:51:54     6           488         512       \n",
       "2020-09-17 15:51:54     9           488         512       \n",
       "2020-09-17 15:51:54    10           488         512       \n",
       "...                            ...        ...       ...   \n",
       "2020-09-19 04:50:12  8561           460        1480       \n",
       "2020-09-19 04:50:47  8564           460        1480       \n",
       "2020-09-19 04:51:12  8567           460        1480       \n",
       "2020-09-19 04:51:48  8570           460        1480       \n",
       "2020-09-19 04:52:12  8573           460        1480       \n",
       "\n",
       "                    Computer                 SubjectUserSid SubjectUserName    \\\n",
       "Timestamp                                                                       \n",
       "2020-09-17 15:51:53          WIN-HRJHA99CCDO   S-1-0-0                      -   \n",
       "2020-09-17 15:51:54          WIN-HRJHA99CCDO  S-1-5-18       WIN-HRJHA99CCDO$   \n",
       "2020-09-17 15:51:54          WIN-HRJHA99CCDO  S-1-5-18       WIN-HRJHA99CCDO$   \n",
       "2020-09-17 15:51:54          WIN-HRJHA99CCDO  S-1-5-18       WIN-HRJHA99CCDO$   \n",
       "2020-09-17 15:51:54          WIN-HRJHA99CCDO  S-1-5-18       WIN-HRJHA99CCDO$   \n",
       "...                                      ...            ...               ...   \n",
       "2020-09-19 04:50:12  CITADEL-DC01.C137.local   S-1-0-0                      -   \n",
       "2020-09-19 04:50:47  CITADEL-DC01.C137.local   S-1-0-0                      -   \n",
       "2020-09-19 04:51:12  CITADEL-DC01.C137.local   S-1-0-0                      -   \n",
       "2020-09-19 04:51:48  CITADEL-DC01.C137.local   S-1-0-0                      -   \n",
       "2020-09-19 04:52:12  CITADEL-DC01.C137.local   S-1-0-0                      -   \n",
       "\n",
       "                    SubjectDomainName SubjectLogonId      TargetUserSid  \\\n",
       "Timestamp                                                                 \n",
       "2020-09-17 15:51:53          -         0x0000000000000000    S-1-5-18     \n",
       "2020-09-17 15:51:54  WORKGROUP         0x00000000000003e7    S-1-5-18     \n",
       "2020-09-17 15:51:54  WORKGROUP         0x00000000000003e7    S-1-5-20     \n",
       "2020-09-17 15:51:54  WORKGROUP         0x00000000000003e7  S-1-5-90-1     \n",
       "2020-09-17 15:51:54  WORKGROUP         0x00000000000003e7  S-1-5-90-1     \n",
       "...                               ...                 ...           ...   \n",
       "2020-09-19 04:50:12          -         0x0000000000000000    S-1-5-18     \n",
       "2020-09-19 04:50:47          -         0x0000000000000000    S-1-5-18     \n",
       "2020-09-19 04:51:12          -         0x0000000000000000    S-1-5-18     \n",
       "2020-09-19 04:51:48          -         0x0000000000000000    S-1-5-18     \n",
       "2020-09-19 04:52:12          -         0x0000000000000000    S-1-5-18     \n",
       "\n",
       "                    TargetUserName   TargetDomainName TargetLogonId        \\\n",
       "Timestamp                                                                   \n",
       "2020-09-17 15:51:53           SYSTEM    NT AUTHORITY   0x00000000000003e7   \n",
       "2020-09-17 15:51:54           SYSTEM    NT AUTHORITY   0x00000000000003e7   \n",
       "2020-09-17 15:51:54  NETWORK SERVICE    NT AUTHORITY   0x00000000000003e4   \n",
       "2020-09-17 15:51:54            DWM-1  Window Manager   0x000000000004b2aa   \n",
       "2020-09-17 15:51:54            DWM-1  Window Manager   0x000000000004b2ba   \n",
       "...                              ...              ...                 ...   \n",
       "2020-09-19 04:50:12    CITADEL-DC01$            C137   0x00000000006a6630   \n",
       "2020-09-19 04:50:47    CITADEL-DC01$            C137   0x00000000006a6c9f   \n",
       "2020-09-19 04:51:12    CITADEL-DC01$            C137   0x00000000006a7cb0   \n",
       "2020-09-19 04:51:48    CITADEL-DC01$            C137   0x00000000006ba2da   \n",
       "2020-09-19 04:52:12    CITADEL-DC01$            C137   0x00000000006badbe   \n",
       "\n",
       "                     LogonType LogonType_K_ LogonProcessName  \\\n",
       "Timestamp                                                      \n",
       "2020-09-17 15:51:53  0                  NaN         -          \n",
       "2020-09-17 15:51:54  5              Service    Advapi          \n",
       "2020-09-17 15:51:54  5              Service    Advapi          \n",
       "2020-09-17 15:51:54  2          Interactive    Advapi          \n",
       "2020-09-17 15:51:54  2          Interactive    Advapi          \n",
       "...                        ...          ...              ...   \n",
       "2020-09-19 04:50:12  3              Network  Kerberos          \n",
       "2020-09-19 04:50:47  3              Network  Kerberos          \n",
       "2020-09-19 04:51:12  3              Network  Kerberos          \n",
       "2020-09-19 04:51:48  3              Network  Kerberos          \n",
       "2020-09-19 04:52:12  3              Network  Kerberos          \n",
       "\n",
       "                    AuthenticationPackageName WorkstationName  \\\n",
       "Timestamp                                                       \n",
       "2020-09-17 15:51:53          -                    -             \n",
       "2020-09-17 15:51:54  Negotiate                 <NA>             \n",
       "2020-09-17 15:51:54  Negotiate                 <NA>             \n",
       "2020-09-17 15:51:54  Negotiate                 <NA>             \n",
       "2020-09-17 15:51:54  Negotiate                 <NA>             \n",
       "...                                       ...             ...   \n",
       "2020-09-19 04:50:12   Kerberos                 <NA>             \n",
       "2020-09-19 04:50:47   Kerberos                 <NA>             \n",
       "2020-09-19 04:51:12   Kerberos                 <NA>             \n",
       "2020-09-19 04:51:48   Kerberos                 <NA>             \n",
       "2020-09-19 04:52:12   Kerberos                 <NA>             \n",
       "\n",
       "                    LogonGuid                               LmPackageName  \\\n",
       "Timestamp                                                                   \n",
       "2020-09-17 15:51:53  {00000000-0000-0000-0000-000000000000}  -              \n",
       "2020-09-17 15:51:54  {00000000-0000-0000-0000-000000000000}  -              \n",
       "2020-09-17 15:51:54  {00000000-0000-0000-0000-000000000000}  -              \n",
       "2020-09-17 15:51:54  {00000000-0000-0000-0000-000000000000}  -              \n",
       "2020-09-17 15:51:54  {00000000-0000-0000-0000-000000000000}  -              \n",
       "...                                                     ...           ...   \n",
       "2020-09-19 04:50:12  {4D5EF195-668D-C5FD-372F-0756DEB5F9A7}  -              \n",
       "2020-09-19 04:50:47  {4D5EF195-668D-C5FD-372F-0756DEB5F9A7}  -              \n",
       "2020-09-19 04:51:12  {4D5EF195-668D-C5FD-372F-0756DEB5F9A7}  -              \n",
       "2020-09-19 04:51:48  {4D5EF195-668D-C5FD-372F-0756DEB5F9A7}  -              \n",
       "2020-09-19 04:52:12  {4D5EF195-668D-C5FD-372F-0756DEB5F9A7}  -              \n",
       "\n",
       "                    KeyLength ProcessId           IpAddress                   \\\n",
       "Timestamp                                                                      \n",
       "2020-09-17 15:51:53  0         0x0000000000000004                          -   \n",
       "2020-09-17 15:51:54  0         0x00000000000001e0                          -   \n",
       "2020-09-17 15:51:54  0         0x00000000000001e0                          -   \n",
       "2020-09-17 15:51:54  0         0x00000000000001b8                          -   \n",
       "2020-09-17 15:51:54  0         0x00000000000001b8                          -   \n",
       "...                       ...                 ...                        ...   \n",
       "2020-09-19 04:50:12  0         0x0000000000000000                        ::1   \n",
       "2020-09-19 04:50:47  0         0x0000000000000000  fe80::2dcf:e660:be73:d220   \n",
       "2020-09-19 04:51:12  0         0x0000000000000000                        ::1   \n",
       "2020-09-19 04:51:48  0         0x0000000000000000  fe80::2dcf:e660:be73:d220   \n",
       "2020-09-19 04:52:12  0         0x0000000000000000                        ::1   \n",
       "\n",
       "                    IpPort ImpersonationLevel  \\\n",
       "Timestamp                                       \n",
       "2020-09-17 15:51:53      -       -              \n",
       "2020-09-17 15:51:54      -  %%1833              \n",
       "2020-09-17 15:51:54      -  %%1833              \n",
       "2020-09-17 15:51:54      -  %%1833              \n",
       "2020-09-17 15:51:54      -  %%1833              \n",
       "...                    ...                ...   \n",
       "2020-09-19 04:50:12  62815  %%1833              \n",
       "2020-09-19 04:50:47  62816  %%1840              \n",
       "2020-09-19 04:51:12  62817  %%1833              \n",
       "2020-09-19 04:51:48  62818  %%1840              \n",
       "2020-09-19 04:52:12  62819  %%1833              \n",
       "\n",
       "                    ProcessName                        \n",
       "Timestamp                                              \n",
       "2020-09-17 15:51:53                              <NA>  \n",
       "2020-09-17 15:51:54  C:\\Windows\\System32\\services.exe  \n",
       "2020-09-17 15:51:54  C:\\Windows\\System32\\services.exe  \n",
       "2020-09-17 15:51:54  C:\\Windows\\System32\\winlogon.exe  \n",
       "2020-09-17 15:51:54  C:\\Windows\\System32\\winlogon.exe  \n",
       "...                                               ...  \n",
       "2020-09-19 04:50:12                                 -  \n",
       "2020-09-19 04:50:47                                 -  \n",
       "2020-09-19 04:51:12                                 -  \n",
       "2020-09-19 04:51:48                                 -  \n",
       "2020-09-19 04:52:12                                 -  \n",
       "\n",
       "[2540 rows x 25 columns]"
      ]
     },
     "metadata": {},
     "output_type": "display_data"
    }
   ],
   "source": [
    "secevtxdfs_srv[4624].simple()"
   ]
  },
  {
   "cell_type": "markdown",
   "metadata": {},
   "source": [
    "There are 2540 rows so it would be a huge DataFrame using **xdisplay()**... Why don't we use **xmenu()**?\n",
    "\n",
    "**xmenu()** is a function from CHRYSALIS which allows us to display huge DataFrames, select them with a menu directly from a dictionary, apply the simple function and beautify them. \n",
    "\n",
    "<span style=\"color:purple\">\n",
    "<b>INSTRUCTIONS:</b>\n",
    "\n",
    "<ul>\n",
    "    <li>Execute the cell</li>\n",
    "    <li>Select 4624 as DataFrame on the left drop-down menu</li>\n",
    "    <li>Select qgrid as grid on the middle drop-down menu<\\li>\n",
    "    <li>Search for the logons we previously saw on the logon analysis. Pay special attention to the Timestamp, WorkstationName and IpAddress columns<\\li>   \n",
    "</ul>\n",
    "</span>\n",
    "Let's see how it works!"
   ]
  },
  {
   "cell_type": "code",
   "execution_count": 70,
   "metadata": {},
   "outputs": [
    {
     "data": {
      "text/markdown": [
       "**DataFrame visualization menu:**"
      ],
      "text/plain": [
       "<IPython.core.display.Markdown object>"
      ]
     },
     "metadata": {},
     "output_type": "display_data"
    },
    {
     "data": {
      "application/vnd.jupyter.widget-view+json": {
       "model_id": "548aac04f4394cf0b33f8e411e0136dd",
       "version_major": 2,
       "version_minor": 0
      },
      "text/plain": [
       "Box(children=(Dropdown(description='Select DataFrame', layout=Layout(width='550px'), options=('Select DataFram…"
      ]
     },
     "metadata": {},
     "output_type": "display_data"
    },
    {
     "data": {
      "application/vnd.jupyter.widget-view+json": {
       "model_id": "4de26909723342c3afcaacfbd02b27bd",
       "version_major": 2,
       "version_minor": 0
      },
      "text/plain": [
       "HBox(children=(Label(value='Selected dataframe: '),))"
      ]
     },
     "metadata": {},
     "output_type": "display_data"
    },
    {
     "data": {
      "application/vnd.jupyter.widget-view+json": {
       "model_id": "92c8f41ff3f34bdfadcae4e71d3cdab8",
       "version_major": 2,
       "version_minor": 0
      },
      "text/plain": [
       "HBox(children=(HTML(value=\"<div style='color: orange; font-weight: bold;'>Data Loading. Please Wait…</div>\"),)…"
      ]
     },
     "metadata": {},
     "output_type": "display_data"
    },
    {
     "data": {
      "application/vnd.jupyter.widget-view+json": {
       "model_id": "61706ae9f51b4aee8a5afaa0a2b38beb",
       "version_major": 2,
       "version_minor": 0
      },
      "text/plain": [
       "Output(layout=Layout(overflow='auto', width='99%'))"
      ]
     },
     "metadata": {},
     "output_type": "display_data"
    },
    {
     "data": {
      "application/vnd.jupyter.widget-view+json": {
       "model_id": "9f530cc9c0da41cc955341ba0fe186d1",
       "version_major": 2,
       "version_minor": 0
      },
      "text/plain": [
       "Output(layout=Layout(overflow='auto', width='99%'))"
      ]
     },
     "metadata": {},
     "output_type": "display_data"
    },
    {
     "data": {
      "text/plain": [
       "<ds4n6_lib.gui.dfs_explorer at 0x7f63bdb79f90>"
      ]
     },
     "execution_count": 70,
     "metadata": {},
     "output_type": "execute_result"
    }
   ],
   "source": [
    "xmenu(secevtxdfs_srv)"
   ]
  },
  {
   "cell_type": "markdown",
   "metadata": {},
   "source": [
    "We selected DataFrame 4624 and qgrid. This way we can display all the information and filter by columns."
   ]
  },
  {
   "cell_type": "markdown",
   "metadata": {},
   "source": [
    "<span style=\"color:blue\">**At what time did the suspicious logon ocurred on the Domain Controller/Server?** </span>\n",
    "\n",
    "<span style=\"color:green\">**ANSWER**:</span>\n",
    "\n",
    "<span style=\"color:green\">Looking at the information, we can see that the **19th of September 2020 there was a suspicious succesful logon at 03:21 AM**.</span>\n",
    "\n",
    "\n"
   ]
  },
  {
   "cell_type": "markdown",
   "metadata": {},
   "source": [
    "## 3.2. Checking Failed Logons"
   ]
  },
  {
   "cell_type": "markdown",
   "metadata": {},
   "source": [
    "The next question would be: How did the atacker managed to enter? The most usual cases are Brute Force (making a lot of attempts to find the correct password) and credentials theft. We can check the 4625 events (that had failed logons) to get more information and check if it's been Brute Force."
   ]
  },
  {
   "cell_type": "markdown",
   "metadata": {},
   "source": [
    "<span style=\"color:purple\">\n",
    "<b>INSTRUCTIONS:</b>\n",
    "\n",
    "<ul>\n",
    "    <li>Execute the cell</li>\n",
    "    <li>Select 4625 as DataFrame on the left drop-down menu</li>\n",
    "    <li>Select qgrid as grid on the middle drop-down menu<\\li>\n",
    "</ul>\n",
    "</span>"
   ]
  },
  {
   "cell_type": "code",
   "execution_count": 71,
   "metadata": {},
   "outputs": [
    {
     "data": {
      "text/markdown": [
       "**DataFrame visualization menu:**"
      ],
      "text/plain": [
       "<IPython.core.display.Markdown object>"
      ]
     },
     "metadata": {},
     "output_type": "display_data"
    },
    {
     "data": {
      "application/vnd.jupyter.widget-view+json": {
       "model_id": "7a8f196960fa46b593ae067f650019da",
       "version_major": 2,
       "version_minor": 0
      },
      "text/plain": [
       "Box(children=(Dropdown(description='Select DataFrame', layout=Layout(width='550px'), options=('Select DataFram…"
      ]
     },
     "metadata": {},
     "output_type": "display_data"
    },
    {
     "data": {
      "application/vnd.jupyter.widget-view+json": {
       "model_id": "12d5384016fb414880bc2b26c9937c12",
       "version_major": 2,
       "version_minor": 0
      },
      "text/plain": [
       "HBox(children=(Label(value='Selected dataframe: '),))"
      ]
     },
     "metadata": {},
     "output_type": "display_data"
    },
    {
     "data": {
      "application/vnd.jupyter.widget-view+json": {
       "model_id": "e5ac228427fe4d48bfc8f64811c5dc45",
       "version_major": 2,
       "version_minor": 0
      },
      "text/plain": [
       "HBox(children=(HTML(value=\"<div style='color: orange; font-weight: bold;'>Data Loading. Please Wait…</div>\"),)…"
      ]
     },
     "metadata": {},
     "output_type": "display_data"
    },
    {
     "data": {
      "application/vnd.jupyter.widget-view+json": {
       "model_id": "8f6de15483254b59a04fa48702dd9093",
       "version_major": 2,
       "version_minor": 0
      },
      "text/plain": [
       "Output(layout=Layout(overflow='auto', width='99%'))"
      ]
     },
     "metadata": {},
     "output_type": "display_data"
    },
    {
     "data": {
      "application/vnd.jupyter.widget-view+json": {
       "model_id": "cde64875bd2c493db0fc8eab3a1c0e3f",
       "version_major": 2,
       "version_minor": 0
      },
      "text/plain": [
       "Output(layout=Layout(overflow='auto', width='99%'))"
      ]
     },
     "metadata": {},
     "output_type": "display_data"
    },
    {
     "data": {
      "text/plain": [
       "<ds4n6_lib.gui.dfs_explorer at 0x7f63bcb9f550>"
      ]
     },
     "execution_count": 71,
     "metadata": {},
     "output_type": "execute_result"
    }
   ],
   "source": [
    "xmenu(secevtxdfs_srv)"
   ]
  },
  {
   "cell_type": "markdown",
   "metadata": {},
   "source": [
    "There are many failed logons from **kali**. This seems a Brute Force network."
   ]
  },
  {
   "cell_type": "markdown",
   "metadata": {},
   "source": [
    "### **3.3 CONCLUSIONS**:"
   ]
  },
  {
   "cell_type": "markdown",
   "metadata": {},
   "source": [
    "**3. CLOSER LOOK INTO DOMAIN CONTROLLER LOGONS**\n",
    "\n",
    " - Succesful logon at 03:21 AM from kali\n",
    " - Many failed logons from kali trying to enter on the Domain Controller"
   ]
  },
  {
   "cell_type": "markdown",
   "metadata": {},
   "source": [
    "## **4. FAILED LOGONS**"
   ]
  },
  {
   "cell_type": "markdown",
   "metadata": {},
   "source": [
    "<span style=\"color:blue\">**How many failed logons occurred on the Domain Controller/Server?** </span>\n"
   ]
  },
  {
   "cell_type": "markdown",
   "metadata": {},
   "source": [
    "<span style=\"color:blue\">**At what time was the Brute Force?** </span>\n"
   ]
  },
  {
   "cell_type": "markdown",
   "metadata": {},
   "source": [
    "Now that we’ve seen the data, let’s create a graph that shows us what happened in a more visual way."
   ]
  },
  {
   "cell_type": "markdown",
   "metadata": {},
   "source": [
    "### 4.1. **Matplotlib**\n",
    "\n",
    "Matplotlib is a comprehensive library for creating static, animated, and interactive visualizations in Python.\n",
    "\n",
    "- Allows you to plot a DataFrame.\n",
    "- Allows editing many aspects of the chart.\n",
    "- There are many types of graphics from which you can choose.\n",
    "\n",
    "\n",
    "**Plotting the failed logon events based on the timestamps hourly can help us understand if there's been Brute Force**\n"
   ]
  },
  {
   "cell_type": "markdown",
   "metadata": {},
   "source": [
    "First, we’re going to create a DataFrame that contains events 4625 and we’re going to select only the EventID_ column. In addition, we will use the **head()** function to visualize its first 5 lines and understand how it is."
   ]
  },
  {
   "cell_type": "code",
   "execution_count": 59,
   "metadata": {},
   "outputs": [
    {
     "data": {
      "text/html": [
       "<div>\n",
       "<style scoped>\n",
       "    .dataframe tbody tr th:only-of-type {\n",
       "        vertical-align: middle;\n",
       "    }\n",
       "\n",
       "    .dataframe tbody tr th {\n",
       "        vertical-align: top;\n",
       "    }\n",
       "\n",
       "    .dataframe thead th {\n",
       "        text-align: right;\n",
       "    }\n",
       "</style>\n",
       "<table border=\"1\" class=\"dataframe\">\n",
       "  <thead>\n",
       "    <tr style=\"text-align: left;\">\n",
       "      <th></th>\n",
       "      <th>EventID_</th>\n",
       "    </tr>\n",
       "    <tr>\n",
       "      <th>Timestamp</th>\n",
       "      <th></th>\n",
       "    </tr>\n",
       "  </thead>\n",
       "  <tbody>\n",
       "    <tr>\n",
       "      <th>2020-09-18 04:13:44</th>\n",
       "      <td>4625</td>\n",
       "    </tr>\n",
       "    <tr>\n",
       "      <th>2020-09-19 03:21:26</th>\n",
       "      <td>4625</td>\n",
       "    </tr>\n",
       "    <tr>\n",
       "      <th>2020-09-19 03:21:26</th>\n",
       "      <td>4625</td>\n",
       "    </tr>\n",
       "    <tr>\n",
       "      <th>2020-09-19 03:21:26</th>\n",
       "      <td>4625</td>\n",
       "    </tr>\n",
       "    <tr>\n",
       "      <th>2020-09-19 03:21:26</th>\n",
       "      <td>4625</td>\n",
       "    </tr>\n",
       "  </tbody>\n",
       "</table>\n",
       "</div>"
      ],
      "text/plain": [
       "                     EventID_\n",
       "Timestamp                    \n",
       "2020-09-18 04:13:44  4625    \n",
       "2020-09-19 03:21:26  4625    \n",
       "2020-09-19 03:21:26  4625    \n",
       "2020-09-19 03:21:26  4625    \n",
       "2020-09-19 03:21:26  4625    "
      ]
     },
     "execution_count": 59,
     "metadata": {},
     "output_type": "execute_result"
    }
   ],
   "source": [
    "failedlogons = secevtxdfs_srv[4625][['EventID_']]\n",
    "failedlogons.head()"
   ]
  },
  {
   "cell_type": "markdown",
   "metadata": {},
   "source": [
    "Next, we will use the index, which contains the date, to create a new column."
   ]
  },
  {
   "cell_type": "code",
   "execution_count": 60,
   "metadata": {},
   "outputs": [
    {
     "data": {
      "text/html": [
       "<div>\n",
       "<style scoped>\n",
       "    .dataframe tbody tr th:only-of-type {\n",
       "        vertical-align: middle;\n",
       "    }\n",
       "\n",
       "    .dataframe tbody tr th {\n",
       "        vertical-align: top;\n",
       "    }\n",
       "\n",
       "    .dataframe thead th {\n",
       "        text-align: right;\n",
       "    }\n",
       "</style>\n",
       "<table border=\"1\" class=\"dataframe\">\n",
       "  <thead>\n",
       "    <tr style=\"text-align: left;\">\n",
       "      <th></th>\n",
       "      <th>EventID_</th>\n",
       "      <th>Timestamp</th>\n",
       "    </tr>\n",
       "    <tr>\n",
       "      <th>Timestamp</th>\n",
       "      <th></th>\n",
       "      <th></th>\n",
       "    </tr>\n",
       "  </thead>\n",
       "  <tbody>\n",
       "    <tr>\n",
       "      <th>2020-09-18 04:13:44</th>\n",
       "      <td>4625</td>\n",
       "      <td>2020-09-18 04:13:44</td>\n",
       "    </tr>\n",
       "    <tr>\n",
       "      <th>2020-09-19 03:21:26</th>\n",
       "      <td>4625</td>\n",
       "      <td>2020-09-19 03:21:26</td>\n",
       "    </tr>\n",
       "    <tr>\n",
       "      <th>2020-09-19 03:21:26</th>\n",
       "      <td>4625</td>\n",
       "      <td>2020-09-19 03:21:26</td>\n",
       "    </tr>\n",
       "    <tr>\n",
       "      <th>2020-09-19 03:21:26</th>\n",
       "      <td>4625</td>\n",
       "      <td>2020-09-19 03:21:26</td>\n",
       "    </tr>\n",
       "    <tr>\n",
       "      <th>2020-09-19 03:21:26</th>\n",
       "      <td>4625</td>\n",
       "      <td>2020-09-19 03:21:26</td>\n",
       "    </tr>\n",
       "  </tbody>\n",
       "</table>\n",
       "</div>"
      ],
      "text/plain": [
       "                     EventID_ Timestamp          \n",
       "Timestamp                                        \n",
       "2020-09-18 04:13:44  4625     2020-09-18 04:13:44\n",
       "2020-09-19 03:21:26  4625     2020-09-19 03:21:26\n",
       "2020-09-19 03:21:26  4625     2020-09-19 03:21:26\n",
       "2020-09-19 03:21:26  4625     2020-09-19 03:21:26\n",
       "2020-09-19 03:21:26  4625     2020-09-19 03:21:26"
      ]
     },
     "execution_count": 60,
     "metadata": {},
     "output_type": "execute_result"
    }
   ],
   "source": [
    "failedlogons['Timestamp'] = failedlogons.index\n",
    "failedlogons.head()"
   ]
  },
  {
   "cell_type": "markdown",
   "metadata": {},
   "source": [
    "Next, let’s do an hourly count of the number of times the event 4625 appears on the DataFrame."
   ]
  },
  {
   "cell_type": "code",
   "execution_count": 61,
   "metadata": {},
   "outputs": [
    {
     "data": {
      "text/plain": [
       "Timestamp\n",
       "2020-09-18 04:00:00    1\n",
       "2020-09-18 05:00:00    0\n",
       "2020-09-18 06:00:00    0\n",
       "2020-09-18 07:00:00    0\n",
       "2020-09-18 08:00:00    0\n",
       "Freq: H, Name: Timestamp, dtype: int64"
      ]
     },
     "execution_count": 61,
     "metadata": {},
     "output_type": "execute_result"
    }
   ],
   "source": [
    "unique_logons_df = pd.Series(failedlogons['Timestamp']).resample('H').nunique()\n",
    "unique_logons_df.head()"
   ]
  },
  {
   "cell_type": "markdown",
   "metadata": {},
   "source": [
    "And finally, we’ll make a plot of the DataFrame that we created with the Matplotlib library. It is as simple as writing the name of the DataFrame and then using the function **.plot.bar()**, which will show us a bar graph."
   ]
  },
  {
   "cell_type": "code",
   "execution_count": 62,
   "metadata": {},
   "outputs": [
    {
     "data": {
      "text/plain": [
       "<AxesSubplot:xlabel='Timestamp'>"
      ]
     },
     "execution_count": 62,
     "metadata": {},
     "output_type": "execute_result"
    },
    {
     "data": {
      "image/png": "[encoded data removed]",
      "text/plain": [
       "<Figure size 1440x720 with 1 Axes>"
      ]
     },
     "metadata": {
      "needs_background": "light"
     },
     "output_type": "display_data"
    }
   ],
   "source": [
    "unique_logons_df.plot.bar()"
   ]
  },
  {
   "cell_type": "markdown",
   "metadata": {},
   "source": [
    "**In this way, we can easily see that there have been a large number of failed logon attempts on the computer without using the DataFrame and searching line by line.**"
   ]
  },
  {
   "cell_type": "markdown",
   "metadata": {},
   "source": [
    "## 4.2. Failed Logons Analysis"
   ]
  },
  {
   "cell_type": "markdown",
   "metadata": {},
   "source": [
    "As on other occasions, we can do it even more easily, using the **xanalysis()** function of the CHRYSALIS library. \n",
    "\n",
    "<span style=\"color:purple\">\n",
    "<b>INSTRUCTIONS:</b>\n",
    "\n",
    "<ul>\n",
    "    <li>Execute the cell</li>\n",
    "    <li>Select DataFrame as analysis object</li>\n",
    "    <li>Select evtx for the type of analysis</li>\n",
    "    <li>Select 4625 as DF to analyze </li>\n",
    "    <li>Select Failed Logons info as the available analysis</li>\n",
    "</ul>\n",
    "</span>\n"
   ]
  },
  {
   "cell_type": "code",
   "execution_count": 73,
   "metadata": {},
   "outputs": [
    {
     "data": {
      "text/markdown": [
       "**Analisys explorer:**"
      ],
      "text/plain": [
       "<IPython.core.display.Markdown object>"
      ]
     },
     "metadata": {},
     "output_type": "display_data"
    },
    {
     "data": {
      "application/vnd.jupyter.widget-view+json": {
       "model_id": "81acffaeeb434278af16c7cff77b134a",
       "version_major": 2,
       "version_minor": 0
      },
      "text/plain": [
       "Box(children=(Dropdown(description='Analysis object: ', layout=Layout(width='250px'), options=('Select one...'…"
      ]
     },
     "metadata": {},
     "output_type": "display_data"
    },
    {
     "data": {
      "application/vnd.jupyter.widget-view+json": {
       "model_id": "a878661c16204512af88d2aecabbd113",
       "version_major": 2,
       "version_minor": 0
      },
      "text/plain": [
       "Box(children=(Dropdown(description='Available analysis types: ', layout=Layout(width='550px'), options=(), sty…"
      ]
     },
     "metadata": {},
     "output_type": "display_data"
    },
    {
     "data": {
      "application/vnd.jupyter.widget-view+json": {
       "model_id": "317767ab31d04ac49f75da5d4b632a34",
       "version_major": 2,
       "version_minor": 0
      },
      "text/plain": [
       "Output(layout=Layout(overflow='auto', width='99%'))"
      ]
     },
     "metadata": {},
     "output_type": "display_data"
    }
   ],
   "source": [
    "xanalysis(secevtxdfs_srv)"
   ]
  },
  {
   "cell_type": "markdown",
   "metadata": {},
   "source": [
    "<span style=\"color:blue\">**How many failed logons occurred on the Domain Controller/Server?** </span>\n"
   ]
  },
  {
   "cell_type": "markdown",
   "metadata": {},
   "source": [
    "<span style=\"color:green\">**ANSWER**:</span>\n",
    "\n",
    "<span style=\"color:green\">There were 22 failed logons.</span>"
   ]
  },
  {
   "cell_type": "markdown",
   "metadata": {},
   "source": [
    "<span style=\"color:blue\">**At what time was the Brute Force?** </span>\n"
   ]
  },
  {
   "cell_type": "markdown",
   "metadata": {},
   "source": [
    "<span style=\"color:green\">**ANSWER**:</span>\n",
    "\n",
    "\n",
    "<span style=\"color:green\">The Brute Force was at aproximately 3:00 AM on the 19th of September 2020</span>"
   ]
  },
  {
   "cell_type": "markdown",
   "metadata": {},
   "source": [
    "### **4.3. CONCLUSIONS**:"
   ]
  },
  {
   "cell_type": "markdown",
   "metadata": {},
   "source": [
    "**5. FAILED LOGONS**\n",
    "\n",
    " - There's been Brute force on the 19th of September 2020"
   ]
  },
  {
   "cell_type": "markdown",
   "metadata": {},
   "source": [
    "## **5. LOOKING INTO THE FSTL & AUTORUNS**"
   ]
  },
  {
   "cell_type": "markdown",
   "metadata": {},
   "source": [
    "<span style=\"color:blue\">**Is there any suspicious activity?** </span>\n"
   ]
  },
  {
   "cell_type": "markdown",
   "metadata": {},
   "source": [
    "<span style=\"color:blue\">**Was there an Internet download?** </span>"
   ]
  },
  {
   "cell_type": "markdown",
   "metadata": {},
   "source": [
    "<span style=\"color:blue\">**When was the Szechuan Sauce modified?**</span>"
   ]
  },
  {
   "cell_type": "markdown",
   "metadata": {},
   "source": [
    "<span style=\"color:blue\">**Is coreupdater.exe a malware?** </span>"
   ]
  },
  {
   "cell_type": "markdown",
   "metadata": {},
   "source": [
    "### 5.1 Filesystem Timeline"
   ]
  },
  {
   "cell_type": "markdown",
   "metadata": {},
   "source": [
    "Once we have verified that there has been an attacker’s logon, the main thing is to understand what damage or activity has been done on the computer. To do this, we will use the Filesystem Timeline, which as previously mentioned in the notebook, provides information about the system’s activity on a timeline.\n",
    "\n",
    "We will filter by date using **.loc()** from pandas. This will allow us to see the activity from the moment of the attack. Let's see which column we need to use!"
   ]
  },
  {
   "cell_type": "code",
   "execution_count": 64,
   "metadata": {},
   "outputs": [
    {
     "data": {
      "text/plain": [
       "Index(['D4_DataType_', 'D4_Orchestrator_', 'D4_Tool_', 'D4_Plugin_',\n",
       "       'D4_Hostname_', 'Date', 'Size', 'MACB', 'Mode', 'UID', 'GID', 'Meta',\n",
       "       'File Name', 'Type_', 'PrevType_', 'Permissions_', 'Deleted_',\n",
       "       'Reallocated_', 'Tag_', 'FilePath_', 'Hostname_', 'EVOName_',\n",
       "       'EvidenceName_', 'Partition_', 'FSType_', 'DriveLetter_', 'VSS_',\n",
       "       'TSNTFSAttr_', 'SHA256_Hash_'],\n",
       "      dtype='object')"
      ]
     },
     "execution_count": 64,
     "metadata": {},
     "output_type": "execute_result"
    }
   ],
   "source": [
    "fstldf.columns"
   ]
  },
  {
   "cell_type": "markdown",
   "metadata": {},
   "source": [
    "Let's select the date 2020-09-19 03:21:47 from the Date column.\n",
    "\n",
    "<span style=\"color:purple\">\n",
    "    <b>INSTRUCTIONS</b>\n",
    "    \n",
    "<ul>\n",
    "    <li>Execute the cell</li>\n",
    "    <li>Select '+ DataFrame' as DataFrame on the left drop-down menu</li>\n",
    "    <li>Select qgrid as grid on the middle drop-down menu</li>\n",
    "</ul>\n",
    "</span>"
   ]
  },
  {
   "cell_type": "code",
   "execution_count": 74,
   "metadata": {},
   "outputs": [
    {
     "data": {
      "text/markdown": [
       "**DataFrame visualization menu:**"
      ],
      "text/plain": [
       "<IPython.core.display.Markdown object>"
      ]
     },
     "metadata": {},
     "output_type": "display_data"
    },
    {
     "data": {
      "application/vnd.jupyter.widget-view+json": {
       "model_id": "1cda637b5fa84352bab43c000a380753",
       "version_major": 2,
       "version_minor": 0
      },
      "text/plain": [
       "Box(children=(Dropdown(description='Select DataFrame or Column', layout=Layout(width='550px'), options=('Selec…"
      ]
     },
     "metadata": {},
     "output_type": "display_data"
    },
    {
     "data": {
      "application/vnd.jupyter.widget-view+json": {
       "model_id": "dc08b46cc71f4225ab5de07c564807d3",
       "version_major": 2,
       "version_minor": 0
      },
      "text/plain": [
       "HBox(children=(Label(value='Selected dataframe: '),))"
      ]
     },
     "metadata": {},
     "output_type": "display_data"
    },
    {
     "data": {
      "application/vnd.jupyter.widget-view+json": {
       "model_id": "9db08b244a7c4a07bf6870f7f64cae96",
       "version_major": 2,
       "version_minor": 0
      },
      "text/plain": [
       "HBox(children=(HTML(value=\"<div style='color: orange; font-weight: bold;'>Data Loading. Please Wait…</div>\"),)…"
      ]
     },
     "metadata": {},
     "output_type": "display_data"
    },
    {
     "data": {
      "application/vnd.jupyter.widget-view+json": {
       "model_id": "02575839ab88424f91df1580281a7fbe",
       "version_major": 2,
       "version_minor": 0
      },
      "text/plain": [
       "Output(layout=Layout(overflow='auto', width='99%'))"
      ]
     },
     "metadata": {},
     "output_type": "display_data"
    },
    {
     "data": {
      "application/vnd.jupyter.widget-view+json": {
       "model_id": "7263704ad69d4442bd41f5ae0c559c93",
       "version_major": 2,
       "version_minor": 0
      },
      "text/plain": [
       "Output(layout=Layout(overflow='auto', width='99%'))"
      ]
     },
     "metadata": {},
     "output_type": "display_data"
    },
    {
     "data": {
      "text/plain": [
       "<ds4n6_lib.gui.dfs_explorer at 0x7f63b6ed39d0>"
      ]
     },
     "execution_count": 74,
     "metadata": {},
     "output_type": "execute_result"
    }
   ],
   "source": [
    "fstldf_DC_filterbydate = fstldf.loc[(fstldf['Date'] >= '2020-09-19 03:21:47')]\n",
    "xmenu(fstldf_DC_filterbydate)"
   ]
  },
  {
   "cell_type": "markdown",
   "metadata": {},
   "source": [
    "To understand the FSTL correctly, we will see that there is a column called MACB, this column gives us information about the actions performed on a file. To interpret it, depending on the letters that appear (m, a, c or b) we can help us with the following **SANS** tables:"
   ]
  },
  {
   "cell_type": "markdown",
   "metadata": {},
   "source": [
    "<img src=\"./Pictures/MACB.webp\">\n"
   ]
  },
  {
   "cell_type": "markdown",
   "metadata": {},
   "source": [
    "<span style=\"color:blue\">**Is there any suspicious activity?** </span>\n"
   ]
  },
  {
   "cell_type": "markdown",
   "metadata": {},
   "source": [
    "<span style=\"color:green\">**ANSWER**:</span>\n",
    "\n",
    "<span style=\"color:green\">The atacker had access to several files, shared them and, besides, we can see that there's been a download from Internet Explorer: coreupdater.exe that was moved to /Windows/System32 folder.</span>\n"
   ]
  },
  {
   "cell_type": "markdown",
   "metadata": {},
   "source": [
    "<span style=\"color:blue\">**Was there an Internet download?** </span>"
   ]
  },
  {
   "cell_type": "markdown",
   "metadata": {},
   "source": [
    "<span style=\"color:green\">**ANSWER**:</span>\n",
    "\n",
    "\n",
    "<span style=\"color:green\">There's been a download from Internet Explorer: coreupdater.exe</span>"
   ]
  },
  {
   "cell_type": "markdown",
   "metadata": {},
   "source": [
    "<span style=\"color:blue\">**When was the Szechuan Sauce modified?** </span>"
   ]
  },
  {
   "cell_type": "markdown",
   "metadata": {},
   "source": [
    "<span style=\"color:green\">**ANSWER**:</span>\n",
    "\n",
    "\n",
    "<span style=\"color:green\">It was modified on 2020-09-18 15:38:56. At the MACB column, you can see that value 'm' and 'c' for Szechuan Sauce.txt</span>\n",
    "\n",
    "<span style=\"color:green\">The MAC(b) times are derived from file system metadata and they stand for:</span>\n",
    "\n",
    "   - <span style=\"color:green\">TModified</span>\n",
    "   - <span style=\"color:green\">TAccessed</span>\n",
    "   - <span style=\"color:green\">TChanged ($MFT Modified)</span>\n",
    "   - <span style=\"color:green\">TBirth (file creation time)</span>\n",
    "\n",
    "<span style=\"color:green\">The (b) is in parentheses because not all file systems record a birth time.</span>\n",
    "\n",
    "<span style=\"color:green\">Learn more about macb here: https://www.andreafortuna.org/2017/10/06/macb-times-in-windows-forensic-analysis/</span>"
   ]
  },
  {
   "cell_type": "markdown",
   "metadata": {},
   "source": [
    "### 5.2 Autoruns\n",
    "\n",
    "We can look for it on autoruns. In this way, we will check if it was moved on the Services and we will be able to see its hash. To locate coreupdater.exe, we will use the **xgrep()** function of the CHRYSALIS library, which allows us to search for a string within any column or row of the DataFrame."
   ]
  },
  {
   "cell_type": "code",
   "execution_count": 67,
   "metadata": {},
   "outputs": [
    {
     "data": {
      "text/html": [
       "<style  type=\"text/css\" >\n",
       "#T_b25ff206_462f_11ec_9aed_13b442a270darow0_col8,#T_b25ff206_462f_11ec_9aed_13b442a270darow0_col12,#T_b25ff206_462f_11ec_9aed_13b442a270darow0_col16,#T_b25ff206_462f_11ec_9aed_13b442a270darow0_col18{\n",
       "            background:  yellow;\n",
       "        }</style><table id=\"T_b25ff206_462f_11ec_9aed_13b442a270da\" ><thead>    <tr>        <th class=\"blank level0\" ></th>        <th class=\"col_heading level0 col0\" >index</th>        <th class=\"col_heading level0 col1\" >D4_DataType_</th>        <th class=\"col_heading level0 col2\" >D4_Orchestrator_</th>        <th class=\"col_heading level0 col3\" >D4_Tool_</th>        <th class=\"col_heading level0 col4\" >D4_Plugin_</th>        <th class=\"col_heading level0 col5\" >D4_Hostname_</th>        <th class=\"col_heading level0 col6\" >Time</th>        <th class=\"col_heading level0 col7\" >Entry Location</th>        <th class=\"col_heading level0 col8\" >Entry</th>        <th class=\"col_heading level0 col9\" >Enabled</th>        <th class=\"col_heading level0 col10\" >Category</th>        <th class=\"col_heading level0 col11\" >Profile</th>        <th class=\"col_heading level0 col12\" >Description</th>        <th class=\"col_heading level0 col13\" >Signer</th>        <th class=\"col_heading level0 col14\" >Signer_Verified_</th>        <th class=\"col_heading level0 col15\" >Company</th>        <th class=\"col_heading level0 col16\" >Image Path</th>        <th class=\"col_heading level0 col17\" >Version</th>        <th class=\"col_heading level0 col18\" >Launch String</th>        <th class=\"col_heading level0 col19\" >MD5</th>        <th class=\"col_heading level0 col20\" >SHA-1</th>        <th class=\"col_heading level0 col21\" >PESHA-1</th>        <th class=\"col_heading level0 col22\" >PESHA-256</th>        <th class=\"col_heading level0 col23\" >SHA-256</th>        <th class=\"col_heading level0 col24\" >IMP</th>    </tr></thead><tbody>\n",
       "                <tr>\n",
       "                        <th id=\"T_b25ff206_462f_11ec_9aed_13b442a270dalevel0_row0\" class=\"row_heading level0 row0\" >0</th>\n",
       "                        <td id=\"T_b25ff206_462f_11ec_9aed_13b442a270darow0_col0\" class=\"data row0 col0\" >22</td>\n",
       "                        <td id=\"T_b25ff206_462f_11ec_9aed_13b442a270darow0_col1\" class=\"data row0 col1\" >autoruns</td>\n",
       "                        <td id=\"T_b25ff206_462f_11ec_9aed_13b442a270darow0_col2\" class=\"data row0 col2\" >nan</td>\n",
       "                        <td id=\"T_b25ff206_462f_11ec_9aed_13b442a270darow0_col3\" class=\"data row0 col3\" >autoruns</td>\n",
       "                        <td id=\"T_b25ff206_462f_11ec_9aed_13b442a270darow0_col4\" class=\"data row0 col4\" >nan</td>\n",
       "                        <td id=\"T_b25ff206_462f_11ec_9aed_13b442a270darow0_col5\" class=\"data row0 col5\" >nan</td>\n",
       "                        <td id=\"T_b25ff206_462f_11ec_9aed_13b442a270darow0_col6\" class=\"data row0 col6\" >2010-04-14 15:06:00</td>\n",
       "                        <td id=\"T_b25ff206_462f_11ec_9aed_13b442a270darow0_col7\" class=\"data row0 col7\" >HKLM\\System\\CurrentControlSet\\Services</td>\n",
       "                        <td id=\"T_b25ff206_462f_11ec_9aed_13b442a270darow0_col8\" class=\"data row0 col8\" >coreupdater</td>\n",
       "                        <td id=\"T_b25ff206_462f_11ec_9aed_13b442a270darow0_col9\" class=\"data row0 col9\" >enabled</td>\n",
       "                        <td id=\"T_b25ff206_462f_11ec_9aed_13b442a270darow0_col10\" class=\"data row0 col10\" >Services</td>\n",
       "                        <td id=\"T_b25ff206_462f_11ec_9aed_13b442a270darow0_col11\" class=\"data row0 col11\" >System-wide</td>\n",
       "                        <td id=\"T_b25ff206_462f_11ec_9aed_13b442a270darow0_col12\" class=\"data row0 col12\" >coreupdater: </td>\n",
       "                        <td id=\"T_b25ff206_462f_11ec_9aed_13b442a270darow0_col13\" class=\"data row0 col13\" ></td>\n",
       "                        <td id=\"T_b25ff206_462f_11ec_9aed_13b442a270darow0_col14\" class=\"data row0 col14\" >False</td>\n",
       "                        <td id=\"T_b25ff206_462f_11ec_9aed_13b442a270darow0_col15\" class=\"data row0 col15\" ></td>\n",
       "                        <td id=\"T_b25ff206_462f_11ec_9aed_13b442a270darow0_col16\" class=\"data row0 col16\" >c:\\windows\\system32\\coreupdater.exe</td>\n",
       "                        <td id=\"T_b25ff206_462f_11ec_9aed_13b442a270darow0_col17\" class=\"data row0 col17\" ></td>\n",
       "                        <td id=\"T_b25ff206_462f_11ec_9aed_13b442a270darow0_col18\" class=\"data row0 col18\" >C:\\Windows\\System32\\coreupdater.exe</td>\n",
       "                        <td id=\"T_b25ff206_462f_11ec_9aed_13b442a270darow0_col19\" class=\"data row0 col19\" >EED41B4500E473F97C50C7385EF5E374</td>\n",
       "                        <td id=\"T_b25ff206_462f_11ec_9aed_13b442a270darow0_col20\" class=\"data row0 col20\" >FD153C66386CA93EC9993D66A84D6F0D129A3A5C</td>\n",
       "                        <td id=\"T_b25ff206_462f_11ec_9aed_13b442a270darow0_col21\" class=\"data row0 col21\" >C3E46C6242056ACE3217A5314CFF2063BE8E9799</td>\n",
       "                        <td id=\"T_b25ff206_462f_11ec_9aed_13b442a270darow0_col22\" class=\"data row0 col22\" >88763E60ED00AFDA80A61647782B597542D9667D2B9A35FB2623967E302FA28E</td>\n",
       "                        <td id=\"T_b25ff206_462f_11ec_9aed_13b442a270darow0_col23\" class=\"data row0 col23\" >10F3B92002BB98467334161CF85D0B1730851F9256F83C27DB125E9A0C1CFDA6</td>\n",
       "                        <td id=\"T_b25ff206_462f_11ec_9aed_13b442a270darow0_col24\" class=\"data row0 col24\" >B4C6FFF030479AA3B12625BE67BF4914</td>\n",
       "            </tr>\n",
       "    </tbody></table>"
      ],
      "text/plain": [
       "<pandas.io.formats.style.Styler at 0x7fea0e9ebe10>"
      ]
     },
     "execution_count": 67,
     "metadata": {},
     "output_type": "execute_result"
    }
   ],
   "source": [
    "xgrep(atrsdf, 'coreupdater')"
   ]
  },
  {
   "cell_type": "markdown",
   "metadata": {},
   "source": [
    "**It's been installed with persistence and we can obtain the hash from the MD5 column: EED41B4500E473F97C50C7385EF5E374**"
   ]
  },
  {
   "cell_type": "markdown",
   "metadata": {},
   "source": [
    "### 5.3 VirusTotal\n",
    "\n",
    "To check what coreupdater.exe is, we can use **VirusTotal**. It analyzes suspicious files and URLs to detect types of malware and automatically shares them with the security community. We can search for coreupdater hash here: https://www.virustotal.com/gui/home/upload\n",
    "\n",
    "<img src=\"./Pictures/virustotal.png\">\n",
    "\n",
    "\n",
    "<span style=\"color:blue\">**Is coreupdater.exe a malware?** </span>\n",
    "\n",
    "<span style=\"color:green\">**ANSWER**:</span>\n",
    "\n",
    "<span style=\"color:green\">The information in VirusTotal suggest that is a malware!</span>"
   ]
  },
  {
   "cell_type": "markdown",
   "metadata": {},
   "source": [
    "## **6. GETTING MORE INFORMATION FROM SHELLBAGS**"
   ]
  },
  {
   "cell_type": "markdown",
   "metadata": {},
   "source": [
    "What can we do next? We can use the Shellbag to check what folders the atacker visited."
   ]
  },
  {
   "cell_type": "markdown",
   "metadata": {},
   "source": [
    "<span style=\"color:blue\">**Which folders did the atacker visit?** </span>\n"
   ]
  },
  {
   "cell_type": "markdown",
   "metadata": {},
   "source": [
    "### **6.1 Shellbags**\n",
    "\n",
    "- Set of registry keys that store details about a viewed folder, such as its size, position, and icon.\n",
    "- It helps track views, sizes and positions of a folder window when viewed through Windows Explorer; this includes network folders and removable devices."
   ]
  },
  {
   "cell_type": "markdown",
   "metadata": {},
   "source": [
    "To select the DataFrame we are interested in, we will use **xmenu()** from CHRYSALIS. \n",
    "\n",
    "<span style=\"color:purple\">\n",
    "    <b>INSTRUCTIONS</b>\n",
    "    \n",
    "<ul>\n",
    "    <li>Execute the cell</li>\n",
    "    <li>Select 'windows_shell_item_file_entry' as DataFrame on the left drop-down menu</li>\n",
    "    <li>Select qgrid as grid on the middle drop-down menu</li>\n",
    "</ul>\n",
    "</span>\n"
   ]
  },
  {
   "cell_type": "code",
   "execution_count": 75,
   "metadata": {},
   "outputs": [
    {
     "data": {
      "text/markdown": [
       "**DataFrame visualization menu:**"
      ],
      "text/plain": [
       "<IPython.core.display.Markdown object>"
      ]
     },
     "metadata": {},
     "output_type": "display_data"
    },
    {
     "data": {
      "application/vnd.jupyter.widget-view+json": {
       "model_id": "dc15640343d947e480dbc2fb6241f6d6",
       "version_major": 2,
       "version_minor": 0
      },
      "text/plain": [
       "Box(children=(Dropdown(description='Select DataFrame', layout=Layout(width='550px'), options=('Select DataFram…"
      ]
     },
     "metadata": {},
     "output_type": "display_data"
    },
    {
     "data": {
      "application/vnd.jupyter.widget-view+json": {
       "model_id": "f8e102e71d984efd8d2f92fc5d694878",
       "version_major": 2,
       "version_minor": 0
      },
      "text/plain": [
       "HBox(children=(Label(value='Selected dataframe: '),))"
      ]
     },
     "metadata": {},
     "output_type": "display_data"
    },
    {
     "data": {
      "application/vnd.jupyter.widget-view+json": {
       "model_id": "721c5f4917054283aade741f84565907",
       "version_major": 2,
       "version_minor": 0
      },
      "text/plain": [
       "HBox(children=(HTML(value=\"<div style='color: orange; font-weight: bold;'>Data Loading. Please Wait…</div>\"),)…"
      ]
     },
     "metadata": {},
     "output_type": "display_data"
    },
    {
     "data": {
      "application/vnd.jupyter.widget-view+json": {
       "model_id": "a81327f159634466ac3cdd54b5af8f0e",
       "version_major": 2,
       "version_minor": 0
      },
      "text/plain": [
       "Output(layout=Layout(overflow='auto', width='99%'))"
      ]
     },
     "metadata": {},
     "output_type": "display_data"
    },
    {
     "data": {
      "application/vnd.jupyter.widget-view+json": {
       "model_id": "61447c271e3640039a8e4e1d7841d347",
       "version_major": 2,
       "version_minor": 0
      },
      "text/plain": [
       "Output(layout=Layout(overflow='auto', width='99%'))"
      ]
     },
     "metadata": {},
     "output_type": "display_data"
    },
    {
     "data": {
      "text/plain": [
       "<ds4n6_lib.gui.dfs_explorer at 0x7f63b68ca590>"
      ]
     },
     "execution_count": 75,
     "metadata": {},
     "output_type": "execute_result"
    }
   ],
   "source": [
    "xmenu(pldfs_srv)"
   ]
  },
  {
   "cell_type": "markdown",
   "metadata": {},
   "source": [
    "We are particularly intrigued by a 'Secret' file in the 'Fileshare' directory and the access to the Downloads folder, probably after coreupdater.exe download."
   ]
  },
  {
   "cell_type": "markdown",
   "metadata": {},
   "source": [
    "<span style=\"color:blue\">**Which folders did the atacker visit?** </span>\n",
    "\n",
    "<span style=\"color:green\">**ANSWER**:</span>\n",
    "\n",
    "- <span style=\"color:green\">'Secret' file on Fileshare</span>\n",
    "- <span style=\"color:green\">There's been an access to the Downloads folder </span>"
   ]
  },
  {
   "cell_type": "markdown",
   "metadata": {},
   "source": [
    "### **6.2. CONCLUSIONS**:"
   ]
  },
  {
   "cell_type": "markdown",
   "metadata": {},
   "source": [
    "**6. GETTING MORE INFORMATION FROM SHELLBAGS**\n",
    "\n",
    "The folders the attacker visited are:\n",
    "- 'Secret' file on Fileshare\n",
    "- There's been an access to the Downloads folder "
   ]
  },
  {
   "cell_type": "markdown",
   "metadata": {},
   "source": [
    "## 7. Looking Into the PCAP File"
   ]
  },
  {
   "cell_type": "markdown",
   "metadata": {},
   "source": [
    "<span style=\"color:blue\">**What is the port number that the attacker downloaded the malware from?** </span>\n"
   ]
  },
  {
   "cell_type": "markdown",
   "metadata": {},
   "source": [
    "### 7.1. TShark"
   ]
  },
  {
   "cell_type": "markdown",
   "metadata": {},
   "source": [
    "TShark is a network protocol analyzer. \n",
    "It allows you to:\n",
    "- Capture packet data from a live network\n",
    "- Read packets from a previously saved capture file\n",
    "- Output and write the packets to a file. (JSON, CSV etc.)\n",
    "\n",
    "In this demo. we will make use of a generated CSV files using different Wireshark filters on the PCAP provided by the case.\n"
   ]
  },
  {
   "cell_type": "markdown",
   "metadata": {},
   "source": [
    "### 7.2. HTTP\n",
    "\n",
    "The following command was used with Tshark to find out about the HTTP GET Method:\n",
    "\n",
    "tshark -n -r <pcap location> -Y \"http.request.method == \"GET\"\" -T fields -Eheader=y -e ip.src -e ip.dst -e tcp.srcport -e tcp.dstport -e http.request.uri -e frame.time\n",
    "    \n",
    "HTTP GET Request Method was used to help us filter on the packets to help us find out how was coreupdater.exe introduced into the victims' systems.\n",
    "    \n",
    "<span style=\"color:purple\">\n",
    "    <b>INSTRUCTIONS</b>\n",
    "    \n",
    "<ul>\n",
    "    <li>Execute cell</li>\n",
    "    <li>Click SELECT & READ</li>\n",
    "</ul>\n",
    "    </span>"
   ]
  },
  {
   "cell_type": "code",
   "execution_count": 76,
   "metadata": {},
   "outputs": [
    {
     "data": {
      "text/markdown": [
       "Select _tsharkd file:"
      ],
      "text/plain": [
       "<IPython.core.display.Markdown object>"
      ]
     },
     "metadata": {},
     "output_type": "display_data"
    },
    {
     "data": {
      "application/vnd.jupyter.widget-view+json": {
       "model_id": "9e74c3bc1657493a9282477f12d19337",
       "version_major": 2,
       "version_minor": 0
      },
      "text/plain": [
       "Accordion(children=(SelectMultiple(options=('init',), rows=10, value=()),), selected_index=None, _titles={'0':…"
      ]
     },
     "metadata": {},
     "output_type": "display_data"
    },
    {
     "data": {
      "application/vnd.jupyter.widget-view+json": {
       "model_id": "b8710c3041d94a42902b91c121db9837",
       "version_major": 2,
       "version_minor": 0
      },
      "text/plain": [
       "Button(description='SELECT & READ', style=ButtonStyle())"
      ]
     },
     "metadata": {},
     "output_type": "display_data"
    },
    {
     "data": {
      "application/vnd.jupyter.widget-view+json": {
       "model_id": "c78f77d550c443779d39d21c4e3422af",
       "version_major": 2,
       "version_minor": 0
      },
      "text/plain": [
       "Output()"
      ]
     },
     "metadata": {},
     "output_type": "display_data"
    }
   ],
   "source": [
    "xread(tool='tshark', rootpath=reading_path+'/PCAP_http.pcap.csv')"
   ]
  },
  {
   "cell_type": "code",
   "execution_count": 77,
   "metadata": {},
   "outputs": [],
   "source": [
    "pcaphttpdf = d4.out"
   ]
  },
  {
   "cell_type": "markdown",
   "metadata": {},
   "source": [
    "We shall make use of **xgrep()** from CHRYSALIS to find out how coreupdater.exe was downloaded"
   ]
  },
  {
   "cell_type": "code",
   "execution_count": 79,
   "metadata": {},
   "outputs": [
    {
     "data": {
      "text/html": [
       "<style  type=\"text/css\" >\n",
       "#T_4f14d908_4799_11ec_9806_1d4c7841550brow0_col7,#T_4f14d908_4799_11ec_9806_1d4c7841550brow1_col7{\n",
       "            background:  yellow;\n",
       "        }</style><table id=\"T_4f14d908_4799_11ec_9806_1d4c7841550b\" ><thead>    <tr>        <th class=\"blank level0\" ></th>        <th class=\"col_heading level0 col0\" >index</th>        <th class=\"col_heading level0 col1\" >Source_IP</th>        <th class=\"col_heading level0 col2\" >Destination_IP</th>        <th class=\"col_heading level0 col3\" >Source_TCP_Port</th>        <th class=\"col_heading level0 col4\" >Destination_TCP_Port</th>        <th class=\"col_heading level0 col5\" >Frame_Time</th>        <th class=\"col_heading level0 col6\" >Protocol</th>        <th class=\"col_heading level0 col7\" >Info</th>    </tr></thead><tbody>\n",
       "                <tr>\n",
       "                        <th id=\"T_4f14d908_4799_11ec_9806_1d4c7841550blevel0_row0\" class=\"row_heading level0 row0\" >0</th>\n",
       "                        <td id=\"T_4f14d908_4799_11ec_9806_1d4c7841550brow0_col0\" class=\"data row0 col0\" >114</td>\n",
       "                        <td id=\"T_4f14d908_4799_11ec_9806_1d4c7841550brow0_col1\" class=\"data row0 col1\" >10.42.85.10</td>\n",
       "                        <td id=\"T_4f14d908_4799_11ec_9806_1d4c7841550brow0_col2\" class=\"data row0 col2\" >194.61.24.102</td>\n",
       "                        <td id=\"T_4f14d908_4799_11ec_9806_1d4c7841550brow0_col3\" class=\"data row0 col3\" >62410</td>\n",
       "                        <td id=\"T_4f14d908_4799_11ec_9806_1d4c7841550brow0_col4\" class=\"data row0 col4\" >80</td>\n",
       "                        <td id=\"T_4f14d908_4799_11ec_9806_1d4c7841550brow0_col5\" class=\"data row0 col5\" >Sep 19, 2020 04:24:06.939239000 CEST</td>\n",
       "                        <td id=\"T_4f14d908_4799_11ec_9806_1d4c7841550brow0_col6\" class=\"data row0 col6\" >HTTP</td>\n",
       "                        <td id=\"T_4f14d908_4799_11ec_9806_1d4c7841550brow0_col7\" class=\"data row0 col7\" >GET /coreupdater.exe HTTP/1.1 </td>\n",
       "            </tr>\n",
       "            <tr>\n",
       "                        <th id=\"T_4f14d908_4799_11ec_9806_1d4c7841550blevel0_row1\" class=\"row_heading level0 row1\" >1</th>\n",
       "                        <td id=\"T_4f14d908_4799_11ec_9806_1d4c7841550brow1_col0\" class=\"data row1 col0\" >134</td>\n",
       "                        <td id=\"T_4f14d908_4799_11ec_9806_1d4c7841550brow1_col1\" class=\"data row1 col1\" >10.42.85.115</td>\n",
       "                        <td id=\"T_4f14d908_4799_11ec_9806_1d4c7841550brow1_col2\" class=\"data row1 col2\" >194.61.24.102</td>\n",
       "                        <td id=\"T_4f14d908_4799_11ec_9806_1d4c7841550brow1_col3\" class=\"data row1 col3\" >50864</td>\n",
       "                        <td id=\"T_4f14d908_4799_11ec_9806_1d4c7841550brow1_col4\" class=\"data row1 col4\" >80</td>\n",
       "                        <td id=\"T_4f14d908_4799_11ec_9806_1d4c7841550brow1_col5\" class=\"data row1 col5\" >Sep 19, 2020 04:39:58.410684000 CEST</td>\n",
       "                        <td id=\"T_4f14d908_4799_11ec_9806_1d4c7841550brow1_col6\" class=\"data row1 col6\" >HTTP</td>\n",
       "                        <td id=\"T_4f14d908_4799_11ec_9806_1d4c7841550brow1_col7\" class=\"data row1 col7\" >GET /coreupdater.exe HTTP/1.1 </td>\n",
       "            </tr>\n",
       "    </tbody></table>"
      ],
      "text/plain": [
       "<pandas.io.formats.style.Styler at 0x7f63c2779d50>"
      ]
     },
     "execution_count": 79,
     "metadata": {},
     "output_type": "execute_result"
    }
   ],
   "source": [
    "xgrep(pcaphttpdf, 'coreupdater')"
   ]
  },
  {
   "cell_type": "markdown",
   "metadata": {},
   "source": [
    "**NOTE: Packets are in CEST and Domain Controller was in Pacific Standard Time, hence we have to minus 1 hour from packet time**\n",
    "\n",
    "\n",
    "The IP address '194.61.24.102' hosted the malware file on port 80 (HTTP) that the victims were made to download onto their respective systems)\n",
    "But how did the malicious IP know about the network?\n",
    "Attackers usually performs reconnaissance to understand about the network and try to exploit exploit vulnerabilities.\n"
   ]
  },
  {
   "cell_type": "markdown",
   "metadata": {},
   "source": [
    "### 7.3. Reconnaissance Scan\n",
    "\n",
    "Let's replace the \"http.request.method == GET\" filter with \"ip.addr == 194.61.24.102\".\n",
    "This filter helps us to understand about the malicious IP as both source and destination IP to learn what was done in the network."
   ]
  },
  {
   "cell_type": "markdown",
   "metadata": {},
   "source": [
    "<span style=\"color:purple\">\n",
    "    <b>INSTRUCTIONS</b>\n",
    "    \n",
    "<ul>\n",
    "    <li>Execute cell</li>\n",
    "    <li>Click SELECT & READ</li>\n",
    "</ul>\n",
    "    </span>"
   ]
  },
  {
   "cell_type": "code",
   "execution_count": 80,
   "metadata": {},
   "outputs": [
    {
     "data": {
      "text/markdown": [
       "Select _tsharkd file:"
      ],
      "text/plain": [
       "<IPython.core.display.Markdown object>"
      ]
     },
     "metadata": {},
     "output_type": "display_data"
    },
    {
     "data": {
      "application/vnd.jupyter.widget-view+json": {
       "model_id": "1097ecd0f973492994e05ad2685f0f1d",
       "version_major": 2,
       "version_minor": 0
      },
      "text/plain": [
       "Accordion(children=(SelectMultiple(options=('init',), rows=10, value=()),), selected_index=None, _titles={'0':…"
      ]
     },
     "metadata": {},
     "output_type": "display_data"
    },
    {
     "data": {
      "application/vnd.jupyter.widget-view+json": {
       "model_id": "46f2e6d511074053a185e6dee26c31cd",
       "version_major": 2,
       "version_minor": 0
      },
      "text/plain": [
       "Button(description='SELECT & READ', style=ButtonStyle())"
      ]
     },
     "metadata": {},
     "output_type": "display_data"
    },
    {
     "data": {
      "application/vnd.jupyter.widget-view+json": {
       "model_id": "a24a2c909795432d903d1be6fc3a3fb1",
       "version_major": 2,
       "version_minor": 0
      },
      "text/plain": [
       "Output()"
      ]
     },
     "metadata": {},
     "output_type": "display_data"
    }
   ],
   "source": [
    "xread(tool='tshark', rootpath=reading_path+'/PCAP_nmap.pcap.csv')"
   ]
  },
  {
   "cell_type": "code",
   "execution_count": 81,
   "metadata": {},
   "outputs": [],
   "source": [
    "pcapnmapdf = d4.out"
   ]
  },
  {
   "cell_type": "markdown",
   "metadata": {},
   "source": [
    "As there are many packets by the malicious IP, we can make use of the first few packets to learn about the behaviour using pandas' head()"
   ]
  },
  {
   "cell_type": "code",
   "execution_count": 82,
   "metadata": {},
   "outputs": [
    {
     "data": {
      "text/html": [
       "<div>\n",
       "<style scoped>\n",
       "    .dataframe tbody tr th:only-of-type {\n",
       "        vertical-align: middle;\n",
       "    }\n",
       "\n",
       "    .dataframe tbody tr th {\n",
       "        vertical-align: top;\n",
       "    }\n",
       "\n",
       "    .dataframe thead th {\n",
       "        text-align: right;\n",
       "    }\n",
       "</style>\n",
       "<table border=\"1\" class=\"dataframe\">\n",
       "  <thead>\n",
       "    <tr style=\"text-align: left;\">\n",
       "      <th></th>\n",
       "      <th>Source_IP</th>\n",
       "      <th>Destination_IP</th>\n",
       "      <th>Source_TCP_Port</th>\n",
       "      <th>Destination_TCP_Port</th>\n",
       "      <th>Frame_Time</th>\n",
       "      <th>Protocol</th>\n",
       "      <th>Info</th>\n",
       "    </tr>\n",
       "  </thead>\n",
       "  <tbody>\n",
       "    <tr>\n",
       "      <th>0</th>\n",
       "      <td>194.61.24.102</td>\n",
       "      <td>10.42.85.10</td>\n",
       "      <td>NaN</td>\n",
       "      <td>NaN</td>\n",
       "      <td>Sep 19, 2020 04:19:13.414319000 CEST</td>\n",
       "      <td>ICMP</td>\n",
       "      <td>Echo (ping) request  id=0xef6f, seq=0/0, ttl=56</td>\n",
       "    </tr>\n",
       "    <tr>\n",
       "      <th>1</th>\n",
       "      <td>194.61.24.102</td>\n",
       "      <td>10.42.85.10</td>\n",
       "      <td>64385.0</td>\n",
       "      <td>443.0</td>\n",
       "      <td>Sep 19, 2020 04:19:13.414353000 CEST</td>\n",
       "      <td>TCP</td>\n",
       "      <td>64385 → 443 [SYN] Seq=0 Win=1024 Len=0 MSS=1460</td>\n",
       "    </tr>\n",
       "    <tr>\n",
       "      <th>2</th>\n",
       "      <td>194.61.24.102</td>\n",
       "      <td>10.42.85.10</td>\n",
       "      <td>64385.0</td>\n",
       "      <td>80.0</td>\n",
       "      <td>Sep 19, 2020 04:19:13.414370000 CEST</td>\n",
       "      <td>TCP</td>\n",
       "      <td>64385 → 80 [ACK] Seq=1 Ack=1 Win=1024 Len=0</td>\n",
       "    </tr>\n",
       "    <tr>\n",
       "      <th>3</th>\n",
       "      <td>194.61.24.102</td>\n",
       "      <td>10.42.85.10</td>\n",
       "      <td>NaN</td>\n",
       "      <td>NaN</td>\n",
       "      <td>Sep 19, 2020 04:19:13.414386000 CEST</td>\n",
       "      <td>ICMP</td>\n",
       "      <td>Timestamp request    id=0xe076, seq=0/0, ttl=51</td>\n",
       "    </tr>\n",
       "    <tr>\n",
       "      <th>4</th>\n",
       "      <td>10.42.85.10</td>\n",
       "      <td>194.61.24.102</td>\n",
       "      <td>NaN</td>\n",
       "      <td>NaN</td>\n",
       "      <td>Sep 19, 2020 04:19:13.414869000 CEST</td>\n",
       "      <td>ICMP</td>\n",
       "      <td>Echo (ping) reply    id=0xef6f, seq=0/0, ttl=128 (request in 84319)</td>\n",
       "    </tr>\n",
       "    <tr>\n",
       "      <th>5</th>\n",
       "      <td>194.61.24.102</td>\n",
       "      <td>10.42.85.10</td>\n",
       "      <td>38088.0</td>\n",
       "      <td>3389.0</td>\n",
       "      <td>Sep 19, 2020 04:19:26.469203000 CEST</td>\n",
       "      <td>TCP</td>\n",
       "      <td>38088 → 3389 [SYN] Seq=0 Win=64240 Len=0 MSS=1460 SACK_PERM=1 TSval=2976250824 TSecr=0 WS=128</td>\n",
       "    </tr>\n",
       "    <tr>\n",
       "      <th>6</th>\n",
       "      <td>10.42.85.10</td>\n",
       "      <td>194.61.24.102</td>\n",
       "      <td>3389.0</td>\n",
       "      <td>38088.0</td>\n",
       "      <td>Sep 19, 2020 04:19:26.469491000 CEST</td>\n",
       "      <td>TCP</td>\n",
       "      <td>3389 → 38088 [SYN, ACK] Seq=0 Ack=1 Win=64000 Len=0 MSS=1460 WS=1 SACK_PERM=1 TSval=701188 TSecr=2976250824</td>\n",
       "    </tr>\n",
       "    <tr>\n",
       "      <th>7</th>\n",
       "      <td>194.61.24.102</td>\n",
       "      <td>10.42.85.10</td>\n",
       "      <td>38088.0</td>\n",
       "      <td>3389.0</td>\n",
       "      <td>Sep 19, 2020 04:19:26.469759000 CEST</td>\n",
       "      <td>TCP</td>\n",
       "      <td>38088 → 3389 [ACK] Seq=1 Ack=1 Win=64256 Len=0 TSval=2976250824 TSecr=701188</td>\n",
       "    </tr>\n",
       "    <tr>\n",
       "      <th>8</th>\n",
       "      <td>194.61.24.102</td>\n",
       "      <td>10.42.85.10</td>\n",
       "      <td>38088.0</td>\n",
       "      <td>3389.0</td>\n",
       "      <td>Sep 19, 2020 04:19:26.469897000 CEST</td>\n",
       "      <td>TCP</td>\n",
       "      <td>38088 → 3389 [RST, ACK] Seq=1 Ack=1 Win=64256 Len=0 TSval=2976250824 TSecr=701188</td>\n",
       "    </tr>\n",
       "    <tr>\n",
       "      <th>9</th>\n",
       "      <td>194.61.24.102</td>\n",
       "      <td>10.42.85.10</td>\n",
       "      <td>38090.0</td>\n",
       "      <td>3389.0</td>\n",
       "      <td>Sep 19, 2020 04:19:26.472244000 CEST</td>\n",
       "      <td>TCP</td>\n",
       "      <td>38090 → 3389 [SYN] Seq=0 Win=64240 Len=0 MSS=1460 SACK_PERM=1 TSval=2976250827 TSecr=0 WS=128</td>\n",
       "    </tr>\n",
       "    <tr>\n",
       "      <th>10</th>\n",
       "      <td>10.42.85.10</td>\n",
       "      <td>194.61.24.102</td>\n",
       "      <td>3389.0</td>\n",
       "      <td>38090.0</td>\n",
       "      <td>Sep 19, 2020 04:19:26.472426000 CEST</td>\n",
       "      <td>TCP</td>\n",
       "      <td>3389 → 38090 [SYN, ACK] Seq=0 Ack=1 Win=64000 Len=0 MSS=1460 WS=1 SACK_PERM=1 TSval=701188 TSecr=2976250827</td>\n",
       "    </tr>\n",
       "    <tr>\n",
       "      <th>11</th>\n",
       "      <td>194.61.24.102</td>\n",
       "      <td>10.42.85.10</td>\n",
       "      <td>38090.0</td>\n",
       "      <td>3389.0</td>\n",
       "      <td>Sep 19, 2020 04:19:26.472579000 CEST</td>\n",
       "      <td>TCP</td>\n",
       "      <td>38090 → 3389 [ACK] Seq=1 Ack=1 Win=64256 Len=0 TSval=2976250827 TSecr=701188</td>\n",
       "    </tr>\n",
       "    <tr>\n",
       "      <th>12</th>\n",
       "      <td>194.61.24.102</td>\n",
       "      <td>10.42.85.10</td>\n",
       "      <td>38092.0</td>\n",
       "      <td>3389.0</td>\n",
       "      <td>Sep 19, 2020 04:19:26.472604000 CEST</td>\n",
       "      <td>TCP</td>\n",
       "      <td>38092 → 3389 [SYN] Seq=0 Win=64240 Len=0 MSS=1460 SACK_PERM=1 TSval=2976250827 TSecr=0 WS=128</td>\n",
       "    </tr>\n",
       "    <tr>\n",
       "      <th>13</th>\n",
       "      <td>10.42.85.10</td>\n",
       "      <td>194.61.24.102</td>\n",
       "      <td>3389.0</td>\n",
       "      <td>38092.0</td>\n",
       "      <td>Sep 19, 2020 04:19:26.472701000 CEST</td>\n",
       "      <td>TCP</td>\n",
       "      <td>3389 → 38092 [SYN, ACK] Seq=0 Ack=1 Win=64000 Len=0 MSS=1460 WS=1 SACK_PERM=1 TSval=701188 TSecr=2976250827</td>\n",
       "    </tr>\n",
       "    <tr>\n",
       "      <th>14</th>\n",
       "      <td>194.61.24.102</td>\n",
       "      <td>10.42.85.10</td>\n",
       "      <td>38092.0</td>\n",
       "      <td>3389.0</td>\n",
       "      <td>Sep 19, 2020 04:19:26.472841000 CEST</td>\n",
       "      <td>TCP</td>\n",
       "      <td>38092 → 3389 [ACK] Seq=1 Ack=1 Win=64256 Len=0 TSval=2976250827 TSecr=701188</td>\n",
       "    </tr>\n",
       "    <tr>\n",
       "      <th>15</th>\n",
       "      <td>194.61.24.102</td>\n",
       "      <td>10.42.85.10</td>\n",
       "      <td>38094.0</td>\n",
       "      <td>3389.0</td>\n",
       "      <td>Sep 19, 2020 04:19:26.495364000 CEST</td>\n",
       "      <td>TCP</td>\n",
       "      <td>38094 → 3389 [SYN] Seq=0 Win=64240 Len=0 MSS=1460 SACK_PERM=1 TSval=2976250850 TSecr=0 WS=128</td>\n",
       "    </tr>\n",
       "    <tr>\n",
       "      <th>16</th>\n",
       "      <td>194.61.24.102</td>\n",
       "      <td>10.42.85.10</td>\n",
       "      <td>38096.0</td>\n",
       "      <td>3389.0</td>\n",
       "      <td>Sep 19, 2020 04:19:26.495519000 CEST</td>\n",
       "      <td>TCP</td>\n",
       "      <td>38096 → 3389 [SYN] Seq=0 Win=64240 Len=0 MSS=1460 SACK_PERM=1 TSval=2976250850 TSecr=0 WS=128</td>\n",
       "    </tr>\n",
       "    <tr>\n",
       "      <th>17</th>\n",
       "      <td>10.42.85.10</td>\n",
       "      <td>194.61.24.102</td>\n",
       "      <td>3389.0</td>\n",
       "      <td>38094.0</td>\n",
       "      <td>Sep 19, 2020 04:19:26.495567000 CEST</td>\n",
       "      <td>TCP</td>\n",
       "      <td>3389 → 38094 [SYN, ACK] Seq=0 Ack=1 Win=64000 Len=0 MSS=1460 WS=1 SACK_PERM=1 TSval=701191 TSecr=2976250850</td>\n",
       "    </tr>\n",
       "    <tr>\n",
       "      <th>18</th>\n",
       "      <td>10.42.85.10</td>\n",
       "      <td>194.61.24.102</td>\n",
       "      <td>3389.0</td>\n",
       "      <td>38096.0</td>\n",
       "      <td>Sep 19, 2020 04:19:26.495615000 CEST</td>\n",
       "      <td>TCP</td>\n",
       "      <td>3389 → 38096 [SYN, ACK] Seq=0 Ack=1 Win=64000 Len=0 MSS=1460 WS=1 SACK_PERM=1 TSval=701191 TSecr=2976250850</td>\n",
       "    </tr>\n",
       "    <tr>\n",
       "      <th>19</th>\n",
       "      <td>194.61.24.102</td>\n",
       "      <td>10.42.85.10</td>\n",
       "      <td>38098.0</td>\n",
       "      <td>3389.0</td>\n",
       "      <td>Sep 19, 2020 04:19:26.495778000 CEST</td>\n",
       "      <td>TCP</td>\n",
       "      <td>38098 → 3389 [SYN] Seq=0 Win=64240 Len=0 MSS=1460 SACK_PERM=1 TSval=2976250850 TSecr=0 WS=128</td>\n",
       "    </tr>\n",
       "  </tbody>\n",
       "</table>\n",
       "</div>"
      ],
      "text/plain": [
       "   Source_IP      Destination_IP  Source_TCP_Port  Destination_TCP_Port  \\\n",
       "0   194.61.24.102    10.42.85.10      NaN              NaN                \n",
       "1   194.61.24.102    10.42.85.10  64385.0            443.0                \n",
       "2   194.61.24.102    10.42.85.10  64385.0             80.0                \n",
       "3   194.61.24.102    10.42.85.10      NaN              NaN                \n",
       "4     10.42.85.10  194.61.24.102      NaN              NaN                \n",
       "5   194.61.24.102    10.42.85.10  38088.0           3389.0                \n",
       "6     10.42.85.10  194.61.24.102   3389.0          38088.0                \n",
       "7   194.61.24.102    10.42.85.10  38088.0           3389.0                \n",
       "8   194.61.24.102    10.42.85.10  38088.0           3389.0                \n",
       "9   194.61.24.102    10.42.85.10  38090.0           3389.0                \n",
       "10    10.42.85.10  194.61.24.102   3389.0          38090.0                \n",
       "11  194.61.24.102    10.42.85.10  38090.0           3389.0                \n",
       "12  194.61.24.102    10.42.85.10  38092.0           3389.0                \n",
       "13    10.42.85.10  194.61.24.102   3389.0          38092.0                \n",
       "14  194.61.24.102    10.42.85.10  38092.0           3389.0                \n",
       "15  194.61.24.102    10.42.85.10  38094.0           3389.0                \n",
       "16  194.61.24.102    10.42.85.10  38096.0           3389.0                \n",
       "17    10.42.85.10  194.61.24.102   3389.0          38094.0                \n",
       "18    10.42.85.10  194.61.24.102   3389.0          38096.0                \n",
       "19  194.61.24.102    10.42.85.10  38098.0           3389.0                \n",
       "\n",
       "   Frame_Time                            Protocol  \\\n",
       "0   Sep 19, 2020 04:19:13.414319000 CEST  ICMP      \n",
       "1   Sep 19, 2020 04:19:13.414353000 CEST   TCP      \n",
       "2   Sep 19, 2020 04:19:13.414370000 CEST   TCP      \n",
       "3   Sep 19, 2020 04:19:13.414386000 CEST  ICMP      \n",
       "4   Sep 19, 2020 04:19:13.414869000 CEST  ICMP      \n",
       "5   Sep 19, 2020 04:19:26.469203000 CEST   TCP      \n",
       "6   Sep 19, 2020 04:19:26.469491000 CEST   TCP      \n",
       "7   Sep 19, 2020 04:19:26.469759000 CEST   TCP      \n",
       "8   Sep 19, 2020 04:19:26.469897000 CEST   TCP      \n",
       "9   Sep 19, 2020 04:19:26.472244000 CEST   TCP      \n",
       "10  Sep 19, 2020 04:19:26.472426000 CEST   TCP      \n",
       "11  Sep 19, 2020 04:19:26.472579000 CEST   TCP      \n",
       "12  Sep 19, 2020 04:19:26.472604000 CEST   TCP      \n",
       "13  Sep 19, 2020 04:19:26.472701000 CEST   TCP      \n",
       "14  Sep 19, 2020 04:19:26.472841000 CEST   TCP      \n",
       "15  Sep 19, 2020 04:19:26.495364000 CEST   TCP      \n",
       "16  Sep 19, 2020 04:19:26.495519000 CEST   TCP      \n",
       "17  Sep 19, 2020 04:19:26.495567000 CEST   TCP      \n",
       "18  Sep 19, 2020 04:19:26.495615000 CEST   TCP      \n",
       "19  Sep 19, 2020 04:19:26.495778000 CEST   TCP      \n",
       "\n",
       "   Info                                                                                                          \n",
       "0                                                               Echo (ping) request  id=0xef6f, seq=0/0, ttl=56  \n",
       "1                                                               64385 → 443 [SYN] Seq=0 Win=1024 Len=0 MSS=1460  \n",
       "2                                                                   64385 → 80 [ACK] Seq=1 Ack=1 Win=1024 Len=0  \n",
       "3                                                               Timestamp request    id=0xe076, seq=0/0, ttl=51  \n",
       "4                                           Echo (ping) reply    id=0xef6f, seq=0/0, ttl=128 (request in 84319)  \n",
       "5                 38088 → 3389 [SYN] Seq=0 Win=64240 Len=0 MSS=1460 SACK_PERM=1 TSval=2976250824 TSecr=0 WS=128  \n",
       "6   3389 → 38088 [SYN, ACK] Seq=0 Ack=1 Win=64000 Len=0 MSS=1460 WS=1 SACK_PERM=1 TSval=701188 TSecr=2976250824  \n",
       "7                                  38088 → 3389 [ACK] Seq=1 Ack=1 Win=64256 Len=0 TSval=2976250824 TSecr=701188  \n",
       "8                             38088 → 3389 [RST, ACK] Seq=1 Ack=1 Win=64256 Len=0 TSval=2976250824 TSecr=701188  \n",
       "9                 38090 → 3389 [SYN] Seq=0 Win=64240 Len=0 MSS=1460 SACK_PERM=1 TSval=2976250827 TSecr=0 WS=128  \n",
       "10  3389 → 38090 [SYN, ACK] Seq=0 Ack=1 Win=64000 Len=0 MSS=1460 WS=1 SACK_PERM=1 TSval=701188 TSecr=2976250827  \n",
       "11                                 38090 → 3389 [ACK] Seq=1 Ack=1 Win=64256 Len=0 TSval=2976250827 TSecr=701188  \n",
       "12                38092 → 3389 [SYN] Seq=0 Win=64240 Len=0 MSS=1460 SACK_PERM=1 TSval=2976250827 TSecr=0 WS=128  \n",
       "13  3389 → 38092 [SYN, ACK] Seq=0 Ack=1 Win=64000 Len=0 MSS=1460 WS=1 SACK_PERM=1 TSval=701188 TSecr=2976250827  \n",
       "14                                 38092 → 3389 [ACK] Seq=1 Ack=1 Win=64256 Len=0 TSval=2976250827 TSecr=701188  \n",
       "15                38094 → 3389 [SYN] Seq=0 Win=64240 Len=0 MSS=1460 SACK_PERM=1 TSval=2976250850 TSecr=0 WS=128  \n",
       "16                38096 → 3389 [SYN] Seq=0 Win=64240 Len=0 MSS=1460 SACK_PERM=1 TSval=2976250850 TSecr=0 WS=128  \n",
       "17  3389 → 38094 [SYN, ACK] Seq=0 Ack=1 Win=64000 Len=0 MSS=1460 WS=1 SACK_PERM=1 TSval=701191 TSecr=2976250850  \n",
       "18  3389 → 38096 [SYN, ACK] Seq=0 Ack=1 Win=64000 Len=0 MSS=1460 WS=1 SACK_PERM=1 TSval=701191 TSecr=2976250850  \n",
       "19                38098 → 3389 [SYN] Seq=0 Win=64240 Len=0 MSS=1460 SACK_PERM=1 TSval=2976250850 TSecr=0 WS=128  "
      ]
     },
     "execution_count": 82,
     "metadata": {},
     "output_type": "execute_result"
    }
   ],
   "source": [
    "pcapnmapdf.head(20)"
   ]
  },
  {
   "cell_type": "markdown",
   "metadata": {},
   "source": [
    "The very first packet, the malicious IP did a ping request Domain Controller (10.42.85.10). Ping/ICMP scan is one of the common methods to find out what devices are connected to the network.\n",
    "\n",
    "Next few packets, within the very same second (04:19:13), there were two probes to port 443 (HTTPS) and 80 (HTTP) before getting ICMP reply from the Domain Controller.\n",
    "\n",
    "This means that there was a service port scan done on domain controller itself."
   ]
  },
  {
   "cell_type": "markdown",
   "metadata": {},
   "source": [
    "### 7.4. Remote Desktop Protocol\n",
    "\n",
    "About 13 seconds later at 04:19:26, the malicious IP trying to connect to port 3389 (RDP) with incremental source TCP port number of 2 (38088, 38090, 38092, etc.)\n",
    "\n",
    "This behaviour could meant that the malicious IP is trying to conduct a brute force attack to login with RDP.\n",
    "\n",
    "Let's replace the filter with \"ip.addr == 194.61.24.102 and tcp.dstport == 3389 and tcp.flags.syn==1\"\n",
    "\n",
    "As we know the malicious IP and the destination is port 3389, TCP SYN has to be 1 as it is always the start of TCP handshake.\n",
    "\n",
    "To learn about TCP handshake, visit: https://www.guru99.com/tcp-3-way-handshake.html\n",
    "\n",
    "<span style=\"color:purple\">\n",
    "    <b>INSTRUCTIONS</b>\n",
    "    \n",
    "<ul>\n",
    "    <li>Execute cell</li>\n",
    "    <li>Click SELECT & READ</li>\n",
    "</ul>\n",
    "    </span>"
   ]
  },
  {
   "cell_type": "code",
   "execution_count": 83,
   "metadata": {},
   "outputs": [
    {
     "data": {
      "text/markdown": [
       "Select _tsharkd file:"
      ],
      "text/plain": [
       "<IPython.core.display.Markdown object>"
      ]
     },
     "metadata": {},
     "output_type": "display_data"
    },
    {
     "data": {
      "application/vnd.jupyter.widget-view+json": {
       "model_id": "acbe6ffe7d0d453b9e65c8a3fc686819",
       "version_major": 2,
       "version_minor": 0
      },
      "text/plain": [
       "Accordion(children=(SelectMultiple(options=('init',), rows=10, value=()),), selected_index=None, _titles={'0':…"
      ]
     },
     "metadata": {},
     "output_type": "display_data"
    },
    {
     "data": {
      "application/vnd.jupyter.widget-view+json": {
       "model_id": "5795c4a23ce14beca47badbbb19dd125",
       "version_major": 2,
       "version_minor": 0
      },
      "text/plain": [
       "Button(description='SELECT & READ', style=ButtonStyle())"
      ]
     },
     "metadata": {},
     "output_type": "display_data"
    },
    {
     "data": {
      "application/vnd.jupyter.widget-view+json": {
       "model_id": "af3c8077479041d2b5a1295ddb82f443",
       "version_major": 2,
       "version_minor": 0
      },
      "text/plain": [
       "Output()"
      ]
     },
     "metadata": {},
     "output_type": "display_data"
    }
   ],
   "source": [
    "xread(tool='tshark', rootpath=reading_path+'/PCAP_rdp.pcap.csv')"
   ]
  },
  {
   "cell_type": "code",
   "execution_count": 84,
   "metadata": {},
   "outputs": [],
   "source": [
    "pcaprdpdf = d4.out"
   ]
  },
  {
   "cell_type": "markdown",
   "metadata": {},
   "source": [
    "<span style=\"color:purple\">\n",
    "    <b>INSTRUCTIONS</b>\n",
    "    \n",
    "<ul>\n",
    "    <li>Execute the cell</li>\n",
    "    <li>Select '+ DataFrame' as DataFrame on the left drop-down menu</li>\n",
    "    <li>Select qgrid as grid on the middle drop-down menu</li>\n",
    "</ul>\n",
    "</span>\n"
   ]
  },
  {
   "cell_type": "code",
   "execution_count": 86,
   "metadata": {},
   "outputs": [
    {
     "data": {
      "text/markdown": [
       "**DataFrame visualization menu:**"
      ],
      "text/plain": [
       "<IPython.core.display.Markdown object>"
      ]
     },
     "metadata": {},
     "output_type": "display_data"
    },
    {
     "data": {
      "application/vnd.jupyter.widget-view+json": {
       "model_id": "87d40ec24acb4786ab06702a5a1f9c2e",
       "version_major": 2,
       "version_minor": 0
      },
      "text/plain": [
       "Box(children=(Dropdown(description='Select DataFrame or Column', layout=Layout(width='550px'), options=('Selec…"
      ]
     },
     "metadata": {},
     "output_type": "display_data"
    },
    {
     "data": {
      "application/vnd.jupyter.widget-view+json": {
       "model_id": "c4db9c3e531047c086521b180a53d1ba",
       "version_major": 2,
       "version_minor": 0
      },
      "text/plain": [
       "HBox(children=(Label(value='Selected dataframe: '),))"
      ]
     },
     "metadata": {},
     "output_type": "display_data"
    },
    {
     "data": {
      "application/vnd.jupyter.widget-view+json": {
       "model_id": "aaa0cc139e9e4931b32b5f22b50a96b1",
       "version_major": 2,
       "version_minor": 0
      },
      "text/plain": [
       "HBox(children=(HTML(value=\"<div style='color: orange; font-weight: bold;'>Data Loading. Please Wait…</div>\"),)…"
      ]
     },
     "metadata": {},
     "output_type": "display_data"
    },
    {
     "data": {
      "application/vnd.jupyter.widget-view+json": {
       "model_id": "2ab615b5b5e04e0d92eee3c533b4a0cc",
       "version_major": 2,
       "version_minor": 0
      },
      "text/plain": [
       "Output(layout=Layout(overflow='auto', width='99%'))"
      ]
     },
     "metadata": {},
     "output_type": "display_data"
    },
    {
     "data": {
      "application/vnd.jupyter.widget-view+json": {
       "model_id": "b037728eacd64bcab8898cf418acb7d6",
       "version_major": 2,
       "version_minor": 0
      },
      "text/plain": [
       "Output(layout=Layout(overflow='auto', width='99%'))"
      ]
     },
     "metadata": {},
     "output_type": "display_data"
    },
    {
     "data": {
      "text/plain": [
       "<ds4n6_lib.gui.dfs_explorer at 0x7f63b5478e50>"
      ]
     },
     "execution_count": 86,
     "metadata": {},
     "output_type": "execute_result"
    }
   ],
   "source": [
    "xmenu(pcaprdpdf)"
   ]
  },
  {
   "cell_type": "markdown",
   "metadata": {},
   "source": [
    "From **xmenu()** with the dataframe, we can see that there were twenty thousands packets in just 2 minutes!\n",
    "However, at 04:22:36 to 04:56:03, there were no other SYN packets.\n",
    "This meant that the attacker successfully logon to Domain Controller where it downloaded the malware at 04:24:04"
   ]
  },
  {
   "cell_type": "markdown",
   "metadata": {},
   "source": [
    "<span style=\"color:blue\">**What is the port number that the attacker downloaded the malware from?** </span>\n"
   ]
  },
  {
   "cell_type": "markdown",
   "metadata": {},
   "source": [
    "<span style=\"color:green\">**ANSWER**:</span>\n",
    "\n",
    "<span style=\"color:green\">The victims downloaded from port 80 (HTTP) from 194.61.24.102 that the attack hosted using HTTP server.</span>\n",
    "\n",
    "<span style=\"color:green\">HTTP GET Method is a common method that attackers use to disguise as legitimate traffic</span>\n",
    "\n",
    "<span style=\"color:green\">Other possible ways are:</span>\n",
    "- <span style=\"color:green\">Phishing emails</span>\n",
    "- <span style=\"color:green\">Vulnerabilities</span>\n",
    "- <span style=\"color:green\">Bundleware</span>\n",
    "- <span style=\"color:green\">Exploit kits</span>"
   ]
  },
  {
   "cell_type": "markdown",
   "metadata": {},
   "source": [
    "### **7.5. CONCLUSIONS**:"
   ]
  },
  {
   "cell_type": "markdown",
   "metadata": {},
   "source": [
    "**7. Looking Into the PCAP File**\n",
    "\n",
    "- The victims downloaded the malware from 194.61.24.102 using HTTP GET Method\n",
    "- The attack hosted malware on a HTTP server"
   ]
  },
  {
   "cell_type": "code",
   "execution_count": null,
   "metadata": {},
   "outputs": [],
   "source": []
  }
 ],
 "metadata": {
  "kernelspec": {
   "display_name": "Python 3",
   "language": "python",
   "name": "python3"
  },
  "language_info": {
   "codemirror_mode": {
    "name": "ipython",
    "version": 3
   },
   "file_extension": ".py",
   "mimetype": "text/x-python",
   "name": "python",
   "nbconvert_exporter": "python",
   "pygments_lexer": "ipython3",
   "version": "3.7.6"
  },
  "output_auto_scroll": false
 },
 "nbformat": 4,
 "nbformat_minor": 4
}
