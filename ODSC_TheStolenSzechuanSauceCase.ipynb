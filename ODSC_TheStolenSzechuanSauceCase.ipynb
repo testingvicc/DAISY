{
 "cells": [
  {
   "cell_type": "markdown",
   "metadata": {},
   "source": [
    "# **THE STOLEN SZECHUAN SAUCE CASE**"
   ]
  },
  {
   "cell_type": "markdown",
   "metadata": {},
   "source": [
    "<span style=\"color:red\">**THIS IS THE UNSOLVED NOTEBOOK. TO GET THE SOLUTIONS CLICK ON \"File\" AT THE TOP LEFT MENU, AND LATER CLICK ON \"Open\".**</span>"
   ]
  },
  {
   "cell_type": "markdown",
   "metadata": {},
   "source": [
    "# **IMPORTS**"
   ]
  },
  {
   "cell_type": "code",
   "execution_count": null,
   "metadata": {},
   "outputs": [],
   "source": [
    "# Definition of variables & run imports\n",
    "%run imports.ipynb\n",
    "\n",
    "home_path=!pwd\n",
    "thisnb=home_path[0]+\"/ODSC_TheStolenSzechuanSauceCase.ipynb\"\n",
    "reading_path='/home/ds4n6/Desktop/data/Data'"
   ]
  },
  {
   "cell_type": "markdown",
   "metadata": {},
   "source": [
    "# **FORENSIC EVIDENCE**"
   ]
  },
  {
   "cell_type": "markdown",
   "metadata": {},
   "source": [
    "This section lists the evidence we will use in this case. \n",
    "\n",
    "**Evidence**, in cyber forensics, is information of probative value that is stored or transmitted in binary form. This means that once an incident is identified, this type of information is extracted to establish what has happened.\n",
    "\n",
    "The evidence we will use for this case corresponds with the devices DC01 (Domain Controller) and Desktop: \n",
    " - DC01 Disk Image (EO1)\n",
    "\n",
    " - DC01 Autoruns\n",
    "\n",
    " - Case001 PCAP\n",
    "\n",
    " - Desktop Disk Image (E01)\n",
    "\n",
    " - Desktop Autoruns\n",
    "\n",
    "You can find more information at: https://dfirmadness.com/the-stolen-szechuan-sauce/"
   ]
  },
  {
   "cell_type": "markdown",
   "metadata": {},
   "source": [
    "# **FORENSIC PROCESSING**"
   ]
  },
  {
   "cell_type": "markdown",
   "metadata": {},
   "source": [
    "As previously mentioned, the **evidence** is acquired in binary form. Therefore, it is necessary to process and parse it, so that it can be understood and visualized by the forensic analyst.\n",
    "\n",
    "There are different ways to process it, depending on the type of information one tool or another will be used.\n",
    "\n"
   ]
  },
  {
   "cell_type": "markdown",
   "metadata": {},
   "source": [
    "**Plaso**\n",
    "-"
   ]
  },
  {
   "cell_type": "markdown",
   "metadata": {},
   "source": [
    "Plaso (Plaso Langar Að Safna Öllu), or super timeline all the things, is a Python-based engine used by several tools for automatic creation of timelines. Plaso default behavior is to create super timelines but it also supports creating more targeted timelines.\n",
    "\n",
    "You can read more about it here: https://plaso.readthedocs.io/en/latest/"
   ]
  },
  {
   "cell_type": "markdown",
   "metadata": {},
   "source": [
    "But, what is a **forensic artifact**? An artifact in this context is an operating system object which provides information about the activity or configuration of the computer or the users. Examples can be: Windows registry, Prefetch files, Memory objects..."
   ]
  },
  {
   "cell_type": "markdown",
   "metadata": {},
   "source": [
    "Creating a Timeline with Plaso\n",
    "-"
   ]
  },
  {
   "cell_type": "markdown",
   "metadata": {},
   "source": [
    " - **Using log2timeline and psort**:\n",
    "\n",
    "    You can use “log2timeline” and “psort”. For example:"
   ]
  },
  {
   "cell_type": "code",
   "execution_count": null,
   "metadata": {},
   "outputs": [],
   "source": [
    "# Do not run this cell. It is intended to be run on the console. You already downloaded the processed evidence.\n",
    "\n",
    "# log2timeline.py --storage-file timeline.plaso image.raw\n",
    "# psort.py -o dynamic -w registrar.csv timeline.plaso"
   ]
  },
  {
   "cell_type": "markdown",
   "metadata": {},
   "source": [
    "**Mactime**\n",
    "-"
   ]
  },
  {
   "cell_type": "markdown",
   "metadata": {},
   "source": [
    "Creates an ASCII timeline of file activity based on the output of the fls tool. It can be used to detect anomalous behavior and reconstruct events. The fls command must use the -m flag to generate an output with timestamps.\n",
    "\n",
    "Mactime reads the body file (using the '-b' argument), which contains a line for each file or event. mactime then sorts the data based on its temporal data and prints the result. It can optionally use a starting date or a date range to limit the data being printed. \n",
    "\n",
    "You can read more about it here: https://wiki.sleuthkit.org/index.php?title=Mactime"
   ]
  },
  {
   "cell_type": "markdown",
   "metadata": {},
   "source": [
    "Creating a Timeline with Mactime\n",
    "-"
   ]
  },
  {
   "cell_type": "code",
   "execution_count": null,
   "metadata": {},
   "outputs": [],
   "source": [
    "# Do not run the cell. It is intended to be run on the console\n",
    "# mactime -b body.txt 2002-03-01 > tl.03.01.2002.txt"
   ]
  },
  {
   "cell_type": "markdown",
   "metadata": {},
   "source": [
    "Some of the arguments for mactime help to make the output more readable. On a Unix system, the User and Group IDs can be mapped to actual names by using the '-p' and '-q' flags. The '-z' flag can be used to specify the time zone, if it is different from the local timezone. "
   ]
  },
  {
   "cell_type": "code",
   "execution_count": null,
   "metadata": {},
   "outputs": [],
   "source": [
    "# Do not run the cell. It is intended to be run on the console\n",
    "# mactime -b body.txt -z EST5EDT 2002-03-01 > tl.03.01.2002.txt"
   ]
  },
  {
   "cell_type": "markdown",
   "metadata": {},
   "source": [
    "If you are going to include the resulting timeline in a document, then maybe it is better to supply the '-d' argument to output in comma delimited format. The resulting timeline can then be imported into a spread sheet and include it as a table.\n",
    "\n",
    "The '-i' option to 'mactime' creates an index summary file, including how many hits were found per day or hour. Using '-d' with '-i' allows one to easily import data into a spread sheet that can be graphed to spot suspicious behavior."
   ]
  },
  {
   "cell_type": "code",
   "execution_count": null,
   "metadata": {},
   "outputs": [],
   "source": [
    "# Do not run the cell. It is intended to be run on the console\n",
    "# mactime -b body.txt -d -i hour data/tl-hour-sum.txt > timeline.txt"
   ]
  },
  {
   "cell_type": "markdown",
   "metadata": {},
   "source": [
    "**Autoruns**\n",
    "-"
   ]
  },
  {
   "cell_type": "markdown",
   "metadata": {},
   "source": [
    "Autoruns is used to explore or detect persistence mechanisms. It reports Explorer shell extensions, toolbars, browser helper objects, Winlogon notifications, auto-start services, and much more. Autoruns goes way beyond other autostart utilities.\n",
    "\n",
    "- Displays programs that are configured to run during bootup or login\n",
    "- Lists the programs and drivers that will start from startup folders and registry keys\n",
    "\n"
   ]
  },
  {
   "cell_type": "markdown",
   "metadata": {},
   "source": [
    "<img src=\"./Pictures/autoruns.jpg\">\n"
   ]
  },
  {
   "cell_type": "markdown",
   "metadata": {},
   "source": [
    "**Tshark**\n",
    "-"
   ]
  },
  {
   "cell_type": "markdown",
   "metadata": {},
   "source": [
    "TShark is a network protocol analyzer. It lets you capture packet data from a live network, or read packets from a previously saved capture file, either printing a decoded form of those packets to the standard output or writing the packets to a file.\n",
    "\n",
    "You can read more about it here: https://www.wireshark.org/docs/man-pages/tshark.html"
   ]
  },
  {
   "cell_type": "markdown",
   "metadata": {},
   "source": [
    "Creating a Timeline with Tshark\n",
    "-"
   ]
  },
  {
   "cell_type": "markdown",
   "metadata": {},
   "source": [
    "Network packets are in timeline sequence from the earliest to the latest packets.\n",
    "\n",
    "The -n option disables network object name resolution (such as hostname, TCP and UDP port names). The -r option reads the specified PCAP file.\n",
    "The -Y option will filter based on Wireshark filters. The -T option displays the type of data (ek,fields,json and pdml) with -E/-e that controls the fields that you want."
   ]
  },
  {
   "cell_type": "code",
   "execution_count": null,
   "metadata": {},
   "outputs": [],
   "source": [
    "# Do not run the cell.\n",
    "# tshark -n -r body.pcap -Y \"http.request.method == \"GET\"\" -T fields -Eheader=y -e ip.src -e ip.dst -e tcp.srcport -e tcp.dstport -e http.request.uri -e frame.time'"
   ]
  },
  {
   "cell_type": "markdown",
   "metadata": {},
   "source": [
    "# **FORENSIC DATA READING**"
   ]
  },
  {
   "cell_type": "markdown",
   "metadata": {},
   "source": [
    "## **READING FILES WITH PANDAS:**"
   ]
  },
  {
   "cell_type": "markdown",
   "metadata": {},
   "source": [
    "After parsing the Disk Image evidence with plaso, we have obtained a JSON that we need to load into the notebook to be able to analyze it in detail.\n",
    "\n",
    "JSON files can be read with pandas. All you need to do is use the **pd.read_json()** function, that will convert your JSON into a pandas object. You can find more information at https://pandas.pydata.org/pandas-docs/version/1.1.3/reference/api/pandas.read_json.html\n"
   ]
  },
  {
   "cell_type": "code",
   "execution_count": null,
   "metadata": {},
   "outputs": [],
   "source": [
    "plaso_JSON = pd.read_json(reading_path+'/DC_plaso.json')"
   ]
  },
  {
   "cell_type": "markdown",
   "metadata": {},
   "source": [
    "Let's see how the JSON file looks like:\n",
    "\n",
    " - With the type() function we can see the object type that we obtained"
   ]
  },
  {
   "cell_type": "code",
   "execution_count": null,
   "metadata": {},
   "outputs": [],
   "source": [
    "type(plaso_JSON)"
   ]
  },
  {
   "cell_type": "markdown",
   "metadata": {},
   "source": [
    " - Next, let’s see what its columns are and how many it has"
   ]
  },
  {
   "cell_type": "code",
   "execution_count": null,
   "metadata": {},
   "outputs": [],
   "source": [
    "plaso_JSON.columns"
   ]
  },
  {
   "cell_type": "markdown",
   "metadata": {},
   "source": [
    " - Each column corresponds to a different event. Let’s select one of them and see what information it contains."
   ]
  },
  {
   "cell_type": "code",
   "execution_count": null,
   "metadata": {},
   "outputs": [],
   "source": [
    "plaso_JSON['event_0']"
   ]
  },
  {
   "cell_type": "markdown",
   "metadata": {},
   "source": [
    "And what about other file types? We can read, for example, a Filesystem Timeline parsed with mactime in CSV format. These files can be read with **pd.read_csv()**. You can find more information at https://pandas.pydata.org/pandas-docs/version/1.1.3/reference/api/pandas.read_csv.html"
   ]
  },
  {
   "cell_type": "markdown",
   "metadata": {},
   "source": [
    "**Filesystem Timeline**\n",
    " -\n",
    " \n",
    "This file (fstl) provides information on the system activity in a timeline. This will help us to see traces of malicious activity over time.\n",
    "\n",
    "- Output from fls tool\n",
    "- Lists the file and directory in a filesystem\n",
    "\n",
    "You can find more information at: https://wiki.sleuthkit.org/index.php?title=Timelines"
   ]
  },
  {
   "cell_type": "code",
   "execution_count": null,
   "metadata": {},
   "outputs": [],
   "source": [
    "mactime_CSV = pd.read_csv(reading_path+'/DC_fstl.csv')"
   ]
  },
  {
   "cell_type": "code",
   "execution_count": null,
   "metadata": {},
   "outputs": [],
   "source": [
    "mactime_CSV.columns"
   ]
  },
  {
   "cell_type": "code",
   "execution_count": null,
   "metadata": {},
   "outputs": [],
   "source": [
    "type(mactime_CSV)"
   ]
  },
  {
   "cell_type": "markdown",
   "metadata": {},
   "source": [
    "The CSV is saved in a DataFrame. We can see what its shape looks like but without printing all the lines using the **head()** function, which gives us the first 5 lines."
   ]
  },
  {
   "cell_type": "code",
   "execution_count": null,
   "metadata": {},
   "outputs": [],
   "source": [
    "mactime_CSV.head()"
   ]
  },
  {
   "cell_type": "markdown",
   "metadata": {},
   "source": [
    "## **READING FILES WITH CHRYSALIS**\n"
   ]
  },
  {
   "cell_type": "markdown",
   "metadata": {},
   "source": [
    "Can we make it easier? We can read many data types with only one function from CHRYSALIS python library: **xread()**. This function not only reads the data and provides you with a DataFrame, like the previous ones we have seen with pandas, but it transforms and harmonizes the information to have it in the best possible way.\n",
    "\n",
    "You can read more about it here: https://www.ds4n6.io/tools/chrysalis.html"
   ]
  },
  {
   "cell_type": "markdown",
   "metadata": {},
   "source": [
    "Let's start reading a plaso file from Desktop. There are different fields that we can fill in to read in one way or another, but the required fields are only two: tool and rootpath. Tool refers to the tool used to parse evidence (plaso, mactime...) and rootpath refers to the path where the file is stored.\n",
    "\n",
    "Once we run the cell we will see the file (if rootpath is correct) or we will have to look in the drop-down menu (if the rootpath is incorrect or empty).\n",
    "\n",
    "<span style=\"color:purple\">\n",
    "    <b>INSTRUCTIONS</b>\n",
    "    \n",
    "<ul>\n",
    "    <li>Execute cell</li>\n",
    "    <li>Click SELECT & READ</li>\n",
    "</ul>\n",
    "    </span>"
   ]
  },
  {
   "cell_type": "code",
   "execution_count": null,
   "metadata": {},
   "outputs": [],
   "source": [
    "xread(tool='plaso',rootpath=reading_path+'/DESKTOP_plaso.json')"
   ]
  },
  {
   "cell_type": "markdown",
   "metadata": {},
   "source": [
    "After the execution of the previous function, we can see all the artifacts extracted and harmonized (we will see later what harmonize actually means). This function saves the result in a variable called d4.out. So... Let's name another variable to save the information inside:"
   ]
  },
  {
   "cell_type": "code",
   "execution_count": null,
   "metadata": {},
   "outputs": [],
   "source": [
    "pldfs_dsk = d4.out"
   ]
  },
  {
   "cell_type": "markdown",
   "metadata": {},
   "source": [
    "As previously mentioned, reading isn't everything that this function does! It can **harmonize** the data and convert it into a **Dictionary of DataFrames**"
   ]
  },
  {
   "cell_type": "markdown",
   "metadata": {},
   "source": [
    "**Nomenclature for variables in the DS4N6 project**\n",
    " - **[tool]df**: A single DataFrame that saves all the file information\n",
    " - **[tool]dfs**: A dictionary composed of DataFrames that save the file information divided by artifacts\n",
    " \n",
    "For example, if we have a plaso we will create a dictionary and the variable name will be pldfs. On the other hand, if we use a fstl we will recieve only one DataFrame and the variable name will be fstldf."
   ]
  },
  {
   "cell_type": "markdown",
   "metadata": {},
   "source": [
    "Let's see all the DataFrames names inside pldfs_dsk with **keys()** function, which allows us to see every key on the dictionary"
   ]
  },
  {
   "cell_type": "code",
   "execution_count": null,
   "metadata": {},
   "outputs": [],
   "source": [
    "pldfs_dsk.keys()"
   ]
  },
  {
   "cell_type": "markdown",
   "metadata": {},
   "source": [
    "Then let’s select one of the DataFrames and see how it looks like. After using **xread()** the information will be much more accesible and easier to read than in a JSON object. We won't have a column per event, but a row. Besides, we will have columns (those prefixed with D4_) with the aim of being explanatory columns, which will help us with the understanding of the data."
   ]
  },
  {
   "cell_type": "code",
   "execution_count": null,
   "metadata": {},
   "outputs": [],
   "source": [
    "pldfs_dsk['windows_registry_installation']"
   ]
  },
  {
   "cell_type": "markdown",
   "metadata": {},
   "source": [
    "Now let's read the plaso output from the Domain Controller following the same steps:\n",
    "\n",
    "<span style=\"color:purple\">\n",
    "    <b>INSTRUCTIONS</b>\n",
    "    \n",
    "<ul>\n",
    "    <li>Execute cell</li>\n",
    "    <li>Click SELECT & READ</li>\n",
    "</ul>\n",
    "    </span>"
   ]
  },
  {
   "cell_type": "code",
   "execution_count": null,
   "metadata": {},
   "outputs": [],
   "source": [
    "xread(tool='plaso',rootpath=reading_path+'/DC_plaso.json')"
   ]
  },
  {
   "cell_type": "code",
   "execution_count": null,
   "metadata": {},
   "outputs": [],
   "source": [
    "pldfs_srv = d4.out"
   ]
  },
  {
   "cell_type": "markdown",
   "metadata": {},
   "source": [
    "Now we have stored in two different variables the plaso data of the two machines that we have to analyze:\n",
    " - **Domain Controller Server**: pldfs_srv\n",
    " - **Desktop**: pldfs_dsk\n",
    " \n",
    "This information comes from the evidence of the disk image. Therefore, it will provide us with valuable information through a large number of different artifacts."
   ]
  },
  {
   "cell_type": "markdown",
   "metadata": {},
   "source": [
    "The next file we are going to read will be filesystem timeline. It will return us a single DataFrame with all the information inside it. In addition, this reading will be faster than the previous ones.\n",
    "\n",
    "<span style=\"color:purple\">\n",
    "    <b>INSTRUCTIONS</b>\n",
    "    \n",
    "<ul>\n",
    "    <li>Execute cell</li>\n",
    "    <li>Click SELECT & READ</li>\n",
    "</ul>\n",
    "    </span>"
   ]
  },
  {
   "cell_type": "code",
   "execution_count": null,
   "metadata": {},
   "outputs": [],
   "source": [
    "xread(tool='mactime',rootpath=reading_path+'/DC_fstl.csv')"
   ]
  },
  {
   "cell_type": "code",
   "execution_count": null,
   "metadata": {},
   "outputs": [],
   "source": [
    "fstldf = d4.out"
   ]
  },
  {
   "cell_type": "markdown",
   "metadata": {},
   "source": [
    "And now, following the same steps, we will proceed to the reading of the autoruns file. In this case we need to specify its encoding, which being different from utf-18, not specifying it will give us an error. Therefore, in this **xread()** execution we will add a new option which will be encoding = 'utf-16'.\n",
    "\n",
    "<span style=\"color:purple\">\n",
    "    <b>INSTRUCTIONS</b>\n",
    "    \n",
    "<ul>\n",
    "    <li>Execute cell</li>\n",
    "    <li>Click SELECT & READ</li>\n",
    "</ul>\n",
    "    </span>"
   ]
  },
  {
   "cell_type": "code",
   "execution_count": null,
   "metadata": {},
   "outputs": [],
   "source": [
    "xread(tool='autoruns',rootpath=reading_path+'/DC_autoruns.csv',encoding='utf-16')"
   ]
  },
  {
   "cell_type": "code",
   "execution_count": null,
   "metadata": {},
   "outputs": [],
   "source": [
    "atrsdf = d4.out"
   ]
  },
  {
   "cell_type": "markdown",
   "metadata": {},
   "source": [
    "# **INVESTIGATION**"
   ]
  },
  {
   "cell_type": "markdown",
   "metadata": {},
   "source": [
    "Now that we have all the necessary information, we can start the investigation. Its objective will be identifying the attack and damage caused by the attacker."
   ]
  },
  {
   "cell_type": "markdown",
   "metadata": {},
   "source": [
    "## **1. OVERVIEW**"
   ]
  },
  {
   "cell_type": "markdown",
   "metadata": {},
   "source": [
    "<span style=\"color:blue\">**What are the hostnames for the Desktop and DC?** </span>"
   ]
  },
  {
   "cell_type": "markdown",
   "metadata": {},
   "source": [
    "<span style=\"color:blue\">**How many users are there on the Desktop?** </span>"
   ]
  },
  {
   "cell_type": "markdown",
   "metadata": {},
   "source": [
    "### 1.2 Understanding of Evidence\n",
    "\n",
    "The first thing that needs to be done on an investigation is understanding the general context of the electronic devices that provided us with the evidence. We can use the plaso output for that:\n",
    "\n",
    " - pldfs_dsk (Desktop)\n",
    " - pldfs_srv (Domain Controller/Server)"
   ]
  },
  {
   "cell_type": "markdown",
   "metadata": {},
   "source": [
    "We will need to check:\n",
    "\n",
    " - Operating System\n",
    " - Installation Date\n",
    " - Timezone\n",
    " - Users"
   ]
  },
  {
   "cell_type": "markdown",
   "metadata": {},
   "source": [
    "### 1.3 Using DataFrames to View Evidence\n",
    "\n",
    "First, let’s see what DataFrames among all can help us to obtain this information. To do this, we will make a selection of them after viewing all with the function **keys()**"
   ]
  },
  {
   "cell_type": "code",
   "execution_count": null,
   "metadata": {},
   "outputs": [],
   "source": [
    "pldfs_srv.keys()"
   ]
  },
  {
   "cell_type": "markdown",
   "metadata": {},
   "source": [
    "The DataFrames we need to look at are:\n",
    "\n",
    " - **windows_registry_installation**: Which contains the information about the operating system\n",
    " - **windows_registry_timezone**: Which contains the information about the timezone\n",
    " - **windows_registry_sam_users**: Which contains the information about the users"
   ]
  },
  {
   "cell_type": "markdown",
   "metadata": {},
   "source": [
    " Let's start with the Domain Controller. We will select with pandas the DataFrame 'windows_registry_installation', which will give us information about the operating system. "
   ]
  },
  {
   "cell_type": "code",
   "execution_count": null,
   "metadata": {},
   "outputs": [],
   "source": [
    "pldfs_srv['windows_registry_installation']"
   ]
  },
  {
   "cell_type": "code",
   "execution_count": null,
   "metadata": {},
   "outputs": [],
   "source": [
    "pldfs_dsk['windows_registry_installation']"
   ]
  },
  {
   "cell_type": "markdown",
   "metadata": {},
   "source": [
    "### 1.4 Simple() Function\n",
    "\n",
    "As a special tip, we can use **simple()** function from CHRYSALIS library to read the information better. This function hides the useless columns, doesn't repeat constant columns and simplifies the data.\n",
    "\n",
    "Let's use it for reading the other DataFrames we need: 'windows_registry_timezone' and 'windows_registry_sam_users':"
   ]
  },
  {
   "cell_type": "code",
   "execution_count": null,
   "metadata": {},
   "outputs": [],
   "source": [
    "pldfs_srv['windows_registry_timezone'].simple()"
   ]
  },
  {
   "cell_type": "code",
   "execution_count": null,
   "metadata": {},
   "outputs": [],
   "source": [
    "pldfs_srv['windows_registry_sam_users'].simple()"
   ]
  },
  {
   "cell_type": "markdown",
   "metadata": {},
   "source": [
    "But... Can we make it even better? With CHRYSALIS we can select analysis functions from a menu! We only need to call **xanalysis()** function. Let's see how it works.\n",
    "\n",
    "<span style=\"color:purple\">\n",
    "<b>INSTRUCTIONS:</b>\n",
    "\n",
    "<ul>\n",
    "    <li>Execute the cell</li>\n",
    "    <li>Select Dictionary as analysis object</li>\n",
    "    <li>Select plaso for the type of analysis</li>\n",
    "    <li>Select Overview as the available analysis</li>\n",
    "</ul>\n",
    "</span>\n"
   ]
  },
  {
   "cell_type": "code",
   "execution_count": null,
   "metadata": {},
   "outputs": [],
   "source": [
    "xanalysis(pldfs_srv)"
   ]
  },
  {
   "cell_type": "markdown",
   "metadata": {},
   "source": [
    "As we can see, with this function only the relevant information of the different DataFrames of interest is shown. Let's repeat it for Desktop this time."
   ]
  },
  {
   "cell_type": "code",
   "execution_count": null,
   "metadata": {},
   "outputs": [],
   "source": [
    "xanalysis(pldfs_dsk)"
   ]
  },
  {
   "cell_type": "markdown",
   "metadata": {},
   "source": [
    "<span style=\"color:blue\">**What are the hostnames for the Desktop and DC?** </span>"
   ]
  },
  {
   "cell_type": "markdown",
   "metadata": {},
   "source": [
    "<span style=\"color:green\">**ANSWER HERE**:</span>"
   ]
  },
  {
   "cell_type": "markdown",
   "metadata": {},
   "source": [
    "<span style=\"color:blue\">**How many users are there on the Desktop?** </span>"
   ]
  },
  {
   "cell_type": "markdown",
   "metadata": {},
   "source": [
    "<span style=\"color:green\">**ANSWER HERE**:</span>"
   ]
  },
  {
   "cell_type": "markdown",
   "metadata": {},
   "source": [
    "### **1.5 CONCLUSIONS**:"
   ]
  },
  {
   "cell_type": "markdown",
   "metadata": {},
   "source": [
    "**Overview**\n",
    "-\n",
    " - On the Domain Controller: \n",
    "     - The operating system is Windows Server 2012 R2 Standard Evaluation\n",
    "     - The Timezone is Pacific Standard Time\n",
    "     \n",
    "     \n",
    " - On the Desktop:\n",
    "     - The operating system is Windows 10 Enterprise Evaluation\n",
    "     - The Timezone is Pacific Standard Time"
   ]
  },
  {
   "cell_type": "markdown",
   "metadata": {},
   "source": [
    "## **2. SUCCESFUL LOGON ANALYSIS**"
   ]
  },
  {
   "cell_type": "markdown",
   "metadata": {},
   "source": [
    "The next step on an attack is checking the logon information. We need to check who had access to the system.\n",
    "\n",
    "As mentioned before, an artifact is data that can contain a trace of malicious activity. In order to check the accesses to the two devices, we will use a plaso artifact: The Windows evtx files. "
   ]
  },
  {
   "cell_type": "markdown",
   "metadata": {},
   "source": [
    "<span style=\"color:blue\">**Which are the events that give us logon information?** </span>"
   ]
  },
  {
   "cell_type": "markdown",
   "metadata": {},
   "source": [
    "<span style=\"color:blue\">**Is there any suspicious logon on the Domain Controller/Server?** </span>"
   ]
  },
  {
   "cell_type": "markdown",
   "metadata": {},
   "source": [
    "<span style=\"color:blue\">**Which logon type is it and what does it mean?** </span>"
   ]
  },
  {
   "cell_type": "markdown",
   "metadata": {},
   "source": [
    "<span style=\"color:blue\">**What about the Desktop?** </span>"
   ]
  },
  {
   "cell_type": "markdown",
   "metadata": {},
   "source": [
    "### 2.1 Windows Events\n",
    "\n",
    "**Windows evtx Files**\n",
    "-\n",
    "EVTX is a file extension commonly associated with Windows 7+ Event Log Format files. Windows 7+ Event Log Format specification was created by Microsoft. EVTX files are supported by software applications available for devices running Windows. Files with EVTX extension are categorized as System Files files. It contains useful information about system and users such as authentication, file changes, commands executed, etc.\n",
    "\n",
    "Within Windows events we have different types. In this case we will use the following Security events ID"
   ]
  },
  {
   "cell_type": "markdown",
   "metadata": {},
   "source": [
    "### 2.2 Windows Security Events\n",
    "\n",
    "\n",
    "**Security evtx**\n",
    "-\n",
    "Contains events such as: \n",
    "- Authentications (valid and invalid logon attempts (Event ID 4624 and 4625 respectively))\n",
    "\n",
    "    - **4624**: Sucessful logon\n",
    "    - **4625**: Failed logon\n",
    "    \n",
    "    \n",
    "- Objects access (Creation/Modification/Deletion of files)"
   ]
  },
  {
   "cell_type": "markdown",
   "metadata": {},
   "source": [
    "As we know, we have a plaso dictionary that contains quite a few DataFrames and one of them is 'windows_evtx_record'. The next step is converting that DataFrame of events into a dictionary that, instead of containing all the events information together, has different DataFrames for the different categories of events (Security.evtx, System.evtx, etc.)"
   ]
  },
  {
   "cell_type": "code",
   "execution_count": null,
   "metadata": {},
   "outputs": [],
   "source": [
    "pldfs_dsk.keys()"
   ]
  },
  {
   "cell_type": "markdown",
   "metadata": {},
   "source": [
    "<span style=\"color:blue\">**Which are the events that give us logon information?** </span>"
   ]
  },
  {
   "cell_type": "markdown",
   "metadata": {},
   "source": [
    "<span style=\"color:green\">**ANSWER HERE**:</span>"
   ]
  },
  {
   "cell_type": "markdown",
   "metadata": {},
   "source": [
    "### 2.3 plaso_get_evtxdfs() Function\n",
    "\n",
    "\n",
    "For that purpose, CHRYSALIS has **plaso_get_evtxdfs()** function which only needs the plaso dictionary name and the hostname that we saw on the Overview analysis."
   ]
  },
  {
   "cell_type": "code",
   "execution_count": null,
   "metadata": {},
   "outputs": [],
   "source": [
    "evtxrawdfs_dsk = d4pl.plaso_get_evtxdfs(pldfs_dsk, 'DESKTOP-SDN1RPT')"
   ]
  },
  {
   "cell_type": "markdown",
   "metadata": {},
   "source": [
    "Now that the dictionary is created, let's see how it looks using **keys()** function."
   ]
  },
  {
   "cell_type": "code",
   "execution_count": null,
   "metadata": {},
   "outputs": [],
   "source": [
    "evtxrawdfs_dsk.keys()"
   ]
  },
  {
   "cell_type": "markdown",
   "metadata": {},
   "source": [
    "As previously mentioned, we want Security.evtx and we are particularly interested on its 4624 and 4625 event IDs.\n",
    "\n",
    "For that reason, we are going to select 'Security.evtx' from the 'evtxrawdfs_dsk' dictionary, resulting in a DataFrame: 'secevtxrawdf_dsk'. This DataFrame contains the raw Security events information, in other words, all events with different IDs."
   ]
  },
  {
   "cell_type": "code",
   "execution_count": null,
   "metadata": {},
   "outputs": [],
   "source": [
    "secevtxrawdf_dsk=evtxrawdfs_dsk['Security.evtx']\n",
    "secevtxrawdf_dsk"
   ]
  },
  {
   "cell_type": "markdown",
   "metadata": {},
   "source": [
    "Now that we obtained a DataFrame with only Security events, wouldn’t it be even better to distinguish by ID? We can create a dictionary of events separating them by ID with **evtid_dfs_build()** function from CHRYSALIS. Let's see how it works!"
   ]
  },
  {
   "cell_type": "code",
   "execution_count": null,
   "metadata": {},
   "outputs": [],
   "source": [
    "secevtxdfs_dsk = d4evtx.evtid_dfs_build(secevtxrawdf_dsk)"
   ]
  },
  {
   "cell_type": "markdown",
   "metadata": {},
   "source": [
    "Finally, we can create a DataFrame with only 4624 (Succesful logon attempts) events."
   ]
  },
  {
   "cell_type": "code",
   "execution_count": null,
   "metadata": {},
   "outputs": [],
   "source": [
    "evts4624df_dsk = secevtxdfs_dsk[4624]"
   ]
  },
  {
   "cell_type": "markdown",
   "metadata": {},
   "source": [
    "We can repeat the same steps for the Domain Controller."
   ]
  },
  {
   "cell_type": "code",
   "execution_count": null,
   "metadata": {},
   "outputs": [],
   "source": [
    "evtxrawdfs_srv = d4pl.plaso_get_evtxdfs(pldfs_srv, 'CITADEL-DC01')"
   ]
  },
  {
   "cell_type": "code",
   "execution_count": null,
   "metadata": {},
   "outputs": [],
   "source": [
    "# Create Raw DF with plaso evtx records\n",
    "secevtxrawdf_srv=evtxrawdfs_srv['Security.evtx']\n",
    "# Create DF dict with individual Event IDs\n",
    "secevtxdfs_srv = d4evtx.evtid_dfs_build(secevtxrawdf_srv)\n",
    "evts4624df_srv = secevtxdfs_srv[4624]"
   ]
  },
  {
   "cell_type": "markdown",
   "metadata": {},
   "source": [
    "Now's when the magic happens!\n",
    "\n",
    "With **xanalysis()** function from CHRYSALIS we can see a statistical analysis of events 4624 and, consequently, obtain valuable information regarding the accesses to the machine.\n",
    "\n",
    "How does it work? As explained before, you have to select the options you want from the drop-down menus. In this case we must select only the type of analysis, which in this case will be \"Logon info summary\", since we have a DataFrame (\"evts4624df_srv\") and we do not have the option of Dictionary.\n",
    "\n",
    "If you want to explore different options you can load the event dictionary by ID \"secevtxdfs_srv\"."
   ]
  },
  {
   "cell_type": "markdown",
   "metadata": {},
   "source": [
    "### 2.4 xanalysis() Function"
   ]
  },
  {
   "cell_type": "markdown",
   "metadata": {},
   "source": [
    "<span style=\"color:purple\">\n",
    "<b>INSTRUCTIONS:</b>\n",
    "    <ul>\n",
    "    <li>Execute the cell.</li>\n",
    "    <li>Select Logon info summary as the available analysis.</li>\n",
    "    <li>Click on Export Result to d4.out.</li>\n",
    "</ul>\n",
    "</span>\n",
    "\n",
    "**ADVICE: If you see the graph very small execute the function again.**"
   ]
  },
  {
   "cell_type": "code",
   "execution_count": null,
   "metadata": {},
   "outputs": [],
   "source": [
    "# Domain Controller\n",
    "xanalysis(evts4624df_srv)"
   ]
  },
  {
   "cell_type": "markdown",
   "metadata": {},
   "source": [
    "As we can see, there's a lot of information to process here. So let's divide it in different sections:\n",
    " - **Workstation name table**: This is also known as the machine name or host name. It is the unique name you or your system administrator gave to the machine you are using. This is usually not the same name as your user name or login name. This is the machine name that other users see over the network, such as from electronic mail. The information in this table represents all the workstation names that appear in the data and how many times they appear. In this way we can see if they are common or exceptional.\n",
    " - **IP ADDRESS table**: An IP address is a unique address that identifies a device on the internet or a local network. IP stands for \"Internet Protocol,\" which is the set of rules governing the format of data sent via the internet or local network. The information in this table represents all the IP addresses that appear in the data and how many times they appear. In this way we can see, again, if they are common or exceptional.\n",
    " - **FIRST table**: The Target User Name column indicates the account for whom the new logon was created, i.e. the account that was logged on. On the Timestamp column we can see the first time that the user logged on. This gives us valuable information because we can actually see if its a new user or a common one.\n",
    " - **LAST table**: In this case the information provided is the same at in the previous table but with the last time that the user logged on.\n",
    " - **STATS table**: The information in this table represents all the Target User Names that appear in the data and how many times they appear. In this way we can see if they are common or exceptional.\n",
    " - **SID table**: A SID is a number used to identify user, group, and computer accounts in Windows. They're created when the account is first made in Windows and no two SIDs on a computer are ever the same. This table shows us the user name matching its SID."
   ]
  },
  {
   "cell_type": "markdown",
   "metadata": {},
   "source": [
    "- **Logons graph:** This graph shows the different accesses that a combination of Workstation Name, User name, Ip Address and LogonType has had. But, first things first... How many logon types we have? What does this mean?\n",
    "    \n",
    "     Logon Type | Description \n",
    "    ---|---\n",
    "     2 | Interactive (logon at keyboard and screen of system) \n",
    "     3 | Network (i.e. connection to shared folder on this computer from elsewhere on network)\n",
    "     7 | Unlock (i.e. unnattended workstation with password protected screen saver)\n",
    "     10 | RemoteInteractive (Terminal Services, Remote Desktop or Remote Assistance)\n",
    "    \n",
    "<br/><br/> \n",
    "<br/><br/>\n",
    "<br/><br/>\n",
    "\n",
    "This graph offers us the possibility of identifying patterns visually and, therefore, that something anomalous does not overlook us. Besides, we can also evaluate if the logon was dangerous or not.\n"
   ]
  },
  {
   "cell_type": "markdown",
   "metadata": {},
   "source": [
    " - **Logons table**: The last table contains the same information as the graph but on a DataFrame format. This way we can take a closer look and export it for making other analysis on our own. So let's export it and save it in a variable named \"succesful_logons_df\""
   ]
  },
  {
   "cell_type": "code",
   "execution_count": null,
   "metadata": {},
   "outputs": [],
   "source": [
    "succesful_logons_df = d4.out"
   ]
  },
  {
   "cell_type": "code",
   "execution_count": null,
   "metadata": {},
   "outputs": [],
   "source": [
    "succesful_logons_df.simple()"
   ]
  },
  {
   "cell_type": "markdown",
   "metadata": {},
   "source": [
    "We can't read all rows because of the current configuration. There's a way of changing it manually and set all the display options one by one. In this case we would need **pd.options.display.max_rows()** function from pandas.\n",
    "\n",
    "We can change other things like min rows, max columns, etc. For changing all of them at the same time we use **xdisplay()** function from CHRYSALIS. In this case, we want more rows, so we need to change \"display.max_rows\" for 25. Let's see how it works!\n",
    "\n",
    "<span style=\"color:purple\">\n",
    "<b>INSTRUCTIONS:</b>\n",
    "    <ul>\n",
    "    <li>Execute the cell.</li>\n",
    "    <li>On 'display:max_rows' change the number for 25.</li>\n",
    "</ul>\n",
    "</span>\n"
   ]
  },
  {
   "cell_type": "code",
   "execution_count": null,
   "metadata": {},
   "outputs": [],
   "source": [
    "xdisplay()"
   ]
  },
  {
   "cell_type": "code",
   "execution_count": null,
   "metadata": {},
   "outputs": [],
   "source": [
    "succesful_logons_df.simple()"
   ]
  },
  {
   "cell_type": "markdown",
   "metadata": {},
   "source": [
    "Let's talk about everything we discovered on the analysis. We can see at first view that there's a very strange Workstation Name: kali. Besides, the \"194.61.24.102\" IP address catches our attention because it's not a common one on the machine. Finally, on \"succesful_logons_df\" rows 18 and 20 have never happened before. We can clearly see it on the graph.\n",
    "\n",
    "**So let's keep in mind kali and 194.61.24.102**"
   ]
  },
  {
   "cell_type": "markdown",
   "metadata": {},
   "source": [
    "<span style=\"color:blue\">**Is there any suspicious logon on the Domain Controller/Server?** </span>"
   ]
  },
  {
   "cell_type": "markdown",
   "metadata": {},
   "source": [
    "<span style=\"color:green\">**ANSWER HERE**:</span>"
   ]
  },
  {
   "cell_type": "markdown",
   "metadata": {},
   "source": [
    "<span style=\"color:blue\">**Which logon type is it and what does it mean?** </span>"
   ]
  },
  {
   "cell_type": "markdown",
   "metadata": {},
   "source": [
    "<span style=\"color:green\">**ANSWER HERE**:</span>"
   ]
  },
  {
   "cell_type": "markdown",
   "metadata": {},
   "source": [
    "We can repeat the same steps for the Desktop:"
   ]
  },
  {
   "cell_type": "markdown",
   "metadata": {},
   "source": [
    "<span style=\"color:purple\">\n",
    "<b>INSTRUCTIONS:</b>\n",
    "    <ul>\n",
    "    <li>Execute the cell.</li>\n",
    "    <li>Select Logon info summary as the available analysis.</li>\n",
    "</ul>\n",
    "</span>\n",
    "\n",
    "**ADVICE: If you see the graph very small execute the function again.**"
   ]
  },
  {
   "cell_type": "code",
   "execution_count": null,
   "metadata": {},
   "outputs": [],
   "source": [
    "xanalysis(evts4624df_dsk)"
   ]
  },
  {
   "cell_type": "markdown",
   "metadata": {},
   "source": [
    "We can see that 7 and 9 have never happened before and that's suspicious.\n",
    "\n",
    "**Let's not forget 10.42.85.10 IP address**"
   ]
  },
  {
   "cell_type": "markdown",
   "metadata": {},
   "source": [
    "<span style=\"color:blue\">**What about the Desktop?** </span>"
   ]
  },
  {
   "cell_type": "markdown",
   "metadata": {},
   "source": [
    "<span style=\"color:green\">**ANSWER HERE**:</span>"
   ]
  },
  {
   "cell_type": "markdown",
   "metadata": {},
   "source": [
    "### **2.5 CONCLUSIONS**:"
   ]
  },
  {
   "cell_type": "markdown",
   "metadata": {},
   "source": [
    "**2. Logon Analysis**\n",
    "\n",
    " - On the Domain Controller: Suspicious activity on the 19th of September 2020 (kali and 194.61.24.102 -> User administrator)\n",
    " - On the Desktop: Suspicious activity on the 19th of September 2020 (User administrator)"
   ]
  },
  {
   "cell_type": "markdown",
   "metadata": {},
   "source": [
    "## **3. CLOSER LOOK INTO DOMAIN CONTROLLER LOGONS**"
   ]
  },
  {
   "cell_type": "markdown",
   "metadata": {},
   "source": [
    "<span style=\"color:blue\">**At what time did the suspicious logon ocurred on the Domain Controller/Server?** </span>"
   ]
  },
  {
   "cell_type": "markdown",
   "metadata": {},
   "source": [
    "### 3.1 Suspicious Logons\n",
    "\n",
    "Let's look at the suspicious logons closer, reading the 4624 DataFrames from Domain Controller directly from the DataFrame, using the **simple()** function from CHRYSALIS again."
   ]
  },
  {
   "cell_type": "code",
   "execution_count": null,
   "metadata": {},
   "outputs": [],
   "source": [
    "secevtxdfs_srv[4624].simple()"
   ]
  },
  {
   "cell_type": "markdown",
   "metadata": {},
   "source": [
    "There are 2540 rows so it would be a huge DataFrame using **xdisplay()**... Why don't we use **xmenu()**?\n",
    "\n",
    "**xmenu()** is a function from CHRYSALIS which allows us to display huge DataFrames, select them with a menu directly from a dictionary, apply the simple function and beautify them. \n",
    "\n",
    "<span style=\"color:purple\">\n",
    "<b>INSTRUCTIONS:</b>\n",
    "\n",
    "<ul>\n",
    "    <li>Execute the cell</li>\n",
    "    <li>Select 4624 as DataFrame on the left drop-down menu</li>\n",
    "    <li>Select qgrid as grid on the middle drop-down menu<\\li>\n",
    "    <li>Search for the logons we previously saw on the logon analysis. Pay special attention to the Timestamp, WorkstationName and IpAddress columns<\\li>   \n",
    "</ul>\n",
    "</span>\n",
    "Let's see how it works!"
   ]
  },
  {
   "cell_type": "code",
   "execution_count": null,
   "metadata": {},
   "outputs": [],
   "source": [
    "xmenu(secevtxdfs_srv)"
   ]
  },
  {
   "cell_type": "markdown",
   "metadata": {},
   "source": [
    "We selected DataFrame 4624 and qgrid. This way we can display all the information and filter by columns."
   ]
  },
  {
   "cell_type": "markdown",
   "metadata": {},
   "source": [
    "<span style=\"color:blue\">**At what time did the suspicious logon ocurred on the Domain Controller/Server?** </span>\n",
    "\n",
    "<span style=\"color:green\">**ANSWER HERE**:</span>\n",
    "\n"
   ]
  },
  {
   "cell_type": "markdown",
   "metadata": {},
   "source": [
    "## 3.2. Checking Failed Logons"
   ]
  },
  {
   "cell_type": "markdown",
   "metadata": {},
   "source": [
    "The next question would be: How did the atacker managed to enter? The most usual cases are Brute Force (making a lot of attempts to find the correct password) and credentials theft. We can check the 4625 events (that had failed logons) to get more information and check if it's been Brute Force."
   ]
  },
  {
   "cell_type": "markdown",
   "metadata": {},
   "source": [
    "<span style=\"color:purple\">\n",
    "<b>INSTRUCTIONS:</b>\n",
    "\n",
    "<ul>\n",
    "    <li>Execute the cell</li>\n",
    "    <li>Select 4625 as DataFrame on the left drop-down menu</li>\n",
    "    <li>Select qgrid as grid on the middle drop-down menu<\\li>\n",
    "</ul>\n",
    "</span>"
   ]
  },
  {
   "cell_type": "code",
   "execution_count": null,
   "metadata": {},
   "outputs": [],
   "source": [
    "xmenu(secevtxdfs_srv)"
   ]
  },
  {
   "cell_type": "markdown",
   "metadata": {},
   "source": [
    "There are many failed logons from **kali**. This seems a Brute Force network."
   ]
  },
  {
   "cell_type": "markdown",
   "metadata": {},
   "source": [
    "### **3.3 CONCLUSIONS**:"
   ]
  },
  {
   "cell_type": "markdown",
   "metadata": {},
   "source": [
    "**3. CLOSER LOOK INTO DOMAIN CONTROLLER LOGONS**\n",
    "\n",
    " - Succesful logon at 03:21 AM from kali\n",
    " - Many failed logons from kali trying to enter on the Domain Controller"
   ]
  },
  {
   "cell_type": "markdown",
   "metadata": {},
   "source": [
    "## **4. FAILED LOGONS**"
   ]
  },
  {
   "cell_type": "markdown",
   "metadata": {},
   "source": [
    "<span style=\"color:blue\">**How many failed logons occurred on the Domain Controller/Server?** </span>\n"
   ]
  },
  {
   "cell_type": "markdown",
   "metadata": {},
   "source": [
    "<span style=\"color:blue\">**At what time was the Brute Force?** </span>\n"
   ]
  },
  {
   "cell_type": "markdown",
   "metadata": {},
   "source": [
    "Now that we’ve seen the data, let’s create a graph that shows us what happened in a more visual way."
   ]
  },
  {
   "cell_type": "markdown",
   "metadata": {},
   "source": [
    "### 4.1. **Matplotlib**\n",
    "\n",
    "Matplotlib is a comprehensive library for creating static, animated, and interactive visualizations in Python.\n",
    "\n",
    "- Allows you to plot a DataFrame.\n",
    "- Allows editing many aspects of the chart.\n",
    "- There are many types of graphics from which you can choose.\n",
    "\n",
    "\n",
    "**Plotting the failed logon events based on the timestamps hourly can help us understand if there's been Brute Force**\n"
   ]
  },
  {
   "cell_type": "markdown",
   "metadata": {},
   "source": [
    "First, we’re going to create a DataFrame that contains events 4625 and we’re going to select only the EventID_ column. In addition, we will use the **head()** function to visualize its first 5 lines and understand how it is."
   ]
  },
  {
   "cell_type": "code",
   "execution_count": null,
   "metadata": {},
   "outputs": [],
   "source": [
    "failedlogons = secevtxdfs_srv[4625][['EventID_']]\n",
    "failedlogons.head()"
   ]
  },
  {
   "cell_type": "markdown",
   "metadata": {},
   "source": [
    "Next, we will use the index, which contains the date, to create a new column."
   ]
  },
  {
   "cell_type": "code",
   "execution_count": null,
   "metadata": {},
   "outputs": [],
   "source": [
    "failedlogons['Timestamp'] = failedlogons.index\n",
    "failedlogons.head()"
   ]
  },
  {
   "cell_type": "markdown",
   "metadata": {},
   "source": [
    "Next, let’s do an hourly count of the number of times the event 4625 appears on the DataFrame."
   ]
  },
  {
   "cell_type": "code",
   "execution_count": null,
   "metadata": {},
   "outputs": [],
   "source": [
    "unique_logons_df = pd.Series(failedlogons['Timestamp']).resample('H').nunique()\n",
    "unique_logons_df.head()"
   ]
  },
  {
   "cell_type": "markdown",
   "metadata": {},
   "source": [
    "And finally, we’ll make a plot of the DataFrame that we created with the Matplotlib library. It is as simple as writing the name of the DataFrame and then using the function **.plot.bar()**, which will show us a bar graph."
   ]
  },
  {
   "cell_type": "code",
   "execution_count": null,
   "metadata": {},
   "outputs": [],
   "source": [
    "unique_logons_df.plot.bar()"
   ]
  },
  {
   "cell_type": "markdown",
   "metadata": {},
   "source": [
    "**In this way, we can easily see that there have been a large number of failed logon attempts on the computer without using the DataFrame and searching line by line.**"
   ]
  },
  {
   "cell_type": "markdown",
   "metadata": {},
   "source": [
    "## 4.2. Failed Logons Analysis"
   ]
  },
  {
   "cell_type": "markdown",
   "metadata": {},
   "source": [
    "As on other occasions, we can do it even more easily, using the **xanalysis()** function of the CHRYSALIS library. \n",
    "\n",
    "<span style=\"color:purple\">\n",
    "<b>INSTRUCTIONS:</b>\n",
    "\n",
    "<ul>\n",
    "    <li>Execute the cell</li>\n",
    "    <li>Select DataFrame as analysis object</li>\n",
    "    <li>Select evtx for the type of analysis</li>\n",
    "    <li>Select 4625 as DF to analyze </li>\n",
    "    <li>Select Failed Logons info as the available analysis</li>\n",
    "</ul>\n",
    "</span>\n"
   ]
  },
  {
   "cell_type": "code",
   "execution_count": null,
   "metadata": {},
   "outputs": [],
   "source": [
    "xanalysis(secevtxdfs_srv)"
   ]
  },
  {
   "cell_type": "markdown",
   "metadata": {},
   "source": [
    "<span style=\"color:blue\">**How many failed logons occurred on the Domain Controller/Server?** </span>\n"
   ]
  },
  {
   "cell_type": "markdown",
   "metadata": {},
   "source": [
    "<span style=\"color:green\">**ANSWER HERE**:</span>"
   ]
  },
  {
   "cell_type": "markdown",
   "metadata": {},
   "source": [
    "<span style=\"color:blue\">**At what time was the Brute Force?** </span>\n"
   ]
  },
  {
   "cell_type": "markdown",
   "metadata": {},
   "source": [
    "<span style=\"color:green\">**ANSWER HERE**:</span>"
   ]
  },
  {
   "cell_type": "markdown",
   "metadata": {},
   "source": [
    "### **4.3. CONCLUSIONS**:"
   ]
  },
  {
   "cell_type": "markdown",
   "metadata": {},
   "source": [
    "**5. FAILED LOGONS**\n",
    "\n",
    " - There's been Brute force on the 19th of September 2020"
   ]
  },
  {
   "cell_type": "markdown",
   "metadata": {},
   "source": [
    "## **5. LOOKING INTO THE FSTL & AUTORUNS**"
   ]
  },
  {
   "cell_type": "markdown",
   "metadata": {},
   "source": [
    "<span style=\"color:blue\">**Is there any suspicious activity?** </span>\n"
   ]
  },
  {
   "cell_type": "markdown",
   "metadata": {},
   "source": [
    "<span style=\"color:blue\">**Was there an Internet download?** </span>"
   ]
  },
  {
   "cell_type": "markdown",
   "metadata": {},
   "source": [
    "<span style=\"color:blue\">**When was the Szechuan Sauce modified?**</span>"
   ]
  },
  {
   "cell_type": "markdown",
   "metadata": {},
   "source": [
    "<span style=\"color:blue\">**Is coreupdater.exe a malware?** </span>"
   ]
  },
  {
   "cell_type": "markdown",
   "metadata": {},
   "source": [
    "### 5.1 Filesystem Timeline"
   ]
  },
  {
   "cell_type": "markdown",
   "metadata": {},
   "source": [
    "Once we have verified that there has been an attacker’s logon, the main thing is to understand what damage or activity has been done on the computer. To do this, we will use the Filesystem Timeline, which as previously mentioned in the notebook, provides information about the system’s activity on a timeline.\n",
    "\n",
    "We will filter by date using **.loc()** from pandas. This will allow us to see the activity from the moment of the attack. Let's see which column we need to use!"
   ]
  },
  {
   "cell_type": "code",
   "execution_count": null,
   "metadata": {},
   "outputs": [],
   "source": [
    "fstldf.columns"
   ]
  },
  {
   "cell_type": "markdown",
   "metadata": {},
   "source": [
    "Let's select the date 2020-09-19 03:21:47 from the Date column.\n",
    "\n",
    "<span style=\"color:purple\">\n",
    "    <b>INSTRUCTIONS</b>\n",
    "    \n",
    "<ul>\n",
    "    <li>Execute the cell</li>\n",
    "    <li>Select '+ DataFrame' as DataFrame on the left drop-down menu</li>\n",
    "    <li>Select qgrid as grid on the middle drop-down menu</li>\n",
    "</ul>\n",
    "</span>"
   ]
  },
  {
   "cell_type": "code",
   "execution_count": null,
   "metadata": {},
   "outputs": [],
   "source": [
    "fstldf_DC_filterbydate = fstldf.loc[(fstldf['Date'] >= '2020-09-19 03:21:47')]\n",
    "xmenu(fstldf_DC_filterbydate)"
   ]
  },
  {
   "cell_type": "markdown",
   "metadata": {},
   "source": [
    "To understand the FSTL correctly, we will see that there is a column called MACB, this column gives us information about the actions performed on a file. To interpret it, depending on the letters that appear (m, a, c or b) we can help us with the following **SANS** tables:"
   ]
  },
  {
   "cell_type": "markdown",
   "metadata": {},
   "source": [
    "<img src=\"./Pictures/MACB.webp\">\n"
   ]
  },
  {
   "cell_type": "markdown",
   "metadata": {},
   "source": [
    "<span style=\"color:blue\">**Is there any suspicious activity?** </span>\n"
   ]
  },
  {
   "cell_type": "markdown",
   "metadata": {},
   "source": [
    "<span style=\"color:green\">**ANSWER HERE**:</span>"
   ]
  },
  {
   "cell_type": "markdown",
   "metadata": {},
   "source": [
    "<span style=\"color:blue\">**Was there an Internet download?** </span>"
   ]
  },
  {
   "cell_type": "markdown",
   "metadata": {},
   "source": [
    "<span style=\"color:green\">**ANSWER HERE**:</span>"
   ]
  },
  {
   "cell_type": "markdown",
   "metadata": {},
   "source": [
    "<span style=\"color:blue\">**When was the Szechuan Sauce modified?** </span>"
   ]
  },
  {
   "cell_type": "markdown",
   "metadata": {},
   "source": [
    "<span style=\"color:green\">**ANSWER HERE**:</span>"
   ]
  },
  {
   "cell_type": "markdown",
   "metadata": {},
   "source": [
    "### 5.2 Autoruns\n",
    "\n",
    "We can look for it on autoruns. In this way, we will check if it was moved on the Services and we will be able to see its hash. To locate coreupdater.exe, we will use the **xgrep()** function of the CHRYSALIS library, which allows us to search for a string within any column or row of the DataFrame."
   ]
  },
  {
   "cell_type": "code",
   "execution_count": null,
   "metadata": {},
   "outputs": [],
   "source": [
    "xgrep(atrsdf, 'coreupdater')"
   ]
  },
  {
   "cell_type": "markdown",
   "metadata": {},
   "source": [
    "**It's been installed with persistence and we can obtain the hash from the MD5 column: EED41B4500E473F97C50C7385EF5E374**"
   ]
  },
  {
   "cell_type": "markdown",
   "metadata": {},
   "source": [
    "### 5.3 VirusTotal\n",
    "\n",
    "To check what coreupdater.exe is, we can use **VirusTotal**. It analyzes suspicious files and URLs to detect types of malware and automatically shares them with the security community. We can search for coreupdater hash here: https://www.virustotal.com/gui/home/upload\n",
    "\n",
    "<img src=\"./Pictures/virustotal.png\">\n",
    "\n",
    "\n",
    "<span style=\"color:blue\">**Is coreupdater.exe a malware?** </span>\n",
    "\n",
    "<span style=\"color:green\">**ANSWER HERE**:</span>"
   ]
  },
  {
   "cell_type": "markdown",
   "metadata": {},
   "source": [
    "## **6. GETTING MORE INFORMATION FROM SHELLBAGS**"
   ]
  },
  {
   "cell_type": "markdown",
   "metadata": {},
   "source": [
    "What can we do next? We can use the Shellbag to check what folders the atacker visited."
   ]
  },
  {
   "cell_type": "markdown",
   "metadata": {},
   "source": [
    "<span style=\"color:blue\">**Which folders did the atacker visit?** </span>\n"
   ]
  },
  {
   "cell_type": "markdown",
   "metadata": {},
   "source": [
    "### **6.1 Shellbags**\n",
    "\n",
    "- Set of registry keys that store details about a viewed folder, such as its size, position, and icon.\n",
    "- It helps track views, sizes and positions of a folder window when viewed through Windows Explorer; this includes network folders and removable devices."
   ]
  },
  {
   "cell_type": "markdown",
   "metadata": {},
   "source": [
    "To select the DataFrame we are interested in, we will use **xmenu()** from CHRYSALIS. \n",
    "\n",
    "<span style=\"color:purple\">\n",
    "    <b>INSTRUCTIONS</b>\n",
    "    \n",
    "<ul>\n",
    "    <li>Execute the cell</li>\n",
    "    <li>Select 'windows_shell_item_file_entry' as DataFrame on the left drop-down menu</li>\n",
    "    <li>Select qgrid as grid on the middle drop-down menu</li>\n",
    "</ul>\n",
    "</span>\n"
   ]
  },
  {
   "cell_type": "code",
   "execution_count": null,
   "metadata": {},
   "outputs": [],
   "source": [
    "xmenu(pldfs_srv)"
   ]
  },
  {
   "cell_type": "markdown",
   "metadata": {},
   "source": [
    "We are particularly intrigued by a 'Secret' file in the 'Fileshare' directory and the access to the Downloads folder, probably after coreupdater.exe download."
   ]
  },
  {
   "cell_type": "markdown",
   "metadata": {},
   "source": [
    "<span style=\"color:blue\">**Which folders did the atacker visit?** </span>\n",
    "\n",
    "<span style=\"color:green\">**ANSWER HERE**:</span>"
   ]
  },
  {
   "cell_type": "markdown",
   "metadata": {},
   "source": [
    "### **6.2. CONCLUSIONS**:"
   ]
  },
  {
   "cell_type": "markdown",
   "metadata": {},
   "source": [
    "**6. GETTING MORE INFORMATION FROM SHELLBAGS**\n",
    "\n",
    "The folders the attacker visited are:\n",
    "- 'Secret' file on Fileshare\n",
    "- There's been an access to the Downloads folder "
   ]
  },
  {
   "cell_type": "markdown",
   "metadata": {},
   "source": [
    "## 7. Looking Into the PCAP File"
   ]
  },
  {
   "cell_type": "markdown",
   "metadata": {},
   "source": [
    "<span style=\"color:blue\">**What is the port number that the attacker downloaded the malware from?** </span>\n"
   ]
  },
  {
   "cell_type": "markdown",
   "metadata": {},
   "source": [
    "### 7.1. TShark"
   ]
  },
  {
   "cell_type": "markdown",
   "metadata": {},
   "source": [
    "TShark is a network protocol analyzer. \n",
    "It allows you to:\n",
    "- Capture packet data from a live network\n",
    "- Read packets from a previously saved capture file\n",
    "- Output and write the packets to a file. (JSON, CSV etc.)\n",
    "\n",
    "In this demo. we will make use of a generated CSV files using different Wireshark filters on the PCAP provided by the case.\n"
   ]
  },
  {
   "cell_type": "markdown",
   "metadata": {},
   "source": [
    "### 7.2. HTTP\n",
    "\n",
    "The following command was used with Tshark to find out about the HTTP GET Method:\n",
    "\n",
    "tshark -n -r <pcap location> -Y \"http.request.method == \"GET\"\" -T fields -Eheader=y -e ip.src -e ip.dst -e tcp.srcport -e tcp.dstport -e http.request.uri -e frame.time\n",
    "    \n",
    "HTTP GET Request Method was used to help us filter on the packets to help us find out how was coreupdater.exe introduced into the victims' systems.\n",
    "    \n",
    "<span style=\"color:purple\">\n",
    "    <b>INSTRUCTIONS</b>\n",
    "    \n",
    "<ul>\n",
    "    <li>Execute cell</li>\n",
    "    <li>Click SELECT & READ</li>\n",
    "</ul>\n",
    "    </span>"
   ]
  },
  {
   "cell_type": "code",
   "execution_count": null,
   "metadata": {},
   "outputs": [],
   "source": [
    "xread(tool='tshark', rootpath=reading_path+'/PCAP_http.pcap.csv')"
   ]
  },
  {
   "cell_type": "code",
   "execution_count": null,
   "metadata": {},
   "outputs": [],
   "source": [
    "pcaphttpdf = d4.out"
   ]
  },
  {
   "cell_type": "markdown",
   "metadata": {},
   "source": [
    "We shall make use of **xgrep()** from CHRYSALIS to find out how coreupdater.exe was downloaded"
   ]
  },
  {
   "cell_type": "code",
   "execution_count": null,
   "metadata": {},
   "outputs": [],
   "source": [
    "xgrep(pcaphttpdf, 'coreupdater')"
   ]
  },
  {
   "cell_type": "markdown",
   "metadata": {},
   "source": [
    "**NOTE: Packets are in CEST and Domain Controller was in Pacific Standard Time, hence we have to minus 1 hour from packet time**\n",
    "\n",
    "\n",
    "The IP address '194.61.24.102' hosted the malware file on port 80 (HTTP) that the victims were made to download onto their respective systems)\n",
    "But how did the malicious IP know about the network?\n",
    "Attackers usually performs reconnaissance to understand about the network and try to exploit exploit vulnerabilities.\n"
   ]
  },
  {
   "cell_type": "markdown",
   "metadata": {},
   "source": [
    "### 7.3. Reconnaissance Scan\n",
    "\n",
    "Let's replace the \"http.request.method == GET\" filter with \"ip.addr == 194.61.24.102\".\n",
    "This filter helps us to understand about the malicious IP as both source and destination IP to learn what was done in the network."
   ]
  },
  {
   "cell_type": "markdown",
   "metadata": {},
   "source": [
    "<span style=\"color:purple\">\n",
    "    <b>INSTRUCTIONS</b>\n",
    "    \n",
    "<ul>\n",
    "    <li>Execute cell</li>\n",
    "    <li>Click SELECT & READ</li>\n",
    "</ul>\n",
    "    </span>"
   ]
  },
  {
   "cell_type": "code",
   "execution_count": null,
   "metadata": {},
   "outputs": [],
   "source": [
    "xread(tool='tshark', rootpath=reading_path+'/PCAP_nmap.pcap.csv')"
   ]
  },
  {
   "cell_type": "code",
   "execution_count": null,
   "metadata": {},
   "outputs": [],
   "source": [
    "pcapnmapdf = d4.out"
   ]
  },
  {
   "cell_type": "markdown",
   "metadata": {},
   "source": [
    "As there are many packets by the malicious IP, we can make use of the first few packets to learn about the behaviour using pandas' head()"
   ]
  },
  {
   "cell_type": "code",
   "execution_count": null,
   "metadata": {},
   "outputs": [],
   "source": [
    "pcapnmapdf.head(20)"
   ]
  },
  {
   "cell_type": "markdown",
   "metadata": {},
   "source": [
    "The very first packet, the malicious IP did a ping request Domain Controller (10.42.85.10). Ping/ICMP scan is one of the common methods to find out what devices are connected to the network.\n",
    "\n",
    "Next few packets, within the very same second (04:19:13), there were two probes to port 443 (HTTPS) and 80 (HTTP) before getting ICMP reply from the Domain Controller.\n",
    "\n",
    "This means that there was a service port scan done on domain controller itself."
   ]
  },
  {
   "cell_type": "markdown",
   "metadata": {},
   "source": [
    "### 7.4. Remote Desktop Protocol\n",
    "\n",
    "About 13 seconds later at 04:19:26, the malicious IP trying to connect to port 3389 (RDP) with incremental source TCP port number of 2 (38088, 38090, 38092, etc.)\n",
    "\n",
    "This behaviour could meant that the malicious IP is trying to conduct a brute force attack to login with RDP.\n",
    "\n",
    "Let's replace the filter with \"ip.addr == 194.61.24.102 and tcp.dstport == 3389 and tcp.flags.syn==1\"\n",
    "\n",
    "As we know the malicious IP and the destination is port 3389, TCP SYN has to be 1 as it is always the start of TCP handshake.\n",
    "\n",
    "To learn about TCP handshake, visit: https://www.guru99.com/tcp-3-way-handshake.html\n",
    "\n",
    "<span style=\"color:purple\">\n",
    "    <b>INSTRUCTIONS</b>\n",
    "    \n",
    "<ul>\n",
    "    <li>Execute cell</li>\n",
    "    <li>Click SELECT & READ</li>\n",
    "</ul>\n",
    "    </span>"
   ]
  },
  {
   "cell_type": "code",
   "execution_count": null,
   "metadata": {},
   "outputs": [],
   "source": [
    "xread(tool='tshark', rootpath=reading_path+'/PCAP_rdp.pcap.csv')"
   ]
  },
  {
   "cell_type": "code",
   "execution_count": null,
   "metadata": {},
   "outputs": [],
   "source": [
    "pcaprdpdf = d4.out"
   ]
  },
  {
   "cell_type": "markdown",
   "metadata": {},
   "source": [
    "<span style=\"color:purple\">\n",
    "    <b>INSTRUCTIONS</b>\n",
    "    \n",
    "<ul>\n",
    "    <li>Execute the cell</li>\n",
    "    <li>Select '+ DataFrame' as DataFrame on the left drop-down menu</li>\n",
    "    <li>Select qgrid as grid on the middle drop-down menu</li>\n",
    "</ul>\n",
    "</span>\n"
   ]
  },
  {
   "cell_type": "code",
   "execution_count": null,
   "metadata": {},
   "outputs": [],
   "source": [
    "xmenu(pcaprdpdf)"
   ]
  },
  {
   "cell_type": "markdown",
   "metadata": {},
   "source": [
    "From **xmenu()** with the dataframe, we can see that there were twenty thousands packets in just 2 minutes!\n",
    "However, at 04:22:36 to 04:56:03, there were no other SYN packets.\n",
    "This meant that the attacker successfully logon to Domain Controller where it downloaded the malware at 04:24:04"
   ]
  },
  {
   "cell_type": "markdown",
   "metadata": {},
   "source": [
    "<span style=\"color:blue\">**What is the port number that the attacker downloaded the malware from?** </span>\n"
   ]
  },
  {
   "cell_type": "markdown",
   "metadata": {},
   "source": [
    "<span style=\"color:green\">**ANSWER HERE**:</span>"
   ]
  },
  {
   "cell_type": "markdown",
   "metadata": {},
   "source": [
    "### **7.5. CONCLUSIONS**:"
   ]
  },
  {
   "cell_type": "markdown",
   "metadata": {},
   "source": [
    "**7. Looking Into the PCAP File**\n",
    "\n",
    "- The victims downloaded the malware from 194.61.24.102 using HTTP GET Method\n",
    "- The attack hosted malware on a HTTP server"
   ]
  },
  {
   "cell_type": "code",
   "execution_count": null,
   "metadata": {},
   "outputs": [],
   "source": []
  }
 ],
 "metadata": {
  "kernelspec": {
   "display_name": "Python 3",
   "language": "python",
   "name": "python3"
  },
  "language_info": {
   "codemirror_mode": {
    "name": "ipython",
    "version": 3
   },
   "file_extension": ".py",
   "mimetype": "text/x-python",
   "name": "python",
   "nbconvert_exporter": "python",
   "pygments_lexer": "ipython3",
   "version": "3.7.6"
  },
  "output_auto_scroll": false
 },
 "nbformat": 4,
 "nbformat_minor": 4
}
